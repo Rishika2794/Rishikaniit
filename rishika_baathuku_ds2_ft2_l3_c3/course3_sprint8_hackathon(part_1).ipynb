{
  "cells": [
    {
      "cell_type": "code",
      "source": [
        "pip install wikiextractor"
      ],
      "metadata": {
        "colab": {
          "base_uri": "https://localhost:8080/"
        },
        "id": "PMb-7nkTPXCv",
        "outputId": "7e9ae2b5-ce57-4ab9-c42d-d3f94acfb379"
      },
      "execution_count": 2,
      "outputs": [
        {
          "output_type": "stream",
          "name": "stdout",
          "text": [
            "Collecting wikiextractor\n",
            "  Downloading wikiextractor-3.0.6-py3-none-any.whl (46 kB)\n",
            "\u001b[?25l\r\u001b[K     |███████                         | 10 kB 20.8 MB/s eta 0:00:01\r\u001b[K     |██████████████▏                 | 20 kB 24.3 MB/s eta 0:00:01\r\u001b[K     |█████████████████████▏          | 30 kB 18.7 MB/s eta 0:00:01\r\u001b[K     |████████████████████████████▎   | 40 kB 14.9 MB/s eta 0:00:01\r\u001b[K     |████████████████████████████████| 46 kB 2.3 MB/s \n",
            "\u001b[?25hInstalling collected packages: wikiextractor\n",
            "Successfully installed wikiextractor-3.0.6\n"
          ]
        }
      ]
    },
    {
      "cell_type": "code",
      "source": [
        "from google.colab import drive\n",
        "drive.mount('/content/drive')"
      ],
      "metadata": {
        "colab": {
          "base_uri": "https://localhost:8080/"
        },
        "id": "3pDIhuEGWEaB",
        "outputId": "8f28b363-f1a4-4df7-ec68-90b83cdc3fa1"
      },
      "execution_count": 64,
      "outputs": [
        {
          "output_type": "stream",
          "name": "stdout",
          "text": [
            "Drive already mounted at /content/drive; to attempt to forcibly remount, call drive.mount(\"/content/drive\", force_remount=True).\n"
          ]
        }
      ]
    },
    {
      "cell_type": "code",
      "source": [
        "import os, sys\n",
        "import time\n",
        "import pandas as pd\n",
        "\n",
        "OUT_DIR = \"/content/drive/MyDrive/Colab Netbooks/\""
      ],
      "metadata": {
        "id": "jsbFvw3NWEda"
      },
      "execution_count": 65,
      "outputs": []
    },
    {
      "cell_type": "markdown",
      "source": [
        "# **Task 1**"
      ],
      "metadata": {
        "id": "nSbI4XHiNdE5"
      }
    },
    {
      "cell_type": "markdown",
      "metadata": {
        "id": "eyghQa97yf95"
      },
      "source": [
        "### Split Wikipedia Text into Sentences with Spacy"
      ]
    },
    {
      "cell_type": "code",
      "source": [
        "!python -m spacy download de_core_news_sm\n",
        "!pip install -U spacy[cuda92]"
      ],
      "metadata": {
        "colab": {
          "base_uri": "https://localhost:8080/"
        },
        "id": "74XOXkPVhbTA",
        "outputId": "60c0325f-b735-4db2-b8d8-96e19a0e0d64"
      },
      "execution_count": 5,
      "outputs": [
        {
          "output_type": "stream",
          "name": "stdout",
          "text": [
            "Collecting de_core_news_sm==2.2.5\n",
            "  Downloading https://github.com/explosion/spacy-models/releases/download/de_core_news_sm-2.2.5/de_core_news_sm-2.2.5.tar.gz (14.9 MB)\n",
            "\u001b[K     |████████████████████████████████| 14.9 MB 12.5 MB/s \n",
            "\u001b[?25hRequirement already satisfied: spacy>=2.2.2 in /usr/local/lib/python3.7/dist-packages (from de_core_news_sm==2.2.5) (2.2.4)\n",
            "Requirement already satisfied: cymem<2.1.0,>=2.0.2 in /usr/local/lib/python3.7/dist-packages (from spacy>=2.2.2->de_core_news_sm==2.2.5) (2.0.6)\n",
            "Requirement already satisfied: srsly<1.1.0,>=1.0.2 in /usr/local/lib/python3.7/dist-packages (from spacy>=2.2.2->de_core_news_sm==2.2.5) (1.0.5)\n",
            "Requirement already satisfied: blis<0.5.0,>=0.4.0 in /usr/local/lib/python3.7/dist-packages (from spacy>=2.2.2->de_core_news_sm==2.2.5) (0.4.1)\n",
            "Requirement already satisfied: tqdm<5.0.0,>=4.38.0 in /usr/local/lib/python3.7/dist-packages (from spacy>=2.2.2->de_core_news_sm==2.2.5) (4.62.3)\n",
            "Requirement already satisfied: plac<1.2.0,>=0.9.6 in /usr/local/lib/python3.7/dist-packages (from spacy>=2.2.2->de_core_news_sm==2.2.5) (1.1.3)\n",
            "Requirement already satisfied: preshed<3.1.0,>=3.0.2 in /usr/local/lib/python3.7/dist-packages (from spacy>=2.2.2->de_core_news_sm==2.2.5) (3.0.6)\n",
            "Requirement already satisfied: catalogue<1.1.0,>=0.0.7 in /usr/local/lib/python3.7/dist-packages (from spacy>=2.2.2->de_core_news_sm==2.2.5) (1.0.0)\n",
            "Requirement already satisfied: setuptools in /usr/local/lib/python3.7/dist-packages (from spacy>=2.2.2->de_core_news_sm==2.2.5) (57.4.0)\n",
            "Requirement already satisfied: numpy>=1.15.0 in /usr/local/lib/python3.7/dist-packages (from spacy>=2.2.2->de_core_news_sm==2.2.5) (1.21.5)\n",
            "Requirement already satisfied: murmurhash<1.1.0,>=0.28.0 in /usr/local/lib/python3.7/dist-packages (from spacy>=2.2.2->de_core_news_sm==2.2.5) (1.0.6)\n",
            "Requirement already satisfied: wasabi<1.1.0,>=0.4.0 in /usr/local/lib/python3.7/dist-packages (from spacy>=2.2.2->de_core_news_sm==2.2.5) (0.9.0)\n",
            "Requirement already satisfied: requests<3.0.0,>=2.13.0 in /usr/local/lib/python3.7/dist-packages (from spacy>=2.2.2->de_core_news_sm==2.2.5) (2.23.0)\n",
            "Requirement already satisfied: thinc==7.4.0 in /usr/local/lib/python3.7/dist-packages (from spacy>=2.2.2->de_core_news_sm==2.2.5) (7.4.0)\n",
            "Requirement already satisfied: importlib-metadata>=0.20 in /usr/local/lib/python3.7/dist-packages (from catalogue<1.1.0,>=0.0.7->spacy>=2.2.2->de_core_news_sm==2.2.5) (4.11.0)\n",
            "Requirement already satisfied: typing-extensions>=3.6.4 in /usr/local/lib/python3.7/dist-packages (from importlib-metadata>=0.20->catalogue<1.1.0,>=0.0.7->spacy>=2.2.2->de_core_news_sm==2.2.5) (3.10.0.2)\n",
            "Requirement already satisfied: zipp>=0.5 in /usr/local/lib/python3.7/dist-packages (from importlib-metadata>=0.20->catalogue<1.1.0,>=0.0.7->spacy>=2.2.2->de_core_news_sm==2.2.5) (3.7.0)\n",
            "Requirement already satisfied: urllib3!=1.25.0,!=1.25.1,<1.26,>=1.21.1 in /usr/local/lib/python3.7/dist-packages (from requests<3.0.0,>=2.13.0->spacy>=2.2.2->de_core_news_sm==2.2.5) (1.24.3)\n",
            "Requirement already satisfied: idna<3,>=2.5 in /usr/local/lib/python3.7/dist-packages (from requests<3.0.0,>=2.13.0->spacy>=2.2.2->de_core_news_sm==2.2.5) (2.10)\n",
            "Requirement already satisfied: chardet<4,>=3.0.2 in /usr/local/lib/python3.7/dist-packages (from requests<3.0.0,>=2.13.0->spacy>=2.2.2->de_core_news_sm==2.2.5) (3.0.4)\n",
            "Requirement already satisfied: certifi>=2017.4.17 in /usr/local/lib/python3.7/dist-packages (from requests<3.0.0,>=2.13.0->spacy>=2.2.2->de_core_news_sm==2.2.5) (2021.10.8)\n",
            "\u001b[38;5;2m✔ Download and installation successful\u001b[0m\n",
            "You can now load the model via spacy.load('de_core_news_sm')\n",
            "Requirement already satisfied: spacy[cuda92] in /usr/local/lib/python3.7/dist-packages (2.2.4)\n",
            "Requirement already satisfied: blis<0.5.0,>=0.4.0 in /usr/local/lib/python3.7/dist-packages (from spacy[cuda92]) (0.4.1)\n",
            "Requirement already satisfied: wasabi<1.1.0,>=0.4.0 in /usr/local/lib/python3.7/dist-packages (from spacy[cuda92]) (0.9.0)\n",
            "Requirement already satisfied: preshed<3.1.0,>=3.0.2 in /usr/local/lib/python3.7/dist-packages (from spacy[cuda92]) (3.0.6)\n",
            "Requirement already satisfied: thinc==7.4.0 in /usr/local/lib/python3.7/dist-packages (from spacy[cuda92]) (7.4.0)\n",
            "Requirement already satisfied: requests<3.0.0,>=2.13.0 in /usr/local/lib/python3.7/dist-packages (from spacy[cuda92]) (2.23.0)\n",
            "Requirement already satisfied: catalogue<1.1.0,>=0.0.7 in /usr/local/lib/python3.7/dist-packages (from spacy[cuda92]) (1.0.0)\n",
            "Requirement already satisfied: setuptools in /usr/local/lib/python3.7/dist-packages (from spacy[cuda92]) (57.4.0)\n",
            "Requirement already satisfied: murmurhash<1.1.0,>=0.28.0 in /usr/local/lib/python3.7/dist-packages (from spacy[cuda92]) (1.0.6)\n",
            "Requirement already satisfied: cymem<2.1.0,>=2.0.2 in /usr/local/lib/python3.7/dist-packages (from spacy[cuda92]) (2.0.6)\n",
            "Requirement already satisfied: plac<1.2.0,>=0.9.6 in /usr/local/lib/python3.7/dist-packages (from spacy[cuda92]) (1.1.3)\n",
            "Requirement already satisfied: tqdm<5.0.0,>=4.38.0 in /usr/local/lib/python3.7/dist-packages (from spacy[cuda92]) (4.62.3)\n",
            "Requirement already satisfied: srsly<1.1.0,>=1.0.2 in /usr/local/lib/python3.7/dist-packages (from spacy[cuda92]) (1.0.5)\n",
            "Requirement already satisfied: numpy>=1.15.0 in /usr/local/lib/python3.7/dist-packages (from spacy[cuda92]) (1.21.5)\n",
            "Requirement already satisfied: cupy-cuda92>=5.0.0b4 in /usr/local/lib/python3.7/dist-packages (from spacy[cuda92]) (10.0.0a1)\n",
            "Requirement already satisfied: importlib-metadata>=0.20 in /usr/local/lib/python3.7/dist-packages (from catalogue<1.1.0,>=0.0.7->spacy[cuda92]) (4.11.0)\n",
            "Requirement already satisfied: fastrlock>=0.5 in /usr/local/lib/python3.7/dist-packages (from cupy-cuda92>=5.0.0b4->spacy[cuda92]) (0.8)\n",
            "Requirement already satisfied: zipp>=0.5 in /usr/local/lib/python3.7/dist-packages (from importlib-metadata>=0.20->catalogue<1.1.0,>=0.0.7->spacy[cuda92]) (3.7.0)\n",
            "Requirement already satisfied: typing-extensions>=3.6.4 in /usr/local/lib/python3.7/dist-packages (from importlib-metadata>=0.20->catalogue<1.1.0,>=0.0.7->spacy[cuda92]) (3.10.0.2)\n",
            "Requirement already satisfied: urllib3!=1.25.0,!=1.25.1,<1.26,>=1.21.1 in /usr/local/lib/python3.7/dist-packages (from requests<3.0.0,>=2.13.0->spacy[cuda92]) (1.24.3)\n",
            "Requirement already satisfied: idna<3,>=2.5 in /usr/local/lib/python3.7/dist-packages (from requests<3.0.0,>=2.13.0->spacy[cuda92]) (2.10)\n",
            "Requirement already satisfied: chardet<4,>=3.0.2 in /usr/local/lib/python3.7/dist-packages (from requests<3.0.0,>=2.13.0->spacy[cuda92]) (3.0.4)\n",
            "Requirement already satisfied: certifi>=2017.4.17 in /usr/local/lib/python3.7/dist-packages (from requests<3.0.0,>=2.13.0->spacy[cuda92]) (2021.10.8)\n"
          ]
        }
      ]
    },
    {
      "cell_type": "code",
      "execution_count": 66,
      "metadata": {
        "colab": {
          "base_uri": "https://localhost:8080/"
        },
        "id": "3X8abhqhyf98",
        "outputId": "cd3364a1-ad67-46a6-b9c6-82197caa88ba"
      },
      "outputs": [
        {
          "output_type": "stream",
          "name": "stdout",
          "text": [
            "Es sind außergewöhnliche Zeiten, die inzwischen schon fast gewöhnlich sind.\n",
            "Number of characters: 75\n",
            " — — — — — — — — — — — — — — — — — -\n",
            "Seit fast zwei Monaten leben die meisten Deutschen weitgehend in häuslicher Quarantäne.\n",
            "Number of characters: 87\n",
            " — — — — — — — — — — — — — — — — — -\n",
            "Sie kämpfen mit Belastungen wie Homeoffice und Kinderbetreuung, Hobbys fallen weg, soziale Kontakte sind kaum möglich.\n",
            "Number of characters: 118\n",
            " — — — — — — — — — — — — — — — — — -\n",
            "\n",
            "Und die Zukunft ist ungewiss.\n",
            "Number of characters: 30\n",
            " — — — — — — — — — — — — — — — — — -\n",
            "Zwar leitet die Politik langsam eine Öffnung des gesellschaftlichen Lebens ein, doch gleichzeitig warnen Forscherinnen und Forscher vor einer zweiten noch unkontrollierbareren Welle.\n",
            "Number of characters: 182\n",
            " — — — — — — — — — — — — — — — — — -\n",
            "Was machen Ungewissheit und Einschränkungen mit uns, wenn sie zum Normalzustand werden?\n",
            "Number of characters: 87\n",
            " — — — — — — — — — — — — — — — — — -\n"
          ]
        }
      ],
      "source": [
        "# Example of textprocessing with Spacy\n",
        "\n",
        "import spacy\n",
        "# To run on Google Collab: \n",
        "import de_core_news_sm\n",
        "nlp = de_core_news_sm.load()\n",
        "spacy.prefer_gpu()  # run spacy on GPU, if possible\n",
        "#nlp = spacy.load('de_core_news_sm',disable=['tagger','parser','ner','textcat'])\n",
        "#nlp.add_pipe('sentencizer')\n",
        "# To run the above command on Google collab\n",
        "from spacy.lang.en import English\n",
        "nlp = English()  # just the language with no model\n",
        "sentencizer = nlp.create_pipe(\"sentencizer\")\n",
        "nlp.add_pipe(sentencizer)\n",
        "sample_text = \"\"\"Es sind außergewöhnliche Zeiten, die inzwischen schon fast gewöhnlich sind. Seit fast zwei Monaten leben die meisten Deutschen weitgehend in häuslicher Quarantäne. Sie kämpfen mit Belastungen wie Homeoffice und Kinderbetreuung, Hobbys fallen weg, soziale Kontakte sind kaum möglich.\n",
        "Und die Zukunft ist ungewiss. Zwar leitet die Politik langsam eine Öffnung des gesellschaftlichen Lebens ein, doch gleichzeitig warnen Forscherinnen und Forscher vor einer zweiten noch unkontrollierbareren Welle. Was machen Ungewissheit und Einschränkungen mit uns, wenn sie zum Normalzustand werden?\"\"\"\n",
        "doc = nlp(sample_text)\n",
        "sentences = list(doc.sents)\n",
        "for i in range(len(sentences)):\n",
        "    print(sentences[i].text)\n",
        "    print(\"Number of characters:\", len(sentences[i].text))\n",
        "    print(\" — — — — — — — — — — — — — — — — — -\")"
      ]
    },
    {
      "cell_type": "markdown",
      "metadata": {
        "id": "VyuWxtgfyf9_"
      },
      "source": [
        "#### Prepare Spacy Parallel Execution\n",
        "Example of [multiprocessing](https://sebastianraschka.com/Articles/2014_multiprocessing.html)."
      ]
    },
    {
      "cell_type": "code",
      "execution_count": 67,
      "metadata": {
        "colab": {
          "base_uri": "https://localhost:8080/"
        },
        "id": "esLcCiqmyf-A",
        "outputId": "bcc2fdd6-8b45-49d5-c379-7ca8e2a44cad"
      },
      "outputs": [
        {
          "output_type": "stream",
          "name": "stdout",
          "text": [
            "len(inFiles)= 8  num files 100\n"
          ]
        }
      ],
      "source": [
        "# create nthread lists of input files\n",
        "import os\n",
        "nthread = 8\n",
        "maxFiles = 100  # actual number ~ 6000 ~ 6GB\n",
        "\n",
        "nfile = 0\n",
        "directory = OUT_DIR\n",
        "\n",
        "inFiles = []\n",
        "for i in range(nthread):\n",
        "    inFiles.append([])\n",
        "i = 0\n",
        "for root, dirs, files in os.walk(directory):\n",
        "    for file in files:\n",
        "        inFile = os.path.join(root, file)\n",
        "        inFiles[i].append(inFile)\n",
        "        i += 1\n",
        "        if i == nthread:\n",
        "            i = 0\n",
        "        nfile += 1\n",
        "        if nfile >= maxFiles:\n",
        "            break\n",
        "    if nfile >= maxFiles:\n",
        "        break\n",
        "\n",
        "print(\"len(inFiles)=\", len(inFiles), ' num files', sum(len(infi) for infi in inFiles))"
      ]
    },
    {
      "cell_type": "code",
      "execution_count": 68,
      "metadata": {
        "colab": {
          "base_uri": "https://localhost:8080/"
        },
        "id": "otACqjkxyf-B",
        "outputId": "9206e3ea-eb22-4ff9-e461-7b4f4e9663ff"
      },
      "outputs": [
        {
          "output_type": "stream",
          "name": "stdout",
          "text": [
            "len(lines) 645\n",
            "wrote  1 documents with numChar= 17284\n",
            "5.464847087860107 sec\n"
          ]
        }
      ],
      "source": [
        "# process a single input file\n",
        "import spacy\n",
        "import time\n",
        "t0 = time.time()\n",
        "#nlp = spacy.load('de_core_news_sm',disable=['tagger','parser','ner','textcat'])\n",
        "#nlp.add_pipe(nlp.create_pipe('sentencizer'))\n",
        "nlp = de_core_news_sm.load()\n",
        "\n",
        "file = os.path.join(directory, \"WikiExtractor.py\")\n",
        "\n",
        "def processFile(file, outf, nlp):\n",
        "    f = open(file, 'r')\n",
        "    lines = f.readlines()\n",
        "    nbreak = 0\n",
        "    ndoc = 0\n",
        "    inDoc = False\n",
        "    idoc = 0\n",
        "    iline = 0\n",
        "    nblank = 0  # number of blank lines\n",
        "    print(\"len(lines)\", len(lines))\n",
        "    numChar = 0\n",
        "\n",
        "    for line in lines:\n",
        "        #print(line)\n",
        "        line = line.strip()  # remove blanks and \\n\n",
        "        if line[:8] == \"<doc id=\":\n",
        "            assert not inDoc\n",
        "            inDoc = True\n",
        "            parts = line.split('\"')\n",
        "            assert (parts[4] == ' title=')\n",
        "            title = parts[5]\n",
        "            iline = 0\n",
        "            nblank = 1  # omit the next blank line\n",
        "            continue\n",
        "        if line[:6] == \"</doc>\":\n",
        "            if iline > 0:\n",
        "                idoc += 1\n",
        "            inDoc = False\n",
        "            continue\n",
        "\n",
        "        if len(line) > 0:\n",
        "            iline += 1\n",
        "            nblank = 0\n",
        "        else:\n",
        "            nblank += 1\n",
        "        if iline <= 1 or nblank > 1:  # skip title line and empty lines after title line\n",
        "            continue\n",
        "        #print(idoc,iline,line)\n",
        "        if len(line) >= 1:\n",
        "            doc = nlp(line)  # split line into sentences\n",
        "            sentences = list(doc.sents)\n",
        "            for i in range(len(sentences)):\n",
        "                txt = sentences[i].text\n",
        "                txt = txt.strip()\n",
        "                #print(idoc,iline,i,txt)\n",
        "\n",
        "                numChar += len(txt)\n",
        "                outf.write(txt + \"\\n\")\n",
        "        else:\n",
        "            outf.write(line + \"\\n\")\n",
        "    assert not inDoc\n",
        "    print(\"wrote \", idoc, \"documents with numChar=\", numChar)\n",
        "    return numChar\n",
        "\n",
        "\n",
        "\n",
        "outf = open(\"name.txt\", 'w', encoding='utf8')\n",
        "processFile(file, outf, nlp)\n",
        "outf.close()\n",
        "print(time.time() - t0, 'sec')"
      ]
    },
    {
      "cell_type": "code",
      "execution_count": 69,
      "metadata": {
        "id": "q3ok6-SFyf-D"
      },
      "outputs": [],
      "source": [
        "# function to be executed in parallel\n",
        "import os\n",
        "import spacy\n",
        "os.makedirs(OUT_DIR, exist_ok=True)\n",
        "\n",
        "def newFile(i, directory, name=\"wikiOut\"):\n",
        "    val = str(i)\n",
        "    val = val.rjust(4, '0')\n",
        "    fileName = directory + name + val + \".txt\"  # generate new file name\n",
        "    print(\"created file\", fileName)\n",
        "    outf = open(fileName, 'w', encoding='utf8')\n",
        "    return outf\n",
        "\n",
        "def process_files(file_list, fid, maxFileSize=10000000):\n",
        "    t0=time.time()\n",
        "    nlp = de_core_news_sm.load()\n",
        "    outDir = \"data/german_wiki/processed/\"\n",
        "    i=1\n",
        "    outf = newFile(i, outDir, name=\"wikiOut\"+fid)\n",
        "    numChar=0\n",
        "    for inFile in file_list:\n",
        "        print(inFile)\n",
        "        numChar+=processFile(inFile, outf, nlp)\n",
        "        if numChar > maxFileSize:\n",
        "            i+=1\n",
        "            outf.close()\n",
        "            outf = newFile(i,outDir,name=\"wikiOut\"+fid)\n",
        "            numChar=0\n",
        "    outf.close()\n",
        "    print(fid,'used time',time.time()-t0,'sec')"
      ]
    },
    {
      "cell_type": "code",
      "source": [
        "import os\n",
        "import spacy\n",
        "os.makedirs(OUT_DIR, exist_ok=True)\n",
        "\n",
        "def newFile(i, directory, name=\"wikiOut\"):\n",
        "    val = str(i)\n",
        "    val = val.rjust(4, '0')\n",
        "    fileName = directory + name + val + \".txt\"  \n",
        "    print(\"created file\", fileName)\n",
        "    outf = open(fileName, 'w', encoding='utf8')\n",
        "    return outf\n",
        "\n",
        "def process_files(file_list, fid, maxFileSize=10000000):\n",
        "    t0=time.time()\n",
        "    nlp = de_core_news_sm.load()\n",
        "    outDir = \"/content/drive/MyDrive/Colab Netbooks/german_wiki\"\n",
        "    i=1\n",
        "    outf = newFile(i, outDir, name=\"wikiOut\"+fid)\n",
        "    numChar=0\n",
        "    for inFile in file_list:\n",
        "        print(inFile)\n",
        "        numChar+=processFile(inFile, outf, nlp)\n",
        "        if numChar > maxFileSize:\n",
        "            i+=1\n",
        "            outf.close()\n",
        "            outf = newFile(i,outDir,name=\"wikiOut\"+fid)\n",
        "            numChar=0\n",
        "    outf.close()\n",
        "    print(fid,'used time',time.time()-t0,'sec')"
      ],
      "metadata": {
        "id": "6aHtboaH1a2Q"
      },
      "execution_count": 71,
      "outputs": []
    },
    {
      "cell_type": "code",
      "execution_count": 72,
      "metadata": {
        "id": "151izoJIyf-E",
        "colab": {
          "base_uri": "https://localhost:8080/"
        },
        "outputId": "af3a0dd1-0186-4356-f7f5-bad002c86501"
      },
      "outputs": [
        {
          "output_type": "stream",
          "name": "stdout",
          "text": [
            "created file /content/drive/MyDrive/Colab Netbooks/german_wikiwikiOut0f0001.txt\n",
            "/content/drive/MyDrive/Colab Netbooks/WikiExtractor.py\n",
            "len(lines) 645\n",
            "wrote  1 documents with numChar= 17284\n",
            "/content/drive/MyDrive/Colab Netbooks/german_wiki/extracted/AA/wiki_34\n",
            "len(lines) 4544\n",
            "wrote  44 documents with numChar= 965153\n",
            "/content/drive/MyDrive/Colab Netbooks/german_wiki/extracted/AA/wiki_26\n",
            "len(lines) 4937\n",
            "wrote  60 documents with numChar= 1013411\n",
            "/content/drive/MyDrive/Colab Netbooks/german_wiki/extracted/AA/wiki_18\n",
            "len(lines) 5000\n",
            "wrote  60 documents with numChar= 1011222\n",
            "/content/drive/MyDrive/Colab Netbooks/german_wiki/extracted/AA/wiki_14\n",
            "len(lines) 4684\n",
            "wrote  78 documents with numChar= 949747\n",
            "/content/drive/MyDrive/Colab Netbooks/german_wiki/extracted/AA/wiki_04\n",
            "len(lines) 4806\n",
            "wrote  52 documents with numChar= 956551\n",
            "/content/drive/MyDrive/Colab Netbooks/german_wiki/extracted/AA/wiki_91\n",
            "len(lines) 4845\n",
            "wrote  77 documents with numChar= 974127\n",
            "/content/drive/MyDrive/Colab Netbooks/german_wiki/extracted/AA/wiki_82\n",
            "len(lines) 5060\n",
            "wrote  85 documents with numChar= 966658\n",
            "/content/drive/MyDrive/Colab Netbooks/german_wiki/extracted/AA/wiki_74\n",
            "len(lines) 4636\n",
            "wrote  45 documents with numChar= 983444\n",
            "/content/drive/MyDrive/Colab Netbooks/german_wiki/extracted/AA/wiki_66\n",
            "len(lines) 4329\n",
            "wrote  67 documents with numChar= 1010793\n",
            "/content/drive/MyDrive/Colab Netbooks/german_wiki/extracted/AA/wiki_58\n",
            "len(lines) 5188\n",
            "wrote  65 documents with numChar= 1007509\n",
            "/content/drive/MyDrive/Colab Netbooks/german_wiki/extracted/AA/wiki_48\n",
            "len(lines) 4671\n",
            "wrote  60 documents with numChar= 965577\n",
            "created file /content/drive/MyDrive/Colab Netbooks/german_wikiwikiOut0f0002.txt\n",
            "/content/drive/MyDrive/Colab Netbooks/german_wiki/extracted/AA/wiki_42\n",
            "len(lines) 5481\n",
            "wrote  85 documents with numChar= 995983\n",
            "0f used time 466.82792568206787 sec\n"
          ]
        }
      ],
      "source": [
        "# single execution (for test only)\n",
        "process_files(inFiles[0], '0f', maxFileSize=10000000)"
      ]
    },
    {
      "cell_type": "markdown",
      "metadata": {
        "id": "C-UizZBiyf-F"
      },
      "source": [
        "#### Multiprocessing Execution of Spacy"
      ]
    },
    {
      "cell_type": "code",
      "execution_count": 73,
      "metadata": {
        "colab": {
          "base_uri": "https://localhost:8080/"
        },
        "id": "dhGiYN2uyf-G",
        "outputId": "6e62e68e-c001-48f8-ea8c-539ba8033861"
      },
      "outputs": [
        {
          "output_type": "stream",
          "name": "stdout",
          "text": [
            "created file /content/drive/MyDrive/Colab Netbooks/german_wikiwikiOut0f0001.txt\n",
            "/content/drive/MyDrive/Colab Netbooks/WikiExtractor.py\n",
            "len(lines) 645\n",
            "created file /content/drive/MyDrive/Colab Netbooks/german_wikiwikiOut1f0001.txt\n",
            "/content/drive/MyDrive/Colab Netbooks/tokenizer.json\n",
            "created file /content/drive/MyDrive/Colab Netbooks/german_wikiwikiOut2f0001.txt\n",
            "len(lines) 340\n",
            "/content/drive/MyDrive/Colab Netbooks/german_wiki/extracted/AA/wiki_40\n",
            "created file /content/drive/MyDrive/Colab Netbooks/german_wikiwikiOut3f0001.txt\n",
            "/content/drive/MyDrive/Colab Netbooks/german_wiki/extracted/AA/wiki_38\n",
            "created file /content/drive/MyDrive/Colab Netbooks/german_wikiwikiOut4f0001.txt\n",
            "created file /content/drive/MyDrive/Colab Netbooks/german_wikiwikiOut5f0001.txt\n",
            "created file /content/drive/MyDrive/Colab Netbooks/german_wikiwikiOut7f0001.txt\n",
            "/content/drive/MyDrive/Colab Netbooks/german_wiki/extracted/AA/wiki_36\n",
            "/content/drive/MyDrive/Colab Netbooks/german_wiki/extracted/AA/wiki_35\n",
            "/content/drive/MyDrive/Colab Netbooks/german_wiki/extracted/AA/wiki_39\n",
            "created file /content/drive/MyDrive/Colab Netbooks/german_wikiwikiOut6f0001.txt\n",
            "/content/drive/MyDrive/Colab Netbooks/german_wiki/extracted/AA/wiki_37\n",
            "len(lines) 5025\n",
            "len(lines) 4991\n",
            "len(lines) 5681\n",
            "len(lines) 4985\n",
            "len(lines) 5196\n",
            "len(lines) 4609\n",
            "wrote  0 documents with numChar= 3136\n",
            "/content/drive/MyDrive/Colab Netbooks/german_wiki/extracted/AA/wiki_32\n",
            "len(lines) 4737\n",
            "wrote  1 documents with numChar= 17284\n",
            "/content/drive/MyDrive/Colab Netbooks/german_wiki/extracted/AA/wiki_34\n",
            "len(lines) 4544\n",
            "wrote  71 documents with numChar= 914982\n",
            "/content/drive/MyDrive/Colab Netbooks/german_wiki/extracted/AA/wiki_30\n",
            "len(lines) 4868\n",
            "wrote  73 documents with numChar= 986684\n",
            "/content/drive/MyDrive/Colab Netbooks/german_wiki/extracted/AA/wiki_29\n",
            "len(lines) 5291\n",
            "wrote  73 documents with numChar= 1011000\n",
            "/content/drive/MyDrive/Colab Netbooks/german_wiki/extracted/AA/wiki_33\n",
            "len(lines) 4996\n",
            "wrote  53 documents with numChar= 1010096\n",
            "/content/drive/MyDrive/Colab Netbooks/german_wiki/extracted/AA/wiki_31\n",
            "len(lines) 4479\n",
            "wrote  76 documents with numChar= 996682\n",
            "/content/drive/MyDrive/Colab Netbooks/german_wiki/extracted/AA/wiki_28\n",
            "wrote  65 documents with numChar= 989122\n",
            "/content/drive/MyDrive/Colab Netbooks/german_wiki/extracted/AA/wiki_25\n",
            "len(lines) 5246\n",
            "wrote  44 documents with numChar= 965153\n",
            "/content/drive/MyDrive/Colab Netbooks/german_wiki/extracted/AA/wiki_26\n",
            "len(lines) 4706\n",
            "len(lines) 4937\n",
            "wrote  91 documents with numChar= 1010001\n",
            "/content/drive/MyDrive/Colab Netbooks/german_wiki/extracted/AA/wiki_27\n",
            "len(lines) 4835\n",
            "wrote  66 documents with numChar= 996619\n",
            "/content/drive/MyDrive/Colab Netbooks/german_wiki/extracted/AA/wiki_21\n",
            "len(lines) 4870\n",
            "wrote  50 documents with numChar= 1014650\n",
            "/content/drive/MyDrive/Colab Netbooks/german_wiki/extracted/AA/wiki_23\n",
            "len(lines) 5080\n",
            "wrote  71 documents with numChar= 1011103\n",
            "/content/drive/MyDrive/Colab Netbooks/german_wiki/extracted/AA/wiki_24\n",
            "len(lines) 4507\n",
            "wrote  69 documents with numChar= 954113\n",
            "/content/drive/MyDrive/Colab Netbooks/german_wiki/extracted/AA/wiki_16\n",
            "len(lines) 5263\n",
            "wrote  63 documents with numChar= 1001752\n",
            "/content/drive/MyDrive/Colab Netbooks/german_wiki/extracted/AA/wiki_19\n",
            "len(lines) 4624\n",
            "wrote  55 documents with numChar= 998347\n",
            "/content/drive/MyDrive/Colab Netbooks/german_wiki/extracted/AA/wiki_22\n",
            "len(lines) 4329\n",
            "wrote  60 documents with numChar= 1013411\n",
            "/content/drive/MyDrive/Colab Netbooks/german_wiki/extracted/AA/wiki_18\n",
            "len(lines) 5000\n",
            "wrote  67 documents with numChar= 983413\n",
            "/content/drive/MyDrive/Colab Netbooks/german_wiki/extracted/AA/wiki_20\n",
            "len(lines) 4887\n",
            "wrote  69 documents with numChar= 998962\n",
            "/content/drive/MyDrive/Colab Netbooks/german_wiki/extracted/AA/wiki_13\n",
            "len(lines) 5056\n",
            "wrote  42 documents with numChar= 946351\n",
            "/content/drive/MyDrive/Colab Netbooks/german_wiki/extracted/AA/wiki_09\n",
            "len(lines) 4365\n",
            "wrote  70 documents with numChar= 1012644\n",
            "/content/drive/MyDrive/Colab Netbooks/german_wiki/extracted/AA/wiki_15\n",
            "len(lines) 4090\n",
            "wrote  71 documents with numChar= 959455\n",
            "/content/drive/MyDrive/Colab Netbooks/german_wiki/extracted/AA/wiki_10\n",
            "wrote  48 documents with numChar= 993815\n",
            "/content/drive/MyDrive/Colab Netbooks/german_wiki/extracted/AA/wiki_17\n",
            "len(lines) 4413\n",
            "len(lines) 4847\n",
            "wrote  74 documents with numChar= 1008530\n",
            "/content/drive/MyDrive/Colab Netbooks/german_wiki/extracted/AA/wiki_11\n",
            "len(lines) 4677\n",
            "wrote  60 documents with numChar= 1011222\n",
            "/content/drive/MyDrive/Colab Netbooks/german_wiki/extracted/AA/wiki_14\n",
            "len(lines) 4684\n",
            "wrote  58 documents with numChar= 1002069\n",
            "/content/drive/MyDrive/Colab Netbooks/german_wiki/extracted/AA/wiki_07\n",
            "len(lines) 5336\n",
            "wrote  36 documents with numChar= 969711\n",
            "/content/drive/MyDrive/Colab Netbooks/german_wiki/extracted/AA/wiki_05\n",
            "len(lines) 5212\n",
            "wrote  44 documents with numChar= 937481\n",
            "/content/drive/MyDrive/Colab Netbooks/german_wiki/extracted/AA/wiki_01\n",
            "len(lines) 3848\n",
            "wrote  41 documents with numChar= 1005497\n",
            "/content/drive/MyDrive/Colab Netbooks/german_wiki/extracted/AA/wiki_12\n",
            "len(lines) 4678\n",
            "wrote  63 documents with numChar= 972827\n",
            "/content/drive/MyDrive/Colab Netbooks/german_wiki/extracted/AA/wiki_08\n",
            "wrote  55 documents with numChar= 995954\n",
            "/content/drive/MyDrive/Colab Netbooks/german_wiki/extracted/AA/wiki_00\n",
            "len(lines) 4761\n",
            "len(lines) 4359\n",
            "wrote  51 documents with numChar= 935646\n",
            "/content/drive/MyDrive/Colab Netbooks/german_wiki/extracted/AA/wiki_06\n",
            "len(lines) 4939\n",
            "wrote  78 documents with numChar= 949747\n",
            "/content/drive/MyDrive/Colab Netbooks/german_wiki/extracted/AA/wiki_04\n",
            "len(lines) 4806\n",
            "wrote  72 documents with numChar= 1011722\n",
            "/content/drive/MyDrive/Colab Netbooks/german_wiki/extracted/AA/wiki_02\n",
            "len(lines) 4764\n",
            "wrote  35 documents with numChar= 913760\n",
            "/content/drive/MyDrive/Colab Netbooks/german_wiki/extracted/AA/wiki_87\n",
            "len(lines) 4926\n",
            "wrote  55 documents with numChar= 969904\n",
            "/content/drive/MyDrive/Colab Netbooks/german_wiki/extracted/AA/wiki_03\n",
            "len(lines) 5326\n",
            "wrote  63 documents with numChar= 999649\n",
            "/content/drive/MyDrive/Colab Netbooks/german_wiki/extracted/AA/wiki_95\n",
            "len(lines) 5922\n",
            "wrote  79 documents with numChar= 986186\n",
            "/content/drive/MyDrive/Colab Netbooks/german_wiki/extracted/AA/wiki_88\n",
            "len(lines) 4885\n",
            "wrote  49 documents with numChar= 1003157\n",
            "/content/drive/MyDrive/Colab Netbooks/german_wiki/extracted/AA/wiki_93\n",
            "len(lines) 4791\n",
            "wrote  52 documents with numChar= 956551\n",
            "/content/drive/MyDrive/Colab Netbooks/german_wiki/extracted/AA/wiki_91\n",
            "len(lines) 4845\n",
            "wrote  54 documents with numChar= 1004305\n",
            "/content/drive/MyDrive/Colab Netbooks/german_wiki/extracted/AA/wiki_92\n",
            "len(lines) 4487\n",
            "wrote  60 documents with numChar= 1010641\n",
            "/content/drive/MyDrive/Colab Netbooks/german_wiki/extracted/AA/wiki_89\n",
            "len(lines) 4983\n",
            "wrote  73 documents with numChar= 999067\n",
            "/content/drive/MyDrive/Colab Netbooks/german_wiki/extracted/AA/wiki_79\n",
            "len(lines) 5114\n",
            "wrote  77 documents with numChar= 974127\n",
            "/content/drive/MyDrive/Colab Netbooks/german_wiki/extracted/AA/wiki_82\n",
            "len(lines) 5060\n",
            "wrote  78 documents with numChar= 982693\n",
            "/content/drive/MyDrive/Colab Netbooks/german_wiki/extracted/AA/wiki_83\n",
            "wrote  88 documents with numChar= 1008876\n",
            "/content/drive/MyDrive/Colab Netbooks/german_wiki/extracted/AA/wiki_86\n",
            "len(lines) 4716\n",
            "len(lines) 4937\n",
            "wrote  82 documents with numChar= 1001840\n",
            "/content/drive/MyDrive/Colab Netbooks/german_wiki/extracted/AA/wiki_81\n",
            "wrote  70 documents with numChar= 954494\n",
            "/content/drive/MyDrive/Colab Netbooks/german_wiki/extracted/AA/wiki_90\n",
            "len(lines) 4260\n",
            "len(lines) 4625\n",
            "wrote  90 documents with numChar= 983581\n",
            "/content/drive/MyDrive/Colab Netbooks/german_wiki/extracted/AA/wiki_85\n",
            "len(lines) 4752\n",
            "wrote  94 documents with numChar= 1003751\n",
            "/content/drive/MyDrive/Colab Netbooks/german_wiki/extracted/AA/wiki_84\n",
            "len(lines) 3775\n",
            "wrote  93 documents with numChar= 1008859\n",
            "/content/drive/MyDrive/Colab Netbooks/german_wiki/extracted/AA/wiki_73\n",
            "len(lines) 5008\n",
            "wrote  69 documents with numChar= 1008249\n",
            "/content/drive/MyDrive/Colab Netbooks/german_wiki/extracted/AA/wiki_72\n",
            "wrote  51 documents with numChar= 1004371\n",
            "/content/drive/MyDrive/Colab Netbooks/german_wiki/extracted/AA/wiki_80\n",
            "len(lines) 5144\n",
            "len(lines) 4300\n",
            "wrote  85 documents with numChar= 966658\n",
            "/content/drive/MyDrive/Colab Netbooks/german_wiki/extracted/AA/wiki_74\n",
            "len(lines) 4636\n",
            "wrote  42 documents with numChar= 1013237\n",
            "/content/drive/MyDrive/Colab Netbooks/german_wiki/extracted/AA/wiki_75\n",
            "wrote  68 documents with numChar= 1009271\n",
            "/content/drive/MyDrive/Colab Netbooks/german_wiki/extracted/AA/wiki_78\n",
            "len(lines) 5110\n",
            "len(lines) 5149\n",
            "wrote  37 documents with numChar= 883768\n",
            "/content/drive/MyDrive/Colab Netbooks/german_wiki/extracted/AA/wiki_77\n",
            "len(lines) 5218\n",
            "wrote  63 documents with numChar= 981042\n",
            "/content/drive/MyDrive/Colab Netbooks/german_wiki/extracted/AA/wiki_76\n",
            "len(lines) 4970\n",
            "wrote  81 documents with numChar= 948468\n",
            "/content/drive/MyDrive/Colab Netbooks/german_wiki/extracted/AA/wiki_62\n",
            "len(lines) 4306\n",
            "wrote  58 documents with numChar= 928732\n",
            "/content/drive/MyDrive/Colab Netbooks/german_wiki/extracted/AA/wiki_69\n",
            "len(lines) 5212\n",
            "wrote  45 documents with numChar= 983444\n",
            "/content/drive/MyDrive/Colab Netbooks/german_wiki/extracted/AA/wiki_66\n",
            "len(lines) 4329\n",
            "wrote  66 documents with numChar= 1010106\n",
            "/content/drive/MyDrive/Colab Netbooks/german_wiki/extracted/AA/wiki_70\n",
            "wrote  76 documents with numChar= 998967\n",
            "/content/drive/MyDrive/Colab Netbooks/german_wiki/extracted/AA/wiki_67\n",
            "len(lines) 5198\n",
            "len(lines) 4876\n",
            "wrote  77 documents with numChar= 993479\n",
            "/content/drive/MyDrive/Colab Netbooks/german_wiki/extracted/AA/wiki_64\n",
            "len(lines) 4862\n",
            "wrote  82 documents with numChar= 998089\n",
            "/content/drive/MyDrive/Colab Netbooks/german_wiki/extracted/AA/wiki_71\n",
            "len(lines) 8586\n",
            "wrote  86 documents with numChar= 1007432\n",
            "/content/drive/MyDrive/Colab Netbooks/german_wiki/extracted/AA/wiki_68\n",
            "len(lines) 5279\n",
            "wrote  26 documents with numChar= 1012554\n",
            "/content/drive/MyDrive/Colab Netbooks/german_wiki/extracted/AA/wiki_52\n",
            "len(lines) 4719\n",
            "wrote  67 documents with numChar= 1010793\n",
            "/content/drive/MyDrive/Colab Netbooks/german_wiki/extracted/AA/wiki_58\n",
            "len(lines) 5188\n",
            "wrote  49 documents with numChar= 1003642\n",
            "/content/drive/MyDrive/Colab Netbooks/german_wiki/extracted/AA/wiki_65\n",
            "len(lines) 5130\n",
            "wrote  56 documents with numChar= 1007664\n",
            "/content/drive/MyDrive/Colab Netbooks/german_wiki/extracted/AA/wiki_53\n",
            "len(lines) 5350\n",
            "wrote  53 documents with numChar= 995811\n",
            "/content/drive/MyDrive/Colab Netbooks/german_wiki/extracted/AA/wiki_55\n",
            "len(lines) 30031\n",
            "wrote  78 documents with numChar= 1009178\n",
            "/content/drive/MyDrive/Colab Netbooks/german_wiki/extracted/AA/wiki_63\n",
            "len(lines) 4957\n",
            "wrote  58 documents with numChar= 944239\n",
            "/content/drive/MyDrive/Colab Netbooks/german_wiki/extracted/AA/wiki_60\n",
            "len(lines) 4597\n",
            "wrote  294 documents with numChar= 985052\n",
            "/content/drive/MyDrive/Colab Netbooks/german_wiki/extracted/AA/wiki_61\n",
            "len(lines) 4663\n",
            "wrote  47 documents with numChar= 1008921\n",
            "/content/drive/MyDrive/Colab Netbooks/german_wiki/extracted/AA/wiki_45\n",
            "len(lines) 4956\n",
            "wrote  827 documents with numChar= 921598\n",
            "/content/drive/MyDrive/Colab Netbooks/german_wiki/extracted/AA/wiki_50\n",
            "len(lines) 4792\n",
            "wrote  65 documents with numChar= 1007509\n",
            "/content/drive/MyDrive/Colab Netbooks/german_wiki/extracted/AA/wiki_48\n",
            "len(lines) 4671\n",
            "wrote  66 documents with numChar= 1003950\n",
            "/content/drive/MyDrive/Colab Netbooks/german_wiki/extracted/AA/wiki_59\n",
            "len(lines) 4657\n",
            "wrote  77 documents with numChar= 1010517\n",
            "created file /content/drive/MyDrive/Colab Netbooks/german_wikiwikiOut2f0002.txt\n",
            "/content/drive/MyDrive/Colab Netbooks/german_wiki/extracted/AA/wiki_54\n",
            "len(lines) 35839\n",
            "wrote  64 documents with numChar= 1011794\n",
            "/content/drive/MyDrive/Colab Netbooks/german_wiki/extracted/AA/wiki_56\n",
            "len(lines) 4373\n",
            "wrote  39 documents with numChar= 984483\n",
            "/content/drive/MyDrive/Colab Netbooks/german_wiki/extracted/AA/wiki_57\n",
            "len(lines) 5036\n",
            "wrote  28 documents with numChar= 993892\n",
            "/content/drive/MyDrive/Colab Netbooks/german_wiki/extracted/AA/wiki_51\n",
            "len(lines) 4973\n",
            "wrote  63 documents with numChar= 1000176\n",
            "created file /content/drive/MyDrive/Colab Netbooks/german_wikiwikiOut1f0002.txt\n",
            "/content/drive/MyDrive/Colab Netbooks/german_wiki/extracted/AA/wiki_99\n",
            "len(lines) 5740\n",
            "wrote  60 documents with numChar= 965577\n",
            "created file /content/drive/MyDrive/Colab Netbooks/german_wikiwikiOut0f0002.txt\n",
            "/content/drive/MyDrive/Colab Netbooks/german_wiki/extracted/AA/wiki_42\n",
            "len(lines) 5481\n",
            "wrote  66 documents with numChar= 1011698\n",
            "created file /content/drive/MyDrive/Colab Netbooks/german_wikiwikiOut6f0002.txt\n",
            "/content/drive/MyDrive/Colab Netbooks/german_wiki/extracted/AA/wiki_46\n",
            "len(lines) 5760\n",
            "wrote  618 documents with numChar= 934923\n",
            "/content/drive/MyDrive/Colab Netbooks/german_wiki/extracted/AA/wiki_43\n",
            "len(lines) 4600\n",
            "wrote  81 documents with numChar= 1004922\n",
            "created file /content/drive/MyDrive/Colab Netbooks/german_wikiwikiOut4f0002.txt\n",
            "/content/drive/MyDrive/Colab Netbooks/german_wiki/extracted/AA/wiki_49\n",
            "len(lines) 5144\n",
            "wrote  52 documents with numChar= 993884\n",
            "created file /content/drive/MyDrive/Colab Netbooks/german_wikiwikiOut7f0002.txt\n",
            "/content/drive/MyDrive/Colab Netbooks/german_wiki/extracted/AA/wiki_44\n",
            "len(lines) 5183\n",
            "wrote  105 documents with numChar= 997027\n",
            "created file /content/drive/MyDrive/Colab Netbooks/german_wikiwikiOut5f0002.txt\n",
            "/content/drive/MyDrive/Colab Netbooks/german_wiki/extracted/AA/wiki_47\n",
            "len(lines) 4527\n",
            "wrote  63 documents with numChar= 997477\n",
            "created file /content/drive/MyDrive/Colab Netbooks/german_wikiwikiOut3f0002.txt\n",
            "/content/drive/MyDrive/Colab Netbooks/german_wiki/extracted/AA/wiki_41\n",
            "len(lines) 4926\n",
            "wrote  72 documents with numChar= 1001455\n",
            "1f used time 3229.8946146965027 sec\n",
            "wrote  39 documents with numChar= 1016730\n",
            "/content/drive/MyDrive/Colab Netbooks/german_wiki/extracted/AA/wiki_98\n",
            "len(lines) 5448\n",
            "wrote  85 documents with numChar= 995983\n",
            "0f used time 3241.621428012848 sec\n",
            "wrote  68 documents with numChar= 990927\n",
            "4f used time 3245.4019210338593 sec\n",
            "wrote  95 documents with numChar= 996062\n",
            "6f used time 3250.551811695099 sec\n",
            "wrote  60 documents with numChar= 1010421\n",
            "7f used time 3256.0314750671387 sec\n",
            "wrote  47 documents with numChar= 974835\n",
            "5f used time 3258.6830837726593 sec\n",
            "wrote  68 documents with numChar= 1010215\n",
            "/content/drive/MyDrive/Colab Netbooks/german_wiki/extracted/AA/wiki_96\n",
            "len(lines) 5278\n",
            "wrote  74 documents with numChar= 992817\n",
            "2f used time 3317.8880140781403 sec\n",
            "wrote  81 documents with numChar= 991982\n",
            "3f used time 3326.544226169586 sec\n",
            "used 3326.7830629348755 sec\n"
          ]
        }
      ],
      "source": [
        "# multiprocessing execution\n",
        "import multiprocessing as mp\n",
        "t0 = time.time()\n",
        "\n",
        "# Define an output queue\n",
        "output = mp.Queue()\n",
        "\n",
        "# Setup a list of processes that we want to run\n",
        "processes = [\n",
        "    mp.Process(target=process_files, args=(inFiles[j], str(j) + 'f'))\n",
        "    for j in range(nthread)\n",
        "]\n",
        "\n",
        "# Run processes\n",
        "for p in processes:\n",
        "    p.start()\n",
        "\n",
        "# Exit the completed processes\n",
        "for p in processes:\n",
        "    p.join()\n",
        "\n",
        "# Get process results from the output queue\n",
        "#results = [output.get() for p in processes]\n",
        "\n",
        "#print(results)\n",
        "print(\"used\",time.time()-t0,\"sec\")"
      ]
    },
    {
      "cell_type": "markdown",
      "source": [
        "# **Task 2**"
      ],
      "metadata": {
        "id": "ciquzvHYM4vS"
      }
    },
    {
      "cell_type": "code",
      "execution_count": 78,
      "metadata": {
        "id": "Sf-D02ygyf-K",
        "outputId": "4f0441b7-7671-45d8-c613-479b6fcd1504",
        "colab": {
          "base_uri": "https://localhost:8080/"
        }
      },
      "outputs": [
        {
          "output_type": "stream",
          "name": "stdout",
          "text": [
            "\u001b[33mWARNING: Skipping tensorflow as it is not installed.\u001b[0m\n",
            "Collecting git+https://github.com/huggingface/transformers\n",
            "  Cloning https://github.com/huggingface/transformers to /tmp/pip-req-build-t6x57yqu\n",
            "  Running command git clone -q https://github.com/huggingface/transformers /tmp/pip-req-build-t6x57yqu\n",
            "  Installing build dependencies ... \u001b[?25l\u001b[?25hdone\n",
            "  Getting requirements to build wheel ... \u001b[?25l\u001b[?25hdone\n",
            "    Preparing wheel metadata ... \u001b[?25l\u001b[?25hdone\n",
            "Requirement already satisfied: packaging>=20.0 in /usr/local/lib/python3.7/dist-packages (from transformers==4.17.0.dev0) (21.3)\n",
            "Requirement already satisfied: requests in /usr/local/lib/python3.7/dist-packages (from transformers==4.17.0.dev0) (2.23.0)\n",
            "Requirement already satisfied: filelock in /usr/local/lib/python3.7/dist-packages (from transformers==4.17.0.dev0) (3.4.2)\n",
            "Requirement already satisfied: pyyaml>=5.1 in /usr/local/lib/python3.7/dist-packages (from transformers==4.17.0.dev0) (6.0)\n",
            "Requirement already satisfied: tqdm>=4.27 in /usr/local/lib/python3.7/dist-packages (from transformers==4.17.0.dev0) (4.62.3)\n",
            "Requirement already satisfied: huggingface-hub<1.0,>=0.1.0 in /usr/local/lib/python3.7/dist-packages (from transformers==4.17.0.dev0) (0.4.0)\n",
            "Requirement already satisfied: sacremoses in /usr/local/lib/python3.7/dist-packages (from transformers==4.17.0.dev0) (0.0.47)\n",
            "Requirement already satisfied: importlib-metadata in /usr/local/lib/python3.7/dist-packages (from transformers==4.17.0.dev0) (4.11.0)\n",
            "Requirement already satisfied: numpy>=1.17 in /usr/local/lib/python3.7/dist-packages (from transformers==4.17.0.dev0) (1.21.5)\n",
            "Requirement already satisfied: tokenizers!=0.11.3,>=0.11.1 in /usr/local/lib/python3.7/dist-packages (from transformers==4.17.0.dev0) (0.11.5)\n",
            "Requirement already satisfied: regex!=2019.12.17 in /usr/local/lib/python3.7/dist-packages (from transformers==4.17.0.dev0) (2019.12.20)\n",
            "Requirement already satisfied: typing-extensions>=3.7.4.3 in /usr/local/lib/python3.7/dist-packages (from huggingface-hub<1.0,>=0.1.0->transformers==4.17.0.dev0) (3.10.0.2)\n",
            "Requirement already satisfied: pyparsing!=3.0.5,>=2.0.2 in /usr/local/lib/python3.7/dist-packages (from packaging>=20.0->transformers==4.17.0.dev0) (3.0.7)\n",
            "Requirement already satisfied: zipp>=0.5 in /usr/local/lib/python3.7/dist-packages (from importlib-metadata->transformers==4.17.0.dev0) (3.7.0)\n",
            "Requirement already satisfied: certifi>=2017.4.17 in /usr/local/lib/python3.7/dist-packages (from requests->transformers==4.17.0.dev0) (2021.10.8)\n",
            "Requirement already satisfied: chardet<4,>=3.0.2 in /usr/local/lib/python3.7/dist-packages (from requests->transformers==4.17.0.dev0) (3.0.4)\n",
            "Requirement already satisfied: urllib3!=1.25.0,!=1.25.1,<1.26,>=1.21.1 in /usr/local/lib/python3.7/dist-packages (from requests->transformers==4.17.0.dev0) (1.24.3)\n",
            "Requirement already satisfied: idna<3,>=2.5 in /usr/local/lib/python3.7/dist-packages (from requests->transformers==4.17.0.dev0) (2.10)\n",
            "Requirement already satisfied: joblib in /usr/local/lib/python3.7/dist-packages (from sacremoses->transformers==4.17.0.dev0) (1.1.0)\n",
            "Requirement already satisfied: click in /usr/local/lib/python3.7/dist-packages (from sacremoses->transformers==4.17.0.dev0) (7.1.2)\n",
            "Requirement already satisfied: six in /usr/local/lib/python3.7/dist-packages (from sacremoses->transformers==4.17.0.dev0) (1.15.0)\n",
            "tokenizers                    0.11.5\n",
            "transformers                  4.17.0.dev0\n",
            "input data ['/content/drive/MyDrive/Colab Netbooks/german_wikiwikiOut0f0001.txt', '/content/drive/MyDrive/Colab Netbooks/german_wikiwikiOut0f0002.txt', '/content/drive/MyDrive/Colab Netbooks/german_wikiwikiOut1f0001.txt', '/content/drive/MyDrive/Colab Netbooks/german_wikiwikiOut2f0001.txt', '/content/drive/MyDrive/Colab Netbooks/german_wikiwikiOut3f0001.txt', '/content/drive/MyDrive/Colab Netbooks/german_wikiwikiOut5f0001.txt', '/content/drive/MyDrive/Colab Netbooks/german_wikiwikiOut4f0001.txt', '/content/drive/MyDrive/Colab Netbooks/german_wikiwikiOut7f0001.txt', '/content/drive/MyDrive/Colab Netbooks/german_wikiwikiOut6f0001.txt', '/content/drive/MyDrive/Colab Netbooks/german_wikiwikiOut2f0002.txt', '/content/drive/MyDrive/Colab Netbooks/german_wikiwikiOut1f0002.txt', '/content/drive/MyDrive/Colab Netbooks/german_wikiwikiOut6f0002.txt', '/content/drive/MyDrive/Colab Netbooks/german_wikiwikiOut4f0002.txt', '/content/drive/MyDrive/Colab Netbooks/german_wikiwikiOut7f0002.txt', '/content/drive/MyDrive/Colab Netbooks/german_wikiwikiOut5f0002.txt', '/content/drive/MyDrive/Colab Netbooks/german_wikiwikiOut3f0002.txt']\n"
          ]
        }
      ],
      "source": [
        "!pip uninstall -y tensorflow\n",
        "# Install `transformers` from master\n",
        "!pip install git+https://github.com/huggingface/transformers\n",
        "!pip list | grep -E 'transformers|tokenizers'\n",
        "from pathlib import Path\n",
        "from tokenizers import ByteLevelBPETokenizer\n",
        "paths = [\n",
        "    str(x) for x in Path(OUT_DIR).glob(\"*.txt\")\n",
        "]\n",
        "print(\"input data\", paths)"
      ]
    },
    {
      "cell_type": "markdown",
      "metadata": {
        "id": "sKQp93ZVyf-L"
      },
      "source": [
        "### Train a BPE-Tokenizer"
      ]
    },
    {
      "cell_type": "code",
      "execution_count": 74,
      "metadata": {
        "id": "dPuFNrDvyf-M",
        "outputId": "001e2fc6-8c06-492c-b233-1e7839924451",
        "colab": {
          "base_uri": "https://localhost:8080/"
        }
      },
      "outputs": [
        {
          "output_type": "stream",
          "name": "stdout",
          "text": [
            "used 0.004160642623901367 sec\n"
          ]
        }
      ],
      "source": [
        "import time\n",
        "t0 = time.time()\n",
        "from pathlib import Path\n",
        "from tokenizers import ByteLevelBPETokenizer\n",
        "# Initialize a tokenizer\n",
        "tokenizer = ByteLevelBPETokenizer(lowercase=False)\n",
        "\n",
        "vocab_size = 32000  # was 52000\n",
        "# Customize training\n",
        "tokenizer.train(files=paths,\n",
        "                vocab_size=vocab_size,\n",
        "                min_frequency=3,\n",
        "                special_tokens=[\n",
        "                    \"<s>\",\n",
        "                    \"<pad>\",\n",
        "                    \"</s>\",\n",
        "                    \"<unk>\",\n",
        "                    \"<mask>\",\n",
        "                ])\n",
        "print(\"used\", time.time() - t0, \"sec\")"
      ]
    },
    {
      "cell_type": "code",
      "source": [
        "tokenizer.save(os.path.join(\"/content/drive/MyDrive/Colab Netbooks/\", \"tokenizer.json\"))"
      ],
      "metadata": {
        "id": "hs7Vh5yS2nu7"
      },
      "execution_count": 75,
      "outputs": []
    },
    {
      "cell_type": "code",
      "execution_count": 76,
      "metadata": {
        "id": "tKVWB8WShT-z",
        "outputId": "4baf2655-2f9e-4039-f18e-e4ea72a73d50",
        "colab": {
          "base_uri": "https://localhost:8080/"
        }
      },
      "outputs": [
        {
          "output_type": "stream",
          "name": "stdout",
          "text": [
            "vocab_size= 261\n"
          ]
        }
      ],
      "source": [
        "from tokenizers import Tokenizer\n",
        "from tokenizers.processors import BertProcessing\n",
        "\n",
        "#tokenizer = ByteLevelBPETokenizer(\n",
        "#    \"./EsperBERTo/vocab.json\",\n",
        "#    \"./EsperBERTo/merges.txt\",\n",
        "#)\n",
        "tokenizer = Tokenizer.from_file(os.path.join(\"/content/drive/MyDrive/Colab Netbooks/\" \"tokenizer.json\"))\n",
        "vocab_size = tokenizer.get_vocab_size()\n",
        "print(\"vocab_size=\", vocab_size)"
      ]
    },
    {
      "cell_type": "code",
      "execution_count": 45,
      "metadata": {
        "colab": {
          "base_uri": "https://localhost:8080/"
        },
        "id": "E3Ye27nchfzq",
        "outputId": "0557643c-57a9-4003-9f0e-040a5743baf5"
      },
      "outputs": [
        {
          "output_type": "stream",
          "name": "stdout",
          "text": [
            "Encoding(num_tokens=42, attributes=[ids, type_ids, tokens, offsets, attention_mask, special_tokens_mask, overflowing])\n",
            "['I', 'c', 'h', 'Ġ', 'h', 'e', 'i', 'Ã', 'Ł', 'e', 'Ġ', 'K', 'a', 'r', 'l', 'Ġ', 'M', 'Ã', '¼', 'l', 'l', 'e', 'r', 'Ġ', 'u', 'n', 'd', 'Ġ', 'w', 'o', 'h', 'n', 'e', 'Ġ', 'i', 'n', 'Ġ', 'B', 'o', 'n', 'n', '.']\n"
          ]
        }
      ],
      "source": [
        "enc=tokenizer.encode(\"Ich heiße Karl Müller und wohne in Bonn.\")\n",
        "print(enc)\n",
        "print(enc.tokens)"
      ]
    },
    {
      "cell_type": "markdown",
      "metadata": {
        "id": "Vh05Mc6Xyf-Q"
      },
      "source": [
        "### Prepare Training"
      ]
    },
    {
      "cell_type": "code",
      "execution_count": 46,
      "metadata": {
        "colab": {
          "base_uri": "https://localhost:8080/"
        },
        "id": "kD140sFjh0LQ",
        "outputId": "454e4e77-fe57-48ef-e9d0-7dfa56b22563"
      },
      "outputs": [
        {
          "output_type": "stream",
          "name": "stdout",
          "text": [
            "Fri Feb 18 12:45:03 2022       \n",
            "+-----------------------------------------------------------------------------+\n",
            "| NVIDIA-SMI 460.32.03    Driver Version: 460.32.03    CUDA Version: 11.2     |\n",
            "|-------------------------------+----------------------+----------------------+\n",
            "| GPU  Name        Persistence-M| Bus-Id        Disp.A | Volatile Uncorr. ECC |\n",
            "| Fan  Temp  Perf  Pwr:Usage/Cap|         Memory-Usage | GPU-Util  Compute M. |\n",
            "|                               |                      |               MIG M. |\n",
            "|===============================+======================+======================|\n",
            "|   0  Tesla K80           Off  | 00000000:00:04.0 Off |                    0 |\n",
            "| N/A   69C    P8    32W / 149W |      0MiB / 11441MiB |      0%      Default |\n",
            "|                               |                      |                  N/A |\n",
            "+-------------------------------+----------------------+----------------------+\n",
            "                                                                               \n",
            "+-----------------------------------------------------------------------------+\n",
            "| Processes:                                                                  |\n",
            "|  GPU   GI   CI        PID   Type   Process name                  GPU Memory |\n",
            "|        ID   ID                                                   Usage      |\n",
            "|=============================================================================|\n",
            "|  No running processes found                                                 |\n",
            "+-----------------------------------------------------------------------------+\n"
          ]
        }
      ],
      "source": [
        "# Check that we have a GPU\n",
        "!nvidia-smi"
      ]
    },
    {
      "cell_type": "code",
      "execution_count": 47,
      "metadata": {
        "colab": {
          "base_uri": "https://localhost:8080/"
        },
        "id": "VNZZs-r6iKAV",
        "outputId": "83d3cd8d-a414-403d-9786-ae99896375ec"
      },
      "outputs": [
        {
          "output_type": "stream",
          "name": "stdout",
          "text": [
            "pytorch version 1.10.0+cu111\n"
          ]
        }
      ],
      "source": [
        "# Check that PyTorch sees it\n",
        "import torch\n",
        "torch.cuda.is_available()\n",
        "print(\"pytorch version\",torch.__version__)"
      ]
    },
    {
      "cell_type": "markdown",
      "source": [
        "# **Task 3**"
      ],
      "metadata": {
        "id": "dBauLimtNEW7"
      }
    },
    {
      "cell_type": "markdown",
      "source": [
        "## Roberta Model"
      ],
      "metadata": {
        "id": "ZbRstczoNJyF"
      }
    },
    {
      "cell_type": "code",
      "execution_count": 48,
      "metadata": {
        "id": "LTXXutqeDzPi"
      },
      "outputs": [],
      "source": [
        "from transformers import RobertaConfig\n",
        "\n",
        "config = RobertaConfig(\n",
        "    vocab_size=vocab_size,\n",
        "    max_position_embeddings=514,\n",
        "    num_attention_heads=12,\n",
        "    num_hidden_layers=6,    # was 6\n",
        "    type_vocab_size=1,\n",
        ")"
      ]
    },
    {
      "cell_type": "markdown",
      "metadata": {
        "id": "yAwQ82JiE5pi"
      },
      "source": [
        "Now let's re-create our tokenizer in transformers"
      ]
    },
    {
      "cell_type": "code",
      "execution_count": 80,
      "metadata": {
        "id": "4keFBUjQFOD1"
      },
      "outputs": [],
      "source": [
        "from transformers import RobertaTokenizerFast\n",
        "\n",
        "tokenizer = RobertaTokenizerFast.from_pretrained(\"/content/drive/MyDrive/Colab Netbooks/\", max_len=512)"
      ]
    },
    {
      "cell_type": "markdown",
      "source": [
        "# Model Building"
      ],
      "metadata": {
        "id": "5jz_91C24wR6"
      }
    },
    {
      "cell_type": "code",
      "execution_count": 81,
      "metadata": {
        "id": "BzMqR-dzF4Ro"
      },
      "outputs": [],
      "source": [
        "from transformers import RobertaForMaskedLM\n",
        "\n",
        "model = RobertaForMaskedLM(config=config)"
      ]
    },
    {
      "cell_type": "code",
      "execution_count": 82,
      "metadata": {
        "colab": {
          "base_uri": "https://localhost:8080/"
        },
        "id": "jU6JhBSTKiaM",
        "outputId": "21ee213d-7c15-4222-fe71-0e63b692116e"
      },
      "outputs": [
        {
          "output_type": "execute_result",
          "data": {
            "text/plain": [
              "43717125"
            ]
          },
          "metadata": {},
          "execution_count": 82
        }
      ],
      "source": [
        "model.num_parameters()\n",
        "# => 84 million parameters\n",
        "# 68.7 million parameters  (6 hidden layers)\n",
        "# 54.5 million (4 hidden layers)\n",
        "# 47 mill (3 hidden layers)"
      ]
    },
    {
      "cell_type": "code",
      "execution_count": 83,
      "metadata": {
        "id": "Yhm8Ihx4yf-W",
        "outputId": "6fab1e3e-d42b-4d32-d781-392a2ed2f3ea",
        "colab": {
          "base_uri": "https://localhost:8080/"
        }
      },
      "outputs": [
        {
          "output_type": "stream",
          "name": "stdout",
          "text": [
            "['/content/drive/MyDrive/Colab Netbooks/german_wikiwikiOut0f0001.txt', '/content/drive/MyDrive/Colab Netbooks/german_wikiwikiOut0f0002.txt', '/content/drive/MyDrive/Colab Netbooks/german_wikiwikiOut1f0001.txt']\n"
          ]
        }
      ],
      "source": [
        "from pathlib import Path\n",
        "from tokenizers import ByteLevelBPETokenizer\n",
        "paths = [str(x) for x in Path(OUT_DIR).glob(\"*.txt\")]\n",
        "nfiles=6\n",
        "print(paths[:3])\n",
        "paths = paths[:nfiles]"
      ]
    },
    {
      "cell_type": "code",
      "execution_count": 84,
      "metadata": {
        "id": "VjotzPysyf-W",
        "outputId": "b41f5142-23eb-4024-87bb-de673a73e3a1",
        "colab": {
          "base_uri": "https://localhost:8080/"
        }
      },
      "outputs": [
        {
          "output_type": "execute_result",
          "data": {
            "text/plain": [
              "['/content/drive/MyDrive/Colab Netbooks/german_wikiwikiOut0f0001.txt',\n",
              " '/content/drive/MyDrive/Colab Netbooks/german_wikiwikiOut0f0002.txt',\n",
              " '/content/drive/MyDrive/Colab Netbooks/german_wikiwikiOut1f0001.txt',\n",
              " '/content/drive/MyDrive/Colab Netbooks/german_wikiwikiOut2f0001.txt',\n",
              " '/content/drive/MyDrive/Colab Netbooks/german_wikiwikiOut3f0001.txt',\n",
              " '/content/drive/MyDrive/Colab Netbooks/german_wikiwikiOut5f0001.txt']"
            ]
          },
          "metadata": {},
          "execution_count": 84
        }
      ],
      "source": [
        "paths"
      ]
    },
    {
      "cell_type": "markdown",
      "metadata": {
        "id": "zBPCysR_yf-X"
      },
      "source": [
        "Tokenize files and concatenate them"
      ]
    },
    {
      "cell_type": "code",
      "execution_count": 85,
      "metadata": {
        "colab": {
          "base_uri": "https://localhost:8080/"
        },
        "id": "GlvP_A-THEEl",
        "outputId": "cb3d0ba4-a2fe-4af5-bf64-4093dabdb615"
      },
      "outputs": [
        {
          "output_type": "stream",
          "name": "stderr",
          "text": [
            "/usr/local/lib/python3.7/dist-packages/transformers/data/datasets/language_modeling.py:125: FutureWarning: This dataset will be removed from the library soon, preprocessing should be handled with the 🤗 Datasets library. You can have a look at this example script for pointers: https://github.com/huggingface/transformers/blob/master/examples/pytorch/language-modeling/run_mlm.py\n",
            "  FutureWarning,\n"
          ]
        },
        {
          "output_type": "stream",
          "name": "stdout",
          "text": [
            "ids 0 len(data.examples) 86922\n",
            "ids 1 len(data.examples) 8527\n",
            "ids 2 len(data.examples) 85660\n",
            "ids 3 len(data.examples) 78476\n",
            "ids 4 len(data.examples) 86304\n",
            "ids 5 len(data.examples) 84669\n",
            "number of sentences: len(dataset.examples) 86922\n",
            "CPU times: user 1min 16s, sys: 2.56 s, total: 1min 19s\n",
            "Wall time: 50.6 s\n"
          ]
        }
      ],
      "source": [
        "%%time\n",
        "from transformers import LineByLineTextDataset\n",
        "\n",
        "dataset = None\n",
        "for ids in range(len(paths)):\n",
        "    data = LineByLineTextDataset(\n",
        "        tokenizer=tokenizer,\n",
        "        #file_path=\"./oscar.eo.txt\",\n",
        "        file_path=paths[ids],\n",
        "        block_size=128,\n",
        "    )\n",
        "    print(\"ids\",ids,'len(data.examples)',len(data.examples))\n",
        "    if ids==0:\n",
        "        dataset = data\n",
        "    else:\n",
        "        dataset.__add__(data)  # see torch.utils.data.dataset.Dataset\n",
        "print('number of sentences: len(dataset.examples)',len(dataset.examples))"
      ]
    },
    {
      "cell_type": "code",
      "execution_count": 86,
      "metadata": {
        "id": "zTgWPa9Dipk2"
      },
      "outputs": [],
      "source": [
        "from transformers import DataCollatorForLanguageModeling\n",
        "\n",
        "data_collator = DataCollatorForLanguageModeling(\n",
        "    tokenizer=tokenizer, mlm=True, mlm_probability=0.15\n",
        ")"
      ]
    },
    {
      "cell_type": "markdown",
      "metadata": {
        "id": "ri2BIQKqjfHm"
      },
      "source": [
        "### Finally, we are all set to initialize our Trainer"
      ]
    },
    {
      "cell_type": "code",
      "execution_count": 87,
      "metadata": {
        "id": "YpvnFFmZJD-N"
      },
      "outputs": [],
      "source": [
        "from transformers import Trainer, TrainingArguments\n",
        "\n",
        "training_args = TrainingArguments(\n",
        "    output_dir=OUT_DIR,\n",
        "    overwrite_output_dir=True,\n",
        "    num_train_epochs=20,\n",
        "    per_device_train_batch_size=32,    # was 64\n",
        "    save_steps=10_000,\n",
        "    save_total_limit=2,\n",
        "    prediction_loss_only=True,    \n",
        ")\n",
        "\n",
        "trainer = Trainer(\n",
        "    model=model,\n",
        "    args=training_args,\n",
        "    data_collator=data_collator,\n",
        "    train_dataset=dataset,\n",
        ")"
      ]
    },
    {
      "cell_type": "markdown",
      "metadata": {
        "id": "_ZkooHz1-_2h"
      },
      "source": [
        "## Save final model "
      ]
    },
    {
      "cell_type": "code",
      "execution_count": 98,
      "metadata": {
        "id": "QDNgPls7_l13",
        "colab": {
          "base_uri": "https://localhost:8080/"
        },
        "outputId": "f51c42d1-39f8-4cdc-d089-e806188fa084"
      },
      "outputs": [
        {
          "output_type": "stream",
          "name": "stderr",
          "text": [
            "Saving model checkpoint to /content/drive/MyDrive/Colab Netbooks/\n",
            "Configuration saved in /content/drive/MyDrive/Colab Netbooks/config.json\n",
            "Model weights saved in /content/drive/MyDrive/Colab Netbooks/pytorch_model.bin\n"
          ]
        }
      ],
      "source": [
        "#trainer.save_model(\"./EsperBERTo\")\n",
        "trainer.save_model('/content/drive/MyDrive/Colab Netbooks/')"
      ]
    },
    {
      "cell_type": "markdown",
      "metadata": {
        "id": "d0caceCy_p1-"
      },
      "source": [
        "## Check that the LM actually trained"
      ]
    },
    {
      "cell_type": "code",
      "execution_count": 99,
      "metadata": {
        "id": "ltXgXyCbAJLY",
        "colab": {
          "base_uri": "https://localhost:8080/"
        },
        "outputId": "cbc565f1-5b63-4aef-9fad-7523b88f75a0"
      },
      "outputs": [
        {
          "output_type": "stream",
          "name": "stderr",
          "text": [
            "loading configuration file /content/drive/MyDrive/Colab Netbooks/config.json\n",
            "Model config RobertaConfig {\n",
            "  \"_name_or_path\": \"/content/drive/MyDrive/Colab Netbooks/\",\n",
            "  \"architectures\": [\n",
            "    \"RobertaForMaskedLM\"\n",
            "  ],\n",
            "  \"attention_probs_dropout_prob\": 0.1,\n",
            "  \"bos_token_id\": 0,\n",
            "  \"classifier_dropout\": null,\n",
            "  \"eos_token_id\": 2,\n",
            "  \"hidden_act\": \"gelu\",\n",
            "  \"hidden_dropout_prob\": 0.1,\n",
            "  \"hidden_size\": 768,\n",
            "  \"initializer_range\": 0.02,\n",
            "  \"intermediate_size\": 3072,\n",
            "  \"layer_norm_eps\": 1e-12,\n",
            "  \"max_position_embeddings\": 514,\n",
            "  \"model_type\": \"roberta\",\n",
            "  \"num_attention_heads\": 12,\n",
            "  \"num_hidden_layers\": 6,\n",
            "  \"pad_token_id\": 1,\n",
            "  \"position_embedding_type\": \"absolute\",\n",
            "  \"torch_dtype\": \"float32\",\n",
            "  \"transformers_version\": \"4.17.0.dev0\",\n",
            "  \"type_vocab_size\": 1,\n",
            "  \"use_cache\": true,\n",
            "  \"vocab_size\": 261\n",
            "}\n",
            "\n",
            "loading configuration file /content/drive/MyDrive/Colab Netbooks/config.json\n",
            "Model config RobertaConfig {\n",
            "  \"_name_or_path\": \"/content/drive/MyDrive/Colab Netbooks/\",\n",
            "  \"architectures\": [\n",
            "    \"RobertaForMaskedLM\"\n",
            "  ],\n",
            "  \"attention_probs_dropout_prob\": 0.1,\n",
            "  \"bos_token_id\": 0,\n",
            "  \"classifier_dropout\": null,\n",
            "  \"eos_token_id\": 2,\n",
            "  \"hidden_act\": \"gelu\",\n",
            "  \"hidden_dropout_prob\": 0.1,\n",
            "  \"hidden_size\": 768,\n",
            "  \"initializer_range\": 0.02,\n",
            "  \"intermediate_size\": 3072,\n",
            "  \"layer_norm_eps\": 1e-12,\n",
            "  \"max_position_embeddings\": 514,\n",
            "  \"model_type\": \"roberta\",\n",
            "  \"num_attention_heads\": 12,\n",
            "  \"num_hidden_layers\": 6,\n",
            "  \"pad_token_id\": 1,\n",
            "  \"position_embedding_type\": \"absolute\",\n",
            "  \"torch_dtype\": \"float32\",\n",
            "  \"transformers_version\": \"4.17.0.dev0\",\n",
            "  \"type_vocab_size\": 1,\n",
            "  \"use_cache\": true,\n",
            "  \"vocab_size\": 261\n",
            "}\n",
            "\n",
            "loading weights file /content/drive/MyDrive/Colab Netbooks/pytorch_model.bin\n",
            "All model checkpoint weights were used when initializing RobertaForMaskedLM.\n",
            "\n",
            "All the weights of RobertaForMaskedLM were initialized from the model checkpoint at /content/drive/MyDrive/Colab Netbooks/.\n",
            "If your task is similar to the task the model of the checkpoint was trained on, you can already use RobertaForMaskedLM for predictions without further training.\n",
            "Could not locate the tokenizer configuration file, will try to use the model config instead.\n",
            "loading configuration file /content/drive/MyDrive/Colab Netbooks/config.json\n",
            "Model config RobertaConfig {\n",
            "  \"_name_or_path\": \"/content/drive/MyDrive/Colab Netbooks/\",\n",
            "  \"architectures\": [\n",
            "    \"RobertaForMaskedLM\"\n",
            "  ],\n",
            "  \"attention_probs_dropout_prob\": 0.1,\n",
            "  \"bos_token_id\": 0,\n",
            "  \"classifier_dropout\": null,\n",
            "  \"eos_token_id\": 2,\n",
            "  \"hidden_act\": \"gelu\",\n",
            "  \"hidden_dropout_prob\": 0.1,\n",
            "  \"hidden_size\": 768,\n",
            "  \"initializer_range\": 0.02,\n",
            "  \"intermediate_size\": 3072,\n",
            "  \"layer_norm_eps\": 1e-12,\n",
            "  \"max_position_embeddings\": 514,\n",
            "  \"model_type\": \"roberta\",\n",
            "  \"num_attention_heads\": 12,\n",
            "  \"num_hidden_layers\": 6,\n",
            "  \"pad_token_id\": 1,\n",
            "  \"position_embedding_type\": \"absolute\",\n",
            "  \"torch_dtype\": \"float32\",\n",
            "  \"transformers_version\": \"4.17.0.dev0\",\n",
            "  \"type_vocab_size\": 1,\n",
            "  \"use_cache\": true,\n",
            "  \"vocab_size\": 261\n",
            "}\n",
            "\n",
            "Didn't find file /content/drive/MyDrive/Colab Netbooks/vocab.json. We won't load it.\n",
            "Didn't find file /content/drive/MyDrive/Colab Netbooks/merges.txt. We won't load it.\n",
            "Didn't find file /content/drive/MyDrive/Colab Netbooks/added_tokens.json. We won't load it.\n",
            "Didn't find file /content/drive/MyDrive/Colab Netbooks/special_tokens_map.json. We won't load it.\n",
            "Didn't find file /content/drive/MyDrive/Colab Netbooks/tokenizer_config.json. We won't load it.\n",
            "loading file None\n",
            "loading file None\n",
            "loading file /content/drive/MyDrive/Colab Netbooks/tokenizer.json\n",
            "loading file None\n",
            "loading file None\n",
            "loading file None\n",
            "loading configuration file /content/drive/MyDrive/Colab Netbooks/config.json\n",
            "Model config RobertaConfig {\n",
            "  \"_name_or_path\": \"/content/drive/MyDrive/Colab Netbooks/\",\n",
            "  \"architectures\": [\n",
            "    \"RobertaForMaskedLM\"\n",
            "  ],\n",
            "  \"attention_probs_dropout_prob\": 0.1,\n",
            "  \"bos_token_id\": 0,\n",
            "  \"classifier_dropout\": null,\n",
            "  \"eos_token_id\": 2,\n",
            "  \"hidden_act\": \"gelu\",\n",
            "  \"hidden_dropout_prob\": 0.1,\n",
            "  \"hidden_size\": 768,\n",
            "  \"initializer_range\": 0.02,\n",
            "  \"intermediate_size\": 3072,\n",
            "  \"layer_norm_eps\": 1e-12,\n",
            "  \"max_position_embeddings\": 514,\n",
            "  \"model_type\": \"roberta\",\n",
            "  \"num_attention_heads\": 12,\n",
            "  \"num_hidden_layers\": 6,\n",
            "  \"pad_token_id\": 1,\n",
            "  \"position_embedding_type\": \"absolute\",\n",
            "  \"torch_dtype\": \"float32\",\n",
            "  \"transformers_version\": \"4.17.0.dev0\",\n",
            "  \"type_vocab_size\": 1,\n",
            "  \"use_cache\": true,\n",
            "  \"vocab_size\": 261\n",
            "}\n",
            "\n"
          ]
        }
      ],
      "source": [
        "from transformers import pipeline\n",
        "\n",
        "fill_mask = pipeline(\n",
        "    \"fill-mask\",\n",
        "    #model=\"./EsperBERTo\",\n",
        "    #tokenizer=\"./EsperBERTo\"\n",
        "    model=\"/content/drive/MyDrive/Colab Netbooks/\",\n",
        "    tokenizer=\"/content/drive/MyDrive/Colab Netbooks/\",\n",
        ")"
      ]
    },
    {
      "cell_type": "code",
      "execution_count": 100,
      "metadata": {
        "colab": {
          "base_uri": "https://localhost:8080/"
        },
        "id": "UIvgZ3S6AO0z",
        "outputId": "e5f4700d-fae4-4324-a717-18030005f66a"
      },
      "outputs": [
        {
          "output_type": "execute_result",
          "data": {
            "text/plain": [
              "[{'score': 0.14354261755943298,\n",
              "  'sequence': 'Der Himmele blau.',\n",
              "  'token': 73,\n",
              "  'token_str': 'e'},\n",
              " {'score': 0.12452682107686996,\n",
              "  'sequence': 'Der Himmel  blau.',\n",
              "  'token': 225,\n",
              "  'token_str': ' '},\n",
              " {'score': 0.0801374614238739,\n",
              "  'sequence': 'Der Himmelt blau.',\n",
              "  'token': 88,\n",
              "  'token_str': 't'},\n",
              " {'score': 0.07554151117801666,\n",
              "  'sequence': 'Der Himmels blau.',\n",
              "  'token': 87,\n",
              "  'token_str': 's'},\n",
              " {'score': 0.062194038182497025,\n",
              "  'sequence': 'Der Himmeln blau.',\n",
              "  'token': 82,\n",
              "  'token_str': 'n'}]"
            ]
          },
          "metadata": {},
          "execution_count": 100
        }
      ],
      "source": [
        "# The sun <mask>.\n",
        "# =>\n",
        "\n",
        "fill_mask(\"Der Himmel <mask> blau.\")"
      ]
    },
    {
      "cell_type": "code",
      "execution_count": 101,
      "metadata": {
        "colab": {
          "base_uri": "https://localhost:8080/"
        },
        "id": "YZ9HSQxAAbme",
        "outputId": "8b1c0dfe-984e-44f2-820f-11585ba14da7"
      },
      "outputs": [
        {
          "output_type": "execute_result",
          "data": {
            "text/plain": [
              "[{'score': 0.17558805644512177,\n",
              "  'sequence': 'Das Auto fährte die Brücke.',\n",
              "  'token': 73,\n",
              "  'token_str': 'e'},\n",
              " {'score': 0.07003363221883774,\n",
              "  'sequence': 'Das Auto fährti die Brücke.',\n",
              "  'token': 77,\n",
              "  'token_str': 'i'},\n",
              " {'score': 0.06368739902973175,\n",
              "  'sequence': 'Das Auto fährtn die Brücke.',\n",
              "  'token': 82,\n",
              "  'token_str': 'n'},\n",
              " {'score': 0.055653251707553864,\n",
              "  'sequence': 'Das Auto fährtd die Brücke.',\n",
              "  'token': 72,\n",
              "  'token_str': 'd'},\n",
              " {'score': 0.05531834810972214,\n",
              "  'sequence': 'Das Auto fährth die Brücke.',\n",
              "  'token': 76,\n",
              "  'token_str': 'h'}]"
            ]
          },
          "metadata": {},
          "execution_count": 101
        }
      ],
      "source": [
        "fill_mask(\"Das Auto fährt <mask> die Brücke .\")\n",
        "\n",
        "# This is the beginning of a beautiful <mask>.\n",
        "# =>"
      ]
    }
  ],
  "metadata": {
    "accelerator": "GPU",
    "colab": {
      "collapsed_sections": [],
      "machine_shape": "hm",
      "name": "course3_sprint8_hackathon(part 1).ipynb",
      "provenance": []
    },
    "kernelspec": {
      "display_name": "Python 3",
      "language": "python",
      "name": "python3"
    },
    "language_info": {
      "codemirror_mode": {
        "name": "ipython",
        "version": 3
      },
      "file_extension": ".py",
      "mimetype": "text/x-python",
      "name": "python",
      "nbconvert_exporter": "python",
      "pygments_lexer": "ipython3",
      "version": "3.8.8"
    },
    "toc": {
      "base_numbering": 1,
      "nav_menu": {},
      "number_sections": true,
      "sideBar": true,
      "skip_h1_title": true,
      "title_cell": "Table of Contents",
      "title_sidebar": "Contents",
      "toc_cell": true,
      "toc_position": {},
      "toc_section_display": true,
      "toc_window_display": false
    },
    "varInspector": {
      "cols": {
        "lenName": 16,
        "lenType": 16,
        "lenVar": 40
      },
      "kernels_config": {
        "python": {
          "delete_cmd_postfix": "",
          "delete_cmd_prefix": "del ",
          "library": "var_list.py",
          "varRefreshCmd": "print(var_dic_list())"
        },
        "r": {
          "delete_cmd_postfix": ") ",
          "delete_cmd_prefix": "rm(",
          "library": "var_list.r",
          "varRefreshCmd": "cat(var_dic_list()) "
        }
      },
      "types_to_exclude": [
        "module",
        "function",
        "builtin_function_or_method",
        "instance",
        "_Feature"
      ],
      "window_display": false
    }
  },
  "nbformat": 4,
  "nbformat_minor": 0
}