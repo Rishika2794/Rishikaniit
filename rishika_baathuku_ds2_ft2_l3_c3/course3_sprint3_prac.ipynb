{
 "cells": [
  {
   "cell_type": "markdown",
   "id": "6d360db7",
   "metadata": {},
   "source": [
    "# Task 1"
   ]
  },
  {
   "cell_type": "markdown",
   "id": "57576081",
   "metadata": {},
   "source": [
    "## Load movie reviews corpus data through sklearn"
   ]
  },
  {
   "cell_type": "code",
   "execution_count": 1,
   "id": "28f7b7fa",
   "metadata": {},
   "outputs": [
    {
     "name": "stdout",
     "output_type": "stream",
     "text": [
      "number of instances 2000\n",
      "target names ['neg', 'pos']\n",
      "first instance\n",
      " b\"arnold schwarzenegger has been an icon for action enthusiasts , since the late 80's , but lately his films have been very sloppy and the one-liners are getting worse . \\nit's hard seeing arnold as mr . freeze in batman and robin , especially when he says tons of ice jokes , but hey he got 15 million , what's it matter to him ? \\nonce again arnold has signed to do another expensive blockbuster , that can't compare with the likes of the terminator series , true lies and even eraser . \\nin this so cal\"\n",
      "filename of first instance = C:\\Users\\anant\\Downloads\\movie_reviews\\movie_reviews\\neg\\cv405_21868.txt\n",
      "class of first instance = 0\n"
     ]
    }
   ],
   "source": [
    "import sklearn\n",
    "from sklearn.datasets import load_files\n",
    " \n",
    "moviedir = r'C:\\Users\\anant\\Downloads\\movie_reviews\\movie_reviews'\n",
    "movie_data = load_files(moviedir, shuffle=True)\n",
    "print('number of instances',len(movie_data.data))\n",
    "print('target names',movie_data.target_names)\n",
    "print('first instance\\n',movie_data.data[0][:500])\n",
    "# first file is in \"neg\" folder\n",
    "print('filename of first instance =',movie_data.filenames[0])\n",
    "print('class of first instance =',movie_data.target[0])"
   ]
  },
  {
   "cell_type": "markdown",
   "id": "e1aa28b3",
   "metadata": {},
   "source": [
    "## Transform movie reviews using TFIDF vectorization"
   ]
  },
  {
   "cell_type": "code",
   "execution_count": 2,
   "id": "fdae3396",
   "metadata": {},
   "outputs": [
    {
     "name": "stderr",
     "output_type": "stream",
     "text": [
      "[nltk_data] Downloading package stopwords to\n",
      "[nltk_data]     C:\\Users\\anant\\AppData\\Roaming\\nltk_data...\n",
      "[nltk_data]   Package stopwords is already up-to-date!\n"
     ]
    },
    {
     "name": "stdout",
     "output_type": "stream",
     "text": [
      "X_train n_samples: 1600, n_features: 35948\n",
      "X_test n_samples: 400, n_features: 35948\n"
     ]
    }
   ],
   "source": [
    "import nltk\n",
    "from sklearn.feature_extraction.text import CountVectorizer\n",
    "from sklearn.feature_extraction.text import TfidfVectorizer\n",
    "from sklearn.model_selection import train_test_split\n",
    "\n",
    "# Split data into training and test sets\n",
    "reviews_train, reviews_test, y_train, y_test = train_test_split(\n",
    "    movie_data.data, movie_data.target, test_size = 0.20, random_state = 12)\n",
    "\n",
    "# Vectorize training data using TfidfVectorizer\n",
    "# Remark: TfidfVectorizer = CountVectorizer+TfidfTransformer\n",
    "\n",
    "nltk.download('stopwords')\n",
    "from nltk.corpus import stopwords\n",
    "vectorizer = TfidfVectorizer(\n",
    "        sublinear_tf=True, \n",
    "        max_df=0.5, \n",
    "        min_df=1,  \n",
    "        stop_words=stopwords.words('english'),\n",
    "        use_idf=True, \n",
    "        smooth_idf=True)\n",
    "X_train = vectorizer.fit_transform(reviews_train)\n",
    "print(\"X_train n_samples: %d, n_features: %d\" % X_train.shape)\n",
    "\n",
    "# Vectorize test data using the same vectorizer\n",
    "\n",
    "X_test = vectorizer.transform(reviews_test)\n",
    "print(\"X_test n_samples: %d, n_features: %d\" % X_test.shape)"
   ]
  },
  {
   "cell_type": "markdown",
   "id": "601c6ba7",
   "metadata": {},
   "source": [
    "# Task 2"
   ]
  },
  {
   "cell_type": "markdown",
   "id": "8e299f05",
   "metadata": {},
   "source": [
    "## Apply Logistic Regression"
   ]
  },
  {
   "cell_type": "code",
   "execution_count": 3,
   "id": "eeaa083b",
   "metadata": {},
   "outputs": [],
   "source": [
    "from sklearn.linear_model import LogisticRegression\n",
    "\n",
    "clf = LogisticRegression(penalty='l2',C=1.0)"
   ]
  },
  {
   "cell_type": "code",
   "execution_count": 4,
   "id": "8d4dce9a",
   "metadata": {},
   "outputs": [],
   "source": [
    "clf_model = clf.fit(X_train,y_train)"
   ]
  },
  {
   "cell_type": "code",
   "execution_count": 5,
   "id": "ec0b085d",
   "metadata": {},
   "outputs": [
    {
     "name": "stdout",
     "output_type": "stream",
     "text": [
      "y_pred[:15] = [0 0 1 0 1 0 1 0 0 1 1 0 1 0 1]\n",
      "accuracy = 0.8675  precision = 0.84  recall = 0.89  f1 = 0.87\n",
      "confusion matrix (rows are true counts)\n",
      " ['neg', 'pos'] \n",
      " [[174  32]\n",
      " [ 21 173]]\n"
     ]
    }
   ],
   "source": [
    "y_pred = clf.predict(X_test)\n",
    "print('y_pred[:15] =',y_pred[:15])\n",
    "acc = sklearn.metrics.accuracy_score(y_test, y_pred)\n",
    "# precision = ability of classifier not to label as positive a sample that is negative\n",
    "prec = round(sklearn.metrics.precision_score(y_test, y_pred),2)\n",
    "# recall = ability of classifier to find all the positive samples\n",
    "rec = round(sklearn.metrics.recall_score(y_test, y_pred),2)\n",
    "f1 = round(sklearn.metrics.f1_score(y_test, y_pred),2)\n",
    "print('accuracy =',acc, ' precision =', prec, ' recall =', rec, ' f1 =',f1)\n",
    "\n",
    "# Making the Confusion Matrix\n",
    "from sklearn.metrics import confusion_matrix\n",
    "cm = confusion_matrix(y_test, y_pred)\n",
    "print('confusion matrix (rows are true counts)\\n',movie_data.target_names,'\\n',cm)"
   ]
  },
  {
   "cell_type": "markdown",
   "id": "5d2b15c2",
   "metadata": {},
   "source": [
    "# Task 3"
   ]
  },
  {
   "cell_type": "markdown",
   "id": "5b345e83",
   "metadata": {},
   "source": [
    "## Evaluation of model and plottinf of train and test time"
   ]
  },
  {
   "cell_type": "code",
   "execution_count": 6,
   "id": "59ab1278",
   "metadata": {},
   "outputs": [],
   "source": [
    "import time\n",
    "import numpy as np\n",
    "import matplotlib.pyplot as plt\n",
    "from sklearn.utils.extmath import density\n",
    "from sklearn import metrics\n",
    "from sklearn.linear_model import LogisticRegression"
   ]
  },
  {
   "cell_type": "code",
   "execution_count": 7,
   "id": "8c26bf9d",
   "metadata": {},
   "outputs": [],
   "source": [
    "categories =['neg','pos']"
   ]
  },
  {
   "cell_type": "code",
   "execution_count": 8,
   "id": "48e88c08",
   "metadata": {},
   "outputs": [],
   "source": [
    "def benchmark(clf):\n",
    "    print('_' * 80)\n",
    "    print('Training:')\n",
    "    print(clf)\n",
    "    t0 = time.time()\n",
    "    clf.fit(X_train,y_train)\n",
    "    train_time = time.time() - t0\n",
    "    print('train time: %0.3fs' % train_time)\n",
    "    \n",
    "    t0 = time.time()\n",
    "    pred = clf.predict(X_test)\n",
    "    test_time = time.time() - t0\n",
    "    print('test time: %0.3fs' % test_time)\n",
    "    \n",
    "    score = metrics.f1_score(y_test,pred,average='micro')\n",
    "    print('micro f1-score:  %0.3fs' % score)\n",
    "    \n",
    "    if hasattr(clf,'coef_'):\n",
    "        print('dimensionality: %d' % clf.coef_.shape[1])\n",
    "        print('density: %f' % density(clf.coef_))\n",
    "        \n",
    "    print('Classification report:')\n",
    "    print(metrics.classification_report(y_test,pred,target_names=categories))\n",
    "    \n",
    "    print('confusion matrix: row: true category; column: predicted category')\n",
    "    print(metrics.confusion_matrix(y_test,pred))\n",
    "    \n",
    "    print()\n",
    "    clf_descr = str(clf)\n",
    "    return clf_descr, score, train_time, test_time"
   ]
  },
  {
   "cell_type": "code",
   "execution_count": 9,
   "id": "348ce88d",
   "metadata": {},
   "outputs": [
    {
     "name": "stdout",
     "output_type": "stream",
     "text": [
      "================================================================================\n",
      "Logistic Regression with L2 Regularization\n",
      "________________________________________________________________________________\n",
      "Training:\n",
      "LogisticRegression()\n",
      "train time: 0.111s\n",
      "test time: 0.000s\n",
      "micro f1-score:  0.868s\n",
      "dimensionality: 35948\n",
      "density: 1.000000\n",
      "Classification report:\n",
      "              precision    recall  f1-score   support\n",
      "\n",
      "         neg       0.89      0.84      0.87       206\n",
      "         pos       0.84      0.89      0.87       194\n",
      "\n",
      "    accuracy                           0.87       400\n",
      "   macro avg       0.87      0.87      0.87       400\n",
      "weighted avg       0.87      0.87      0.87       400\n",
      "\n",
      "confusion matrix: row: true category; column: predicted category\n",
      "[[174  32]\n",
      " [ 21 173]]\n",
      "\n"
     ]
    }
   ],
   "source": [
    "results = []\n",
    "print('=' * 80)\n",
    "print('Logistic Regression with L2 Regularization')\n",
    "log_reg_clf = clf\n",
    "results.append(benchmark(log_reg_clf))"
   ]
  },
  {
   "cell_type": "code",
   "execution_count": 10,
   "id": "02c22abb",
   "metadata": {},
   "outputs": [
    {
     "name": "stdout",
     "output_type": "stream",
     "text": [
      "F1-scores\n",
      "LogisticRegression():0.8675\n",
      "[1.]\n",
      "[0.]\n"
     ]
    },
    {
     "data": {
      "image/png": "[encoded data removed]",
      "text/plain": [
       "<Figure size 864x576 with 1 Axes>"
      ]
     },
     "metadata": {
      "needs_background": "light"
     },
     "output_type": "display_data"
    }
   ],
   "source": [
    "indices = np.arange(len(results))\n",
    "results_list = [[x[i] for x in results] for i in range(4)]\n",
    "clf_names, f1_val, train_time, test_time = results_list\n",
    "\n",
    "#print f1 scores\n",
    "print('F1-scores')\n",
    "for i, clf_name in enumerate(clf_names):\n",
    "    print(clf_name + ':'+ str(f1_val[0]))\n",
    "    \n",
    "#plot results \n",
    "train_time_n = np.array(train_time)/np.max(train_time)\n",
    "print(train_time_n)\n",
    "print(np.array(test_time))\n",
    "#test_time_n = np.array(test_time)/np.max(test_time)\n",
    "test_time_n = np.array(test_time)\n",
    "\n",
    "plt.figure(figsize=(12,8))\n",
    "plt.title('Score')\n",
    "plt.barh(indices, f1_val, .2, label='F1', color='red')\n",
    "plt.barh(indices + .3, train_time_n, .2, label='training time', color='green')\n",
    "plt.barh(indices + .6, test_time_n, .2, label='test time', color='blue')\n",
    "plt.yticks(())\n",
    "plt.axvline(x=max(f1_val),color='r',linestyle=':')\n",
    "plt.legend(loc='lower center')\n",
    "plt.subplots_adjust(left=.25)\n",
    "plt.subplots_adjust(top=.95)\n",
    "plt.subplots_adjust(bottom=.05)\n",
    "\n",
    "for i, c in zip(indices, clf_names):\n",
    "    plt.text(-.3,0,c)\n",
    "    \n",
    "plt.show()"
   ]
  },
  {
   "cell_type": "code",
   "execution_count": 11,
   "id": "d27d4fd7",
   "metadata": {},
   "outputs": [
    {
     "name": "stdout",
     "output_type": "stream",
     "text": [
      "Training time for the investigated estimators\n",
      "0.11119794845581055 LogisticRegression()\n"
     ]
    },
    {
     "data": {
      "image/png": "[encoded data removed]",
      "text/plain": [
       "<Figure size 1008x576 with 1 Axes>"
      ]
     },
     "metadata": {
      "needs_background": "light"
     },
     "output_type": "display_data"
    }
   ],
   "source": [
    "print('Training time for the investigated estimators')\n",
    "for i in range(len(clf_names)):\n",
    "    print(train_time[0], clf_names[i])\n",
    "    \n",
    "#plot train and test times\n",
    "plt.figure(figsize=(14,8))\n",
    "plt.title('Training and Test time')\n",
    "plt.barh(indices + .3, train_time_n, .2, label='training time', color='green')\n",
    "plt.barh(indices + .6, test_time_n, .2, label='test time', color='blue')\n",
    "plt.yticks(())\n",
    "plt.legend(loc='lower center')\n",
    "plt.subplots_adjust(left=.25)\n",
    "plt.subplots_adjust(top=.85)\n",
    "plt.subplots_adjust(bottom=.05)\n",
    "\n",
    "for i, c in zip(indices, clf_names):\n",
    "    plt.text(-1.4,0,c)\n",
    "    \n",
    "plt.show()"
   ]
  },
  {
   "cell_type": "code",
   "execution_count": null,
   "id": "d40416c9",
   "metadata": {},
   "outputs": [],
   "source": []
  }
 ],
 "metadata": {
  "kernelspec": {
   "display_name": "Python 3",
   "language": "python",
   "name": "python3"
  },
  "language_info": {
   "codemirror_mode": {
    "name": "ipython",
    "version": 3
   },
   "file_extension": ".py",
   "mimetype": "text/x-python",
   "name": "python",
   "nbconvert_exporter": "python",
   "pygments_lexer": "ipython3",
   "version": "3.8.8"
  }
 },
 "nbformat": 4,
 "nbformat_minor": 5
}
