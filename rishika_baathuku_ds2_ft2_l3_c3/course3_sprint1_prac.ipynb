{
  "nbformat": 4,
  "nbformat_minor": 0,
  "metadata": {
    "colab": {
      "name": "course3_sprint1_prac.ipynb",
      "provenance": [],
      "collapsed_sections": []
    },
    "kernelspec": {
      "name": "python3",
      "display_name": "Python 3"
    },
    "language_info": {
      "name": "python"
    },
    "accelerator": "GPU"
  },
  "cells": [
    {
      "cell_type": "code",
      "execution_count": 1,
      "metadata": {
        "colab": {
          "base_uri": "https://localhost:8080/"
        },
        "id": "Lq_zUUGdRLWU",
        "outputId": "fbec5feb-2282-4f87-a910-7755ecdfa140"
      },
      "outputs": [
        {
          "output_type": "stream",
          "name": "stdout",
          "text": [
            "Collecting easyocr\n",
            "  Downloading easyocr-1.4.1-py3-none-any.whl (63.6 MB)\n",
            "\u001b[K     |████████████████████████████████| 63.6 MB 47 kB/s \n",
            "\u001b[?25hRequirement already satisfied: numpy in /usr/local/lib/python3.7/dist-packages (from easyocr) (1.19.5)\n",
            "Requirement already satisfied: PyYAML in /usr/local/lib/python3.7/dist-packages (from easyocr) (3.13)\n",
            "Collecting opencv-python-headless\n",
            "  Downloading opencv_python_headless-4.5.5.62-cp36-abi3-manylinux_2_17_x86_64.manylinux2014_x86_64.whl (47.7 MB)\n",
            "\u001b[K     |████████████████████████████████| 47.7 MB 1.5 MB/s \n",
            "\u001b[?25hRequirement already satisfied: Pillow<8.3.0 in /usr/local/lib/python3.7/dist-packages (from easyocr) (7.1.2)\n",
            "Requirement already satisfied: scikit-image in /usr/local/lib/python3.7/dist-packages (from easyocr) (0.18.3)\n",
            "Collecting python-bidi\n",
            "  Downloading python_bidi-0.4.2-py2.py3-none-any.whl (30 kB)\n",
            "Requirement already satisfied: scipy in /usr/local/lib/python3.7/dist-packages (from easyocr) (1.4.1)\n",
            "Requirement already satisfied: torch in /usr/local/lib/python3.7/dist-packages (from easyocr) (1.10.0+cu111)\n",
            "Requirement already satisfied: torchvision>=0.5 in /usr/local/lib/python3.7/dist-packages (from easyocr) (0.11.1+cu111)\n",
            "Requirement already satisfied: typing-extensions in /usr/local/lib/python3.7/dist-packages (from torch->easyocr) (3.10.0.2)\n",
            "Requirement already satisfied: six in /usr/local/lib/python3.7/dist-packages (from python-bidi->easyocr) (1.15.0)\n",
            "Requirement already satisfied: networkx>=2.0 in /usr/local/lib/python3.7/dist-packages (from scikit-image->easyocr) (2.6.3)\n",
            "Requirement already satisfied: PyWavelets>=1.1.1 in /usr/local/lib/python3.7/dist-packages (from scikit-image->easyocr) (1.2.0)\n",
            "Requirement already satisfied: imageio>=2.3.0 in /usr/local/lib/python3.7/dist-packages (from scikit-image->easyocr) (2.4.1)\n",
            "Requirement already satisfied: matplotlib!=3.0.0,>=2.0.0 in /usr/local/lib/python3.7/dist-packages (from scikit-image->easyocr) (3.2.2)\n",
            "Requirement already satisfied: tifffile>=2019.7.26 in /usr/local/lib/python3.7/dist-packages (from scikit-image->easyocr) (2021.11.2)\n",
            "Requirement already satisfied: cycler>=0.10 in /usr/local/lib/python3.7/dist-packages (from matplotlib!=3.0.0,>=2.0.0->scikit-image->easyocr) (0.11.0)\n",
            "Requirement already satisfied: pyparsing!=2.0.4,!=2.1.2,!=2.1.6,>=2.0.1 in /usr/local/lib/python3.7/dist-packages (from matplotlib!=3.0.0,>=2.0.0->scikit-image->easyocr) (3.0.7)\n",
            "Requirement already satisfied: python-dateutil>=2.1 in /usr/local/lib/python3.7/dist-packages (from matplotlib!=3.0.0,>=2.0.0->scikit-image->easyocr) (2.8.2)\n",
            "Requirement already satisfied: kiwisolver>=1.0.1 in /usr/local/lib/python3.7/dist-packages (from matplotlib!=3.0.0,>=2.0.0->scikit-image->easyocr) (1.3.2)\n",
            "Installing collected packages: python-bidi, opencv-python-headless, easyocr\n",
            "Successfully installed easyocr-1.4.1 opencv-python-headless-4.5.5.62 python-bidi-0.4.2\n",
            "Requirement already satisfied: bs4 in /usr/local/lib/python3.7/dist-packages (0.0.1)\n",
            "Requirement already satisfied: beautifulsoup4 in /usr/local/lib/python3.7/dist-packages (from bs4) (4.6.3)\n",
            "Collecting Pattern\n",
            "  Downloading Pattern-3.6.0.tar.gz (22.2 MB)\n",
            "\u001b[K     |████████████████████████████████| 22.2 MB 2.1 MB/s \n",
            "\u001b[?25hRequirement already satisfied: future in /usr/local/lib/python3.7/dist-packages (from Pattern) (0.16.0)\n",
            "Collecting backports.csv\n",
            "  Downloading backports.csv-1.0.7-py2.py3-none-any.whl (12 kB)\n",
            "Collecting mysqlclient\n",
            "  Downloading mysqlclient-2.1.0.tar.gz (87 kB)\n",
            "\u001b[K     |████████████████████████████████| 87 kB 6.7 MB/s \n",
            "\u001b[?25hRequirement already satisfied: beautifulsoup4 in /usr/local/lib/python3.7/dist-packages (from Pattern) (4.6.3)\n",
            "Requirement already satisfied: lxml in /usr/local/lib/python3.7/dist-packages (from Pattern) (4.2.6)\n",
            "Collecting feedparser\n",
            "  Downloading feedparser-6.0.8-py3-none-any.whl (81 kB)\n",
            "\u001b[K     |████████████████████████████████| 81 kB 8.9 MB/s \n",
            "\u001b[?25hCollecting pdfminer.six\n",
            "  Downloading pdfminer.six-20211012-py3-none-any.whl (5.6 MB)\n",
            "\u001b[K     |████████████████████████████████| 5.6 MB 34.7 MB/s \n",
            "\u001b[?25hRequirement already satisfied: numpy in /usr/local/lib/python3.7/dist-packages (from Pattern) (1.19.5)\n",
            "Requirement already satisfied: scipy in /usr/local/lib/python3.7/dist-packages (from Pattern) (1.4.1)\n",
            "Requirement already satisfied: nltk in /usr/local/lib/python3.7/dist-packages (from Pattern) (3.2.5)\n",
            "Collecting python-docx\n",
            "  Downloading python-docx-0.8.11.tar.gz (5.6 MB)\n",
            "\u001b[K     |████████████████████████████████| 5.6 MB 31.4 MB/s \n",
            "\u001b[?25hCollecting cherrypy\n",
            "  Downloading CherryPy-18.6.1-py2.py3-none-any.whl (419 kB)\n",
            "\u001b[K     |████████████████████████████████| 419 kB 33.6 MB/s \n",
            "\u001b[?25hRequirement already satisfied: requests in /usr/local/lib/python3.7/dist-packages (from Pattern) (2.23.0)\n",
            "Collecting zc.lockfile\n",
            "  Downloading zc.lockfile-2.0-py2.py3-none-any.whl (9.7 kB)\n",
            "Requirement already satisfied: more-itertools in /usr/local/lib/python3.7/dist-packages (from cherrypy->Pattern) (8.12.0)\n",
            "Collecting jaraco.collections\n",
            "  Downloading jaraco.collections-3.5.1-py3-none-any.whl (10 kB)\n",
            "Collecting cheroot>=8.2.1\n",
            "  Downloading cheroot-8.6.0-py2.py3-none-any.whl (104 kB)\n",
            "\u001b[K     |████████████████████████████████| 104 kB 45.4 MB/s \n",
            "\u001b[?25hCollecting portend>=2.1.1\n",
            "  Downloading portend-3.1.0-py3-none-any.whl (5.3 kB)\n",
            "Collecting jaraco.functools\n",
            "  Downloading jaraco.functools-3.5.0-py3-none-any.whl (7.0 kB)\n",
            "Requirement already satisfied: six>=1.11.0 in /usr/local/lib/python3.7/dist-packages (from cheroot>=8.2.1->cherrypy->Pattern) (1.15.0)\n",
            "Collecting tempora>=1.8\n",
            "  Downloading tempora-5.0.1-py3-none-any.whl (15 kB)\n",
            "Requirement already satisfied: pytz in /usr/local/lib/python3.7/dist-packages (from tempora>=1.8->portend>=2.1.1->cherrypy->Pattern) (2018.9)\n",
            "Collecting sgmllib3k\n",
            "  Downloading sgmllib3k-1.0.0.tar.gz (5.8 kB)\n",
            "Collecting jaraco.classes\n",
            "  Downloading jaraco.classes-3.2.1-py3-none-any.whl (5.6 kB)\n",
            "Collecting jaraco.text\n",
            "  Downloading jaraco.text-3.7.0-py3-none-any.whl (8.6 kB)\n",
            "Collecting jaraco.context>=4.1\n",
            "  Downloading jaraco.context-4.1.1-py3-none-any.whl (4.4 kB)\n",
            "Requirement already satisfied: importlib-resources in /usr/local/lib/python3.7/dist-packages (from jaraco.text->jaraco.collections->cherrypy->Pattern) (5.4.0)\n",
            "Requirement already satisfied: zipp>=3.1.0 in /usr/local/lib/python3.7/dist-packages (from importlib-resources->jaraco.text->jaraco.collections->cherrypy->Pattern) (3.7.0)\n",
            "Collecting cryptography\n",
            "  Downloading cryptography-36.0.1-cp36-abi3-manylinux_2_24_x86_64.whl (3.6 MB)\n",
            "\u001b[K     |████████████████████████████████| 3.6 MB 35.2 MB/s \n",
            "\u001b[?25hRequirement already satisfied: chardet in /usr/local/lib/python3.7/dist-packages (from pdfminer.six->Pattern) (3.0.4)\n",
            "Requirement already satisfied: cffi>=1.12 in /usr/local/lib/python3.7/dist-packages (from cryptography->pdfminer.six->Pattern) (1.15.0)\n",
            "Requirement already satisfied: pycparser in /usr/local/lib/python3.7/dist-packages (from cffi>=1.12->cryptography->pdfminer.six->Pattern) (2.21)\n",
            "Requirement already satisfied: certifi>=2017.4.17 in /usr/local/lib/python3.7/dist-packages (from requests->Pattern) (2021.10.8)\n",
            "Requirement already satisfied: idna<3,>=2.5 in /usr/local/lib/python3.7/dist-packages (from requests->Pattern) (2.10)\n",
            "Requirement already satisfied: urllib3!=1.25.0,!=1.25.1,<1.26,>=1.21.1 in /usr/local/lib/python3.7/dist-packages (from requests->Pattern) (1.24.3)\n",
            "Requirement already satisfied: setuptools in /usr/local/lib/python3.7/dist-packages (from zc.lockfile->cherrypy->Pattern) (57.4.0)\n",
            "Building wheels for collected packages: Pattern, mysqlclient, python-docx, sgmllib3k\n",
            "  Building wheel for Pattern (setup.py) ... \u001b[?25l\u001b[?25hdone\n",
            "  Created wheel for Pattern: filename=Pattern-3.6-py3-none-any.whl size=22332721 sha256=3db76701a94576ff988b9c438a3422dc52957517021ed1b04102447a6b3aab49\n",
            "  Stored in directory: /root/.cache/pip/wheels/8d/1f/4e/9b67afd2430d55dee90bd57618dd7d899f1323e5852c465682\n",
            "  Building wheel for mysqlclient (setup.py) ... \u001b[?25l\u001b[?25hdone\n",
            "  Created wheel for mysqlclient: filename=mysqlclient-2.1.0-cp37-cp37m-linux_x86_64.whl size=99972 sha256=8641602eead656b8cae0e620d890576038cc70803e4c2c2892d004d0a49a05d0\n",
            "  Stored in directory: /root/.cache/pip/wheels/97/d4/df/08cd6e1fa4a8691b268ab254bd0fa589827ab5b65638c010b4\n",
            "  Building wheel for python-docx (setup.py) ... \u001b[?25l\u001b[?25hdone\n",
            "  Created wheel for python-docx: filename=python_docx-0.8.11-py3-none-any.whl size=184507 sha256=22608ec9e3f6a1a077f17ac79a3a33dd7630747d34bc39b174d208693c78414a\n",
            "  Stored in directory: /root/.cache/pip/wheels/f6/6f/b9/d798122a8b55b74ad30b5f52b01482169b445fbb84a11797a6\n",
            "  Building wheel for sgmllib3k (setup.py) ... \u001b[?25l\u001b[?25hdone\n",
            "  Created wheel for sgmllib3k: filename=sgmllib3k-1.0.0-py3-none-any.whl size=6066 sha256=61c7d689ad6dc28c6a911656a3d88615810361651df345b2c0dcc953dbb4d8cc\n",
            "  Stored in directory: /root/.cache/pip/wheels/73/ad/a4/0dff4a6ef231fc0dfa12ffbac2a36cebfdddfe059f50e019aa\n",
            "Successfully built Pattern mysqlclient python-docx sgmllib3k\n",
            "Installing collected packages: jaraco.functools, jaraco.context, tempora, jaraco.text, jaraco.classes, zc.lockfile, sgmllib3k, portend, jaraco.collections, cryptography, cheroot, python-docx, pdfminer.six, mysqlclient, feedparser, cherrypy, backports.csv, Pattern\n",
            "Successfully installed Pattern-3.6 backports.csv-1.0.7 cheroot-8.6.0 cherrypy-18.6.1 cryptography-36.0.1 feedparser-6.0.8 jaraco.classes-3.2.1 jaraco.collections-3.5.1 jaraco.context-4.1.1 jaraco.functools-3.5.0 jaraco.text-3.7.0 mysqlclient-2.1.0 pdfminer.six-20211012 portend-3.1.0 python-docx-0.8.11 sgmllib3k-1.0.0 tempora-5.0.1 zc.lockfile-2.0\n",
            "Requirement already satisfied: torch in /usr/local/lib/python3.7/dist-packages (1.10.0+cu111)\n",
            "Requirement already satisfied: torchvision in /usr/local/lib/python3.7/dist-packages (0.11.1+cu111)\n",
            "Requirement already satisfied: torchaudio in /usr/local/lib/python3.7/dist-packages (0.10.0+cu111)\n",
            "Requirement already satisfied: typing-extensions in /usr/local/lib/python3.7/dist-packages (from torch) (3.10.0.2)\n",
            "Requirement already satisfied: pillow!=8.3.0,>=5.3.0 in /usr/local/lib/python3.7/dist-packages (from torchvision) (7.1.2)\n",
            "Requirement already satisfied: numpy in /usr/local/lib/python3.7/dist-packages (from torchvision) (1.19.5)\n",
            "Collecting opencv-python-headless<4.3\n",
            "  Downloading opencv_python_headless-4.2.0.34-cp37-cp37m-manylinux1_x86_64.whl (21.6 MB)\n",
            "\u001b[K     |████████████████████████████████| 21.6 MB 60.1 MB/s \n",
            "\u001b[?25hRequirement already satisfied: numpy>=1.14.5 in /usr/local/lib/python3.7/dist-packages (from opencv-python-headless<4.3) (1.19.5)\n",
            "Installing collected packages: opencv-python-headless\n",
            "  Attempting uninstall: opencv-python-headless\n",
            "    Found existing installation: opencv-python-headless 4.5.5.62\n",
            "    Uninstalling opencv-python-headless-4.5.5.62:\n",
            "      Successfully uninstalled opencv-python-headless-4.5.5.62\n",
            "Successfully installed opencv-python-headless-4.2.0.34\n"
          ]
        }
      ],
      "source": [
        "!pip install easyocr       \n",
        "!pip install bs4\n",
        "!pip install Pattern\n",
        "!pip3 install torch torchvision torchaudio\n",
        "!pip install \"opencv-python-headless<4.3\""
      ]
    },
    {
      "cell_type": "code",
      "source": [
        "import json\n",
        "\n",
        "import easyocr\n",
        "\n",
        "from pattern.web import Crawler, DEPTH\n",
        "from pattern.web import Wikipedia\n",
        "from pattern.web import Google, SEARCH, plaintext\n",
        "\n",
        "import requests\n",
        "from bs4 import BeautifulSoup , SoupStrainer\n",
        "import re"
      ],
      "metadata": {
        "id": "VFxS1OK6RafH"
      },
      "execution_count": 16,
      "outputs": []
    },
    {
      "cell_type": "markdown",
      "source": [
        "# Task 1"
      ],
      "metadata": {
        "id": "Q_wUjAhDSr0t"
      }
    },
    {
      "cell_type": "code",
      "source": [
        "reader = easyocr.Reader([\"en\"])"
      ],
      "metadata": {
        "colab": {
          "base_uri": "https://localhost:8080/"
        },
        "id": "Gkb0gZzLSnDr",
        "outputId": "e62adaac-a4c3-4863-c370-8504af7d5fb9"
      },
      "execution_count": 3,
      "outputs": [
        {
          "output_type": "stream",
          "name": "stderr",
          "text": [
            "Downloading detection model, please wait. This may take several minutes depending upon your network connection.\n"
          ]
        },
        {
          "output_type": "stream",
          "name": "stdout",
          "text": [
            ""
          ]
        },
        {
          "output_type": "stream",
          "name": "stderr",
          "text": [
            "Downloading recognition model, please wait. This may take several minutes depending upon your network connection.\n"
          ]
        },
        {
          "output_type": "stream",
          "name": "stdout",
          "text": [
            ""
          ]
        }
      ]
    },
    {
      "cell_type": "code",
      "source": [
        "result = reader.readtext(\"physics.png\")"
      ],
      "metadata": {
        "id": "_M7nzGBbTbNq"
      },
      "execution_count": 4,
      "outputs": []
    },
    {
      "cell_type": "code",
      "source": [
        "result"
      ],
      "metadata": {
        "colab": {
          "base_uri": "https://localhost:8080/"
        },
        "id": "TW1RlwXVTo4D",
        "outputId": "e1598872-486b-4d11-c4f2-c61146f34f43"
      },
      "execution_count": 5,
      "outputs": [
        {
          "output_type": "execute_result",
          "data": {
            "text/plain": [
              "[([[6, 4], [1694, 4], [1694, 35], [6, 35]],\n",
              "  'Physics is the natural science that studies matter,[al its fundamental constituents, its motion and behavior through space and time, and the related entities of energy and force [2]',\n",
              "  0.7029828707932679),\n",
              " ([[4, 34], [1246, 34], [1246, 64], [4, 64]],\n",
              "  'Physics is one of the most fundamental scientific disciplines, and its main goal is to understand how the universe behaves [b][3I[4][5]',\n",
              "  0.5677980052134863),\n",
              " ([[4, 74], [1710, 74], [1710, 102], [4, 102]],\n",
              "  'Physics is one of the oldest academic disciplines and, through its inclusion of astronomy, perhaps the oldest [6] Over much of the past two millennia, physics, chemistry, biology, and',\n",
              "  0.6872995065998662),\n",
              " ([[4, 104], [1654, 104], [1654, 133], [4, 133]],\n",
              "  'certain branches of mathematics were a part of natural philosophy, but during the Scientific Revolution in the 17th century these natural sciences emerged as unique research',\n",
              "  0.7817703856363454),\n",
              " ([[4, 132], [1748, 132], [1748, 162], [4, 162]],\n",
              "  'endeavors in their own right Ic] Physics intersects with many interdisciplinary areas of research, such as biophysics and quantum chemistry, and the boundaries of physics are not rigidly',\n",
              "  0.7852267962352953),\n",
              " ([[4, 164], [1626, 164], [1626, 193], [4, 193]],\n",
              "  'defined. New ideas in physics often explain the fundamental mechanisms studied by other sciences[3] and suggest new avenues of research in academic disciplines such as',\n",
              "  0.6379463701162769),\n",
              " ([[6, 196], [284, 196], [284, 222], [6, 222]],\n",
              "  'mathematics and philosophy:',\n",
              "  0.9784660805650252),\n",
              " ([[4, 232], [610, 232], [610, 262], [4, 262]],\n",
              "  'Advances in physics often enable advances in new technologies_',\n",
              "  0.8928691912586518),\n",
              " ([[616, 230], [1730, 230], [1730, 263], [616, 263]],\n",
              "  'For example, advances in the understanding of electromagnetism, solid-state physics, and nuclear physics led directly',\n",
              "  0.7912896809557766),\n",
              " ([[4, 262], [1730, 262], [1730, 294], [4, 294]],\n",
              "  'to the development of new products that have dramatically transformed modern-day society, such as television, computers, domestic appliances, and nuclear weapons;[3] advances in',\n",
              "  0.6604933159883106),\n",
              " ([[4, 292], [1196, 292], [1196, 323], [4, 323]],\n",
              "  'thermodynamics led to the development of industrialization; and advances in mechanics inspired the development of calculus.',\n",
              "  0.7191742000793474)]"
            ]
          },
          "metadata": {},
          "execution_count": 5
        }
      ]
    },
    {
      "cell_type": "code",
      "source": [
        "result_plain = reader.readtext(\"physics.png\", detail=0)"
      ],
      "metadata": {
        "id": "ch2l_d-DTqyM"
      },
      "execution_count": 6,
      "outputs": []
    },
    {
      "cell_type": "code",
      "source": [
        "result_plain"
      ],
      "metadata": {
        "colab": {
          "base_uri": "https://localhost:8080/"
        },
        "id": "3yTA3b4KT4Ab",
        "outputId": "d9cffe1b-7ca3-44cc-9ad6-27933de87db7"
      },
      "execution_count": 7,
      "outputs": [
        {
          "output_type": "execute_result",
          "data": {
            "text/plain": [
              "['Physics is the natural science that studies matter,[al its fundamental constituents, its motion and behavior through space and time, and the related entities of energy and force [2]',\n",
              " 'Physics is one of the most fundamental scientific disciplines, and its main goal is to understand how the universe behaves [b][3I[4][5]',\n",
              " 'Physics is one of the oldest academic disciplines and, through its inclusion of astronomy, perhaps the oldest [6] Over much of the past two millennia, physics, chemistry, biology, and',\n",
              " 'certain branches of mathematics were a part of natural philosophy, but during the Scientific Revolution in the 17th century these natural sciences emerged as unique research',\n",
              " 'endeavors in their own right Ic] Physics intersects with many interdisciplinary areas of research, such as biophysics and quantum chemistry, and the boundaries of physics are not rigidly',\n",
              " 'defined. New ideas in physics often explain the fundamental mechanisms studied by other sciences[3] and suggest new avenues of research in academic disciplines such as',\n",
              " 'mathematics and philosophy:',\n",
              " 'Advances in physics often enable advances in new technologies_',\n",
              " 'For example, advances in the understanding of electromagnetism, solid-state physics, and nuclear physics led directly',\n",
              " 'to the development of new products that have dramatically transformed modern-day society, such as television, computers, domestic appliances, and nuclear weapons;[3] advances in',\n",
              " 'thermodynamics led to the development of industrialization; and advances in mechanics inspired the development of calculus.']"
            ]
          },
          "metadata": {},
          "execution_count": 7
        }
      ]
    },
    {
      "cell_type": "code",
      "source": [
        "\" \".join(result_plain)"
      ],
      "metadata": {
        "colab": {
          "base_uri": "https://localhost:8080/",
          "height": 227
        },
        "id": "9whNEvk4T6o8",
        "outputId": "89c7893b-8b2e-4492-9d49-da1074f86ed0"
      },
      "execution_count": 8,
      "outputs": [
        {
          "output_type": "execute_result",
          "data": {
            "application/vnd.google.colaboratory.intrinsic+json": {
              "type": "string"
            },
            "text/plain": [
              "'Physics is the natural science that studies matter,[al its fundamental constituents, its motion and behavior through space and time, and the related entities of energy and force [2] Physics is one of the most fundamental scientific disciplines, and its main goal is to understand how the universe behaves [b][3I[4][5] Physics is one of the oldest academic disciplines and, through its inclusion of astronomy, perhaps the oldest [6] Over much of the past two millennia, physics, chemistry, biology, and certain branches of mathematics were a part of natural philosophy, but during the Scientific Revolution in the 17th century these natural sciences emerged as unique research endeavors in their own right Ic] Physics intersects with many interdisciplinary areas of research, such as biophysics and quantum chemistry, and the boundaries of physics are not rigidly defined. New ideas in physics often explain the fundamental mechanisms studied by other sciences[3] and suggest new avenues of research in academic disciplines such as mathematics and philosophy: Advances in physics often enable advances in new technologies_ For example, advances in the understanding of electromagnetism, solid-state physics, and nuclear physics led directly to the development of new products that have dramatically transformed modern-day society, such as television, computers, domestic appliances, and nuclear weapons;[3] advances in thermodynamics led to the development of industrialization; and advances in mechanics inspired the development of calculus.'"
            ]
          },
          "metadata": {},
          "execution_count": 8
        }
      ]
    },
    {
      "cell_type": "markdown",
      "source": [
        "# Task 2"
      ],
      "metadata": {
        "id": "vqa8I5J3UEKT"
      }
    },
    {
      "cell_type": "code",
      "source": [
        "class Crawl(Crawler): \n",
        "    def visit(self, link, source=None):\n",
        "        st = \"VISITED: \" + str(link.url) + \" | FROM: \" + str(link.referrer)\n",
        "        print(st)\n",
        "    def fail(self, link):\n",
        "        print(\"failed:\", repr(link.url))\n",
        "        \n",
        "url0 = \"https://www.nature.com/\"\n",
        "p = Crawl(links=[url0], delay=0.2)\n",
        "num_visited = 0\n",
        "while (not p.done and num_visited < 10) :\n",
        "    p.crawl(\n",
        "        method=DEPTH, \n",
        "        cached=False, \n",
        "        throttle=1\n",
        "    )\n",
        "    num_visited += 1"
      ],
      "metadata": {
        "colab": {
          "base_uri": "https://localhost:8080/"
        },
        "id": "LNDgJg2-UABe",
        "outputId": "4c820331-f70a-4821-ac7e-fae101df101c"
      },
      "execution_count": 9,
      "outputs": [
        {
          "output_type": "stream",
          "name": "stdout",
          "text": [
            "VISITED: https://www.nature.com/ | FROM: \n",
            "VISITED: https://www.nature.com/#content | FROM: https://www.nature.com/\n",
            "VISITED: https://www.nature.com/siteindex | FROM: https://www.nature.com/\n",
            "VISITED: https://www.nature.com/#search-menu | FROM: https://www.nature.com/\n",
            "VISITED: https://www.nature.com/nams/svc/myaccount | FROM: https://www.nature.com/\n",
            "VISITED: https://www.nature.com/#explore | FROM: https://www.nature.com/\n",
            "VISITED: https://www.nature.com/#about-the-journal | FROM: https://www.nature.com/\n",
            "VISITED: https://www.nature.com/#publish-with-us | FROM: https://www.nature.com/\n",
            "VISITED: https://www.nature.com/nature/subscribe | FROM: https://www.nature.com/\n",
            "VISITED: https://www.nature.com/my-account/alerts/subscribe-journal?list-id=1 | FROM: https://www.nature.com/\n"
          ]
        }
      ]
    },
    {
      "cell_type": "code",
      "source": [
        "p.visited"
      ],
      "metadata": {
        "colab": {
          "base_uri": "https://localhost:8080/"
        },
        "id": "-uUjqd40UYZb",
        "outputId": "b71a8b98-c404-4920-9f37-a748ae4a4c05"
      },
      "execution_count": 10,
      "outputs": [
        {
          "output_type": "execute_result",
          "data": {
            "text/plain": [
              "{'https://www.nature.com/': True,\n",
              " 'https://www.nature.com/#about-the-journal': True,\n",
              " 'https://www.nature.com/#content': True,\n",
              " 'https://www.nature.com/#explore': True,\n",
              " 'https://www.nature.com/#publish-with-us': True,\n",
              " 'https://www.nature.com/#search-menu': True,\n",
              " 'https://www.nature.com/my-account/alerts/subscribe-journal?list-id=1': True,\n",
              " 'https://www.nature.com/nams/svc/myaccount': True,\n",
              " 'https://www.nature.com/nature/subscribe': True,\n",
              " 'https://www.nature.com/siteindex': True}"
            ]
          },
          "metadata": {},
          "execution_count": 10
        }
      ]
    },
    {
      "cell_type": "markdown",
      "source": [
        "# Task 3"
      ],
      "metadata": {
        "id": "GFaFPuNQUrhK"
      }
    },
    {
      "cell_type": "code",
      "source": [
        "site = \"https://www.nature.com/\"\n",
        "\n",
        "response = requests.get(site)\n",
        "\n",
        "soup = BeautifulSoup(response.text, \"html.parser\")\n",
        "img_tags = soup.find_all(\"img\")\n",
        "\n",
        "img_urls = [\"https:\" + img[\"src\"] for img in img_tags]"
      ],
      "metadata": {
        "id": "xAiP3l_GUnrA"
      },
      "execution_count": 11,
      "outputs": []
    },
    {
      "cell_type": "code",
      "source": [
        "img_urls"
      ],
      "metadata": {
        "colab": {
          "base_uri": "https://localhost:8080/"
        },
        "id": "vcda9oIHWtMr",
        "outputId": "481fa411-0ee0-4886-c358-7c14ff031f6a"
      },
      "execution_count": 12,
      "outputs": [
        {
          "output_type": "execute_result",
          "data": {
            "text/plain": [
              "['https://pubads.g.doubleclick.net/gampad/ad?iu=/285/nature.com/homepage&sz=728x90&pos=top;type=homepage;path=/nature',\n",
              " 'https://media.springernature.com/full/nature-cms/uploads/product/nature/header-86f1267ea01eccd46b530284be10585e.svg',\n",
              " 'https://media.springernature.com/w735h400/nature-cms/uploads/cms/pages/2913/top_item_image/2022-02-10_NEWS_Proxima-centauri-planet_THUMB-26d3637113413a6a186a93289d5e986c.jpg',\n",
              " 'https://media.springernature.com/w290h158/magazine-assets/d41586-022-00376-0/d41586-022-00376-0_20112588.jpg',\n",
              " 'https://media.springernature.com/w290h158/magazine-assets/d41586-022-00391-1/d41586-022-00391-1_20117134.jpg',\n",
              " 'https://media.springernature.com/w290h158/springer-static/image/art%3A10.1038%2Fs41586-021-04357-7/MediaObjects/41586_2021_4357_Fig1_HTML.png',\n",
              " 'https://media.springernature.com/w290h158/magazine-assets/d41586-022-00396-w/d41586-022-00396-w_17300602.png',\n",
              " 'https://media.springernature.com/w440/springer-static/cover-hires/journal/41586/602/7896',\n",
              " 'https://pubads.g.doubleclick.net/gampad/ad?iu=/285/nature.com/homepage&sz=970x250&c=1899353685&t=pos%3Dbillboard%26artid%3D/nature',\n",
              " 'https://media.springernature.com/w485h264/magazine-assets/d41586-022-00385-z/d41586-022-00385-z_20120412.jpg',\n",
              " 'https://media.springernature.com/w290h158/magazine-assets/d41586-022-00395-x/d41586-022-00395-x_20117964.jpg',\n",
              " 'https://media.springernature.com/w290h158/magazine-assets/d41586-022-00401-2/d41586-022-00401-2_20106632.jpg',\n",
              " 'https://media.springernature.com/w290h158/magazine-assets/d41586-022-00400-3/d41586-022-00400-3_20120708.jpg',\n",
              " 'https://media.springernature.com/w290h158/magazine-assets/d41586-022-00403-0/d41586-022-00403-0_20120440.jpg',\n",
              " 'https://media.springernature.com/w290h158/magazine-assets/d41586-022-00376-0/d41586-022-00376-0_20112588.jpg',\n",
              " 'https://media.springernature.com/w290h158/magazine-assets/d41586-022-00392-0/d41586-022-00392-0_20091660.jpg',\n",
              " 'https://pubads.g.doubleclick.net/gampad/ad?iu=/285/nature.com/homepage&sz=2x2&c=504960960&t=pos%3Dnative%26artid%3D/nature',\n",
              " 'https://media.springernature.com/w485h264/magazine-assets/d41586-022-00301-5/d41586-022-00301-5_20106264.png',\n",
              " 'https://media.springernature.com/w290h158/magazine-assets/d41586-022-00304-2/d41586-022-00304-2_20106392.png',\n",
              " 'https://media.springernature.com/w290h158/magazine-assets/d41586-022-00305-1/d41586-022-00305-1_20106448.png',\n",
              " 'https://media.springernature.com/w290h158/magazine-assets/d41586-022-00306-0/d41586-022-00306-0_16029882.jpg',\n",
              " 'https://media.springernature.com/w290h158/magazine-assets/d41586-022-00189-1/d41586-022-00189-1_20082584.png',\n",
              " 'https://media.springernature.com/w290h158/springer-static/image/art%3A10.1038%2Fs41586-022-04404-x/MediaObjects/41586_2022_4404_Fig1_HTML.png',\n",
              " 'https://media.springernature.com/w290h158/springer-static/image/art%3A10.1038%2Fs41586-021-04361-x/MediaObjects/41586_2021_4361_Fig1_HTML.png',\n",
              " 'https://media.springernature.com/w290h158/springer-static/image/art%3A10.1038%2Fs41586-021-04260-1/MediaObjects/41586_2021_4260_Fig1_HTML.png',\n",
              " 'https://media.springernature.com/w290h158/springer-static/image/art%3A10.1038%2Fs41586-021-04300-w/MediaObjects/41586_2021_4300_Fig1_HTML.png',\n",
              " 'https://media.springernature.com/lw630/nature-cms/uploads/collections/Outlook_Ageing_Hero_image-d73d7a3947d4804f9b4b126c95f38d23.jpg',\n",
              " 'https://pubads.g.doubleclick.net/gampad/ad?iu=/285/nature.com/homepage&sz=300x250&c=-1857452465&t=pos%3Dright%26artid%3D/nature',\n",
              " 'https:https://badges.altmetric.com/?size=64&score=2163&types=mbrttttf',\n",
              " 'https:https://badges.altmetric.com/?size=64&score=2071&types=mbrttttf',\n",
              " 'https:https://badges.altmetric.com/?size=64&score=1871&types=mbrttttf',\n",
              " 'https:https://badges.altmetric.com/?size=64&score=911&types=mbrttttt',\n",
              " 'https:/static/images/logos/nature-careers-logo.svg',\n",
              " 'https://pubads.g.doubleclick.net/gampad/ad?iu=/285/nature.com/homepage&sz=300x250&c=46717549&t=pos%3Dright%26artid%3D/nature',\n",
              " 'https:/static/images/logos/nature-briefing-logo-n150-white.svg',\n",
              " 'https:/static/images/logos/nature-portfolio-white.svg',\n",
              " 'https:/static/images/logos/sn-logo-white.svg',\n",
              " 'https:https://verify.nature.com/verify/nature.png']"
            ]
          },
          "metadata": {},
          "execution_count": 12
        }
      ]
    },
    {
      "cell_type": "code",
      "source": [
        "for txt in soup.find_all(\"p\"):\n",
        "  print(txt.get_text())"
      ],
      "metadata": {
        "colab": {
          "base_uri": "https://localhost:8080/"
        },
        "id": "OjQNEElkXCbk",
        "outputId": "61982590-3f0f-4f75-dfc6-a46c52d9200f"
      },
      "execution_count": 26,
      "outputs": [
        {
          "output_type": "stream",
          "name": "stdout",
          "text": [
            "Thank you for visiting nature.com. You are using a browser version with limited support for CSS. To obtain\n",
            "            the best experience, we recommend you use a more up to date browser (or turn off compatibility mode in\n",
            "            Internet Explorer). In the meantime, to ensure continued support, we are displaying the site without styles\n",
            "            and JavaScript.\n",
            "Advertisement\n",
            "Shifts in starlight from Proxima Centauri reveal its third planet — a world orbiting within the star’s habitable zone.\r\n",
            "\n",
            "Researchers take stock of the US$1.8-billion initiative’s first five years as Biden announces ambitious target.\n",
            "The experimental Joint European Torus has doubled the record for the amount of energy made from fusing atoms — the process that powers the Sun. \n",
            "Using the game Gran Turismo, an agent was trained with a combination of deep reinforcement learning algorithms and specialized training scenarios, demonstrating success against championship-level human racers.\n",
            "Three people once paralysed by complete spinal-cord injuries can now walk, swim, pedal a bicycle and even paddle canoes. Plus, a nuclear-fusion reactor has smashed its energy record, and the benefits and challenges of recycling urine.\n",
            "A scourge that once infected millions of the world’s poorest people is close to being wiped out in humans — but infections in animals complicates the picture. \n",
            "Certain patterns of mutations occur frequently in cancer. The culprit behind one mutational signature is now shown to be a cellular enzyme with the mundane role of relieving stress in supercoiled DNA.\n",
            "Driving a racing car requires a tremendous amount of skill. Now, artificial intelligence has challenged the idea that this skill is exclusive to humans — and it might even change the way automated vehicles are designed.\n",
            "Measurements indicate that electrons move in loops between the atoms of an intriguing class of superconducting material. Such dynamics breaks key symmetries of the crystal lattice — suggesting the material hosts a rare state of matter.\n",
            "Nature’s pages feature the discovery of a key defence response, and a collection of items from an inventor highlights developments in photography.\n",
            "Crystal-lattice vibrations reveal the mechanism by which laser pulses can strip a metal of its magnetism. The vibrations absorb the angular momentum of electrons in a sample, allowing it to demagnetize.\n",
            "Nature is a Transformative Journal; authors can publish using the traditional publishing route OR via immediate gold Open Access.\n",
            "Our Open Access option complies with funder and institutional requirements.\n",
            "In response to visual stimuli, hippocampal neurons in a body-fixed rat can respond to and encode visual information without locomotion or task demand, similar to the visual cortex.\n",
            "Molecular dynamics simulations show that the light elements hydrogen, oxygen and carbon become highly diffusive like liquid in solid iron under the inner-core conditions, leading to a reduction in the seismic velocities.\n",
            "Analysing the structure of a PbTiO3 epitaxial layer sandwiched between SrRuO3 electrodes led to observation of a topology with two periodic modulations that form an incommensurate polar crystal, providing an analogue to incommensurate spin crystals.\n",
            "An X-ray source is detected at the expected position of the white dwarf star G29–38, which enables the calculation of the accretion rate of planetary material without using stellar atmosphere models.\n",
            "\n",
            "12 June 2022 –\n",
            "                                                16 June 2022\n",
            "\n",
            "Keystone Resort\n",
            "\n",
            "16 May 2022 –\n",
            "                                                19 May 2022\n",
            "\n",
            "Fiesta Americana Condesa Cancun\n",
            "\n",
            "09 February 2023 –\n",
            "                                                12 February 2023\n",
            "\n",
            "Fiesta Americana,\n",
            "\n",
            "05 June 2022 –\n",
            "                                                09 June 2022\n",
            "\n",
            "Keystone Resort\n",
            "\n",
            "22 May 2022 –\n",
            "                                                25 May 2022\n",
            "\n",
            "Embassy Suites by Hilton Denver Downtown\n",
            "University of Luxembourg\n",
            "Luxembourg, Luxembourg\n",
            "Howard Hughes Medical Institute (HHMI)\n",
            "Los Angeles, United States\n",
            "Baylor College of Medicine (BCM)\n",
            "Houston, United States\n",
            "St. Jude Children's Research Hospital (St. Jude)\n",
            "Memphis, United States\n",
            "St. Jude Children's Research Hospital (St. Jude)\n",
            "Memphis, United States\n",
            "Sign up for the Nature Briefing newsletter — what matters in science, free to your inbox daily.\n",
            "\n",
            "\n",
            "                    Advanced search\n",
            "                \n",
            "\n",
            "\n",
            "        Top headline image: Credit: ESO/L. Calçada\n",
            "    \n",
            "\n",
            "        Issue cover: Cover image: Sony Interactive Entertainment Inc.\n",
            "    \n",
            "\n",
            "\n",
            "                    Nature (Nature)\n",
            "                \n",
            "\n",
            "ISSN 1476-4687 (online)\n",
            "    \n",
            "\n",
            "ISSN 0028-0836 (print)\n",
            "    \n",
            "\n",
            "© 2022 Springer Nature Limited\n"
          ]
        }
      ]
    },
    {
      "cell_type": "code",
      "source": [
        "import requests, bs4\n",
        "r = requests.get('https://www.nature.com/')\n",
        "soup = bs4.BeautifulSoup(r.text, 'lxml')\n",
        "\n",
        "p_tags = soup.find_all('p')\n",
        "for p in p_tags:\n",
        "    if p.string:\n",
        "        print(p.string)"
      ],
      "metadata": {
        "colab": {
          "base_uri": "https://localhost:8080/"
        },
        "id": "4T39vdeCm9Y8",
        "outputId": "8f367301-e043-497c-ca07-0abf3cd35ca3"
      },
      "execution_count": 29,
      "outputs": [
        {
          "output_type": "stream",
          "name": "stdout",
          "text": [
            "Thank you for visiting nature.com. You are using a browser version with limited support for CSS. To obtain\n",
            "            the best experience, we recommend you use a more up to date browser (or turn off compatibility mode in\n",
            "            Internet Explorer). In the meantime, to ensure continued support, we are displaying the site without styles\n",
            "            and JavaScript.\n",
            "Advertisement\n",
            "Shifts in starlight from Proxima Centauri reveal its third planet — a world orbiting within the star’s habitable zone.\r\n",
            "\n",
            "Researchers take stock of the US$1.8-billion initiative’s first five years as Biden announces ambitious target.\n",
            "The experimental Joint European Torus has doubled the record for the amount of energy made from fusing atoms — the process that powers the Sun. \n",
            "Using the game Gran Turismo, an agent was trained with a combination of deep reinforcement learning algorithms and specialized training scenarios, demonstrating success against championship-level human racers.\n",
            "Three people once paralysed by complete spinal-cord injuries can now walk, swim, pedal a bicycle and even paddle canoes. Plus, a nuclear-fusion reactor has smashed its energy record, and the benefits and challenges of recycling urine.\n",
            "A scourge that once infected millions of the world’s poorest people is close to being wiped out in humans — but infections in animals complicates the picture. \n",
            "Certain patterns of mutations occur frequently in cancer. The culprit behind one mutational signature is now shown to be a cellular enzyme with the mundane role of relieving stress in supercoiled DNA.\n",
            "Driving a racing car requires a tremendous amount of skill. Now, artificial intelligence has challenged the idea that this skill is exclusive to humans — and it might even change the way automated vehicles are designed.\n",
            "Measurements indicate that electrons move in loops between the atoms of an intriguing class of superconducting material. Such dynamics breaks key symmetries of the crystal lattice — suggesting the material hosts a rare state of matter.\n",
            "Crystal-lattice vibrations reveal the mechanism by which laser pulses can strip a metal of its magnetism. The vibrations absorb the angular momentum of electrons in a sample, allowing it to demagnetize.\n",
            "In response to visual stimuli, hippocampal neurons in a body-fixed rat can respond to and encode visual information without locomotion or task demand, similar to the visual cortex.\n",
            "Molecular dynamics simulations show that the light elements hydrogen, oxygen and carbon become highly diffusive like liquid in solid iron under the inner-core conditions, leading to a reduction in the seismic velocities.\n",
            "An X-ray source is detected at the expected position of the white dwarf star G29–38, which enables the calculation of the accretion rate of planetary material without using stellar atmosphere models.\n",
            "Keystone Resort\n",
            "Fiesta Americana Condesa Cancun\n",
            "Fiesta Americana,\n",
            "Keystone Resort\n",
            "Embassy Suites by Hilton Denver Downtown\n",
            "University of Luxembourg\n",
            "Luxembourg, Luxembourg\n",
            "Howard Hughes Medical Institute (HHMI)\n",
            "Los Angeles, United States\n",
            "Baylor College of Medicine (BCM)\n",
            "Houston, United States\n",
            "St. Jude Children's Research Hospital (St. Jude)\n",
            "Memphis, United States\n",
            "St. Jude Children's Research Hospital (St. Jude)\n",
            "Memphis, United States\n",
            "\n",
            "        Top headline image: Credit: ESO/L. Calçada\n",
            "    \n",
            "\n",
            "        Issue cover: Cover image: Sony Interactive Entertainment Inc.\n",
            "    \n",
            "© 2022 Springer Nature Limited\n"
          ]
        }
      ]
    },
    {
      "cell_type": "code",
      "source": [
        "title = soup.title.text"
      ],
      "metadata": {
        "id": "I0ZDxnSMis3P"
      },
      "execution_count": 27,
      "outputs": []
    },
    {
      "cell_type": "code",
      "source": [
        "title"
      ],
      "metadata": {
        "colab": {
          "base_uri": "https://localhost:8080/",
          "height": 35
        },
        "id": "Suf1z-grjffl",
        "outputId": "f1554502-844a-498f-86c8-b9f6ab58ef04"
      },
      "execution_count": 28,
      "outputs": [
        {
          "output_type": "execute_result",
          "data": {
            "application/vnd.google.colaboratory.intrinsic+json": {
              "type": "string"
            },
            "text/plain": [
              "'Nature'"
            ]
          },
          "metadata": {},
          "execution_count": 28
        }
      ]
    },
    {
      "cell_type": "code",
      "source": [
        "links= [\n",
        "        link.get(\"href\")\n",
        "        for link in soup.find_all(\"a\",attrs={\"href\":re.compile(\"http://\")})  \n",
        "]"
      ],
      "metadata": {
        "id": "tyPcxVFog_7u"
      },
      "execution_count": 17,
      "outputs": []
    },
    {
      "cell_type": "code",
      "source": [
        "links"
      ],
      "metadata": {
        "colab": {
          "base_uri": "https://localhost:8080/"
        },
        "id": "1CPGGIXPifpI",
        "outputId": "22c382b1-7117-4452-d7fa-119a4479ed90"
      },
      "execution_count": 18,
      "outputs": [
        {
          "output_type": "execute_result",
          "data": {
            "text/plain": [
              "['http://feeds.nature.com/nature/rss/current',\n",
              " 'http://dx.doi.org/10.1038/d41586-022-00293-2',\n",
              " 'http://dx.doi.org/10.1038/d41586-022-00312-2',\n",
              " 'http://dx.doi.org/10.1038/d41586-022-00317-x',\n",
              " 'http://dx.doi.org/10.1038/s41586-021-04357-7',\n",
              " 'http://www.nature.com/natureevents/science',\n",
              " 'http://www.nature.com/naturejobs/science',\n",
              " 'http://feeds.nature.com/nature/rss/current',\n",
              " 'http://www.naturechina.com']"
            ]
          },
          "metadata": {},
          "execution_count": 18
        }
      ]
    }
  ]
}