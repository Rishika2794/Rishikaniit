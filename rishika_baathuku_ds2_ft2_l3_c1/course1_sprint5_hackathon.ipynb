{
 "cells": [
  {
   "cell_type": "code",
   "execution_count": 1,
   "id": "c7070d6f",
   "metadata": {},
   "outputs": [],
   "source": [
    "import pandas as pd \n",
    "import numpy as np \n",
    "import matplotlib.pyplot as plt \n",
    "from statsmodels.tsa.seasonal import seasonal_decompose \n",
    "from statsmodels.tsa.stattools import adfuller,acf,pacf \n",
    "from statsmodels.tsa.statespace.tools import diff\n",
    "from pmdarima.arima import auto_arima \n",
    "from statsmodels.tsa.arima.model import ARIMA \n",
    "from statsmodels.graphics.tsaplots import plot_acf,plot_pacf \n",
    "from sklearn.metrics import mean_squared_error \n",
    "import statsmodels.api as sm \n",
    "import warnings \n",
    "warnings.filterwarnings('ignore')\n",
    "import seaborn as sns"
   ]
  },
  {
   "cell_type": "markdown",
   "id": "aa120e2b",
   "metadata": {},
   "source": [
    "## Data Reading and Preprocessing"
   ]
  },
  {
   "cell_type": "code",
   "execution_count": 2,
   "id": "b35c38f6",
   "metadata": {
    "scrolled": true
   },
   "outputs": [
    {
     "name": "stdout",
     "output_type": "stream",
     "text": [
      "2121\n"
     ]
    },
    {
     "data": {
      "text/html": [
       "<div>\n",
       "<style scoped>\n",
       "    .dataframe tbody tr th:only-of-type {\n",
       "        vertical-align: middle;\n",
       "    }\n",
       "\n",
       "    .dataframe tbody tr th {\n",
       "        vertical-align: top;\n",
       "    }\n",
       "\n",
       "    .dataframe thead th {\n",
       "        text-align: right;\n",
       "    }\n",
       "</style>\n",
       "<table border=\"1\" class=\"dataframe\">\n",
       "  <thead>\n",
       "    <tr style=\"text-align: right;\">\n",
       "      <th></th>\n",
       "      <th>Row ID</th>\n",
       "      <th>Order ID</th>\n",
       "      <th>Order Date</th>\n",
       "      <th>Ship Date</th>\n",
       "      <th>Ship Mode</th>\n",
       "      <th>Segment</th>\n",
       "      <th>Country</th>\n",
       "      <th>City</th>\n",
       "      <th>State</th>\n",
       "      <th>Postal Code</th>\n",
       "      <th>Region</th>\n",
       "      <th>Category</th>\n",
       "      <th>Sales</th>\n",
       "      <th>Quantity</th>\n",
       "      <th>Discount</th>\n",
       "      <th>Profit</th>\n",
       "    </tr>\n",
       "  </thead>\n",
       "  <tbody>\n",
       "    <tr>\n",
       "      <th>0</th>\n",
       "      <td>1</td>\n",
       "      <td>CA-2016-152156</td>\n",
       "      <td>11-08-2016</td>\n",
       "      <td>11-11-2016</td>\n",
       "      <td>Second Class</td>\n",
       "      <td>Consumer</td>\n",
       "      <td>United States</td>\n",
       "      <td>Henderson</td>\n",
       "      <td>Kentucky</td>\n",
       "      <td>42420</td>\n",
       "      <td>South</td>\n",
       "      <td>Furniture</td>\n",
       "      <td>261.9600</td>\n",
       "      <td>2</td>\n",
       "      <td>0.00</td>\n",
       "      <td>41.9136</td>\n",
       "    </tr>\n",
       "    <tr>\n",
       "      <th>1</th>\n",
       "      <td>2</td>\n",
       "      <td>CA-2016-152156</td>\n",
       "      <td>11-08-2016</td>\n",
       "      <td>11-11-2016</td>\n",
       "      <td>Second Class</td>\n",
       "      <td>Consumer</td>\n",
       "      <td>United States</td>\n",
       "      <td>Henderson</td>\n",
       "      <td>Kentucky</td>\n",
       "      <td>42420</td>\n",
       "      <td>South</td>\n",
       "      <td>Furniture</td>\n",
       "      <td>731.9400</td>\n",
       "      <td>3</td>\n",
       "      <td>0.00</td>\n",
       "      <td>219.5820</td>\n",
       "    </tr>\n",
       "    <tr>\n",
       "      <th>2</th>\n",
       "      <td>4</td>\n",
       "      <td>US-2015-108966</td>\n",
       "      <td>10-11-2015</td>\n",
       "      <td>10/18/2015</td>\n",
       "      <td>Standard Class</td>\n",
       "      <td>Consumer</td>\n",
       "      <td>United States</td>\n",
       "      <td>Fort Lauderdale</td>\n",
       "      <td>Florida</td>\n",
       "      <td>33311</td>\n",
       "      <td>South</td>\n",
       "      <td>Furniture</td>\n",
       "      <td>957.5775</td>\n",
       "      <td>5</td>\n",
       "      <td>0.45</td>\n",
       "      <td>-383.0310</td>\n",
       "    </tr>\n",
       "    <tr>\n",
       "      <th>3</th>\n",
       "      <td>6</td>\n",
       "      <td>CA-2014-115812</td>\n",
       "      <td>06-09-2014</td>\n",
       "      <td>6/14/2014</td>\n",
       "      <td>Standard Class</td>\n",
       "      <td>Consumer</td>\n",
       "      <td>United States</td>\n",
       "      <td>Los Angeles</td>\n",
       "      <td>California</td>\n",
       "      <td>90032</td>\n",
       "      <td>West</td>\n",
       "      <td>Furniture</td>\n",
       "      <td>48.8600</td>\n",
       "      <td>7</td>\n",
       "      <td>0.00</td>\n",
       "      <td>14.1694</td>\n",
       "    </tr>\n",
       "    <tr>\n",
       "      <th>4</th>\n",
       "      <td>11</td>\n",
       "      <td>CA-2014-115812</td>\n",
       "      <td>06-09-2014</td>\n",
       "      <td>6/14/2014</td>\n",
       "      <td>Standard Class</td>\n",
       "      <td>Consumer</td>\n",
       "      <td>United States</td>\n",
       "      <td>Los Angeles</td>\n",
       "      <td>California</td>\n",
       "      <td>90032</td>\n",
       "      <td>West</td>\n",
       "      <td>Furniture</td>\n",
       "      <td>1706.1840</td>\n",
       "      <td>9</td>\n",
       "      <td>0.20</td>\n",
       "      <td>85.3092</td>\n",
       "    </tr>\n",
       "    <tr>\n",
       "      <th>...</th>\n",
       "      <td>...</td>\n",
       "      <td>...</td>\n",
       "      <td>...</td>\n",
       "      <td>...</td>\n",
       "      <td>...</td>\n",
       "      <td>...</td>\n",
       "      <td>...</td>\n",
       "      <td>...</td>\n",
       "      <td>...</td>\n",
       "      <td>...</td>\n",
       "      <td>...</td>\n",
       "      <td>...</td>\n",
       "      <td>...</td>\n",
       "      <td>...</td>\n",
       "      <td>...</td>\n",
       "      <td>...</td>\n",
       "    </tr>\n",
       "    <tr>\n",
       "      <th>2116</th>\n",
       "      <td>9963</td>\n",
       "      <td>CA-2015-168088</td>\n",
       "      <td>3/19/2015</td>\n",
       "      <td>3/22/2015</td>\n",
       "      <td>First Class</td>\n",
       "      <td>Home Office</td>\n",
       "      <td>United States</td>\n",
       "      <td>Houston</td>\n",
       "      <td>Texas</td>\n",
       "      <td>77041</td>\n",
       "      <td>Central</td>\n",
       "      <td>Furniture</td>\n",
       "      <td>383.4656</td>\n",
       "      <td>4</td>\n",
       "      <td>0.32</td>\n",
       "      <td>-67.6704</td>\n",
       "    </tr>\n",
       "    <tr>\n",
       "      <th>2117</th>\n",
       "      <td>9965</td>\n",
       "      <td>CA-2016-146374</td>\n",
       "      <td>12-05-2016</td>\n",
       "      <td>12-10-2016</td>\n",
       "      <td>Second Class</td>\n",
       "      <td>Corporate</td>\n",
       "      <td>United States</td>\n",
       "      <td>Newark</td>\n",
       "      <td>Delaware</td>\n",
       "      <td>19711</td>\n",
       "      <td>East</td>\n",
       "      <td>Furniture</td>\n",
       "      <td>13.4000</td>\n",
       "      <td>1</td>\n",
       "      <td>0.00</td>\n",
       "      <td>6.4320</td>\n",
       "    </tr>\n",
       "    <tr>\n",
       "      <th>2118</th>\n",
       "      <td>9981</td>\n",
       "      <td>US-2015-151435</td>\n",
       "      <td>09-06-2015</td>\n",
       "      <td>09-09-2015</td>\n",
       "      <td>Second Class</td>\n",
       "      <td>Consumer</td>\n",
       "      <td>United States</td>\n",
       "      <td>Lafayette</td>\n",
       "      <td>Louisiana</td>\n",
       "      <td>70506</td>\n",
       "      <td>South</td>\n",
       "      <td>Furniture</td>\n",
       "      <td>85.9800</td>\n",
       "      <td>1</td>\n",
       "      <td>0.00</td>\n",
       "      <td>22.3548</td>\n",
       "    </tr>\n",
       "    <tr>\n",
       "      <th>2119</th>\n",
       "      <td>9990</td>\n",
       "      <td>CA-2014-110422</td>\n",
       "      <td>1/21/2014</td>\n",
       "      <td>1/23/2014</td>\n",
       "      <td>Second Class</td>\n",
       "      <td>Consumer</td>\n",
       "      <td>United States</td>\n",
       "      <td>Miami</td>\n",
       "      <td>Florida</td>\n",
       "      <td>33180</td>\n",
       "      <td>South</td>\n",
       "      <td>Furniture</td>\n",
       "      <td>25.2480</td>\n",
       "      <td>3</td>\n",
       "      <td>0.20</td>\n",
       "      <td>4.1028</td>\n",
       "    </tr>\n",
       "    <tr>\n",
       "      <th>2120</th>\n",
       "      <td>9991</td>\n",
       "      <td>CA-2017-121258</td>\n",
       "      <td>2/26/2017</td>\n",
       "      <td>03-03-2017</td>\n",
       "      <td>Standard Class</td>\n",
       "      <td>Consumer</td>\n",
       "      <td>United States</td>\n",
       "      <td>Costa Mesa</td>\n",
       "      <td>California</td>\n",
       "      <td>92627</td>\n",
       "      <td>West</td>\n",
       "      <td>Furniture</td>\n",
       "      <td>91.9600</td>\n",
       "      <td>2</td>\n",
       "      <td>0.00</td>\n",
       "      <td>15.6332</td>\n",
       "    </tr>\n",
       "  </tbody>\n",
       "</table>\n",
       "<p>2121 rows × 16 columns</p>\n",
       "</div>"
      ],
      "text/plain": [
       "      Row ID        Order ID  Order Date   Ship Date       Ship Mode  \\\n",
       "0          1  CA-2016-152156  11-08-2016  11-11-2016    Second Class   \n",
       "1          2  CA-2016-152156  11-08-2016  11-11-2016    Second Class   \n",
       "2          4  US-2015-108966  10-11-2015  10/18/2015  Standard Class   \n",
       "3          6  CA-2014-115812  06-09-2014   6/14/2014  Standard Class   \n",
       "4         11  CA-2014-115812  06-09-2014   6/14/2014  Standard Class   \n",
       "...      ...             ...         ...         ...             ...   \n",
       "2116    9963  CA-2015-168088   3/19/2015   3/22/2015     First Class   \n",
       "2117    9965  CA-2016-146374  12-05-2016  12-10-2016    Second Class   \n",
       "2118    9981  US-2015-151435  09-06-2015  09-09-2015    Second Class   \n",
       "2119    9990  CA-2014-110422   1/21/2014   1/23/2014    Second Class   \n",
       "2120    9991  CA-2017-121258   2/26/2017  03-03-2017  Standard Class   \n",
       "\n",
       "          Segment        Country             City       State  Postal Code  \\\n",
       "0        Consumer  United States        Henderson    Kentucky        42420   \n",
       "1        Consumer  United States        Henderson    Kentucky        42420   \n",
       "2        Consumer  United States  Fort Lauderdale     Florida        33311   \n",
       "3        Consumer  United States      Los Angeles  California        90032   \n",
       "4        Consumer  United States      Los Angeles  California        90032   \n",
       "...           ...            ...              ...         ...          ...   \n",
       "2116  Home Office  United States          Houston       Texas        77041   \n",
       "2117    Corporate  United States           Newark    Delaware        19711   \n",
       "2118     Consumer  United States        Lafayette   Louisiana        70506   \n",
       "2119     Consumer  United States            Miami     Florida        33180   \n",
       "2120     Consumer  United States       Costa Mesa  California        92627   \n",
       "\n",
       "       Region   Category      Sales  Quantity  Discount    Profit  \n",
       "0       South  Furniture   261.9600         2      0.00   41.9136  \n",
       "1       South  Furniture   731.9400         3      0.00  219.5820  \n",
       "2       South  Furniture   957.5775         5      0.45 -383.0310  \n",
       "3        West  Furniture    48.8600         7      0.00   14.1694  \n",
       "4        West  Furniture  1706.1840         9      0.20   85.3092  \n",
       "...       ...        ...        ...       ...       ...       ...  \n",
       "2116  Central  Furniture   383.4656         4      0.32  -67.6704  \n",
       "2117     East  Furniture    13.4000         1      0.00    6.4320  \n",
       "2118    South  Furniture    85.9800         1      0.00   22.3548  \n",
       "2119    South  Furniture    25.2480         3      0.20    4.1028  \n",
       "2120     West  Furniture    91.9600         2      0.00   15.6332  \n",
       "\n",
       "[2121 rows x 16 columns]"
      ]
     },
     "execution_count": 2,
     "metadata": {},
     "output_type": "execute_result"
    }
   ],
   "source": [
    "df = pd.read_csv(r'C:\\Users\\anant\\Downloads\\DS3_C1_S5_SuperstoreSales_Data_Hackathon.csv',parse_dates=True)\n",
    "print(len(df))\n",
    "df"
   ]
  },
  {
   "cell_type": "code",
   "execution_count": 3,
   "id": "60141245",
   "metadata": {},
   "outputs": [],
   "source": [
    "df['Order Date'] = pd.to_datetime(df['Order Date'])"
   ]
  },
  {
   "cell_type": "code",
   "execution_count": 4,
   "id": "33f46b05",
   "metadata": {},
   "outputs": [
    {
     "data": {
      "text/html": [
       "<div>\n",
       "<style scoped>\n",
       "    .dataframe tbody tr th:only-of-type {\n",
       "        vertical-align: middle;\n",
       "    }\n",
       "\n",
       "    .dataframe tbody tr th {\n",
       "        vertical-align: top;\n",
       "    }\n",
       "\n",
       "    .dataframe thead th {\n",
       "        text-align: right;\n",
       "    }\n",
       "</style>\n",
       "<table border=\"1\" class=\"dataframe\">\n",
       "  <thead>\n",
       "    <tr style=\"text-align: right;\">\n",
       "      <th></th>\n",
       "      <th>Row ID</th>\n",
       "      <th>Order ID</th>\n",
       "      <th>Ship Date</th>\n",
       "      <th>Ship Mode</th>\n",
       "      <th>Segment</th>\n",
       "      <th>Country</th>\n",
       "      <th>City</th>\n",
       "      <th>State</th>\n",
       "      <th>Postal Code</th>\n",
       "      <th>Region</th>\n",
       "      <th>Category</th>\n",
       "      <th>Sales</th>\n",
       "      <th>Quantity</th>\n",
       "      <th>Discount</th>\n",
       "      <th>Profit</th>\n",
       "    </tr>\n",
       "    <tr>\n",
       "      <th>Order Date</th>\n",
       "      <th></th>\n",
       "      <th></th>\n",
       "      <th></th>\n",
       "      <th></th>\n",
       "      <th></th>\n",
       "      <th></th>\n",
       "      <th></th>\n",
       "      <th></th>\n",
       "      <th></th>\n",
       "      <th></th>\n",
       "      <th></th>\n",
       "      <th></th>\n",
       "      <th></th>\n",
       "      <th></th>\n",
       "      <th></th>\n",
       "    </tr>\n",
       "  </thead>\n",
       "  <tbody>\n",
       "    <tr>\n",
       "      <th>2016-11-08</th>\n",
       "      <td>1</td>\n",
       "      <td>CA-2016-152156</td>\n",
       "      <td>11-11-2016</td>\n",
       "      <td>Second Class</td>\n",
       "      <td>Consumer</td>\n",
       "      <td>United States</td>\n",
       "      <td>Henderson</td>\n",
       "      <td>Kentucky</td>\n",
       "      <td>42420</td>\n",
       "      <td>South</td>\n",
       "      <td>Furniture</td>\n",
       "      <td>261.9600</td>\n",
       "      <td>2</td>\n",
       "      <td>0.00</td>\n",
       "      <td>41.9136</td>\n",
       "    </tr>\n",
       "    <tr>\n",
       "      <th>2016-11-08</th>\n",
       "      <td>2</td>\n",
       "      <td>CA-2016-152156</td>\n",
       "      <td>11-11-2016</td>\n",
       "      <td>Second Class</td>\n",
       "      <td>Consumer</td>\n",
       "      <td>United States</td>\n",
       "      <td>Henderson</td>\n",
       "      <td>Kentucky</td>\n",
       "      <td>42420</td>\n",
       "      <td>South</td>\n",
       "      <td>Furniture</td>\n",
       "      <td>731.9400</td>\n",
       "      <td>3</td>\n",
       "      <td>0.00</td>\n",
       "      <td>219.5820</td>\n",
       "    </tr>\n",
       "    <tr>\n",
       "      <th>2015-10-11</th>\n",
       "      <td>4</td>\n",
       "      <td>US-2015-108966</td>\n",
       "      <td>10/18/2015</td>\n",
       "      <td>Standard Class</td>\n",
       "      <td>Consumer</td>\n",
       "      <td>United States</td>\n",
       "      <td>Fort Lauderdale</td>\n",
       "      <td>Florida</td>\n",
       "      <td>33311</td>\n",
       "      <td>South</td>\n",
       "      <td>Furniture</td>\n",
       "      <td>957.5775</td>\n",
       "      <td>5</td>\n",
       "      <td>0.45</td>\n",
       "      <td>-383.0310</td>\n",
       "    </tr>\n",
       "    <tr>\n",
       "      <th>2014-06-09</th>\n",
       "      <td>6</td>\n",
       "      <td>CA-2014-115812</td>\n",
       "      <td>6/14/2014</td>\n",
       "      <td>Standard Class</td>\n",
       "      <td>Consumer</td>\n",
       "      <td>United States</td>\n",
       "      <td>Los Angeles</td>\n",
       "      <td>California</td>\n",
       "      <td>90032</td>\n",
       "      <td>West</td>\n",
       "      <td>Furniture</td>\n",
       "      <td>48.8600</td>\n",
       "      <td>7</td>\n",
       "      <td>0.00</td>\n",
       "      <td>14.1694</td>\n",
       "    </tr>\n",
       "    <tr>\n",
       "      <th>2014-06-09</th>\n",
       "      <td>11</td>\n",
       "      <td>CA-2014-115812</td>\n",
       "      <td>6/14/2014</td>\n",
       "      <td>Standard Class</td>\n",
       "      <td>Consumer</td>\n",
       "      <td>United States</td>\n",
       "      <td>Los Angeles</td>\n",
       "      <td>California</td>\n",
       "      <td>90032</td>\n",
       "      <td>West</td>\n",
       "      <td>Furniture</td>\n",
       "      <td>1706.1840</td>\n",
       "      <td>9</td>\n",
       "      <td>0.20</td>\n",
       "      <td>85.3092</td>\n",
       "    </tr>\n",
       "  </tbody>\n",
       "</table>\n",
       "</div>"
      ],
      "text/plain": [
       "            Row ID        Order ID   Ship Date       Ship Mode   Segment  \\\n",
       "Order Date                                                                 \n",
       "2016-11-08       1  CA-2016-152156  11-11-2016    Second Class  Consumer   \n",
       "2016-11-08       2  CA-2016-152156  11-11-2016    Second Class  Consumer   \n",
       "2015-10-11       4  US-2015-108966  10/18/2015  Standard Class  Consumer   \n",
       "2014-06-09       6  CA-2014-115812   6/14/2014  Standard Class  Consumer   \n",
       "2014-06-09      11  CA-2014-115812   6/14/2014  Standard Class  Consumer   \n",
       "\n",
       "                  Country             City       State  Postal Code Region  \\\n",
       "Order Date                                                                   \n",
       "2016-11-08  United States        Henderson    Kentucky        42420  South   \n",
       "2016-11-08  United States        Henderson    Kentucky        42420  South   \n",
       "2015-10-11  United States  Fort Lauderdale     Florida        33311  South   \n",
       "2014-06-09  United States      Los Angeles  California        90032   West   \n",
       "2014-06-09  United States      Los Angeles  California        90032   West   \n",
       "\n",
       "             Category      Sales  Quantity  Discount    Profit  \n",
       "Order Date                                                      \n",
       "2016-11-08  Furniture   261.9600         2      0.00   41.9136  \n",
       "2016-11-08  Furniture   731.9400         3      0.00  219.5820  \n",
       "2015-10-11  Furniture   957.5775         5      0.45 -383.0310  \n",
       "2014-06-09  Furniture    48.8600         7      0.00   14.1694  \n",
       "2014-06-09  Furniture  1706.1840         9      0.20   85.3092  "
      ]
     },
     "execution_count": 4,
     "metadata": {},
     "output_type": "execute_result"
    }
   ],
   "source": [
    "df = df.set_index(\"Order Date\") \n",
    "df.head()"
   ]
  },
  {
   "cell_type": "code",
   "execution_count": 5,
   "id": "00568674",
   "metadata": {},
   "outputs": [
    {
     "data": {
      "text/plain": [
       "Row ID         0\n",
       "Order ID       0\n",
       "Ship Date      0\n",
       "Ship Mode      0\n",
       "Segment        0\n",
       "Country        0\n",
       "City           0\n",
       "State          0\n",
       "Postal Code    0\n",
       "Region         0\n",
       "Category       0\n",
       "Sales          0\n",
       "Quantity       0\n",
       "Discount       0\n",
       "Profit         0\n",
       "dtype: int64"
      ]
     },
     "execution_count": 5,
     "metadata": {},
     "output_type": "execute_result"
    }
   ],
   "source": [
    "df.isnull().sum()"
   ]
  },
  {
   "cell_type": "code",
   "execution_count": 6,
   "id": "228b9fcb",
   "metadata": {},
   "outputs": [
    {
     "data": {
      "text/html": [
       "<div>\n",
       "<style scoped>\n",
       "    .dataframe tbody tr th:only-of-type {\n",
       "        vertical-align: middle;\n",
       "    }\n",
       "\n",
       "    .dataframe tbody tr th {\n",
       "        vertical-align: top;\n",
       "    }\n",
       "\n",
       "    .dataframe thead th {\n",
       "        text-align: right;\n",
       "    }\n",
       "</style>\n",
       "<table border=\"1\" class=\"dataframe\">\n",
       "  <thead>\n",
       "    <tr style=\"text-align: right;\">\n",
       "      <th></th>\n",
       "      <th>Order ID</th>\n",
       "      <th>Ship Date</th>\n",
       "      <th>Ship Mode</th>\n",
       "      <th>Segment</th>\n",
       "      <th>Country</th>\n",
       "      <th>City</th>\n",
       "      <th>State</th>\n",
       "      <th>Region</th>\n",
       "      <th>Category</th>\n",
       "      <th>Sales</th>\n",
       "      <th>Quantity</th>\n",
       "      <th>Discount</th>\n",
       "      <th>Profit</th>\n",
       "    </tr>\n",
       "    <tr>\n",
       "      <th>Order Date</th>\n",
       "      <th></th>\n",
       "      <th></th>\n",
       "      <th></th>\n",
       "      <th></th>\n",
       "      <th></th>\n",
       "      <th></th>\n",
       "      <th></th>\n",
       "      <th></th>\n",
       "      <th></th>\n",
       "      <th></th>\n",
       "      <th></th>\n",
       "      <th></th>\n",
       "      <th></th>\n",
       "    </tr>\n",
       "  </thead>\n",
       "  <tbody>\n",
       "    <tr>\n",
       "      <th>2016-11-08</th>\n",
       "      <td>CA-2016-152156</td>\n",
       "      <td>11-11-2016</td>\n",
       "      <td>Second Class</td>\n",
       "      <td>Consumer</td>\n",
       "      <td>United States</td>\n",
       "      <td>Henderson</td>\n",
       "      <td>Kentucky</td>\n",
       "      <td>South</td>\n",
       "      <td>Furniture</td>\n",
       "      <td>261.9600</td>\n",
       "      <td>2</td>\n",
       "      <td>0.00</td>\n",
       "      <td>41.9136</td>\n",
       "    </tr>\n",
       "    <tr>\n",
       "      <th>2016-11-08</th>\n",
       "      <td>CA-2016-152156</td>\n",
       "      <td>11-11-2016</td>\n",
       "      <td>Second Class</td>\n",
       "      <td>Consumer</td>\n",
       "      <td>United States</td>\n",
       "      <td>Henderson</td>\n",
       "      <td>Kentucky</td>\n",
       "      <td>South</td>\n",
       "      <td>Furniture</td>\n",
       "      <td>731.9400</td>\n",
       "      <td>3</td>\n",
       "      <td>0.00</td>\n",
       "      <td>219.5820</td>\n",
       "    </tr>\n",
       "    <tr>\n",
       "      <th>2015-10-11</th>\n",
       "      <td>US-2015-108966</td>\n",
       "      <td>10/18/2015</td>\n",
       "      <td>Standard Class</td>\n",
       "      <td>Consumer</td>\n",
       "      <td>United States</td>\n",
       "      <td>Fort Lauderdale</td>\n",
       "      <td>Florida</td>\n",
       "      <td>South</td>\n",
       "      <td>Furniture</td>\n",
       "      <td>957.5775</td>\n",
       "      <td>5</td>\n",
       "      <td>0.45</td>\n",
       "      <td>-383.0310</td>\n",
       "    </tr>\n",
       "    <tr>\n",
       "      <th>2014-06-09</th>\n",
       "      <td>CA-2014-115812</td>\n",
       "      <td>6/14/2014</td>\n",
       "      <td>Standard Class</td>\n",
       "      <td>Consumer</td>\n",
       "      <td>United States</td>\n",
       "      <td>Los Angeles</td>\n",
       "      <td>California</td>\n",
       "      <td>West</td>\n",
       "      <td>Furniture</td>\n",
       "      <td>48.8600</td>\n",
       "      <td>7</td>\n",
       "      <td>0.00</td>\n",
       "      <td>14.1694</td>\n",
       "    </tr>\n",
       "    <tr>\n",
       "      <th>2014-06-09</th>\n",
       "      <td>CA-2014-115812</td>\n",
       "      <td>6/14/2014</td>\n",
       "      <td>Standard Class</td>\n",
       "      <td>Consumer</td>\n",
       "      <td>United States</td>\n",
       "      <td>Los Angeles</td>\n",
       "      <td>California</td>\n",
       "      <td>West</td>\n",
       "      <td>Furniture</td>\n",
       "      <td>1706.1840</td>\n",
       "      <td>9</td>\n",
       "      <td>0.20</td>\n",
       "      <td>85.3092</td>\n",
       "    </tr>\n",
       "    <tr>\n",
       "      <th>...</th>\n",
       "      <td>...</td>\n",
       "      <td>...</td>\n",
       "      <td>...</td>\n",
       "      <td>...</td>\n",
       "      <td>...</td>\n",
       "      <td>...</td>\n",
       "      <td>...</td>\n",
       "      <td>...</td>\n",
       "      <td>...</td>\n",
       "      <td>...</td>\n",
       "      <td>...</td>\n",
       "      <td>...</td>\n",
       "      <td>...</td>\n",
       "    </tr>\n",
       "    <tr>\n",
       "      <th>2015-03-19</th>\n",
       "      <td>CA-2015-168088</td>\n",
       "      <td>3/22/2015</td>\n",
       "      <td>First Class</td>\n",
       "      <td>Home Office</td>\n",
       "      <td>United States</td>\n",
       "      <td>Houston</td>\n",
       "      <td>Texas</td>\n",
       "      <td>Central</td>\n",
       "      <td>Furniture</td>\n",
       "      <td>383.4656</td>\n",
       "      <td>4</td>\n",
       "      <td>0.32</td>\n",
       "      <td>-67.6704</td>\n",
       "    </tr>\n",
       "    <tr>\n",
       "      <th>2016-12-05</th>\n",
       "      <td>CA-2016-146374</td>\n",
       "      <td>12-10-2016</td>\n",
       "      <td>Second Class</td>\n",
       "      <td>Corporate</td>\n",
       "      <td>United States</td>\n",
       "      <td>Newark</td>\n",
       "      <td>Delaware</td>\n",
       "      <td>East</td>\n",
       "      <td>Furniture</td>\n",
       "      <td>13.4000</td>\n",
       "      <td>1</td>\n",
       "      <td>0.00</td>\n",
       "      <td>6.4320</td>\n",
       "    </tr>\n",
       "    <tr>\n",
       "      <th>2015-09-06</th>\n",
       "      <td>US-2015-151435</td>\n",
       "      <td>09-09-2015</td>\n",
       "      <td>Second Class</td>\n",
       "      <td>Consumer</td>\n",
       "      <td>United States</td>\n",
       "      <td>Lafayette</td>\n",
       "      <td>Louisiana</td>\n",
       "      <td>South</td>\n",
       "      <td>Furniture</td>\n",
       "      <td>85.9800</td>\n",
       "      <td>1</td>\n",
       "      <td>0.00</td>\n",
       "      <td>22.3548</td>\n",
       "    </tr>\n",
       "    <tr>\n",
       "      <th>2014-01-21</th>\n",
       "      <td>CA-2014-110422</td>\n",
       "      <td>1/23/2014</td>\n",
       "      <td>Second Class</td>\n",
       "      <td>Consumer</td>\n",
       "      <td>United States</td>\n",
       "      <td>Miami</td>\n",
       "      <td>Florida</td>\n",
       "      <td>South</td>\n",
       "      <td>Furniture</td>\n",
       "      <td>25.2480</td>\n",
       "      <td>3</td>\n",
       "      <td>0.20</td>\n",
       "      <td>4.1028</td>\n",
       "    </tr>\n",
       "    <tr>\n",
       "      <th>2017-02-26</th>\n",
       "      <td>CA-2017-121258</td>\n",
       "      <td>03-03-2017</td>\n",
       "      <td>Standard Class</td>\n",
       "      <td>Consumer</td>\n",
       "      <td>United States</td>\n",
       "      <td>Costa Mesa</td>\n",
       "      <td>California</td>\n",
       "      <td>West</td>\n",
       "      <td>Furniture</td>\n",
       "      <td>91.9600</td>\n",
       "      <td>2</td>\n",
       "      <td>0.00</td>\n",
       "      <td>15.6332</td>\n",
       "    </tr>\n",
       "  </tbody>\n",
       "</table>\n",
       "<p>2121 rows × 13 columns</p>\n",
       "</div>"
      ],
      "text/plain": [
       "                  Order ID   Ship Date       Ship Mode      Segment  \\\n",
       "Order Date                                                            \n",
       "2016-11-08  CA-2016-152156  11-11-2016    Second Class     Consumer   \n",
       "2016-11-08  CA-2016-152156  11-11-2016    Second Class     Consumer   \n",
       "2015-10-11  US-2015-108966  10/18/2015  Standard Class     Consumer   \n",
       "2014-06-09  CA-2014-115812   6/14/2014  Standard Class     Consumer   \n",
       "2014-06-09  CA-2014-115812   6/14/2014  Standard Class     Consumer   \n",
       "...                    ...         ...             ...          ...   \n",
       "2015-03-19  CA-2015-168088   3/22/2015     First Class  Home Office   \n",
       "2016-12-05  CA-2016-146374  12-10-2016    Second Class    Corporate   \n",
       "2015-09-06  US-2015-151435  09-09-2015    Second Class     Consumer   \n",
       "2014-01-21  CA-2014-110422   1/23/2014    Second Class     Consumer   \n",
       "2017-02-26  CA-2017-121258  03-03-2017  Standard Class     Consumer   \n",
       "\n",
       "                  Country             City       State   Region   Category  \\\n",
       "Order Date                                                                   \n",
       "2016-11-08  United States        Henderson    Kentucky    South  Furniture   \n",
       "2016-11-08  United States        Henderson    Kentucky    South  Furniture   \n",
       "2015-10-11  United States  Fort Lauderdale     Florida    South  Furniture   \n",
       "2014-06-09  United States      Los Angeles  California     West  Furniture   \n",
       "2014-06-09  United States      Los Angeles  California     West  Furniture   \n",
       "...                   ...              ...         ...      ...        ...   \n",
       "2015-03-19  United States          Houston       Texas  Central  Furniture   \n",
       "2016-12-05  United States           Newark    Delaware     East  Furniture   \n",
       "2015-09-06  United States        Lafayette   Louisiana    South  Furniture   \n",
       "2014-01-21  United States            Miami     Florida    South  Furniture   \n",
       "2017-02-26  United States       Costa Mesa  California     West  Furniture   \n",
       "\n",
       "                Sales  Quantity  Discount    Profit  \n",
       "Order Date                                           \n",
       "2016-11-08   261.9600         2      0.00   41.9136  \n",
       "2016-11-08   731.9400         3      0.00  219.5820  \n",
       "2015-10-11   957.5775         5      0.45 -383.0310  \n",
       "2014-06-09    48.8600         7      0.00   14.1694  \n",
       "2014-06-09  1706.1840         9      0.20   85.3092  \n",
       "...               ...       ...       ...       ...  \n",
       "2015-03-19   383.4656         4      0.32  -67.6704  \n",
       "2016-12-05    13.4000         1      0.00    6.4320  \n",
       "2015-09-06    85.9800         1      0.00   22.3548  \n",
       "2014-01-21    25.2480         3      0.20    4.1028  \n",
       "2017-02-26    91.9600         2      0.00   15.6332  \n",
       "\n",
       "[2121 rows x 13 columns]"
      ]
     },
     "execution_count": 6,
     "metadata": {},
     "output_type": "execute_result"
    }
   ],
   "source": [
    "df=df.drop(['Row ID','Postal Code'],axis=1)\n",
    "df"
   ]
  },
  {
   "cell_type": "code",
   "execution_count": 7,
   "id": "8269206b",
   "metadata": {},
   "outputs": [
    {
     "data": {
      "text/html": [
       "<div>\n",
       "<style scoped>\n",
       "    .dataframe tbody tr th:only-of-type {\n",
       "        vertical-align: middle;\n",
       "    }\n",
       "\n",
       "    .dataframe tbody tr th {\n",
       "        vertical-align: top;\n",
       "    }\n",
       "\n",
       "    .dataframe thead th {\n",
       "        text-align: right;\n",
       "    }\n",
       "</style>\n",
       "<table border=\"1\" class=\"dataframe\">\n",
       "  <thead>\n",
       "    <tr style=\"text-align: right;\">\n",
       "      <th></th>\n",
       "      <th>Order ID</th>\n",
       "      <th>Ship Date</th>\n",
       "      <th>Ship Mode</th>\n",
       "      <th>Segment</th>\n",
       "      <th>Country</th>\n",
       "      <th>City</th>\n",
       "      <th>State</th>\n",
       "      <th>Region</th>\n",
       "      <th>Category</th>\n",
       "      <th>Sales</th>\n",
       "      <th>Quantity</th>\n",
       "      <th>Discount</th>\n",
       "      <th>Profit</th>\n",
       "    </tr>\n",
       "    <tr>\n",
       "      <th>Order Date</th>\n",
       "      <th></th>\n",
       "      <th></th>\n",
       "      <th></th>\n",
       "      <th></th>\n",
       "      <th></th>\n",
       "      <th></th>\n",
       "      <th></th>\n",
       "      <th></th>\n",
       "      <th></th>\n",
       "      <th></th>\n",
       "      <th></th>\n",
       "      <th></th>\n",
       "      <th></th>\n",
       "    </tr>\n",
       "  </thead>\n",
       "  <tbody>\n",
       "    <tr>\n",
       "      <th>2014-01-06</th>\n",
       "      <td>CA-2014-167199</td>\n",
       "      <td>01-10-2014</td>\n",
       "      <td>Standard Class</td>\n",
       "      <td>Home Office</td>\n",
       "      <td>United States</td>\n",
       "      <td>Henderson</td>\n",
       "      <td>Kentucky</td>\n",
       "      <td>South</td>\n",
       "      <td>Furniture</td>\n",
       "      <td>2573.820</td>\n",
       "      <td>9</td>\n",
       "      <td>0.0</td>\n",
       "      <td>746.4078</td>\n",
       "    </tr>\n",
       "    <tr>\n",
       "      <th>2014-01-07</th>\n",
       "      <td>CA-2014-105417</td>\n",
       "      <td>01-12-2014</td>\n",
       "      <td>Standard Class</td>\n",
       "      <td>Consumer</td>\n",
       "      <td>United States</td>\n",
       "      <td>Huntsville</td>\n",
       "      <td>Texas</td>\n",
       "      <td>Central</td>\n",
       "      <td>Furniture</td>\n",
       "      <td>76.728</td>\n",
       "      <td>3</td>\n",
       "      <td>0.6</td>\n",
       "      <td>-53.7096</td>\n",
       "    </tr>\n",
       "    <tr>\n",
       "      <th>2014-01-10</th>\n",
       "      <td>CA-2014-149020</td>\n",
       "      <td>1/15/2014</td>\n",
       "      <td>Standard Class</td>\n",
       "      <td>Corporate</td>\n",
       "      <td>United States</td>\n",
       "      <td>Springfield</td>\n",
       "      <td>Virginia</td>\n",
       "      <td>South</td>\n",
       "      <td>Furniture</td>\n",
       "      <td>51.940</td>\n",
       "      <td>1</td>\n",
       "      <td>0.0</td>\n",
       "      <td>21.2954</td>\n",
       "    </tr>\n",
       "    <tr>\n",
       "      <th>2014-01-11</th>\n",
       "      <td>CA-2014-130092</td>\n",
       "      <td>1/14/2014</td>\n",
       "      <td>First Class</td>\n",
       "      <td>Consumer</td>\n",
       "      <td>United States</td>\n",
       "      <td>Dover</td>\n",
       "      <td>Delaware</td>\n",
       "      <td>East</td>\n",
       "      <td>Furniture</td>\n",
       "      <td>9.940</td>\n",
       "      <td>2</td>\n",
       "      <td>0.0</td>\n",
       "      <td>3.0814</td>\n",
       "    </tr>\n",
       "    <tr>\n",
       "      <th>2014-01-13</th>\n",
       "      <td>CA-2014-109232</td>\n",
       "      <td>1/16/2014</td>\n",
       "      <td>Second Class</td>\n",
       "      <td>Consumer</td>\n",
       "      <td>United States</td>\n",
       "      <td>Mount Pleasant</td>\n",
       "      <td>South Carolina</td>\n",
       "      <td>South</td>\n",
       "      <td>Furniture</td>\n",
       "      <td>545.940</td>\n",
       "      <td>6</td>\n",
       "      <td>0.0</td>\n",
       "      <td>87.3504</td>\n",
       "    </tr>\n",
       "    <tr>\n",
       "      <th>...</th>\n",
       "      <td>...</td>\n",
       "      <td>...</td>\n",
       "      <td>...</td>\n",
       "      <td>...</td>\n",
       "      <td>...</td>\n",
       "      <td>...</td>\n",
       "      <td>...</td>\n",
       "      <td>...</td>\n",
       "      <td>...</td>\n",
       "      <td>...</td>\n",
       "      <td>...</td>\n",
       "      <td>...</td>\n",
       "      <td>...</td>\n",
       "    </tr>\n",
       "    <tr>\n",
       "      <th>2017-12-29</th>\n",
       "      <td>US-2017-158526</td>\n",
       "      <td>01-01-2018</td>\n",
       "      <td>Second Class</td>\n",
       "      <td>Consumer</td>\n",
       "      <td>United States</td>\n",
       "      <td>Louisville</td>\n",
       "      <td>Kentucky</td>\n",
       "      <td>South</td>\n",
       "      <td>Furniture</td>\n",
       "      <td>258.750</td>\n",
       "      <td>3</td>\n",
       "      <td>0.0</td>\n",
       "      <td>77.6250</td>\n",
       "    </tr>\n",
       "    <tr>\n",
       "      <th>2017-12-29</th>\n",
       "      <td>US-2017-158526</td>\n",
       "      <td>01-01-2018</td>\n",
       "      <td>Second Class</td>\n",
       "      <td>Consumer</td>\n",
       "      <td>United States</td>\n",
       "      <td>Louisville</td>\n",
       "      <td>Kentucky</td>\n",
       "      <td>South</td>\n",
       "      <td>Furniture</td>\n",
       "      <td>1207.840</td>\n",
       "      <td>8</td>\n",
       "      <td>0.0</td>\n",
       "      <td>314.0384</td>\n",
       "    </tr>\n",
       "    <tr>\n",
       "      <th>2017-12-29</th>\n",
       "      <td>CA-2017-146626</td>\n",
       "      <td>01-05-2018</td>\n",
       "      <td>Standard Class</td>\n",
       "      <td>Corporate</td>\n",
       "      <td>United States</td>\n",
       "      <td>Anaheim</td>\n",
       "      <td>California</td>\n",
       "      <td>West</td>\n",
       "      <td>Furniture</td>\n",
       "      <td>101.120</td>\n",
       "      <td>8</td>\n",
       "      <td>0.0</td>\n",
       "      <td>37.4144</td>\n",
       "    </tr>\n",
       "    <tr>\n",
       "      <th>2017-12-29</th>\n",
       "      <td>US-2017-158526</td>\n",
       "      <td>01-01-2018</td>\n",
       "      <td>Second Class</td>\n",
       "      <td>Consumer</td>\n",
       "      <td>United States</td>\n",
       "      <td>Louisville</td>\n",
       "      <td>Kentucky</td>\n",
       "      <td>South</td>\n",
       "      <td>Furniture</td>\n",
       "      <td>300.980</td>\n",
       "      <td>1</td>\n",
       "      <td>0.0</td>\n",
       "      <td>87.2842</td>\n",
       "    </tr>\n",
       "    <tr>\n",
       "      <th>2017-12-30</th>\n",
       "      <td>CA-2017-143259</td>\n",
       "      <td>01-03-2018</td>\n",
       "      <td>Standard Class</td>\n",
       "      <td>Consumer</td>\n",
       "      <td>United States</td>\n",
       "      <td>New York City</td>\n",
       "      <td>New York</td>\n",
       "      <td>East</td>\n",
       "      <td>Furniture</td>\n",
       "      <td>323.136</td>\n",
       "      <td>4</td>\n",
       "      <td>0.2</td>\n",
       "      <td>12.1176</td>\n",
       "    </tr>\n",
       "  </tbody>\n",
       "</table>\n",
       "<p>2121 rows × 13 columns</p>\n",
       "</div>"
      ],
      "text/plain": [
       "                  Order ID   Ship Date       Ship Mode      Segment  \\\n",
       "Order Date                                                            \n",
       "2014-01-06  CA-2014-167199  01-10-2014  Standard Class  Home Office   \n",
       "2014-01-07  CA-2014-105417  01-12-2014  Standard Class     Consumer   \n",
       "2014-01-10  CA-2014-149020   1/15/2014  Standard Class    Corporate   \n",
       "2014-01-11  CA-2014-130092   1/14/2014     First Class     Consumer   \n",
       "2014-01-13  CA-2014-109232   1/16/2014    Second Class     Consumer   \n",
       "...                    ...         ...             ...          ...   \n",
       "2017-12-29  US-2017-158526  01-01-2018    Second Class     Consumer   \n",
       "2017-12-29  US-2017-158526  01-01-2018    Second Class     Consumer   \n",
       "2017-12-29  CA-2017-146626  01-05-2018  Standard Class    Corporate   \n",
       "2017-12-29  US-2017-158526  01-01-2018    Second Class     Consumer   \n",
       "2017-12-30  CA-2017-143259  01-03-2018  Standard Class     Consumer   \n",
       "\n",
       "                  Country            City           State   Region   Category  \\\n",
       "Order Date                                                                      \n",
       "2014-01-06  United States       Henderson        Kentucky    South  Furniture   \n",
       "2014-01-07  United States      Huntsville           Texas  Central  Furniture   \n",
       "2014-01-10  United States     Springfield        Virginia    South  Furniture   \n",
       "2014-01-11  United States           Dover        Delaware     East  Furniture   \n",
       "2014-01-13  United States  Mount Pleasant  South Carolina    South  Furniture   \n",
       "...                   ...             ...             ...      ...        ...   \n",
       "2017-12-29  United States      Louisville        Kentucky    South  Furniture   \n",
       "2017-12-29  United States      Louisville        Kentucky    South  Furniture   \n",
       "2017-12-29  United States         Anaheim      California     West  Furniture   \n",
       "2017-12-29  United States      Louisville        Kentucky    South  Furniture   \n",
       "2017-12-30  United States   New York City        New York     East  Furniture   \n",
       "\n",
       "               Sales  Quantity  Discount    Profit  \n",
       "Order Date                                          \n",
       "2014-01-06  2573.820         9       0.0  746.4078  \n",
       "2014-01-07    76.728         3       0.6  -53.7096  \n",
       "2014-01-10    51.940         1       0.0   21.2954  \n",
       "2014-01-11     9.940         2       0.0    3.0814  \n",
       "2014-01-13   545.940         6       0.0   87.3504  \n",
       "...              ...       ...       ...       ...  \n",
       "2017-12-29   258.750         3       0.0   77.6250  \n",
       "2017-12-29  1207.840         8       0.0  314.0384  \n",
       "2017-12-29   101.120         8       0.0   37.4144  \n",
       "2017-12-29   300.980         1       0.0   87.2842  \n",
       "2017-12-30   323.136         4       0.2   12.1176  \n",
       "\n",
       "[2121 rows x 13 columns]"
      ]
     },
     "execution_count": 7,
     "metadata": {},
     "output_type": "execute_result"
    }
   ],
   "source": [
    "df=df.sort_values('Order Date')\n",
    "df"
   ]
  },
  {
   "cell_type": "code",
   "execution_count": 8,
   "id": "e9038c89",
   "metadata": {},
   "outputs": [
    {
     "data": {
      "text/html": [
       "<div>\n",
       "<style scoped>\n",
       "    .dataframe tbody tr th:only-of-type {\n",
       "        vertical-align: middle;\n",
       "    }\n",
       "\n",
       "    .dataframe tbody tr th {\n",
       "        vertical-align: top;\n",
       "    }\n",
       "\n",
       "    .dataframe thead th {\n",
       "        text-align: right;\n",
       "    }\n",
       "</style>\n",
       "<table border=\"1\" class=\"dataframe\">\n",
       "  <thead>\n",
       "    <tr style=\"text-align: right;\">\n",
       "      <th></th>\n",
       "      <th>Sales</th>\n",
       "      <th>Quantity</th>\n",
       "      <th>Discount</th>\n",
       "      <th>Profit</th>\n",
       "    </tr>\n",
       "    <tr>\n",
       "      <th>Order Date</th>\n",
       "      <th></th>\n",
       "      <th></th>\n",
       "      <th></th>\n",
       "      <th></th>\n",
       "    </tr>\n",
       "  </thead>\n",
       "  <tbody>\n",
       "    <tr>\n",
       "      <th>2014-01-31</th>\n",
       "      <td>312.126250</td>\n",
       "      <td>3.500000</td>\n",
       "      <td>0.135000</td>\n",
       "      <td>40.273325</td>\n",
       "    </tr>\n",
       "    <tr>\n",
       "      <th>2014-02-28</th>\n",
       "      <td>262.808286</td>\n",
       "      <td>3.285714</td>\n",
       "      <td>0.114286</td>\n",
       "      <td>17.241671</td>\n",
       "    </tr>\n",
       "    <tr>\n",
       "      <th>2014-03-31</th>\n",
       "      <td>441.635030</td>\n",
       "      <td>3.969697</td>\n",
       "      <td>0.230303</td>\n",
       "      <td>-34.201667</td>\n",
       "    </tr>\n",
       "    <tr>\n",
       "      <th>2014-04-30</th>\n",
       "      <td>305.570654</td>\n",
       "      <td>3.115385</td>\n",
       "      <td>0.132692</td>\n",
       "      <td>21.322312</td>\n",
       "    </tr>\n",
       "    <tr>\n",
       "      <th>2014-05-31</th>\n",
       "      <td>288.032792</td>\n",
       "      <td>4.041667</td>\n",
       "      <td>0.256250</td>\n",
       "      <td>-14.578233</td>\n",
       "    </tr>\n",
       "    <tr>\n",
       "      <th>2014-06-30</th>\n",
       "      <td>440.204187</td>\n",
       "      <td>4.066667</td>\n",
       "      <td>0.157333</td>\n",
       "      <td>19.877177</td>\n",
       "    </tr>\n",
       "    <tr>\n",
       "      <th>2014-07-31</th>\n",
       "      <td>327.910636</td>\n",
       "      <td>3.454545</td>\n",
       "      <td>0.186364</td>\n",
       "      <td>11.340809</td>\n",
       "    </tr>\n",
       "    <tr>\n",
       "      <th>2014-08-31</th>\n",
       "      <td>305.014438</td>\n",
       "      <td>4.458333</td>\n",
       "      <td>0.131250</td>\n",
       "      <td>27.644654</td>\n",
       "    </tr>\n",
       "    <tr>\n",
       "      <th>2014-09-30</th>\n",
       "      <td>425.294300</td>\n",
       "      <td>3.714286</td>\n",
       "      <td>0.154821</td>\n",
       "      <td>33.189243</td>\n",
       "    </tr>\n",
       "    <tr>\n",
       "      <th>2014-10-31</th>\n",
       "      <td>384.507719</td>\n",
       "      <td>4.062500</td>\n",
       "      <td>0.167187</td>\n",
       "      <td>7.786391</td>\n",
       "    </tr>\n",
       "    <tr>\n",
       "      <th>2014-11-30</th>\n",
       "      <td>347.820527</td>\n",
       "      <td>3.677419</td>\n",
       "      <td>0.194677</td>\n",
       "      <td>-4.804771</td>\n",
       "    </tr>\n",
       "    <tr>\n",
       "      <th>2014-12-31</th>\n",
       "      <td>414.134682</td>\n",
       "      <td>4.216216</td>\n",
       "      <td>0.214189</td>\n",
       "      <td>27.186754</td>\n",
       "    </tr>\n",
       "    <tr>\n",
       "      <th>2015-01-31</th>\n",
       "      <td>782.662773</td>\n",
       "      <td>5.866667</td>\n",
       "      <td>0.234667</td>\n",
       "      <td>-200.946667</td>\n",
       "    </tr>\n",
       "    <tr>\n",
       "      <th>2015-02-28</th>\n",
       "      <td>284.943091</td>\n",
       "      <td>4.090909</td>\n",
       "      <td>0.163636</td>\n",
       "      <td>35.899527</td>\n",
       "    </tr>\n",
       "    <tr>\n",
       "      <th>2015-03-31</th>\n",
       "      <td>446.420821</td>\n",
       "      <td>3.964286</td>\n",
       "      <td>0.155000</td>\n",
       "      <td>51.966332</td>\n",
       "    </tr>\n",
       "    <tr>\n",
       "      <th>2015-04-30</th>\n",
       "      <td>317.445409</td>\n",
       "      <td>3.242424</td>\n",
       "      <td>0.153030</td>\n",
       "      <td>10.262127</td>\n",
       "    </tr>\n",
       "    <tr>\n",
       "      <th>2015-05-31</th>\n",
       "      <td>312.498350</td>\n",
       "      <td>4.200000</td>\n",
       "      <td>0.175000</td>\n",
       "      <td>30.019490</td>\n",
       "    </tr>\n",
       "    <tr>\n",
       "      <th>2015-06-30</th>\n",
       "      <td>296.699192</td>\n",
       "      <td>4.307692</td>\n",
       "      <td>0.165385</td>\n",
       "      <td>-15.871527</td>\n",
       "    </tr>\n",
       "    <tr>\n",
       "      <th>2015-07-31</th>\n",
       "      <td>341.860500</td>\n",
       "      <td>4.050000</td>\n",
       "      <td>0.183750</td>\n",
       "      <td>-8.127345</td>\n",
       "    </tr>\n",
       "    <tr>\n",
       "      <th>2015-08-31</th>\n",
       "      <td>301.206006</td>\n",
       "      <td>3.500000</td>\n",
       "      <td>0.208437</td>\n",
       "      <td>-15.233466</td>\n",
       "    </tr>\n",
       "    <tr>\n",
       "      <th>2015-09-30</th>\n",
       "      <td>437.883717</td>\n",
       "      <td>3.416667</td>\n",
       "      <td>0.126667</td>\n",
       "      <td>22.501975</td>\n",
       "    </tr>\n",
       "    <tr>\n",
       "      <th>2015-10-31</th>\n",
       "      <td>334.072875</td>\n",
       "      <td>3.888889</td>\n",
       "      <td>0.198611</td>\n",
       "      <td>-16.819897</td>\n",
       "    </tr>\n",
       "    <tr>\n",
       "      <th>2015-11-30</th>\n",
       "      <td>401.049773</td>\n",
       "      <td>4.025974</td>\n",
       "      <td>0.149221</td>\n",
       "      <td>38.857455</td>\n",
       "    </tr>\n",
       "    <tr>\n",
       "      <th>2015-12-31</th>\n",
       "      <td>360.715925</td>\n",
       "      <td>4.015625</td>\n",
       "      <td>0.183906</td>\n",
       "      <td>6.700220</td>\n",
       "    </tr>\n",
       "    <tr>\n",
       "      <th>2016-01-31</th>\n",
       "      <td>346.488318</td>\n",
       "      <td>4.590909</td>\n",
       "      <td>0.154545</td>\n",
       "      <td>13.816395</td>\n",
       "    </tr>\n",
       "    <tr>\n",
       "      <th>2016-02-29</th>\n",
       "      <td>206.607947</td>\n",
       "      <td>3.631579</td>\n",
       "      <td>0.147368</td>\n",
       "      <td>19.843958</td>\n",
       "    </tr>\n",
       "    <tr>\n",
       "      <th>2016-03-31</th>\n",
       "      <td>312.221756</td>\n",
       "      <td>3.951220</td>\n",
       "      <td>0.202927</td>\n",
       "      <td>-13.543122</td>\n",
       "    </tr>\n",
       "    <tr>\n",
       "      <th>2016-04-30</th>\n",
       "      <td>377.488286</td>\n",
       "      <td>4.171429</td>\n",
       "      <td>0.180000</td>\n",
       "      <td>10.423811</td>\n",
       "    </tr>\n",
       "    <tr>\n",
       "      <th>2016-05-31</th>\n",
       "      <td>351.624070</td>\n",
       "      <td>4.209302</td>\n",
       "      <td>0.151163</td>\n",
       "      <td>42.429626</td>\n",
       "    </tr>\n",
       "    <tr>\n",
       "      <th>2016-06-30</th>\n",
       "      <td>343.962421</td>\n",
       "      <td>3.368421</td>\n",
       "      <td>0.234211</td>\n",
       "      <td>-2.796487</td>\n",
       "    </tr>\n",
       "    <tr>\n",
       "      <th>2016-07-31</th>\n",
       "      <td>335.090231</td>\n",
       "      <td>4.076923</td>\n",
       "      <td>0.155128</td>\n",
       "      <td>26.638649</td>\n",
       "    </tr>\n",
       "    <tr>\n",
       "      <th>2016-08-31</th>\n",
       "      <td>430.456286</td>\n",
       "      <td>3.965517</td>\n",
       "      <td>0.247241</td>\n",
       "      <td>-17.039507</td>\n",
       "    </tr>\n",
       "    <tr>\n",
       "      <th>2016-09-30</th>\n",
       "      <td>328.468445</td>\n",
       "      <td>3.421687</td>\n",
       "      <td>0.172771</td>\n",
       "      <td>8.465090</td>\n",
       "    </tr>\n",
       "    <tr>\n",
       "      <th>2016-10-31</th>\n",
       "      <td>247.345354</td>\n",
       "      <td>3.895833</td>\n",
       "      <td>0.205208</td>\n",
       "      <td>-3.013750</td>\n",
       "    </tr>\n",
       "    <tr>\n",
       "      <th>2016-11-30</th>\n",
       "      <td>392.390479</td>\n",
       "      <td>3.925926</td>\n",
       "      <td>0.181728</td>\n",
       "      <td>10.121096</td>\n",
       "    </tr>\n",
       "    <tr>\n",
       "      <th>2016-12-31</th>\n",
       "      <td>436.651369</td>\n",
       "      <td>4.083333</td>\n",
       "      <td>0.131786</td>\n",
       "      <td>33.674661</td>\n",
       "    </tr>\n",
       "    <tr>\n",
       "      <th>2017-01-31</th>\n",
       "      <td>248.501333</td>\n",
       "      <td>3.583333</td>\n",
       "      <td>0.129167</td>\n",
       "      <td>-1.643342</td>\n",
       "    </tr>\n",
       "    <tr>\n",
       "      <th>2017-02-28</th>\n",
       "      <td>264.089900</td>\n",
       "      <td>2.730769</td>\n",
       "      <td>0.225769</td>\n",
       "      <td>-7.655465</td>\n",
       "    </tr>\n",
       "    <tr>\n",
       "      <th>2017-03-31</th>\n",
       "      <td>286.669600</td>\n",
       "      <td>3.236842</td>\n",
       "      <td>0.137895</td>\n",
       "      <td>26.338242</td>\n",
       "    </tr>\n",
       "    <tr>\n",
       "      <th>2017-04-30</th>\n",
       "      <td>206.044502</td>\n",
       "      <td>3.977273</td>\n",
       "      <td>0.176591</td>\n",
       "      <td>4.601418</td>\n",
       "    </tr>\n",
       "    <tr>\n",
       "      <th>2017-05-31</th>\n",
       "      <td>319.953928</td>\n",
       "      <td>3.471698</td>\n",
       "      <td>0.192264</td>\n",
       "      <td>-1.375149</td>\n",
       "    </tr>\n",
       "    <tr>\n",
       "      <th>2017-06-30</th>\n",
       "      <td>372.717386</td>\n",
       "      <td>3.450980</td>\n",
       "      <td>0.192549</td>\n",
       "      <td>17.745012</td>\n",
       "    </tr>\n",
       "    <tr>\n",
       "      <th>2017-07-31</th>\n",
       "      <td>227.173500</td>\n",
       "      <td>3.519231</td>\n",
       "      <td>0.149038</td>\n",
       "      <td>6.242777</td>\n",
       "    </tr>\n",
       "    <tr>\n",
       "      <th>2017-08-31</th>\n",
       "      <td>395.945487</td>\n",
       "      <td>3.256410</td>\n",
       "      <td>0.148718</td>\n",
       "      <td>8.262538</td>\n",
       "    </tr>\n",
       "    <tr>\n",
       "      <th>2017-09-30</th>\n",
       "      <td>349.737422</td>\n",
       "      <td>3.638554</td>\n",
       "      <td>0.156024</td>\n",
       "      <td>18.658840</td>\n",
       "    </tr>\n",
       "    <tr>\n",
       "      <th>2017-10-31</th>\n",
       "      <td>308.226313</td>\n",
       "      <td>3.549296</td>\n",
       "      <td>0.187606</td>\n",
       "      <td>-35.590427</td>\n",
       "    </tr>\n",
       "    <tr>\n",
       "      <th>2017-11-30</th>\n",
       "      <td>374.310253</td>\n",
       "      <td>3.676768</td>\n",
       "      <td>0.165556</td>\n",
       "      <td>4.101654</td>\n",
       "    </tr>\n",
       "    <tr>\n",
       "      <th>2017-12-31</th>\n",
       "      <td>296.296857</td>\n",
       "      <td>3.716981</td>\n",
       "      <td>0.172830</td>\n",
       "      <td>10.818442</td>\n",
       "    </tr>\n",
       "  </tbody>\n",
       "</table>\n",
       "</div>"
      ],
      "text/plain": [
       "                 Sales  Quantity  Discount      Profit\n",
       "Order Date                                            \n",
       "2014-01-31  312.126250  3.500000  0.135000   40.273325\n",
       "2014-02-28  262.808286  3.285714  0.114286   17.241671\n",
       "2014-03-31  441.635030  3.969697  0.230303  -34.201667\n",
       "2014-04-30  305.570654  3.115385  0.132692   21.322312\n",
       "2014-05-31  288.032792  4.041667  0.256250  -14.578233\n",
       "2014-06-30  440.204187  4.066667  0.157333   19.877177\n",
       "2014-07-31  327.910636  3.454545  0.186364   11.340809\n",
       "2014-08-31  305.014438  4.458333  0.131250   27.644654\n",
       "2014-09-30  425.294300  3.714286  0.154821   33.189243\n",
       "2014-10-31  384.507719  4.062500  0.167187    7.786391\n",
       "2014-11-30  347.820527  3.677419  0.194677   -4.804771\n",
       "2014-12-31  414.134682  4.216216  0.214189   27.186754\n",
       "2015-01-31  782.662773  5.866667  0.234667 -200.946667\n",
       "2015-02-28  284.943091  4.090909  0.163636   35.899527\n",
       "2015-03-31  446.420821  3.964286  0.155000   51.966332\n",
       "2015-04-30  317.445409  3.242424  0.153030   10.262127\n",
       "2015-05-31  312.498350  4.200000  0.175000   30.019490\n",
       "2015-06-30  296.699192  4.307692  0.165385  -15.871527\n",
       "2015-07-31  341.860500  4.050000  0.183750   -8.127345\n",
       "2015-08-31  301.206006  3.500000  0.208437  -15.233466\n",
       "2015-09-30  437.883717  3.416667  0.126667   22.501975\n",
       "2015-10-31  334.072875  3.888889  0.198611  -16.819897\n",
       "2015-11-30  401.049773  4.025974  0.149221   38.857455\n",
       "2015-12-31  360.715925  4.015625  0.183906    6.700220\n",
       "2016-01-31  346.488318  4.590909  0.154545   13.816395\n",
       "2016-02-29  206.607947  3.631579  0.147368   19.843958\n",
       "2016-03-31  312.221756  3.951220  0.202927  -13.543122\n",
       "2016-04-30  377.488286  4.171429  0.180000   10.423811\n",
       "2016-05-31  351.624070  4.209302  0.151163   42.429626\n",
       "2016-06-30  343.962421  3.368421  0.234211   -2.796487\n",
       "2016-07-31  335.090231  4.076923  0.155128   26.638649\n",
       "2016-08-31  430.456286  3.965517  0.247241  -17.039507\n",
       "2016-09-30  328.468445  3.421687  0.172771    8.465090\n",
       "2016-10-31  247.345354  3.895833  0.205208   -3.013750\n",
       "2016-11-30  392.390479  3.925926  0.181728   10.121096\n",
       "2016-12-31  436.651369  4.083333  0.131786   33.674661\n",
       "2017-01-31  248.501333  3.583333  0.129167   -1.643342\n",
       "2017-02-28  264.089900  2.730769  0.225769   -7.655465\n",
       "2017-03-31  286.669600  3.236842  0.137895   26.338242\n",
       "2017-04-30  206.044502  3.977273  0.176591    4.601418\n",
       "2017-05-31  319.953928  3.471698  0.192264   -1.375149\n",
       "2017-06-30  372.717386  3.450980  0.192549   17.745012\n",
       "2017-07-31  227.173500  3.519231  0.149038    6.242777\n",
       "2017-08-31  395.945487  3.256410  0.148718    8.262538\n",
       "2017-09-30  349.737422  3.638554  0.156024   18.658840\n",
       "2017-10-31  308.226313  3.549296  0.187606  -35.590427\n",
       "2017-11-30  374.310253  3.676768  0.165556    4.101654\n",
       "2017-12-31  296.296857  3.716981  0.172830   10.818442"
      ]
     },
     "execution_count": 8,
     "metadata": {},
     "output_type": "execute_result"
    }
   ],
   "source": [
    "dfs=df.resample('M').mean()\n",
    "dfs"
   ]
  },
  {
   "cell_type": "code",
   "execution_count": 9,
   "id": "44b09346",
   "metadata": {},
   "outputs": [
    {
     "data": {
      "text/plain": [
       "(48, 4)"
      ]
     },
     "execution_count": 9,
     "metadata": {},
     "output_type": "execute_result"
    }
   ],
   "source": [
    "dfs.shape"
   ]
  },
  {
   "cell_type": "code",
   "execution_count": 10,
   "id": "20a6f707",
   "metadata": {},
   "outputs": [
    {
     "data": {
      "text/plain": [
       "Order Date\n",
       "2014-01-31    312.126250\n",
       "2014-02-28    262.808286\n",
       "2014-03-31    441.635030\n",
       "2014-04-30    305.570654\n",
       "2014-05-31    288.032792\n",
       "2014-06-30    440.204187\n",
       "2014-07-31    327.910636\n",
       "2014-08-31    305.014438\n",
       "2014-09-30    425.294300\n",
       "2014-10-31    384.507719\n",
       "2014-11-30    347.820527\n",
       "2014-12-31    414.134682\n",
       "2015-01-31    782.662773\n",
       "2015-02-28    284.943091\n",
       "2015-03-31    446.420821\n",
       "2015-04-30    317.445409\n",
       "2015-05-31    312.498350\n",
       "2015-06-30    296.699192\n",
       "2015-07-31    341.860500\n",
       "2015-08-31    301.206006\n",
       "2015-09-30    437.883717\n",
       "2015-10-31    334.072875\n",
       "2015-11-30    401.049773\n",
       "2015-12-31    360.715925\n",
       "2016-01-31    346.488318\n",
       "2016-02-29    206.607947\n",
       "2016-03-31    312.221756\n",
       "2016-04-30    377.488286\n",
       "2016-05-31    351.624070\n",
       "2016-06-30    343.962421\n",
       "2016-07-31    335.090231\n",
       "2016-08-31    430.456286\n",
       "2016-09-30    328.468445\n",
       "2016-10-31    247.345354\n",
       "2016-11-30    392.390479\n",
       "2016-12-31    436.651369\n",
       "2017-01-31    248.501333\n",
       "2017-02-28    264.089900\n",
       "2017-03-31    286.669600\n",
       "2017-04-30    206.044502\n",
       "2017-05-31    319.953928\n",
       "2017-06-30    372.717386\n",
       "2017-07-31    227.173500\n",
       "2017-08-31    395.945487\n",
       "2017-09-30    349.737422\n",
       "2017-10-31    308.226313\n",
       "2017-11-30    374.310253\n",
       "2017-12-31    296.296857\n",
       "Freq: M, Name: Sales, dtype: float64"
      ]
     },
     "execution_count": 10,
     "metadata": {},
     "output_type": "execute_result"
    }
   ],
   "source": [
    "data=dfs['Sales']\n",
    "data"
   ]
  },
  {
   "cell_type": "markdown",
   "id": "51d7d5ba",
   "metadata": {},
   "source": [
    "## Data Exploration"
   ]
  },
  {
   "cell_type": "code",
   "execution_count": 11,
   "id": "f53b3756",
   "metadata": {},
   "outputs": [
    {
     "data": {
      "text/plain": [
       "<AxesSubplot:xlabel='Order Date'>"
      ]
     },
     "execution_count": 11,
     "metadata": {},
     "output_type": "execute_result"
    },
    {
     "data": {
      "image/png": "[encoded data removed]",
      "text/plain": [
       "<Figure size 432x288 with 1 Axes>"
      ]
     },
     "metadata": {
      "needs_background": "light"
     },
     "output_type": "display_data"
    }
   ],
   "source": [
    "dfs['Sales'].plot()"
   ]
  },
  {
   "cell_type": "markdown",
   "id": "c540aeb3",
   "metadata": {},
   "source": [
    "Data shows Irregular or Random Component"
   ]
  },
  {
   "cell_type": "markdown",
   "id": "8eda3bca",
   "metadata": {},
   "source": [
    "## Check for stationarity"
   ]
  },
  {
   "cell_type": "code",
   "execution_count": 12,
   "id": "36f7c985",
   "metadata": {},
   "outputs": [],
   "source": [
    "def checkStationarity(data):\n",
    "    pvalue = adfuller(data)[1] \n",
    "    ''' output:-> 1) test statistic, \n",
    "    2) p-value, \n",
    "    3) number of lags, \n",
    "    4) total observations ''' \n",
    "    if(pvalue>0.05):\n",
    "        msg = 'p-value={}. Data is not stationary'.format(pvalue) \n",
    "    else:\n",
    "        msg='p-value={}. Data is stationary'.format(pvalue) \n",
    "    return(msg)"
   ]
  },
  {
   "cell_type": "code",
   "execution_count": 13,
   "id": "e3d65624",
   "metadata": {},
   "outputs": [
    {
     "data": {
      "text/plain": [
       "'p-value=9.093398510006677e-10. Data is stationary'"
      ]
     },
     "execution_count": 13,
     "metadata": {},
     "output_type": "execute_result"
    }
   ],
   "source": [
    "checkStationarity(data)"
   ]
  },
  {
   "cell_type": "markdown",
   "id": "c86ad58f",
   "metadata": {},
   "source": [
    "### Observation:\n",
    "As the data is stationary shifting of the data is not necessary  "
   ]
  },
  {
   "cell_type": "markdown",
   "id": "8082d562",
   "metadata": {},
   "source": [
    "## Decomposition"
   ]
  },
  {
   "cell_type": "code",
   "execution_count": 16,
   "id": "de562b7e",
   "metadata": {},
   "outputs": [
    {
     "data": {
      "text/plain": [
       "Text(0.5, 1.0, 'Random')"
      ]
     },
     "execution_count": 16,
     "metadata": {},
     "output_type": "execute_result"
    },
    {
     "data": {
      "image/png": "[encoded data removed]",
      "text/plain": [
       "<Figure size 1440x864 with 3 Axes>"
      ]
     },
     "metadata": {
      "needs_background": "light"
     },
     "output_type": "display_data"
    }
   ],
   "source": [
    "fig,ax = plt.subplots(3,1,figsize=(20,12)) \n",
    "result =seasonal_decompose(data, period=7, extrapolate_trend='freq') \n",
    "result.trend.plot(ax=ax[0]) \n",
    "result.trend.plot(ax=ax[0]) \n",
    "ax[0].set_title(\"Trend\")\n",
    "result.seasonal.plot(ax=ax[1]) \n",
    "ax[1].set_title(\"Seasonal\")\n",
    "result.resid.plot(ax=ax[2]) \n",
    "ax[2].set_title(\"Random\")"
   ]
  },
  {
   "cell_type": "markdown",
   "id": "9ccb3535",
   "metadata": {},
   "source": [
    "## Observation:  \n",
    "### From the above plots we can observe there is a seasonality in the dataset but no regular trend is observed  "
   ]
  },
  {
   "cell_type": "markdown",
   "id": "f3c9b79c",
   "metadata": {},
   "source": [
    "## Splitting of data into Train and Test"
   ]
  },
  {
   "cell_type": "code",
   "execution_count": 14,
   "id": "90aa90c3",
   "metadata": {},
   "outputs": [
    {
     "name": "stdout",
     "output_type": "stream",
     "text": [
      "                 Sales  Quantity  Discount     Profit\n",
      "Order Date                                           \n",
      "2014-01-31  312.126250  3.500000  0.135000  40.273325\n",
      "2014-02-28  262.808286  3.285714  0.114286  17.241671\n",
      "2014-03-31  441.635030  3.969697  0.230303 -34.201667\n",
      "2014-04-30  305.570654  3.115385  0.132692  21.322312\n",
      "2014-05-31  288.032792  4.041667  0.256250 -14.578233\n",
      "                 Sales  Quantity  Discount     Profit\n",
      "Order Date                                           \n",
      "2017-03-31  286.669600  3.236842  0.137895  26.338242\n",
      "2017-04-30  206.044502  3.977273  0.176591   4.601418\n",
      "2017-05-31  319.953928  3.471698  0.192264  -1.375149\n",
      "2017-06-30  372.717386  3.450980  0.192549  17.745012\n",
      "2017-07-31  227.173500  3.519231  0.149038   6.242777\n"
     ]
    }
   ],
   "source": [
    "ss = int(0.80 * len(dfs)) \n",
    "train_df = dfs.iloc[:ss] \n",
    "test_df = dfs.iloc[ss:]\n",
    "print(train_df.head())\n",
    "print(test_df.head())"
   ]
  },
  {
   "cell_type": "code",
   "execution_count": 15,
   "id": "849deca6",
   "metadata": {},
   "outputs": [
    {
     "name": "stdout",
     "output_type": "stream",
     "text": [
      "train= 38, test = 10\n"
     ]
    }
   ],
   "source": [
    "# split into train and test using relevant columns only\n",
    "train = train_df.Sales\n",
    "test = test_df.Sales\n",
    "print(\"train= {}, test = {}\".format(len(train), len(test)))"
   ]
  },
  {
   "cell_type": "markdown",
   "id": "21225812",
   "metadata": {},
   "source": [
    "## Plotting ACF and PACF"
   ]
  },
  {
   "cell_type": "code",
   "execution_count": 17,
   "id": "564671a7",
   "metadata": {},
   "outputs": [
    {
     "data": {
      "image/png": "[encoded data removed]",
      "text/plain": [
       "<Figure size 720x432 with 2 Axes>"
      ]
     },
     "metadata": {
      "needs_background": "light"
     },
     "output_type": "display_data"
    }
   ],
   "source": [
    "fig,ax=plt.subplots(1,2,figsize=(10,6)) \n",
    "\n",
    "# plot PACF (p) \n",
    "plot_pacf(data,lags=10,ax=ax[0])\n",
    " \n",
    "# plot ACF (q)  \n",
    "plot_acf(data,lags=10,ax=ax[1])\n",
    "\n",
    "plt.tight_layout()"
   ]
  },
  {
   "cell_type": "markdown",
   "id": "34b12d32",
   "metadata": {},
   "source": [
    "## Observation:\n",
    "           From the PACF and ACF the values found for p and q are 1,1"
   ]
  },
  {
   "cell_type": "markdown",
   "id": "33bed104",
   "metadata": {},
   "source": [
    "# ARMA Model"
   ]
  },
  {
   "cell_type": "code",
   "execution_count": 18,
   "id": "5ddba889",
   "metadata": {},
   "outputs": [
    {
     "name": "stdout",
     "output_type": "stream",
     "text": [
      "                               SARIMAX Results                                \n",
      "==============================================================================\n",
      "Dep. Variable:                  Sales   No. Observations:                   38\n",
      "Model:                 ARIMA(1, 0, 1)   Log Likelihood                -226.165\n",
      "Date:                Wed, 02 Feb 2022   AIC                            460.331\n",
      "Time:                        15:03:04   BIC                            466.881\n",
      "Sample:                    01-31-2014   HQIC                           462.661\n",
      "                         - 02-28-2017                                         \n",
      "Covariance Type:                  opg                                         \n",
      "==============================================================================\n",
      "                 coef    std err          z      P>|z|      [0.025      0.975]\n",
      "------------------------------------------------------------------------------\n",
      "const        355.3006     21.432     16.578      0.000     313.295     397.306\n",
      "ar.L1          0.0416      2.784      0.015      0.988      -5.414       5.498\n",
      "ma.L1         -0.1153      2.775     -0.042      0.967      -5.554       5.323\n",
      "sigma2      8650.0060   1583.348      5.463      0.000    5546.702    1.18e+04\n",
      "===================================================================================\n",
      "Ljung-Box (L1) (Q):                   0.00   Jarque-Bera (JB):               186.29\n",
      "Prob(Q):                              1.00   Prob(JB):                         0.00\n",
      "Heteroskedasticity (H):               0.31   Skew:                             2.46\n",
      "Prob(H) (two-sided):                  0.04   Kurtosis:                        12.66\n",
      "===================================================================================\n",
      "\n",
      "Warnings:\n",
      "[1] Covariance matrix calculated using the outer product of gradients (complex-step).\n"
     ]
    }
   ],
   "source": [
    "p=1; q=1\n",
    "m1 = ARIMA(train,order=(p,0,q)).fit() \n",
    "print(m1.summary())"
   ]
  },
  {
   "cell_type": "markdown",
   "id": "1ed9abc9",
   "metadata": {},
   "source": [
    "### Box-Jenkins test to check model's goodness"
   ]
  },
  {
   "cell_type": "code",
   "execution_count": 19,
   "id": "41ece65b",
   "metadata": {},
   "outputs": [
    {
     "name": "stdout",
     "output_type": "stream",
     "text": [
      "Fail-to-Reject H0. Good model\n"
     ]
    }
   ],
   "source": [
    "pvalue = sm.stats.acorr_ljungbox(m1.resid,lags=[1],return_df=True)['lb_pvalue'].values \n",
    "if pvalue < 0.05:\n",
    "    print(\"Reject H0. Bad model\") \n",
    "else:\n",
    "    print(\"Fail-to-Reject H0. Good model\")"
   ]
  },
  {
   "cell_type": "markdown",
   "id": "d7fdd10d",
   "metadata": {},
   "source": [
    "### Predict the test data using the model"
   ]
  },
  {
   "cell_type": "code",
   "execution_count": 20,
   "id": "9cbc3d0d",
   "metadata": {},
   "outputs": [
    {
     "name": "stdout",
     "output_type": "stream",
     "text": [
      "Order Date\n",
      "2014-01-31    355.300572\n",
      "2014-02-28    358.454837\n",
      "2014-03-31    362.478623\n",
      "2014-04-30    349.767050\n",
      "2014-05-31    358.326642\n",
      "2014-06-30    360.606025\n",
      "2014-07-31    349.656509\n",
      "2014-08-31    356.667825\n",
      "2014-09-30    359.163467\n",
      "2014-10-31    350.588744\n",
      "Freq: M, Name: predicted_mean, dtype: float64\n"
     ]
    }
   ],
   "source": [
    "predictions = m1.predict(0,len(test)-1) \n",
    "print(predictions)"
   ]
  },
  {
   "cell_type": "markdown",
   "id": "a555a9f1",
   "metadata": {},
   "source": [
    "### Collate actual, predicted, and errors together"
   ]
  },
  {
   "cell_type": "code",
   "execution_count": 21,
   "id": "ceda6356",
   "metadata": {},
   "outputs": [
    {
     "name": "stdout",
     "output_type": "stream",
     "text": [
      "       actual   predicted         err\n",
      "0  286.669600  355.300572  -68.630972\n",
      "1  206.044502  358.454837 -152.410335\n",
      "2  319.953928  362.478623  -42.524695\n",
      "3  372.717386  349.767050   22.950336\n",
      "4  227.173500  358.326642 -131.153142\n",
      "5  395.945487  360.606025   35.339462\n",
      "6  349.737422  349.656509    0.080912\n",
      "7  308.226313  356.667825  -48.441513\n",
      "8  374.310253  359.163467   15.146785\n",
      "9  296.296857  350.588744  -54.291887\n"
     ]
    }
   ],
   "source": [
    "actual = []; \n",
    "pred = [] \n",
    "for i in range(len(predictions)):\n",
    "    actual.append(test[i]) \n",
    "    pred.append(predictions[i]) \n",
    "df_res = pd.DataFrame({'actual':actual, 'predicted':pred}) \n",
    "df_res['err'] = df_res.actual -df_res.predicted \n",
    "print(df_res)"
   ]
  },
  {
   "cell_type": "markdown",
   "id": "e71849ad",
   "metadata": {},
   "source": [
    "### Plot actual vs. predicted values"
   ]
  },
  {
   "cell_type": "code",
   "execution_count": 22,
   "id": "78f1fad2",
   "metadata": {},
   "outputs": [
    {
     "data": {
      "text/plain": [
       "<AxesSubplot:>"
      ]
     },
     "execution_count": 22,
     "metadata": {},
     "output_type": "execute_result"
    },
    {
     "data": {
      "image/png": "[encoded data removed]",
      "text/plain": [
       "<Figure size 864x576 with 1 Axes>"
      ]
     },
     "metadata": {
      "needs_background": "light"
     },
     "output_type": "display_data"
    }
   ],
   "source": [
    "df_res[['actual','predicted']].plot(figsize=(12,8))"
   ]
  },
  {
   "cell_type": "markdown",
   "id": "146e3c4c",
   "metadata": {},
   "source": [
    "### Calculate Error Terms"
   ]
  },
  {
   "cell_type": "code",
   "execution_count": 23,
   "id": "a9b8270a",
   "metadata": {},
   "outputs": [
    {
     "name": "stdout",
     "output_type": "stream",
     "text": [
      "\n",
      "\tMSE= 5424.783316451074\n",
      "\tRMSE = 73.6531283548165\n"
     ]
    }
   ],
   "source": [
    "mse1=mean_squared_error(df_res.actual,df_res.predicted)\n",
    "print(\"\\n\\tMSE= {}\\n\\tRMSE = {}\".format(mse1,np.sqrt(mse1)))"
   ]
  },
  {
   "cell_type": "markdown",
   "id": "0c2c6678",
   "metadata": {},
   "source": [
    "### Plot Errors"
   ]
  },
  {
   "cell_type": "code",
   "execution_count": 24,
   "id": "603d21af",
   "metadata": {},
   "outputs": [
    {
     "data": {
      "text/plain": [
       "<AxesSubplot:>"
      ]
     },
     "execution_count": 24,
     "metadata": {},
     "output_type": "execute_result"
    },
    {
     "data": {
      "image/png": "[encoded data removed]",
      "text/plain": [
       "<Figure size 432x288 with 1 Axes>"
      ]
     },
     "metadata": {
      "needs_background": "light"
     },
     "output_type": "display_data"
    }
   ],
   "source": [
    "df_res['err'].plot()"
   ]
  },
  {
   "cell_type": "markdown",
   "id": "e161f0b9",
   "metadata": {},
   "source": [
    "### Forecast the future data using the model"
   ]
  },
  {
   "cell_type": "code",
   "execution_count": 25,
   "id": "d4a633fc",
   "metadata": {},
   "outputs": [
    {
     "name": "stdout",
     "output_type": "stream",
     "text": [
      "2018-01-31    355.300572\n",
      "2018-02-28    355.300572\n",
      "2018-03-31    355.300572\n",
      "2018-04-30    355.300572\n",
      "2018-05-31    355.300572\n",
      "2018-06-30    355.300572\n",
      "2018-07-31    355.300572\n",
      "2018-08-31    355.300572\n",
      "2018-09-30    355.300572\n",
      "2018-10-31    355.300572\n",
      "2018-11-30    355.300572\n",
      "2018-12-31    355.300572\n",
      "2019-01-31    355.300572\n",
      "Freq: M, Name: predicted_mean, dtype: float64\n"
     ]
    }
   ],
   "source": [
    "fcast= m1.predict(start=len(data), end=len(data)+12)\n",
    "print(fcast)"
   ]
  },
  {
   "cell_type": "code",
   "execution_count": 26,
   "id": "808b2080",
   "metadata": {
    "scrolled": true
   },
   "outputs": [
    {
     "data": {
      "text/plain": [
       "<AxesSubplot:xlabel='Order Date'>"
      ]
     },
     "execution_count": 26,
     "metadata": {},
     "output_type": "execute_result"
    },
    {
     "data": {
      "image/png": "[encoded data removed]",
      "text/plain": [
       "<Figure size 720x576 with 1 Axes>"
      ]
     },
     "metadata": {
      "needs_background": "light"
     },
     "output_type": "display_data"
    }
   ],
   "source": [
    "data.plot(figsize=(10,8),legend=True) \n",
    "fcast.plot(legend=True) "
   ]
  },
  {
   "cell_type": "markdown",
   "id": "b2077332",
   "metadata": {},
   "source": [
    "# ARIMA Model"
   ]
  },
  {
   "cell_type": "code",
   "execution_count": 27,
   "id": "387cdffd",
   "metadata": {},
   "outputs": [
    {
     "name": "stdout",
     "output_type": "stream",
     "text": [
      "                               SARIMAX Results                                \n",
      "==============================================================================\n",
      "Dep. Variable:                  Sales   No. Observations:                   38\n",
      "Model:                 ARIMA(1, 1, 1)   Log Likelihood                -222.597\n",
      "Date:                Wed, 02 Feb 2022   AIC                            451.194\n",
      "Time:                        15:03:04   BIC                            456.027\n",
      "Sample:                    01-31-2014   HQIC                           452.898\n",
      "                         - 02-28-2017                                         \n",
      "Covariance Type:                  opg                                         \n",
      "==============================================================================\n",
      "                 coef    std err          z      P>|z|      [0.025      0.975]\n",
      "------------------------------------------------------------------------------\n",
      "ar.L1         -0.0466      0.239     -0.195      0.845      -0.515       0.421\n",
      "ma.L1         -0.9902      0.987     -1.003      0.316      -2.925       0.944\n",
      "sigma2      8977.3070   8031.166      1.118      0.264   -6763.490    2.47e+04\n",
      "===================================================================================\n",
      "Ljung-Box (L1) (Q):                   0.01   Jarque-Bera (JB):               119.86\n",
      "Prob(Q):                              0.91   Prob(JB):                         0.00\n",
      "Heteroskedasticity (H):               0.24   Skew:                             2.16\n",
      "Prob(H) (two-sided):                  0.02   Kurtosis:                        10.69\n",
      "===================================================================================\n",
      "\n",
      "Warnings:\n",
      "[1] Covariance matrix calculated using the outer product of gradients (complex-step).\n"
     ]
    }
   ],
   "source": [
    "p=1; d=1; q=1 \n",
    "m_arima = ARIMA(train,order=(p,d,q)).fit()\n",
    "print(m_arima.summary())"
   ]
  },
  {
   "cell_type": "markdown",
   "id": "c698d088",
   "metadata": {},
   "source": [
    "### Box-Jenkins test to check model's goodness"
   ]
  },
  {
   "cell_type": "code",
   "execution_count": 28,
   "id": "753a1b3c",
   "metadata": {},
   "outputs": [
    {
     "name": "stdout",
     "output_type": "stream",
     "text": [
      "Fail-to-Reject H0. Good model\n"
     ]
    }
   ],
   "source": [
    "pvalue = sm.stats.acorr_ljungbox(m_arima.resid,lags=[1],return_df=True)['lb_pvalue'].values \n",
    "if pvalue < 0.05:\n",
    "    print(\"Reject H0. Bad model\") \n",
    "else:\n",
    "    print(\"Fail-to-Reject H0. Good model\")"
   ]
  },
  {
   "cell_type": "markdown",
   "id": "13baec4e",
   "metadata": {},
   "source": [
    "### Predict the test data using the model"
   ]
  },
  {
   "cell_type": "code",
   "execution_count": 29,
   "id": "9ef7bad9",
   "metadata": {},
   "outputs": [
    {
     "name": "stdout",
     "output_type": "stream",
     "text": [
      "Order Date\n",
      "2014-01-31      0.000000\n",
      "2014-02-28    309.136373\n",
      "2014-03-31    287.300377\n",
      "2014-04-30    331.838988\n",
      "2014-05-31    331.471055\n",
      "2014-06-30    323.453513\n",
      "2014-07-31    336.106838\n",
      "2014-08-31    340.149710\n",
      "2014-09-30    336.772116\n",
      "2014-10-31    341.117030\n",
      "Freq: M, Name: predicted_mean, dtype: float64\n"
     ]
    }
   ],
   "source": [
    "predictions = m_arima.predict(0,len(test)-1) \n",
    "print(predictions)"
   ]
  },
  {
   "cell_type": "markdown",
   "id": "e7a74fa7",
   "metadata": {},
   "source": [
    "### Collate actual, predicted, and errors together"
   ]
  },
  {
   "cell_type": "code",
   "execution_count": 30,
   "id": "f0127326",
   "metadata": {},
   "outputs": [
    {
     "name": "stdout",
     "output_type": "stream",
     "text": [
      "       actual   predicted         err\n",
      "0  286.669600    0.000000  286.669600\n",
      "1  206.044502  309.136373 -103.091871\n",
      "2  319.953928  287.300377   32.653551\n",
      "3  372.717386  331.838988   40.878398\n",
      "4  227.173500  331.471055 -104.297555\n",
      "5  395.945487  323.453513   72.491974\n",
      "6  349.737422  336.106838   13.630584\n",
      "7  308.226313  340.149710  -31.923398\n",
      "8  374.310253  336.772116   37.538137\n",
      "9  296.296857  341.117030  -44.820174\n"
     ]
    }
   ],
   "source": [
    "actual = []; \n",
    "pred = [] \n",
    "for i in range(len(predictions)):\n",
    "    actual.append(test[i]) \n",
    "    pred.append(predictions[i]) \n",
    "df_res = pd.DataFrame({'actual':actual, 'predicted':pred}) \n",
    "df_res['err'] = df_res.actual -df_res.predicted \n",
    "print(df_res)"
   ]
  },
  {
   "cell_type": "markdown",
   "id": "9dc525bc",
   "metadata": {},
   "source": [
    "### Plot actual vs. Predicted values"
   ]
  },
  {
   "cell_type": "code",
   "execution_count": 31,
   "id": "e443f6df",
   "metadata": {},
   "outputs": [
    {
     "data": {
      "text/plain": [
       "<AxesSubplot:>"
      ]
     },
     "execution_count": 31,
     "metadata": {},
     "output_type": "execute_result"
    },
    {
     "data": {
      "image/png": "[encoded data removed]",
      "text/plain": [
       "<Figure size 720x576 with 1 Axes>"
      ]
     },
     "metadata": {
      "needs_background": "light"
     },
     "output_type": "display_data"
    }
   ],
   "source": [
    "df_res.actual.plot(figsize=(10,8),legend=True) \n",
    "df_res.predicted.plot(legend=True)"
   ]
  },
  {
   "cell_type": "markdown",
   "id": "61d576d2",
   "metadata": {},
   "source": [
    "### Calculate Error terms"
   ]
  },
  {
   "cell_type": "code",
   "execution_count": 32,
   "id": "049c7743",
   "metadata": {},
   "outputs": [
    {
     "name": "stdout",
     "output_type": "stream",
     "text": [
      "\n",
      "\tMSE= 11630.061338938118\n",
      "\tRMSE = 107.84276210732975\n"
     ]
    }
   ],
   "source": [
    "mse1=mean_squared_error(df_res.actual,df_res.predicted)\n",
    "print(\"\\n\\tMSE= {}\\n\\tRMSE = {}\".format(mse1,np.sqrt(mse1)))"
   ]
  },
  {
   "cell_type": "markdown",
   "id": "84168f1a",
   "metadata": {},
   "source": [
    "### Plot the Errors "
   ]
  },
  {
   "cell_type": "code",
   "execution_count": 33,
   "id": "d5e23ebd",
   "metadata": {
    "scrolled": true
   },
   "outputs": [
    {
     "data": {
      "text/plain": [
       "<AxesSubplot:>"
      ]
     },
     "execution_count": 33,
     "metadata": {},
     "output_type": "execute_result"
    },
    {
     "data": {
      "image/png": "[encoded data removed]",
      "text/plain": [
       "<Figure size 432x288 with 1 Axes>"
      ]
     },
     "metadata": {
      "needs_background": "light"
     },
     "output_type": "display_data"
    }
   ],
   "source": [
    "df_res['err'].plot()"
   ]
  },
  {
   "cell_type": "markdown",
   "id": "b53ab778",
   "metadata": {},
   "source": [
    "### Forecast the future data using the model"
   ]
  },
  {
   "cell_type": "code",
   "execution_count": 34,
   "id": "d4b97f43",
   "metadata": {},
   "outputs": [
    {
     "name": "stdout",
     "output_type": "stream",
     "text": [
      "2018-01-31    354.845709\n",
      "2018-02-28    354.845709\n",
      "2018-03-31    354.845709\n",
      "2018-04-30    354.845709\n",
      "2018-05-31    354.845709\n",
      "2018-06-30    354.845709\n",
      "2018-07-31    354.845709\n",
      "2018-08-31    354.845709\n",
      "2018-09-30    354.845709\n",
      "2018-10-31    354.845709\n",
      "2018-11-30    354.845709\n",
      "2018-12-31    354.845709\n",
      "2019-01-31    354.845709\n",
      "Freq: M, Name: Forecast, dtype: float64\n"
     ]
    }
   ],
   "source": [
    "fcast= m_arima.predict(start=len(data), end=len(data)+12, typ='levels').rename('Forecast')\n",
    "print(fcast)"
   ]
  },
  {
   "cell_type": "code",
   "execution_count": 35,
   "id": "ed0a7da3",
   "metadata": {},
   "outputs": [
    {
     "data": {
      "text/plain": [
       "<AxesSubplot:xlabel='Order Date'>"
      ]
     },
     "execution_count": 35,
     "metadata": {},
     "output_type": "execute_result"
    },
    {
     "data": {
      "image/png": "[encoded data removed]",
      "text/plain": [
       "<Figure size 720x576 with 1 Axes>"
      ]
     },
     "metadata": {
      "needs_background": "light"
     },
     "output_type": "display_data"
    }
   ],
   "source": [
    "dfs['Sales'].plot(figsize=(10,8),legend=True) \n",
    "fcast.plot(legend=True)"
   ]
  },
  {
   "cell_type": "markdown",
   "id": "8823652a",
   "metadata": {},
   "source": [
    "## Observation on Forecast"
   ]
  },
  {
   "cell_type": "markdown",
   "id": "16ee4198",
   "metadata": {},
   "source": [
    "As there is no trend in the data the forecast plot of ARMA and ARIMA gives a straight line"
   ]
  },
  {
   "cell_type": "markdown",
   "id": "6ac28e95",
   "metadata": {},
   "source": [
    "# SARIMA Model"
   ]
  },
  {
   "cell_type": "code",
   "execution_count": 36,
   "id": "2db2cde5",
   "metadata": {},
   "outputs": [],
   "source": [
    "from pandas.plotting import autocorrelation_plot  \n",
    "from pandas.tseries.offsets import DateOffset"
   ]
  },
  {
   "cell_type": "code",
   "execution_count": 37,
   "id": "2c5013a9",
   "metadata": {},
   "outputs": [
    {
     "name": "stdout",
     "output_type": "stream",
     "text": [
      "                                     SARIMAX Results                                      \n",
      "==========================================================================================\n",
      "Dep. Variable:                              Sales   No. Observations:                   38\n",
      "Model:             SARIMAX(1, 1, 1)x(1, 1, 1, 12)   Log Likelihood                -158.247\n",
      "Date:                            Wed, 02 Feb 2022   AIC                            326.495\n",
      "Time:                                    15:03:05   BIC                            332.589\n",
      "Sample:                                01-31-2014   HQIC                           328.185\n",
      "                                     - 02-28-2017                                         \n",
      "Covariance Type:                              opg                                         \n",
      "==============================================================================\n",
      "                 coef    std err          z      P>|z|      [0.025      0.975]\n",
      "------------------------------------------------------------------------------\n",
      "ar.L1          0.0198      0.352      0.056      0.955      -0.670       0.710\n",
      "ma.L1         -0.9997    150.918     -0.007      0.995    -296.794     294.795\n",
      "ar.S.L12       0.0065      0.235      0.027      0.978      -0.454       0.467\n",
      "ma.S.L12      -0.9992    150.813     -0.007      0.995    -296.588     294.589\n",
      "sigma2      9456.3809      0.015   6.26e+05      0.000    9456.351    9456.410\n",
      "===================================================================================\n",
      "Ljung-Box (L1) (Q):                   0.29   Jarque-Bera (JB):                 0.59\n",
      "Prob(Q):                              0.59   Prob(JB):                         0.75\n",
      "Heteroskedasticity (H):               0.55   Skew:                            -0.24\n",
      "Prob(H) (two-sided):                  0.42   Kurtosis:                         2.43\n",
      "===================================================================================\n",
      "\n",
      "Warnings:\n",
      "[1] Covariance matrix calculated using the outer product of gradients (complex-step).\n",
      "[2] Covariance matrix is singular or near-singular, with condition number 4.72e+24. Standard errors may be unstable.\n"
     ]
    }
   ],
   "source": [
    "p=1; q=1; d=1\n",
    "m_sarima= sm.tsa.statespace.SARIMAX(train,order=(p,d,q),seasonal_order=(p,d,q,12)).fit()\n",
    "print(m_sarima.summary())"
   ]
  },
  {
   "cell_type": "markdown",
   "id": "2a2ca4a9",
   "metadata": {},
   "source": [
    "### Box-Jenkins test to check model's goodness"
   ]
  },
  {
   "cell_type": "code",
   "execution_count": 38,
   "id": "b9f53c75",
   "metadata": {},
   "outputs": [
    {
     "name": "stdout",
     "output_type": "stream",
     "text": [
      "Fail-to-Reject H0. Good model\n"
     ]
    }
   ],
   "source": [
    "pvalue = sm.stats.acorr_ljungbox(m_sarima.resid,lags=[1],return_df=True)['lb_pvalue'].values \n",
    "if pvalue < 0.05:\n",
    "    print(\"Reject H0. Bad model\") \n",
    "else:\n",
    "    print(\"Fail-to-Reject H0. Good model\")"
   ]
  },
  {
   "cell_type": "markdown",
   "id": "03bd7e9e",
   "metadata": {},
   "source": [
    "### Use the model for Predictions "
   ]
  },
  {
   "cell_type": "code",
   "execution_count": 39,
   "id": "07bd5a59",
   "metadata": {},
   "outputs": [
    {
     "name": "stdout",
     "output_type": "stream",
     "text": [
      "Order Date\n",
      "2014-01-31      0.000000\n",
      "2014-02-28    309.361354\n",
      "2014-03-31    263.563911\n",
      "2014-04-30    438.549194\n",
      "2014-05-31    307.825132\n",
      "2014-06-30    288.422091\n",
      "2014-07-31    437.568872\n",
      "2014-08-31    329.767955\n",
      "2014-09-30    305.482272\n",
      "2014-10-31    423.217780\n",
      "Freq: M, Name: predicted_mean, dtype: float64\n"
     ]
    }
   ],
   "source": [
    "predictions = m_sarima.predict(0,len(test)-1) \n",
    "print(predictions)"
   ]
  },
  {
   "cell_type": "markdown",
   "id": "fbb753b0",
   "metadata": {},
   "source": [
    "### Collate actual, predicted, and errors together"
   ]
  },
  {
   "cell_type": "code",
   "execution_count": 40,
   "id": "4cc382ed",
   "metadata": {},
   "outputs": [
    {
     "name": "stdout",
     "output_type": "stream",
     "text": [
      "       actual   predicted         err\n",
      "0  286.669600    0.000000  286.669600\n",
      "1  206.044502  309.361354 -103.316851\n",
      "2  319.953928  263.563911   56.390017\n",
      "3  372.717386  438.549194  -65.831808\n",
      "4  227.173500  307.825132  -80.651632\n",
      "5  395.945487  288.422091  107.523397\n",
      "6  349.737422  437.568872  -87.831451\n",
      "7  308.226313  329.767955  -21.541642\n",
      "8  374.310253  305.482272   68.827981\n",
      "9  296.296857  423.217780 -126.920923\n"
     ]
    }
   ],
   "source": [
    "actual = []; \n",
    "pred = [] \n",
    "for i in range(len(predictions)):\n",
    "    actual.append(test[i]) \n",
    "    pred.append(predictions[i]) \n",
    "df_res = pd.DataFrame({'actual':actual, 'predicted':pred}) \n",
    "df_res['err'] = df_res.actual -df_res.predicted \n",
    "print(df_res)"
   ]
  },
  {
   "cell_type": "markdown",
   "id": "16774716",
   "metadata": {},
   "source": [
    "### Plot actual vs. Predicted values"
   ]
  },
  {
   "cell_type": "code",
   "execution_count": 41,
   "id": "52a59d93",
   "metadata": {},
   "outputs": [
    {
     "data": {
      "text/plain": [
       "<AxesSubplot:>"
      ]
     },
     "execution_count": 41,
     "metadata": {},
     "output_type": "execute_result"
    },
    {
     "data": {
      "image/png": "[encoded data removed]",
      "text/plain": [
       "<Figure size 720x576 with 1 Axes>"
      ]
     },
     "metadata": {
      "needs_background": "light"
     },
     "output_type": "display_data"
    }
   ],
   "source": [
    "df_res.actual.plot(figsize=(10,8),legend=True) \n",
    "df_res.predicted.plot(legend=True)"
   ]
  },
  {
   "cell_type": "markdown",
   "id": "36c19fbc",
   "metadata": {},
   "source": [
    "### Calculate Error terms"
   ]
  },
  {
   "cell_type": "code",
   "execution_count": 42,
   "id": "57e2dc90",
   "metadata": {},
   "outputs": [
    {
     "name": "stdout",
     "output_type": "stream",
     "text": [
      "\n",
      "\tMSE= 14745.80766894049\n",
      "\tRMSE = 121.432317234501\n"
     ]
    }
   ],
   "source": [
    "mse1=mean_squared_error(df_res.actual,df_res.predicted)\n",
    "print(\"\\n\\tMSE= {}\\n\\tRMSE = {}\".format(mse1,np.sqrt(mse1)))"
   ]
  },
  {
   "cell_type": "markdown",
   "id": "8b1cd52d",
   "metadata": {},
   "source": [
    "### Plot the Errors"
   ]
  },
  {
   "cell_type": "code",
   "execution_count": 43,
   "id": "c32e2c49",
   "metadata": {},
   "outputs": [
    {
     "data": {
      "text/plain": [
       "<AxesSubplot:>"
      ]
     },
     "execution_count": 43,
     "metadata": {},
     "output_type": "execute_result"
    },
    {
     "data": {
      "image/png": "[encoded data removed]",
      "text/plain": [
       "<Figure size 432x288 with 1 Axes>"
      ]
     },
     "metadata": {
      "needs_background": "light"
     },
     "output_type": "display_data"
    }
   ],
   "source": [
    "df_res['err'].plot()"
   ]
  },
  {
   "cell_type": "markdown",
   "id": "323ca354",
   "metadata": {},
   "source": [
    "### Forecast the future data using the model"
   ]
  },
  {
   "cell_type": "code",
   "execution_count": 44,
   "id": "b38a5843",
   "metadata": {},
   "outputs": [
    {
     "name": "stdout",
     "output_type": "stream",
     "text": [
      "2018-01-31    382.462333\n",
      "2018-02-28    217.362895\n",
      "2018-03-31    353.812113\n",
      "2018-04-30    287.892930\n",
      "2018-05-31    271.786573\n",
      "2018-06-30    314.426624\n",
      "2018-07-31    289.255748\n",
      "2018-08-31    299.984316\n",
      "2018-09-30    350.957794\n",
      "2018-10-31    276.544720\n",
      "2018-11-30    334.419574\n",
      "2018-12-31    355.872621\n",
      "2019-01-31    368.160915\n",
      "Freq: M, Name: Forecast, dtype: float64\n"
     ]
    }
   ],
   "source": [
    "fcast= m_sarima.predict(start=len(data), end=len(data)+12, typ='levels').rename('Forecast')\n",
    "print(fcast)"
   ]
  },
  {
   "cell_type": "code",
   "execution_count": 45,
   "id": "3efb592e",
   "metadata": {},
   "outputs": [
    {
     "data": {
      "text/plain": [
       "<AxesSubplot:xlabel='Order Date'>"
      ]
     },
     "execution_count": 45,
     "metadata": {},
     "output_type": "execute_result"
    },
    {
     "data": {
      "image/png": "[encoded data removed]",
      "text/plain": [
       "<Figure size 720x576 with 1 Axes>"
      ]
     },
     "metadata": {
      "needs_background": "light"
     },
     "output_type": "display_data"
    }
   ],
   "source": [
    "dfs['Sales'].plot(figsize=(10,8),legend=True) \n",
    "fcast.plot(legend=True)"
   ]
  },
  {
   "cell_type": "markdown",
   "id": "23bc159d",
   "metadata": {},
   "source": [
    "# SARIMAX Model"
   ]
  },
  {
   "cell_type": "markdown",
   "id": "cc5e2f17",
   "metadata": {},
   "source": [
    "### Split Exogenous data into train and test parts"
   ]
  },
  {
   "cell_type": "code",
   "execution_count": 58,
   "id": "bf2cf365",
   "metadata": {},
   "outputs": [
    {
     "name": "stdout",
     "output_type": "stream",
     "text": [
      "exog_train = 38, train_df = 38\n"
     ]
    }
   ],
   "source": [
    "exog_train = train_df[['Quantity','Discount']] \n",
    "exog_test =test_df[['Quantity','Discount']]\n",
    "print('exog_train = {}, train_df = {}'.format( len(exog_train), len(train_df)))"
   ]
  },
  {
   "cell_type": "markdown",
   "id": "fe2a3125",
   "metadata": {},
   "source": [
    "### Build the SARIMAX model"
   ]
  },
  {
   "cell_type": "code",
   "execution_count": 53,
   "id": "f0cd914f",
   "metadata": {},
   "outputs": [
    {
     "name": "stdout",
     "output_type": "stream",
     "text": [
      "                                     SARIMAX Results                                      \n",
      "==========================================================================================\n",
      "Dep. Variable:                              Sales   No. Observations:                   38\n",
      "Model:             SARIMAX(2, 0, 1)x(1, 0, [], 7)   Log Likelihood                -216.298\n",
      "Date:                            Wed, 02 Feb 2022   AIC                            446.596\n",
      "Time:                                    15:17:57   BIC                            458.059\n",
      "Sample:                                01-31-2014   HQIC                           450.675\n",
      "                                     - 02-28-2017                                         \n",
      "Covariance Type:                              opg                                         \n",
      "==============================================================================\n",
      "                 coef    std err          z      P>|z|      [0.025      0.975]\n",
      "------------------------------------------------------------------------------\n",
      "x1            85.6355     17.099      5.008      0.000      52.122     119.149\n",
      "x2           135.1392    388.724      0.348      0.728    -626.746     897.024\n",
      "ar.L1         -0.5196      1.909     -0.272      0.785      -4.262       3.223\n",
      "ar.L2         -0.1416      0.311     -0.455      0.649      -0.752       0.469\n",
      "ma.L1          0.3551      1.981      0.179      0.858      -3.527       4.238\n",
      "ar.S.L7        0.0047      0.304      0.016      0.988      -0.591       0.601\n",
      "sigma2      5141.5062   1533.378      3.353      0.001    2136.141    8146.871\n",
      "===================================================================================\n",
      "Ljung-Box (L1) (Q):                   0.00   Jarque-Bera (JB):                15.28\n",
      "Prob(Q):                              0.96   Prob(JB):                         0.00\n",
      "Heteroskedasticity (H):               0.54   Skew:                             0.98\n",
      "Prob(H) (two-sided):                  0.28   Kurtosis:                         5.42\n",
      "===================================================================================\n",
      "\n",
      "Warnings:\n",
      "[1] Covariance matrix calculated using the outer product of gradients (complex-step).\n"
     ]
    }
   ],
   "source": [
    "from statsmodels.tsa.statespace.sarimax import SARIMAX\n",
    "model_exo = SARIMAX(train_df.Sales,order=(2,0,1),seasonal_order=(1,0,0,7),exog = exog_train.values).fit()\n",
    "print(model_exo.summary())"
   ]
  },
  {
   "cell_type": "markdown",
   "id": "ccd05d5c",
   "metadata": {},
   "source": [
    "### Forecast using the model"
   ]
  },
  {
   "cell_type": "code",
   "execution_count": 54,
   "id": "c2d7acef",
   "metadata": {},
   "outputs": [
    {
     "data": {
      "text/html": [
       "<div>\n",
       "<style scoped>\n",
       "    .dataframe tbody tr th:only-of-type {\n",
       "        vertical-align: middle;\n",
       "    }\n",
       "\n",
       "    .dataframe tbody tr th {\n",
       "        vertical-align: top;\n",
       "    }\n",
       "\n",
       "    .dataframe thead th {\n",
       "        text-align: right;\n",
       "    }\n",
       "</style>\n",
       "<table border=\"1\" class=\"dataframe\">\n",
       "  <thead>\n",
       "    <tr style=\"text-align: right;\">\n",
       "      <th></th>\n",
       "      <th>Sales</th>\n",
       "      <th>Quantity</th>\n",
       "      <th>Discount</th>\n",
       "      <th>Profit</th>\n",
       "    </tr>\n",
       "    <tr>\n",
       "      <th>Order Date</th>\n",
       "      <th></th>\n",
       "      <th></th>\n",
       "      <th></th>\n",
       "      <th></th>\n",
       "    </tr>\n",
       "  </thead>\n",
       "  <tbody>\n",
       "    <tr>\n",
       "      <th>2017-03-31</th>\n",
       "      <td>286.669600</td>\n",
       "      <td>3.236842</td>\n",
       "      <td>0.137895</td>\n",
       "      <td>26.338242</td>\n",
       "    </tr>\n",
       "    <tr>\n",
       "      <th>2017-04-30</th>\n",
       "      <td>206.044502</td>\n",
       "      <td>3.977273</td>\n",
       "      <td>0.176591</td>\n",
       "      <td>4.601418</td>\n",
       "    </tr>\n",
       "    <tr>\n",
       "      <th>2017-05-31</th>\n",
       "      <td>319.953928</td>\n",
       "      <td>3.471698</td>\n",
       "      <td>0.192264</td>\n",
       "      <td>-1.375149</td>\n",
       "    </tr>\n",
       "    <tr>\n",
       "      <th>2017-06-30</th>\n",
       "      <td>372.717386</td>\n",
       "      <td>3.450980</td>\n",
       "      <td>0.192549</td>\n",
       "      <td>17.745012</td>\n",
       "    </tr>\n",
       "    <tr>\n",
       "      <th>2017-07-31</th>\n",
       "      <td>227.173500</td>\n",
       "      <td>3.519231</td>\n",
       "      <td>0.149038</td>\n",
       "      <td>6.242777</td>\n",
       "    </tr>\n",
       "    <tr>\n",
       "      <th>2017-08-31</th>\n",
       "      <td>395.945487</td>\n",
       "      <td>3.256410</td>\n",
       "      <td>0.148718</td>\n",
       "      <td>8.262538</td>\n",
       "    </tr>\n",
       "    <tr>\n",
       "      <th>2017-09-30</th>\n",
       "      <td>349.737422</td>\n",
       "      <td>3.638554</td>\n",
       "      <td>0.156024</td>\n",
       "      <td>18.658840</td>\n",
       "    </tr>\n",
       "    <tr>\n",
       "      <th>2017-10-31</th>\n",
       "      <td>308.226313</td>\n",
       "      <td>3.549296</td>\n",
       "      <td>0.187606</td>\n",
       "      <td>-35.590427</td>\n",
       "    </tr>\n",
       "    <tr>\n",
       "      <th>2017-11-30</th>\n",
       "      <td>374.310253</td>\n",
       "      <td>3.676768</td>\n",
       "      <td>0.165556</td>\n",
       "      <td>4.101654</td>\n",
       "    </tr>\n",
       "    <tr>\n",
       "      <th>2017-12-31</th>\n",
       "      <td>296.296857</td>\n",
       "      <td>3.716981</td>\n",
       "      <td>0.172830</td>\n",
       "      <td>10.818442</td>\n",
       "    </tr>\n",
       "  </tbody>\n",
       "</table>\n",
       "</div>"
      ],
      "text/plain": [
       "                 Sales  Quantity  Discount     Profit\n",
       "Order Date                                           \n",
       "2017-03-31  286.669600  3.236842  0.137895  26.338242\n",
       "2017-04-30  206.044502  3.977273  0.176591   4.601418\n",
       "2017-05-31  319.953928  3.471698  0.192264  -1.375149\n",
       "2017-06-30  372.717386  3.450980  0.192549  17.745012\n",
       "2017-07-31  227.173500  3.519231  0.149038   6.242777\n",
       "2017-08-31  395.945487  3.256410  0.148718   8.262538\n",
       "2017-09-30  349.737422  3.638554  0.156024  18.658840\n",
       "2017-10-31  308.226313  3.549296  0.187606 -35.590427\n",
       "2017-11-30  374.310253  3.676768  0.165556   4.101654\n",
       "2017-12-31  296.296857  3.716981  0.172830  10.818442"
      ]
     },
     "execution_count": 54,
     "metadata": {},
     "output_type": "execute_result"
    }
   ],
   "source": [
    "test_df"
   ]
  },
  {
   "cell_type": "code",
   "execution_count": 55,
   "id": "9ff4209a",
   "metadata": {},
   "outputs": [
    {
     "data": {
      "text/plain": [
       "2017-03-31    303.733282\n",
       "2017-04-30    360.563686\n",
       "2017-05-31    323.717048\n",
       "2017-06-30    321.751048\n",
       "2017-07-31    321.673699\n",
       "2017-08-31    298.681810\n",
       "2017-09-30    332.655909\n",
       "2017-10-31    329.334060\n",
       "2017-11-30    337.220140\n",
       "2017-12-31    341.662328\n",
       "Freq: M, Name: predicted_mean, dtype: float64"
      ]
     },
     "execution_count": 55,
     "metadata": {},
     "output_type": "execute_result"
    }
   ],
   "source": [
    "forecast_exo = model_exo.forecast(len(test_df), exog=exog_test.values) \n",
    "forecast_exo"
   ]
  },
  {
   "cell_type": "markdown",
   "id": "8cf1a415",
   "metadata": {},
   "source": [
    "### Plot actual vs. Predicted values"
   ]
  },
  {
   "cell_type": "code",
   "execution_count": 56,
   "id": "af245588",
   "metadata": {},
   "outputs": [
    {
     "data": {
      "text/plain": [
       "<matplotlib.legend.Legend at 0x2a211b20e80>"
      ]
     },
     "execution_count": 56,
     "metadata": {},
     "output_type": "execute_result"
    },
    {
     "data": {
      "image/png": "[encoded data removed]",
      "text/plain": [
       "<Figure size 720x360 with 1 Axes>"
      ]
     },
     "metadata": {
      "needs_background": "light"
     },
     "output_type": "display_data"
    }
   ],
   "source": [
    "plt.figure(figsize=(10,5)) \n",
    "plt.plot(forecast_exo, 'r', label = 'Predictions') \n",
    "plt.plot(test_df.Sales, 'b', label='Actual') \n",
    "plt.xlabel('Day') \n",
    "plt.ylabel('Sales')\n",
    "plt.legend() "
   ]
  },
  {
   "cell_type": "markdown",
   "id": "3ee4e70b",
   "metadata": {},
   "source": [
    "### Calculate Error terms"
   ]
  },
  {
   "cell_type": "code",
   "execution_count": 57,
   "id": "95bc4d61",
   "metadata": {},
   "outputs": [
    {
     "name": "stdout",
     "output_type": "stream",
     "text": [
      "RMSE: 70.24286735970927\n"
     ]
    }
   ],
   "source": [
    "mse1 = mean_squared_error(test_df.Sales,forecast_exo) \n",
    "print('RMSE: ' + str(np.sqrt(mse1) ))"
   ]
  },
  {
   "cell_type": "code",
   "execution_count": 61,
   "id": "c9eb2328",
   "metadata": {},
   "outputs": [
    {
     "data": {
      "image/png": "[encoded data removed]",
      "text/plain": [
       "<Figure size 720x360 with 1 Axes>"
      ]
     },
     "metadata": {
      "needs_background": "light"
     },
     "output_type": "display_data"
    }
   ],
   "source": [
    "plt.figure(figsize=(10,5))\n",
    "plt.plot(forecast_exo, 'r', label = 'forecast')\n",
    "plt.plot(train, 'b', label='past')\n",
    "plt.xlabel('Day')\n",
    "plt.ylabel('meantemp')\n",
    "plt.legend()\n",
    "plt.show()"
   ]
  },
  {
   "cell_type": "markdown",
   "id": "1000f273",
   "metadata": {},
   "source": [
    "We cannot forecast for SARIMAX as we don't have Exogenous test values"
   ]
  },
  {
   "cell_type": "markdown",
   "id": "e690b662",
   "metadata": {},
   "source": [
    "# Observations and Conclusion:"
   ]
  },
  {
   "cell_type": "markdown",
   "id": "9278dea5",
   "metadata": {},
   "source": [
    "### ARMA Model(1,0,1):  \n",
    "    AIC  460.331  \n",
    "    RMSE 73.6531351053026     \n",
    "        \n",
    "### ARIMA Model(1,1,1):  \n",
    "    AIC  451.194  \n",
    "    RMSE 107.84276220584547 \n",
    "    \n",
    "### SARIMA Model[(1, 1, 1)x(1, 1, 1, 12)]:  \n",
    "    AIC  326.495  \n",
    "    RMSE 121.432320180903    \n",
    "       \n",
    "### SARIMAX Model:  \n",
    "    AIC  446.596  \n",
    "    RMSE 70.24286735970927  "
   ]
  },
  {
   "cell_type": "markdown",
   "id": "5b556223",
   "metadata": {},
   "source": [
    "### SARIMAX with Exogenous splitting is best model for this dataset . Next preferred model would be ARMA as the data is stationary no differencing of data is necessary"
   ]
  }
 ],
 "metadata": {
  "kernelspec": {
   "display_name": "Python 3",
   "language": "python",
   "name": "python3"
  },
  "language_info": {
   "codemirror_mode": {
    "name": "ipython",
    "version": 3
   },
   "file_extension": ".py",
   "mimetype": "text/x-python",
   "name": "python",
   "nbconvert_exporter": "python",
   "pygments_lexer": "ipython3",
   "version": "3.8.8"
  }
 },
 "nbformat": 4,
 "nbformat_minor": 5
}
