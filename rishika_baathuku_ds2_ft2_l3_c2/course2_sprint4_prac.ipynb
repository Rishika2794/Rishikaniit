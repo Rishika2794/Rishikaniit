{
 "cells": [
  {
   "cell_type": "code",
   "execution_count": 1,
   "id": "c66090dc",
   "metadata": {},
   "outputs": [],
   "source": [
    "import pandas as pd, numpy as np\n",
    "from sklearn.model_selection import train_test_split\n",
    "from sklearn.preprocessing import MinMaxScaler\n",
    "import tensorflow as tf\n",
    "import keras\n",
    "from matplotlib import pyplot as plt\n",
    "import seaborn as sns\n",
    "import warnings\n",
    "from sklearn.metrics import mean_squared_error\n",
    "from tensorflow.keras.models import Sequential\n",
    "from tensorflow.keras.layers import Dense\n",
    "warnings.filterwarnings('ignore')"
   ]
  },
  {
   "cell_type": "markdown",
   "id": "33b206e7",
   "metadata": {},
   "source": [
    "# Data Reading and Data Exploration "
   ]
  },
  {
   "cell_type": "code",
   "execution_count": 2,
   "id": "7306d201",
   "metadata": {},
   "outputs": [
    {
     "data": {
      "text/html": [
       "<div>\n",
       "<style scoped>\n",
       "    .dataframe tbody tr th:only-of-type {\n",
       "        vertical-align: middle;\n",
       "    }\n",
       "\n",
       "    .dataframe tbody tr th {\n",
       "        vertical-align: top;\n",
       "    }\n",
       "\n",
       "    .dataframe thead th {\n",
       "        text-align: right;\n",
       "    }\n",
       "</style>\n",
       "<table border=\"1\" class=\"dataframe\">\n",
       "  <thead>\n",
       "    <tr style=\"text-align: right;\">\n",
       "      <th></th>\n",
       "      <th>fixed acidity</th>\n",
       "      <th>volatile acidity</th>\n",
       "      <th>citric acid</th>\n",
       "      <th>residual sugar</th>\n",
       "      <th>chlorides</th>\n",
       "      <th>free sulfur dioxide</th>\n",
       "      <th>total sulfur dioxide</th>\n",
       "      <th>density</th>\n",
       "      <th>pH</th>\n",
       "      <th>sulphates</th>\n",
       "      <th>alcohol</th>\n",
       "      <th>quality</th>\n",
       "    </tr>\n",
       "  </thead>\n",
       "  <tbody>\n",
       "    <tr>\n",
       "      <th>0</th>\n",
       "      <td>7.0</td>\n",
       "      <td>0.27</td>\n",
       "      <td>0.36</td>\n",
       "      <td>20.7</td>\n",
       "      <td>0.045</td>\n",
       "      <td>45.0</td>\n",
       "      <td>170.0</td>\n",
       "      <td>1.0010</td>\n",
       "      <td>3.00</td>\n",
       "      <td>0.45</td>\n",
       "      <td>8.8</td>\n",
       "      <td>6</td>\n",
       "    </tr>\n",
       "    <tr>\n",
       "      <th>1</th>\n",
       "      <td>6.3</td>\n",
       "      <td>0.30</td>\n",
       "      <td>0.34</td>\n",
       "      <td>1.6</td>\n",
       "      <td>0.049</td>\n",
       "      <td>14.0</td>\n",
       "      <td>132.0</td>\n",
       "      <td>0.9940</td>\n",
       "      <td>3.30</td>\n",
       "      <td>0.49</td>\n",
       "      <td>9.5</td>\n",
       "      <td>6</td>\n",
       "    </tr>\n",
       "    <tr>\n",
       "      <th>2</th>\n",
       "      <td>8.1</td>\n",
       "      <td>0.28</td>\n",
       "      <td>0.40</td>\n",
       "      <td>6.9</td>\n",
       "      <td>0.050</td>\n",
       "      <td>30.0</td>\n",
       "      <td>97.0</td>\n",
       "      <td>0.9951</td>\n",
       "      <td>3.26</td>\n",
       "      <td>0.44</td>\n",
       "      <td>10.1</td>\n",
       "      <td>6</td>\n",
       "    </tr>\n",
       "    <tr>\n",
       "      <th>3</th>\n",
       "      <td>7.2</td>\n",
       "      <td>0.23</td>\n",
       "      <td>0.32</td>\n",
       "      <td>8.5</td>\n",
       "      <td>0.058</td>\n",
       "      <td>47.0</td>\n",
       "      <td>186.0</td>\n",
       "      <td>0.9956</td>\n",
       "      <td>3.19</td>\n",
       "      <td>0.40</td>\n",
       "      <td>9.9</td>\n",
       "      <td>6</td>\n",
       "    </tr>\n",
       "    <tr>\n",
       "      <th>4</th>\n",
       "      <td>7.2</td>\n",
       "      <td>0.23</td>\n",
       "      <td>0.32</td>\n",
       "      <td>8.5</td>\n",
       "      <td>0.058</td>\n",
       "      <td>47.0</td>\n",
       "      <td>186.0</td>\n",
       "      <td>0.9956</td>\n",
       "      <td>3.19</td>\n",
       "      <td>0.40</td>\n",
       "      <td>9.9</td>\n",
       "      <td>6</td>\n",
       "    </tr>\n",
       "  </tbody>\n",
       "</table>\n",
       "</div>"
      ],
      "text/plain": [
       "   fixed acidity  volatile acidity  citric acid  residual sugar  chlorides  \\\n",
       "0            7.0              0.27         0.36            20.7      0.045   \n",
       "1            6.3              0.30         0.34             1.6      0.049   \n",
       "2            8.1              0.28         0.40             6.9      0.050   \n",
       "3            7.2              0.23         0.32             8.5      0.058   \n",
       "4            7.2              0.23         0.32             8.5      0.058   \n",
       "\n",
       "   free sulfur dioxide  total sulfur dioxide  density    pH  sulphates  \\\n",
       "0                 45.0                 170.0   1.0010  3.00       0.45   \n",
       "1                 14.0                 132.0   0.9940  3.30       0.49   \n",
       "2                 30.0                  97.0   0.9951  3.26       0.44   \n",
       "3                 47.0                 186.0   0.9956  3.19       0.40   \n",
       "4                 47.0                 186.0   0.9956  3.19       0.40   \n",
       "\n",
       "   alcohol  quality  \n",
       "0      8.8        6  \n",
       "1      9.5        6  \n",
       "2     10.1        6  \n",
       "3      9.9        6  \n",
       "4      9.9        6  "
      ]
     },
     "execution_count": 2,
     "metadata": {},
     "output_type": "execute_result"
    }
   ],
   "source": [
    "data = pd.read_csv(r\"C:\\Users\\anant\\Downloads\\DS3_C2_S4_Regression_Practice_WhiteWine_Data.csv\")\n",
    "data.head()"
   ]
  },
  {
   "cell_type": "code",
   "execution_count": 3,
   "id": "ef94d034",
   "metadata": {},
   "outputs": [
    {
     "data": {
      "text/plain": [
       "(4898, 12)"
      ]
     },
     "execution_count": 3,
     "metadata": {},
     "output_type": "execute_result"
    }
   ],
   "source": [
    "data.shape"
   ]
  },
  {
   "cell_type": "code",
   "execution_count": 4,
   "id": "729cbc5e",
   "metadata": {},
   "outputs": [
    {
     "data": {
      "text/plain": [
       "fixed acidity           float64\n",
       "volatile acidity        float64\n",
       "citric acid             float64\n",
       "residual sugar          float64\n",
       "chlorides               float64\n",
       "free sulfur dioxide     float64\n",
       "total sulfur dioxide    float64\n",
       "density                 float64\n",
       "pH                      float64\n",
       "sulphates               float64\n",
       "alcohol                 float64\n",
       "quality                   int64\n",
       "dtype: object"
      ]
     },
     "execution_count": 4,
     "metadata": {},
     "output_type": "execute_result"
    }
   ],
   "source": [
    "data.dtypes"
   ]
  },
  {
   "cell_type": "code",
   "execution_count": 5,
   "id": "34699b1d",
   "metadata": {},
   "outputs": [
    {
     "data": {
      "text/plain": [
       "fixed acidity           0\n",
       "volatile acidity        0\n",
       "citric acid             0\n",
       "residual sugar          0\n",
       "chlorides               0\n",
       "free sulfur dioxide     0\n",
       "total sulfur dioxide    0\n",
       "density                 0\n",
       "pH                      0\n",
       "sulphates               0\n",
       "alcohol                 0\n",
       "quality                 0\n",
       "dtype: int64"
      ]
     },
     "execution_count": 5,
     "metadata": {},
     "output_type": "execute_result"
    }
   ],
   "source": [
    "data.isnull().sum()"
   ]
  },
  {
   "cell_type": "markdown",
   "id": "49c670c9",
   "metadata": {},
   "source": [
    "## Checking for Singularity"
   ]
  },
  {
   "cell_type": "code",
   "execution_count": 6,
   "id": "e0d57134",
   "metadata": {},
   "outputs": [
    {
     "data": {
      "text/plain": [
       "6    0.448755\n",
       "5    0.297468\n",
       "7    0.179665\n",
       "8    0.035729\n",
       "4    0.033279\n",
       "3    0.004083\n",
       "9    0.001021\n",
       "Name: quality, dtype: float64"
      ]
     },
     "execution_count": 6,
     "metadata": {},
     "output_type": "execute_result"
    }
   ],
   "source": [
    "data.quality.value_counts() / len(data)"
   ]
  },
  {
   "cell_type": "markdown",
   "id": "95df1f65",
   "metadata": {},
   "source": [
    "# Required Functions for Data Splitting and Visualization"
   ]
  },
  {
   "cell_type": "code",
   "execution_count": 51,
   "id": "8c652c89",
   "metadata": {},
   "outputs": [],
   "source": [
    "def splitdata(data,y,ratio=0.3):\n",
    "    trainx,testx,trainy,testy = train_test_split(data.drop(y,1), data[y],test_size=ratio)\n",
    "    \n",
    "    return(trainx,trainy,testx,testy)"
   ]
  },
  {
   "cell_type": "code",
   "execution_count": 52,
   "id": "99b778ed",
   "metadata": {},
   "outputs": [
    {
     "name": "stdout",
     "output_type": "stream",
     "text": [
      "['fixed acidity', 'volatile acidity', 'citric acid', 'residual sugar', 'chlorides', 'free sulfur dioxide', 'total sulfur dioxide', 'density', 'pH', 'sulphates', 'quality']\n"
     ]
    }
   ],
   "source": [
    "y = 'alcohol'\n",
    "nc=list(data.columns)\n",
    "nc.remove(y)\n",
    "print(nc)"
   ]
  },
  {
   "cell_type": "code",
   "execution_count": 53,
   "id": "a620f9cc",
   "metadata": {},
   "outputs": [],
   "source": [
    "def plotdata(data,nc,ctype):\n",
    "    if ctype not in ['h','b','m']:\n",
    "        ret = 'Invalid chart type'.format(ctype)\n",
    "        return(ret)\n",
    "    \n",
    "    if (ctype=='m'):\n",
    "        cor = data.corr()\n",
    "        cor = np.tril(cor)\n",
    "        plt.figure(figsize=(12,8))\n",
    "        plt.title('Correlation matrix')\n",
    "        sns.heatmap(cor,xticklabels=nc,yticklabels=nc,vmin=-1,vmax=1,annot=True)\n",
    "    \n",
    "    else:\n",
    "        COLS = 2\n",
    "        ROWS = int(np.ceil(len(nc)/2))\n",
    "        POS = 1\n",
    "        fig,ax=plt.subplots(ROWS,COLS,figsize=(15,10))\n",
    "        \n",
    "        for c in nc:\n",
    "            fig.add_subplot(ROWS,COLS,POS)\n",
    "            if(ctype=='h'):\n",
    "                sns.histplot(data[c],bins=20,color='green')\n",
    "            else:\n",
    "                sns.boxplot(data[c],color='yellow')\n",
    "                \n",
    "            POS+=1"
   ]
  },
  {
   "cell_type": "code",
   "execution_count": 54,
   "id": "2c01aa6f",
   "metadata": {},
   "outputs": [
    {
     "data": {
      "image/png": "[encoded data removed]",
      "text/plain": [
       "<Figure size 1080x720 with 23 Axes>"
      ]
     },
     "metadata": {
      "needs_background": "light"
     },
     "output_type": "display_data"
    }
   ],
   "source": [
    "plotdata(data,nc,'h')"
   ]
  },
  {
   "cell_type": "code",
   "execution_count": 55,
   "id": "05642a9c",
   "metadata": {},
   "outputs": [
    {
     "data": {
      "image/png": "[encoded data removed]",
      "text/plain": [
       "<Figure size 1080x720 with 23 Axes>"
      ]
     },
     "metadata": {
      "needs_background": "light"
     },
     "output_type": "display_data"
    }
   ],
   "source": [
    "plotdata(data,nc,'b')"
   ]
  },
  {
   "cell_type": "code",
   "execution_count": 56,
   "id": "632037fd",
   "metadata": {},
   "outputs": [
    {
     "data": {
      "image/png": "[encoded data removed]",
      "text/plain": [
       "<Figure size 864x576 with 2 Axes>"
      ]
     },
     "metadata": {
      "needs_background": "light"
     },
     "output_type": "display_data"
    }
   ],
   "source": [
    "plotdata(data,nc,'m')"
   ]
  },
  {
   "cell_type": "markdown",
   "id": "e51a56e3",
   "metadata": {},
   "source": [
    "# Data Normalization"
   ]
  },
  {
   "cell_type": "code",
   "execution_count": 57,
   "id": "b21dbee7",
   "metadata": {},
   "outputs": [],
   "source": [
    "mm = MinMaxScaler()"
   ]
  },
  {
   "cell_type": "code",
   "execution_count": 58,
   "id": "7995014f",
   "metadata": {},
   "outputs": [
    {
     "data": {
      "text/html": [
       "<div>\n",
       "<style scoped>\n",
       "    .dataframe tbody tr th:only-of-type {\n",
       "        vertical-align: middle;\n",
       "    }\n",
       "\n",
       "    .dataframe tbody tr th {\n",
       "        vertical-align: top;\n",
       "    }\n",
       "\n",
       "    .dataframe thead th {\n",
       "        text-align: right;\n",
       "    }\n",
       "</style>\n",
       "<table border=\"1\" class=\"dataframe\">\n",
       "  <thead>\n",
       "    <tr style=\"text-align: right;\">\n",
       "      <th></th>\n",
       "      <th>fixed acidity</th>\n",
       "      <th>volatile acidity</th>\n",
       "      <th>citric acid</th>\n",
       "      <th>residual sugar</th>\n",
       "      <th>chlorides</th>\n",
       "      <th>free sulfur dioxide</th>\n",
       "      <th>total sulfur dioxide</th>\n",
       "      <th>density</th>\n",
       "      <th>pH</th>\n",
       "      <th>sulphates</th>\n",
       "      <th>alcohol</th>\n",
       "      <th>quality</th>\n",
       "    </tr>\n",
       "  </thead>\n",
       "  <tbody>\n",
       "    <tr>\n",
       "      <th>0</th>\n",
       "      <td>0.307692</td>\n",
       "      <td>0.186275</td>\n",
       "      <td>0.216867</td>\n",
       "      <td>0.308282</td>\n",
       "      <td>0.106825</td>\n",
       "      <td>0.149826</td>\n",
       "      <td>0.373550</td>\n",
       "      <td>0.267785</td>\n",
       "      <td>0.254545</td>\n",
       "      <td>0.267442</td>\n",
       "      <td>0.129032</td>\n",
       "      <td>0.5</td>\n",
       "    </tr>\n",
       "    <tr>\n",
       "      <th>1</th>\n",
       "      <td>0.240385</td>\n",
       "      <td>0.215686</td>\n",
       "      <td>0.204819</td>\n",
       "      <td>0.015337</td>\n",
       "      <td>0.118694</td>\n",
       "      <td>0.041812</td>\n",
       "      <td>0.285383</td>\n",
       "      <td>0.132832</td>\n",
       "      <td>0.527273</td>\n",
       "      <td>0.313953</td>\n",
       "      <td>0.241935</td>\n",
       "      <td>0.5</td>\n",
       "    </tr>\n",
       "    <tr>\n",
       "      <th>2</th>\n",
       "      <td>0.413462</td>\n",
       "      <td>0.196078</td>\n",
       "      <td>0.240964</td>\n",
       "      <td>0.096626</td>\n",
       "      <td>0.121662</td>\n",
       "      <td>0.097561</td>\n",
       "      <td>0.204176</td>\n",
       "      <td>0.154039</td>\n",
       "      <td>0.490909</td>\n",
       "      <td>0.255814</td>\n",
       "      <td>0.338710</td>\n",
       "      <td>0.5</td>\n",
       "    </tr>\n",
       "    <tr>\n",
       "      <th>3</th>\n",
       "      <td>0.326923</td>\n",
       "      <td>0.147059</td>\n",
       "      <td>0.192771</td>\n",
       "      <td>0.121166</td>\n",
       "      <td>0.145401</td>\n",
       "      <td>0.156794</td>\n",
       "      <td>0.410673</td>\n",
       "      <td>0.163678</td>\n",
       "      <td>0.427273</td>\n",
       "      <td>0.209302</td>\n",
       "      <td>0.306452</td>\n",
       "      <td>0.5</td>\n",
       "    </tr>\n",
       "    <tr>\n",
       "      <th>4</th>\n",
       "      <td>0.326923</td>\n",
       "      <td>0.147059</td>\n",
       "      <td>0.192771</td>\n",
       "      <td>0.121166</td>\n",
       "      <td>0.145401</td>\n",
       "      <td>0.156794</td>\n",
       "      <td>0.410673</td>\n",
       "      <td>0.163678</td>\n",
       "      <td>0.427273</td>\n",
       "      <td>0.209302</td>\n",
       "      <td>0.306452</td>\n",
       "      <td>0.5</td>\n",
       "    </tr>\n",
       "  </tbody>\n",
       "</table>\n",
       "</div>"
      ],
      "text/plain": [
       "   fixed acidity  volatile acidity  citric acid  residual sugar  chlorides  \\\n",
       "0       0.307692          0.186275     0.216867        0.308282   0.106825   \n",
       "1       0.240385          0.215686     0.204819        0.015337   0.118694   \n",
       "2       0.413462          0.196078     0.240964        0.096626   0.121662   \n",
       "3       0.326923          0.147059     0.192771        0.121166   0.145401   \n",
       "4       0.326923          0.147059     0.192771        0.121166   0.145401   \n",
       "\n",
       "   free sulfur dioxide  total sulfur dioxide   density        pH  sulphates  \\\n",
       "0             0.149826              0.373550  0.267785  0.254545   0.267442   \n",
       "1             0.041812              0.285383  0.132832  0.527273   0.313953   \n",
       "2             0.097561              0.204176  0.154039  0.490909   0.255814   \n",
       "3             0.156794              0.410673  0.163678  0.427273   0.209302   \n",
       "4             0.156794              0.410673  0.163678  0.427273   0.209302   \n",
       "\n",
       "    alcohol  quality  \n",
       "0  0.129032      0.5  \n",
       "1  0.241935      0.5  \n",
       "2  0.338710      0.5  \n",
       "3  0.306452      0.5  \n",
       "4  0.306452      0.5  "
      ]
     },
     "execution_count": 58,
     "metadata": {},
     "output_type": "execute_result"
    }
   ],
   "source": [
    "data_tr = data.copy()\n",
    "data_tr.iloc[:,:]=mm.fit_transform(data.iloc[:,:])\n",
    "data_tr.head()"
   ]
  },
  {
   "cell_type": "code",
   "execution_count": 59,
   "id": "d0508a8a",
   "metadata": {},
   "outputs": [
    {
     "data": {
      "text/html": [
       "<div>\n",
       "<style scoped>\n",
       "    .dataframe tbody tr th:only-of-type {\n",
       "        vertical-align: middle;\n",
       "    }\n",
       "\n",
       "    .dataframe tbody tr th {\n",
       "        vertical-align: top;\n",
       "    }\n",
       "\n",
       "    .dataframe thead th {\n",
       "        text-align: right;\n",
       "    }\n",
       "</style>\n",
       "<table border=\"1\" class=\"dataframe\">\n",
       "  <thead>\n",
       "    <tr style=\"text-align: right;\">\n",
       "      <th></th>\n",
       "      <th>fixed acidity</th>\n",
       "      <th>volatile acidity</th>\n",
       "      <th>citric acid</th>\n",
       "      <th>residual sugar</th>\n",
       "      <th>chlorides</th>\n",
       "      <th>free sulfur dioxide</th>\n",
       "      <th>total sulfur dioxide</th>\n",
       "      <th>density</th>\n",
       "      <th>pH</th>\n",
       "      <th>sulphates</th>\n",
       "      <th>alcohol</th>\n",
       "      <th>quality</th>\n",
       "    </tr>\n",
       "  </thead>\n",
       "  <tbody>\n",
       "    <tr>\n",
       "      <th>0</th>\n",
       "      <td>0.307692</td>\n",
       "      <td>0.186275</td>\n",
       "      <td>0.216867</td>\n",
       "      <td>0.308282</td>\n",
       "      <td>0.106825</td>\n",
       "      <td>0.149826</td>\n",
       "      <td>0.373550</td>\n",
       "      <td>0.267785</td>\n",
       "      <td>0.254545</td>\n",
       "      <td>0.267442</td>\n",
       "      <td>8.8</td>\n",
       "      <td>0.5</td>\n",
       "    </tr>\n",
       "    <tr>\n",
       "      <th>1</th>\n",
       "      <td>0.240385</td>\n",
       "      <td>0.215686</td>\n",
       "      <td>0.204819</td>\n",
       "      <td>0.015337</td>\n",
       "      <td>0.118694</td>\n",
       "      <td>0.041812</td>\n",
       "      <td>0.285383</td>\n",
       "      <td>0.132832</td>\n",
       "      <td>0.527273</td>\n",
       "      <td>0.313953</td>\n",
       "      <td>9.5</td>\n",
       "      <td>0.5</td>\n",
       "    </tr>\n",
       "    <tr>\n",
       "      <th>2</th>\n",
       "      <td>0.413462</td>\n",
       "      <td>0.196078</td>\n",
       "      <td>0.240964</td>\n",
       "      <td>0.096626</td>\n",
       "      <td>0.121662</td>\n",
       "      <td>0.097561</td>\n",
       "      <td>0.204176</td>\n",
       "      <td>0.154039</td>\n",
       "      <td>0.490909</td>\n",
       "      <td>0.255814</td>\n",
       "      <td>10.1</td>\n",
       "      <td>0.5</td>\n",
       "    </tr>\n",
       "    <tr>\n",
       "      <th>3</th>\n",
       "      <td>0.326923</td>\n",
       "      <td>0.147059</td>\n",
       "      <td>0.192771</td>\n",
       "      <td>0.121166</td>\n",
       "      <td>0.145401</td>\n",
       "      <td>0.156794</td>\n",
       "      <td>0.410673</td>\n",
       "      <td>0.163678</td>\n",
       "      <td>0.427273</td>\n",
       "      <td>0.209302</td>\n",
       "      <td>9.9</td>\n",
       "      <td>0.5</td>\n",
       "    </tr>\n",
       "    <tr>\n",
       "      <th>4</th>\n",
       "      <td>0.326923</td>\n",
       "      <td>0.147059</td>\n",
       "      <td>0.192771</td>\n",
       "      <td>0.121166</td>\n",
       "      <td>0.145401</td>\n",
       "      <td>0.156794</td>\n",
       "      <td>0.410673</td>\n",
       "      <td>0.163678</td>\n",
       "      <td>0.427273</td>\n",
       "      <td>0.209302</td>\n",
       "      <td>9.9</td>\n",
       "      <td>0.5</td>\n",
       "    </tr>\n",
       "  </tbody>\n",
       "</table>\n",
       "</div>"
      ],
      "text/plain": [
       "   fixed acidity  volatile acidity  citric acid  residual sugar  chlorides  \\\n",
       "0       0.307692          0.186275     0.216867        0.308282   0.106825   \n",
       "1       0.240385          0.215686     0.204819        0.015337   0.118694   \n",
       "2       0.413462          0.196078     0.240964        0.096626   0.121662   \n",
       "3       0.326923          0.147059     0.192771        0.121166   0.145401   \n",
       "4       0.326923          0.147059     0.192771        0.121166   0.145401   \n",
       "\n",
       "   free sulfur dioxide  total sulfur dioxide   density        pH  sulphates  \\\n",
       "0             0.149826              0.373550  0.267785  0.254545   0.267442   \n",
       "1             0.041812              0.285383  0.132832  0.527273   0.313953   \n",
       "2             0.097561              0.204176  0.154039  0.490909   0.255814   \n",
       "3             0.156794              0.410673  0.163678  0.427273   0.209302   \n",
       "4             0.156794              0.410673  0.163678  0.427273   0.209302   \n",
       "\n",
       "   alcohol  quality  \n",
       "0      8.8      0.5  \n",
       "1      9.5      0.5  \n",
       "2     10.1      0.5  \n",
       "3      9.9      0.5  \n",
       "4      9.9      0.5  "
      ]
     },
     "execution_count": 59,
     "metadata": {},
     "output_type": "execute_result"
    }
   ],
   "source": [
    "data_tr.alcohol = data.alcohol\n",
    "data_tr.head()"
   ]
  },
  {
   "cell_type": "markdown",
   "id": "8e8c6620",
   "metadata": {},
   "source": [
    "## Data Visualisation of Normalised data"
   ]
  },
  {
   "cell_type": "code",
   "execution_count": 60,
   "id": "fad5a663",
   "metadata": {},
   "outputs": [
    {
     "data": {
      "image/png": "[encoded data removed]",
      "text/plain": [
       "<Figure size 864x576 with 2 Axes>"
      ]
     },
     "metadata": {
      "needs_background": "light"
     },
     "output_type": "display_data"
    }
   ],
   "source": [
    "plotdata(data_tr,data_tr.columns,'m')"
   ]
  },
  {
   "cell_type": "markdown",
   "id": "b65f63cf",
   "metadata": {},
   "source": [
    "# Data Splitting"
   ]
  },
  {
   "cell_type": "code",
   "execution_count": 61,
   "id": "f97cccef",
   "metadata": {},
   "outputs": [],
   "source": [
    "trainx1,trainy1,testx1,testy1 = splitdata(data_tr,y)"
   ]
  },
  {
   "cell_type": "code",
   "execution_count": 62,
   "id": "bff34769",
   "metadata": {},
   "outputs": [
    {
     "name": "stdout",
     "output_type": "stream",
     "text": [
      "trainx=(3428, 11),trainy=(3428,),testx=(1470, 11),testy=(1470,)\n"
     ]
    }
   ],
   "source": [
    "print('trainx={},trainy={},testx={},testy={}'.format(trainx1.shape, trainy1.shape, testx1.shape, testy1.shape))"
   ]
  },
  {
   "cell_type": "code",
   "execution_count": 63,
   "id": "184879ef",
   "metadata": {},
   "outputs": [
    {
     "data": {
      "text/html": [
       "<div>\n",
       "<style scoped>\n",
       "    .dataframe tbody tr th:only-of-type {\n",
       "        vertical-align: middle;\n",
       "    }\n",
       "\n",
       "    .dataframe tbody tr th {\n",
       "        vertical-align: top;\n",
       "    }\n",
       "\n",
       "    .dataframe thead th {\n",
       "        text-align: right;\n",
       "    }\n",
       "</style>\n",
       "<table border=\"1\" class=\"dataframe\">\n",
       "  <thead>\n",
       "    <tr style=\"text-align: right;\">\n",
       "      <th></th>\n",
       "      <th>fixed acidity</th>\n",
       "      <th>volatile acidity</th>\n",
       "      <th>citric acid</th>\n",
       "      <th>residual sugar</th>\n",
       "      <th>chlorides</th>\n",
       "      <th>free sulfur dioxide</th>\n",
       "      <th>total sulfur dioxide</th>\n",
       "      <th>density</th>\n",
       "      <th>pH</th>\n",
       "      <th>sulphates</th>\n",
       "      <th>quality</th>\n",
       "    </tr>\n",
       "  </thead>\n",
       "  <tbody>\n",
       "    <tr>\n",
       "      <th>4576</th>\n",
       "      <td>0.201923</td>\n",
       "      <td>0.215686</td>\n",
       "      <td>0.174699</td>\n",
       "      <td>0.007669</td>\n",
       "      <td>0.080119</td>\n",
       "      <td>0.073171</td>\n",
       "      <td>0.109049</td>\n",
       "      <td>0.063428</td>\n",
       "      <td>0.427273</td>\n",
       "      <td>0.186047</td>\n",
       "      <td>0.333333</td>\n",
       "    </tr>\n",
       "    <tr>\n",
       "      <th>983</th>\n",
       "      <td>0.182692</td>\n",
       "      <td>0.274510</td>\n",
       "      <td>0.204819</td>\n",
       "      <td>0.055215</td>\n",
       "      <td>0.050445</td>\n",
       "      <td>0.066202</td>\n",
       "      <td>0.157773</td>\n",
       "      <td>0.069211</td>\n",
       "      <td>0.627273</td>\n",
       "      <td>0.267442</td>\n",
       "      <td>0.500000</td>\n",
       "    </tr>\n",
       "    <tr>\n",
       "      <th>3801</th>\n",
       "      <td>0.432692</td>\n",
       "      <td>0.098039</td>\n",
       "      <td>0.180723</td>\n",
       "      <td>0.007669</td>\n",
       "      <td>0.071217</td>\n",
       "      <td>0.062718</td>\n",
       "      <td>0.111369</td>\n",
       "      <td>0.076730</td>\n",
       "      <td>0.272727</td>\n",
       "      <td>0.337209</td>\n",
       "      <td>0.500000</td>\n",
       "    </tr>\n",
       "  </tbody>\n",
       "</table>\n",
       "</div>"
      ],
      "text/plain": [
       "      fixed acidity  volatile acidity  citric acid  residual sugar  chlorides  \\\n",
       "4576       0.201923          0.215686     0.174699        0.007669   0.080119   \n",
       "983        0.182692          0.274510     0.204819        0.055215   0.050445   \n",
       "3801       0.432692          0.098039     0.180723        0.007669   0.071217   \n",
       "\n",
       "      free sulfur dioxide  total sulfur dioxide   density        pH  \\\n",
       "4576             0.073171              0.109049  0.063428  0.427273   \n",
       "983              0.066202              0.157773  0.069211  0.627273   \n",
       "3801             0.062718              0.111369  0.076730  0.272727   \n",
       "\n",
       "      sulphates   quality  \n",
       "4576   0.186047  0.333333  \n",
       "983    0.267442  0.500000  \n",
       "3801   0.337209  0.500000  "
      ]
     },
     "execution_count": 63,
     "metadata": {},
     "output_type": "execute_result"
    }
   ],
   "source": [
    "trainx1.head(3)"
   ]
  },
  {
   "cell_type": "code",
   "execution_count": 64,
   "id": "f087ae48",
   "metadata": {},
   "outputs": [
    {
     "data": {
      "text/plain": [
       "4576    11.3\n",
       "983     11.9\n",
       "3801    11.0\n",
       "Name: alcohol, dtype: float64"
      ]
     },
     "execution_count": 64,
     "metadata": {},
     "output_type": "execute_result"
    }
   ],
   "source": [
    "trainy1.head(3)"
   ]
  },
  {
   "cell_type": "code",
   "execution_count": 65,
   "id": "9c148582",
   "metadata": {},
   "outputs": [
    {
     "data": {
      "text/html": [
       "<div>\n",
       "<style scoped>\n",
       "    .dataframe tbody tr th:only-of-type {\n",
       "        vertical-align: middle;\n",
       "    }\n",
       "\n",
       "    .dataframe tbody tr th {\n",
       "        vertical-align: top;\n",
       "    }\n",
       "\n",
       "    .dataframe thead th {\n",
       "        text-align: right;\n",
       "    }\n",
       "</style>\n",
       "<table border=\"1\" class=\"dataframe\">\n",
       "  <thead>\n",
       "    <tr style=\"text-align: right;\">\n",
       "      <th></th>\n",
       "      <th>fixed acidity</th>\n",
       "      <th>volatile acidity</th>\n",
       "      <th>citric acid</th>\n",
       "      <th>residual sugar</th>\n",
       "      <th>chlorides</th>\n",
       "      <th>free sulfur dioxide</th>\n",
       "      <th>total sulfur dioxide</th>\n",
       "      <th>density</th>\n",
       "      <th>pH</th>\n",
       "      <th>sulphates</th>\n",
       "      <th>quality</th>\n",
       "    </tr>\n",
       "  </thead>\n",
       "  <tbody>\n",
       "    <tr>\n",
       "      <th>3246</th>\n",
       "      <td>0.288462</td>\n",
       "      <td>0.137255</td>\n",
       "      <td>0.246988</td>\n",
       "      <td>0.093558</td>\n",
       "      <td>0.074184</td>\n",
       "      <td>0.128920</td>\n",
       "      <td>0.248260</td>\n",
       "      <td>0.102950</td>\n",
       "      <td>0.418182</td>\n",
       "      <td>0.279070</td>\n",
       "      <td>0.500000</td>\n",
       "    </tr>\n",
       "    <tr>\n",
       "      <th>2533</th>\n",
       "      <td>0.250000</td>\n",
       "      <td>0.137255</td>\n",
       "      <td>0.180723</td>\n",
       "      <td>0.162577</td>\n",
       "      <td>0.109792</td>\n",
       "      <td>0.177700</td>\n",
       "      <td>0.324826</td>\n",
       "      <td>0.148062</td>\n",
       "      <td>0.445455</td>\n",
       "      <td>0.139535</td>\n",
       "      <td>0.333333</td>\n",
       "    </tr>\n",
       "    <tr>\n",
       "      <th>1633</th>\n",
       "      <td>0.346154</td>\n",
       "      <td>0.107843</td>\n",
       "      <td>0.295181</td>\n",
       "      <td>0.093558</td>\n",
       "      <td>0.083086</td>\n",
       "      <td>0.045296</td>\n",
       "      <td>0.234339</td>\n",
       "      <td>0.128976</td>\n",
       "      <td>0.436364</td>\n",
       "      <td>0.186047</td>\n",
       "      <td>0.666667</td>\n",
       "    </tr>\n",
       "  </tbody>\n",
       "</table>\n",
       "</div>"
      ],
      "text/plain": [
       "      fixed acidity  volatile acidity  citric acid  residual sugar  chlorides  \\\n",
       "3246       0.288462          0.137255     0.246988        0.093558   0.074184   \n",
       "2533       0.250000          0.137255     0.180723        0.162577   0.109792   \n",
       "1633       0.346154          0.107843     0.295181        0.093558   0.083086   \n",
       "\n",
       "      free sulfur dioxide  total sulfur dioxide   density        pH  \\\n",
       "3246             0.128920              0.248260  0.102950  0.418182   \n",
       "2533             0.177700              0.324826  0.148062  0.445455   \n",
       "1633             0.045296              0.234339  0.128976  0.436364   \n",
       "\n",
       "      sulphates   quality  \n",
       "3246   0.279070  0.500000  \n",
       "2533   0.139535  0.333333  \n",
       "1633   0.186047  0.666667  "
      ]
     },
     "execution_count": 65,
     "metadata": {},
     "output_type": "execute_result"
    }
   ],
   "source": [
    "testx1.head(3)"
   ]
  },
  {
   "cell_type": "code",
   "execution_count": 66,
   "id": "302b6885",
   "metadata": {},
   "outputs": [
    {
     "data": {
      "text/plain": [
       "3246    11.5\n",
       "2533    10.8\n",
       "1633    11.0\n",
       "Name: alcohol, dtype: float64"
      ]
     },
     "execution_count": 66,
     "metadata": {},
     "output_type": "execute_result"
    }
   ],
   "source": [
    "testy1.head(3)"
   ]
  },
  {
   "cell_type": "markdown",
   "id": "14f2371a",
   "metadata": {},
   "source": [
    "# Data Modelling"
   ]
  },
  {
   "cell_type": "markdown",
   "id": "a42fe2d5",
   "metadata": {},
   "source": [
    "### Required Functions for Building Model"
   ]
  },
  {
   "cell_type": "code",
   "execution_count": 67,
   "id": "f2a4ae1b",
   "metadata": {},
   "outputs": [],
   "source": [
    "def compilemodel(units,shape,loss):\n",
    "    model = tf.keras.Sequential([\n",
    "        Dense(units,activation='relu',input_shape=[shape]), #HL1\n",
    "        Dense(units,activation='relu'), #HL2\n",
    "        Dense(units,activation='relu'), #HL3\n",
    "        Dense(1,activation='relu') #output layer\n",
    "    ]) \n",
    "    \n",
    "    #compiling the model\n",
    "\n",
    "    model.compile(loss=loss,optimizer='adam',metrics=[RMSE]) \n",
    "    \n",
    "    return(model)"
   ]
  },
  {
   "cell_type": "code",
   "execution_count": 68,
   "id": "d4847d17",
   "metadata": {},
   "outputs": [],
   "source": [
    "class PrintDot(tf.keras.callbacks.Callback):\n",
    "    def on_epoch_end(self,epoch,lags):\n",
    "        if epoch%25 == 0:\n",
    "            print('.',end=' ')\n",
    "\n",
    "\n",
    "def fitmodel(model,trainx,trainy,epoch,valsplit=0.2):\n",
    "    errors = model.fit(trainx,trainy,epochs=epoch,validation_split=valsplit,verbose=0,callbacks=[PrintDot()])\n",
    "    \n",
    "    errhistory = pd.DataFrame(errors.history)\n",
    "    return(errhistory)"
   ]
  },
  {
   "cell_type": "code",
   "execution_count": 69,
   "id": "8b45afc3",
   "metadata": {},
   "outputs": [],
   "source": [
    "#initilise values\n",
    "nodes=20\n",
    "shape=len(trainx1.columns)\n",
    "\n",
    "#loss functions\n",
    "MSE=tf.keras.losses.MeanSquaredError()\n",
    "MAE=tf.keras.losses.MeanAbsoluteError()\n",
    "RMSE=tf.keras.metrics.RootMeanSquaredError()"
   ]
  },
  {
   "cell_type": "markdown",
   "id": "a771f0df",
   "metadata": {},
   "source": [
    "### Building and Fitting of a Model"
   ]
  },
  {
   "cell_type": "code",
   "execution_count": 70,
   "id": "e817c50f",
   "metadata": {},
   "outputs": [],
   "source": [
    "EPOCHS =100\n",
    "m1 = compilemodel(nodes,shape,MSE)"
   ]
  },
  {
   "cell_type": "code",
   "execution_count": 71,
   "id": "46a95156",
   "metadata": {},
   "outputs": [
    {
     "name": "stdout",
     "output_type": "stream",
     "text": [
      ". . . . "
     ]
    }
   ],
   "source": [
    "e1 = fitmodel(m1,trainx1,trainy1,EPOCHS)"
   ]
  },
  {
   "cell_type": "code",
   "execution_count": 72,
   "id": "259ca5ea",
   "metadata": {},
   "outputs": [
    {
     "data": {
      "text/plain": [
       "Index(['loss', 'root_mean_squared_error', 'val_loss',\n",
       "       'val_root_mean_squared_error'],\n",
       "      dtype='object')"
      ]
     },
     "execution_count": 72,
     "metadata": {},
     "output_type": "execute_result"
    }
   ],
   "source": [
    "e1.columns"
   ]
  },
  {
   "cell_type": "code",
   "execution_count": 73,
   "id": "50612f27",
   "metadata": {},
   "outputs": [],
   "source": [
    "#rename the columns\n",
    "e1=e1.rename(columns={'loss':'train_loss','root_mean_squared_error':'train_rmse',\n",
    "                      'val_root_mean_squared_error':'val_rmse'})"
   ]
  },
  {
   "cell_type": "code",
   "execution_count": 74,
   "id": "cb1e9e33",
   "metadata": {},
   "outputs": [
    {
     "data": {
      "text/html": [
       "<div>\n",
       "<style scoped>\n",
       "    .dataframe tbody tr th:only-of-type {\n",
       "        vertical-align: middle;\n",
       "    }\n",
       "\n",
       "    .dataframe tbody tr th {\n",
       "        vertical-align: top;\n",
       "    }\n",
       "\n",
       "    .dataframe thead th {\n",
       "        text-align: right;\n",
       "    }\n",
       "</style>\n",
       "<table border=\"1\" class=\"dataframe\">\n",
       "  <thead>\n",
       "    <tr style=\"text-align: right;\">\n",
       "      <th></th>\n",
       "      <th>train_loss</th>\n",
       "      <th>train_rmse</th>\n",
       "      <th>val_loss</th>\n",
       "      <th>val_rmse</th>\n",
       "    </tr>\n",
       "  </thead>\n",
       "  <tbody>\n",
       "    <tr>\n",
       "      <th>0</th>\n",
       "      <td>93.895805</td>\n",
       "      <td>9.689984</td>\n",
       "      <td>54.831882</td>\n",
       "      <td>7.404855</td>\n",
       "    </tr>\n",
       "    <tr>\n",
       "      <th>1</th>\n",
       "      <td>12.955843</td>\n",
       "      <td>3.599423</td>\n",
       "      <td>3.247058</td>\n",
       "      <td>1.801960</td>\n",
       "    </tr>\n",
       "    <tr>\n",
       "      <th>2</th>\n",
       "      <td>2.699075</td>\n",
       "      <td>1.642886</td>\n",
       "      <td>2.810467</td>\n",
       "      <td>1.676445</td>\n",
       "    </tr>\n",
       "    <tr>\n",
       "      <th>3</th>\n",
       "      <td>2.287273</td>\n",
       "      <td>1.512373</td>\n",
       "      <td>2.311490</td>\n",
       "      <td>1.520359</td>\n",
       "    </tr>\n",
       "    <tr>\n",
       "      <th>4</th>\n",
       "      <td>1.829549</td>\n",
       "      <td>1.352608</td>\n",
       "      <td>1.785847</td>\n",
       "      <td>1.336356</td>\n",
       "    </tr>\n",
       "  </tbody>\n",
       "</table>\n",
       "</div>"
      ],
      "text/plain": [
       "   train_loss  train_rmse   val_loss  val_rmse\n",
       "0   93.895805    9.689984  54.831882  7.404855\n",
       "1   12.955843    3.599423   3.247058  1.801960\n",
       "2    2.699075    1.642886   2.810467  1.676445\n",
       "3    2.287273    1.512373   2.311490  1.520359\n",
       "4    1.829549    1.352608   1.785847  1.336356"
      ]
     },
     "execution_count": 74,
     "metadata": {},
     "output_type": "execute_result"
    }
   ],
   "source": [
    "e1.head()"
   ]
  },
  {
   "cell_type": "code",
   "execution_count": 75,
   "id": "dd9f815d",
   "metadata": {},
   "outputs": [],
   "source": [
    "#add new column epoch to the dataframe\n",
    "e1['epoch']=e1.index"
   ]
  },
  {
   "cell_type": "code",
   "execution_count": 76,
   "id": "912c0099",
   "metadata": {},
   "outputs": [
    {
     "data": {
      "text/html": [
       "<div>\n",
       "<style scoped>\n",
       "    .dataframe tbody tr th:only-of-type {\n",
       "        vertical-align: middle;\n",
       "    }\n",
       "\n",
       "    .dataframe tbody tr th {\n",
       "        vertical-align: top;\n",
       "    }\n",
       "\n",
       "    .dataframe thead th {\n",
       "        text-align: right;\n",
       "    }\n",
       "</style>\n",
       "<table border=\"1\" class=\"dataframe\">\n",
       "  <thead>\n",
       "    <tr style=\"text-align: right;\">\n",
       "      <th></th>\n",
       "      <th>train_loss</th>\n",
       "      <th>train_rmse</th>\n",
       "      <th>val_loss</th>\n",
       "      <th>val_rmse</th>\n",
       "      <th>epoch</th>\n",
       "    </tr>\n",
       "  </thead>\n",
       "  <tbody>\n",
       "    <tr>\n",
       "      <th>0</th>\n",
       "      <td>93.895805</td>\n",
       "      <td>9.689984</td>\n",
       "      <td>54.831882</td>\n",
       "      <td>7.404855</td>\n",
       "      <td>0</td>\n",
       "    </tr>\n",
       "    <tr>\n",
       "      <th>1</th>\n",
       "      <td>12.955843</td>\n",
       "      <td>3.599423</td>\n",
       "      <td>3.247058</td>\n",
       "      <td>1.801960</td>\n",
       "      <td>1</td>\n",
       "    </tr>\n",
       "    <tr>\n",
       "      <th>2</th>\n",
       "      <td>2.699075</td>\n",
       "      <td>1.642886</td>\n",
       "      <td>2.810467</td>\n",
       "      <td>1.676445</td>\n",
       "      <td>2</td>\n",
       "    </tr>\n",
       "    <tr>\n",
       "      <th>3</th>\n",
       "      <td>2.287273</td>\n",
       "      <td>1.512373</td>\n",
       "      <td>2.311490</td>\n",
       "      <td>1.520359</td>\n",
       "      <td>3</td>\n",
       "    </tr>\n",
       "    <tr>\n",
       "      <th>4</th>\n",
       "      <td>1.829549</td>\n",
       "      <td>1.352608</td>\n",
       "      <td>1.785847</td>\n",
       "      <td>1.336356</td>\n",
       "      <td>4</td>\n",
       "    </tr>\n",
       "  </tbody>\n",
       "</table>\n",
       "</div>"
      ],
      "text/plain": [
       "   train_loss  train_rmse   val_loss  val_rmse  epoch\n",
       "0   93.895805    9.689984  54.831882  7.404855      0\n",
       "1   12.955843    3.599423   3.247058  1.801960      1\n",
       "2    2.699075    1.642886   2.810467  1.676445      2\n",
       "3    2.287273    1.512373   2.311490  1.520359      3\n",
       "4    1.829549    1.352608   1.785847  1.336356      4"
      ]
     },
     "execution_count": 76,
     "metadata": {},
     "output_type": "execute_result"
    }
   ],
   "source": [
    "e1.head()"
   ]
  },
  {
   "cell_type": "markdown",
   "id": "cf7ae84f",
   "metadata": {},
   "source": [
    "## Plotting of Errors"
   ]
  },
  {
   "cell_type": "code",
   "execution_count": 77,
   "id": "0406051a",
   "metadata": {},
   "outputs": [],
   "source": [
    "def ploterrors(errhist):\n",
    "    plt.figure(figsize=(8,6))\n",
    "    \n",
    "    plt.plot(errhist.epoch,errhist.train_rmse,label='Train RMSE')\n",
    "    plt.plot(errhist.epoch,errhist.val_rmse,label='Validation RMSE')\n",
    "    plt.xlabel('Epoch')\n",
    "    plt.ylabel('Errors')\n",
    "    plt.title('RMSE Comparision')\n",
    "    plt.legend()"
   ]
  },
  {
   "cell_type": "code",
   "execution_count": 78,
   "id": "e46f93f5",
   "metadata": {},
   "outputs": [
    {
     "data": {
      "image/png": "[encoded data removed]",
      "text/plain": [
       "<Figure size 576x432 with 1 Axes>"
      ]
     },
     "metadata": {
      "needs_background": "light"
     },
     "output_type": "display_data"
    }
   ],
   "source": [
    "ploterrors(e1)"
   ]
  },
  {
   "cell_type": "markdown",
   "id": "1ddf7214",
   "metadata": {},
   "source": [
    "## Predicting on test data"
   ]
  },
  {
   "cell_type": "code",
   "execution_count": 79,
   "id": "bb073abd",
   "metadata": {},
   "outputs": [],
   "source": [
    "def predictY(model,testx,testy):\n",
    "    predictions = model.predict(testx).flatten() #convert pred into 1d array\n",
    "    \n",
    "    df=pd.DataFrame({'actual':testy,'predicted':predictions,'err':testy-predictions})\n",
    "    return(df)"
   ]
  },
  {
   "cell_type": "code",
   "execution_count": 80,
   "id": "6cccecac",
   "metadata": {},
   "outputs": [
    {
     "data": {
      "text/html": [
       "<div>\n",
       "<style scoped>\n",
       "    .dataframe tbody tr th:only-of-type {\n",
       "        vertical-align: middle;\n",
       "    }\n",
       "\n",
       "    .dataframe tbody tr th {\n",
       "        vertical-align: top;\n",
       "    }\n",
       "\n",
       "    .dataframe thead th {\n",
       "        text-align: right;\n",
       "    }\n",
       "</style>\n",
       "<table border=\"1\" class=\"dataframe\">\n",
       "  <thead>\n",
       "    <tr style=\"text-align: right;\">\n",
       "      <th></th>\n",
       "      <th>actual</th>\n",
       "      <th>predicted</th>\n",
       "      <th>err</th>\n",
       "    </tr>\n",
       "  </thead>\n",
       "  <tbody>\n",
       "    <tr>\n",
       "      <th>3246</th>\n",
       "      <td>11.50</td>\n",
       "      <td>11.707508</td>\n",
       "      <td>-0.207508</td>\n",
       "    </tr>\n",
       "    <tr>\n",
       "      <th>2533</th>\n",
       "      <td>10.80</td>\n",
       "      <td>10.776967</td>\n",
       "      <td>0.023033</td>\n",
       "    </tr>\n",
       "    <tr>\n",
       "      <th>1633</th>\n",
       "      <td>11.00</td>\n",
       "      <td>10.988394</td>\n",
       "      <td>0.011606</td>\n",
       "    </tr>\n",
       "    <tr>\n",
       "      <th>4701</th>\n",
       "      <td>10.10</td>\n",
       "      <td>10.038837</td>\n",
       "      <td>0.061163</td>\n",
       "    </tr>\n",
       "    <tr>\n",
       "      <th>4496</th>\n",
       "      <td>11.45</td>\n",
       "      <td>11.801725</td>\n",
       "      <td>-0.351725</td>\n",
       "    </tr>\n",
       "    <tr>\n",
       "      <th>4680</th>\n",
       "      <td>10.20</td>\n",
       "      <td>9.914419</td>\n",
       "      <td>0.285581</td>\n",
       "    </tr>\n",
       "    <tr>\n",
       "      <th>1964</th>\n",
       "      <td>9.00</td>\n",
       "      <td>9.298980</td>\n",
       "      <td>-0.298980</td>\n",
       "    </tr>\n",
       "    <tr>\n",
       "      <th>3067</th>\n",
       "      <td>10.70</td>\n",
       "      <td>10.840823</td>\n",
       "      <td>-0.140823</td>\n",
       "    </tr>\n",
       "    <tr>\n",
       "      <th>812</th>\n",
       "      <td>9.10</td>\n",
       "      <td>9.861915</td>\n",
       "      <td>-0.761915</td>\n",
       "    </tr>\n",
       "    <tr>\n",
       "      <th>1416</th>\n",
       "      <td>10.00</td>\n",
       "      <td>10.007277</td>\n",
       "      <td>-0.007277</td>\n",
       "    </tr>\n",
       "  </tbody>\n",
       "</table>\n",
       "</div>"
      ],
      "text/plain": [
       "      actual  predicted       err\n",
       "3246   11.50  11.707508 -0.207508\n",
       "2533   10.80  10.776967  0.023033\n",
       "1633   11.00  10.988394  0.011606\n",
       "4701   10.10  10.038837  0.061163\n",
       "4496   11.45  11.801725 -0.351725\n",
       "4680   10.20   9.914419  0.285581\n",
       "1964    9.00   9.298980 -0.298980\n",
       "3067   10.70  10.840823 -0.140823\n",
       "812     9.10   9.861915 -0.761915\n",
       "1416   10.00  10.007277 -0.007277"
      ]
     },
     "execution_count": 80,
     "metadata": {},
     "output_type": "execute_result"
    }
   ],
   "source": [
    "df1 = predictY(m1,testx1,testy1)\n",
    "df1.head(10)"
   ]
  },
  {
   "cell_type": "markdown",
   "id": "961c8b8f",
   "metadata": {},
   "source": [
    "## Evaluating the model"
   ]
  },
  {
   "cell_type": "code",
   "execution_count": 81,
   "id": "fa998d1e",
   "metadata": {},
   "outputs": [],
   "source": [
    "def printMSE(actual,predicted,modelname):\n",
    "    mse=mean_squared_error(df1.actual,df1.predicted)\n",
    "    print('model {} Epoch={}\\n\\tMSE={}\\n\\tRMSE={}'.format(modelname,EPOCHS,mse,np.sqrt(mse)))\n",
    "    return(mse)"
   ]
  },
  {
   "cell_type": "code",
   "execution_count": 82,
   "id": "daf3851f",
   "metadata": {},
   "outputs": [
    {
     "name": "stdout",
     "output_type": "stream",
     "text": [
      "model m1 Epoch=100\n",
      "\tMSE=0.18002257724062118\n",
      "\tRMSE=0.4242906754108805\n"
     ]
    },
    {
     "data": {
      "text/plain": [
       "0.18002257724062118"
      ]
     },
     "execution_count": 82,
     "metadata": {},
     "output_type": "execute_result"
    }
   ],
   "source": [
    "mse1=printMSE(df1.actual,df1.predicted,'m1')\n",
    "mse1"
   ]
  },
  {
   "cell_type": "markdown",
   "id": "4f289b73",
   "metadata": {},
   "source": [
    "## Plotting the Best Fit Line"
   ]
  },
  {
   "cell_type": "code",
   "execution_count": 83,
   "id": "107f0685",
   "metadata": {},
   "outputs": [],
   "source": [
    "def plotbestfitline(actual,predicted,modelname=''):\n",
    "    plt.figure(figsize=(8,5))\n",
    "    plt.title('Best fit Line'+modelname)\n",
    "    sns.regplot(x=actual,y=predicted,marker='.',color='yellow',line_kws={'color':'red'})"
   ]
  },
  {
   "cell_type": "code",
   "execution_count": 84,
   "id": "fb2f79ac",
   "metadata": {},
   "outputs": [
    {
     "data": {
      "image/png": "[encoded data removed]",
      "text/plain": [
       "<Figure size 576x360 with 1 Axes>"
      ]
     },
     "metadata": {
      "needs_background": "light"
     },
     "output_type": "display_data"
    }
   ],
   "source": [
    "plotbestfitline(df1.actual,df1.predicted,'-m1.rmse='+str(np.sqrt(mse1)))"
   ]
  },
  {
   "cell_type": "markdown",
   "id": "290de3fe",
   "metadata": {},
   "source": [
    "# Model 2"
   ]
  },
  {
   "cell_type": "code",
   "execution_count": 88,
   "id": "4d7aaad7",
   "metadata": {},
   "outputs": [],
   "source": [
    "EPOCHS=2000\n",
    "m2=compilemodel(nodes,shape,MSE)"
   ]
  },
  {
   "cell_type": "code",
   "execution_count": 89,
   "id": "1e09c6ea",
   "metadata": {},
   "outputs": [
    {
     "name": "stdout",
     "output_type": "stream",
     "text": [
      ". . . . . . . . . . . . . . . . . . . . . . . . . . . . . . . . . . . . . . . . . . . . . . . . . . . . . . . . . . . . . . . . . . . . . . . . . . . . . . . . "
     ]
    }
   ],
   "source": [
    "e2 = fitmodel(m2,trainx1,trainy1,EPOCHS)"
   ]
  },
  {
   "cell_type": "code",
   "execution_count": 90,
   "id": "3d20a04b",
   "metadata": {},
   "outputs": [
    {
     "name": "stdout",
     "output_type": "stream",
     "text": [
      "model m2 Epoch=2000\n",
      "\tMSE=0.18002257724062118\n",
      "\tRMSE=0.4242906754108805\n"
     ]
    },
    {
     "data": {
      "image/png": "[encoded data removed]",
      "text/plain": [
       "<Figure size 576x360 with 1 Axes>"
      ]
     },
     "metadata": {
      "needs_background": "light"
     },
     "output_type": "display_data"
    }
   ],
   "source": [
    "df2 = predictY(m2,testx1,testy1)\n",
    "mse2 =printMSE(df2.actual,df2.predicted,'m2')\n",
    "plotbestfitline(df2.actual,df2.predicted,'m2. RMSE= '+str(np.sqrt(mse2)))"
   ]
  },
  {
   "cell_type": "code",
   "execution_count": null,
   "id": "bd8f3804",
   "metadata": {},
   "outputs": [],
   "source": []
  }
 ],
 "metadata": {
  "kernelspec": {
   "display_name": "Python 3 (ipykernel)",
   "language": "python",
   "name": "python3"
  },
  "language_info": {
   "codemirror_mode": {
    "name": "ipython",
    "version": 3
   },
   "file_extension": ".py",
   "mimetype": "text/x-python",
   "name": "python",
   "nbconvert_exporter": "python",
   "pygments_lexer": "ipython3",
   "version": "3.8.12"
  }
 },
 "nbformat": 4,
 "nbformat_minor": 5
}
