{
 "cells": [
  {
   "cell_type": "code",
   "execution_count": 1,
   "id": "f2a05287",
   "metadata": {},
   "outputs": [],
   "source": [
    "import numpy as np\n",
    "import tensorflow as tf"
   ]
  },
  {
   "cell_type": "markdown",
   "id": "1effef37",
   "metadata": {},
   "source": [
    "# Task1"
   ]
  },
  {
   "cell_type": "code",
   "execution_count": 2,
   "id": "86be5c7c",
   "metadata": {},
   "outputs": [
    {
     "name": "stdout",
     "output_type": "stream",
     "text": [
      "tf.Tensor(b'custid ~ custname ~ email ~ phone ~ gender ~ date_of_birth', shape=(), dtype=string)\n"
     ]
    }
   ],
   "source": [
    "i='custid'\n",
    "a='custname'\n",
    "b='email'\n",
    "c='phone'\n",
    "d='gender'\n",
    "e='date_of_birth'\n",
    "\n",
    "cust_record=tf.strings.join([i,a,b,c,d,e],separator=\" ~ \")\n",
    "print(cust_record)"
   ]
  },
  {
   "cell_type": "markdown",
   "id": "ec818fad",
   "metadata": {},
   "source": [
    "# Task2"
   ]
  },
  {
   "cell_type": "code",
   "execution_count": 3,
   "id": "fd38f01f",
   "metadata": {},
   "outputs": [],
   "source": [
    "string=tf.constant(['indigo', 'violet', 'programmer', 'computer', 'training','kitchen',\n",
    "                  'array', 'instagram', 'bluetooth'])"
   ]
  },
  {
   "cell_type": "code",
   "execution_count": 4,
   "id": "a2c64ea0",
   "metadata": {},
   "outputs": [
    {
     "data": {
      "text/plain": [
       "<tf.Tensor: shape=(3, 3), dtype=string, numpy=\n",
       "array([[b'indigo', b'violet', b'programmer'],\n",
       "       [b'computer', b'training', b'kitchen'],\n",
       "       [b'array', b'instagram', b'bluetooth']], dtype=object)>"
      ]
     },
     "execution_count": 4,
     "metadata": {},
     "output_type": "execute_result"
    }
   ],
   "source": [
    "str_arr=np.array(string).reshape(3,3)\n",
    "matrix_string=tf.constant(str_arr)\n",
    "matrix_string"
   ]
  },
  {
   "cell_type": "markdown",
   "id": "22a32684",
   "metadata": {},
   "source": [
    "# Task3"
   ]
  },
  {
   "cell_type": "code",
   "execution_count": 5,
   "id": "0f4e7eef",
   "metadata": {},
   "outputs": [
    {
     "data": {
      "text/plain": [
       "<tf.Tensor: shape=(), dtype=float32, numpy=1895.2>"
      ]
     },
     "execution_count": 5,
     "metadata": {},
     "output_type": "execute_result"
    }
   ],
   "source": [
    "product_price=tf.constant(1895.2)\n",
    "product_price"
   ]
  },
  {
   "cell_type": "code",
   "execution_count": 6,
   "id": "f4d4f9cf",
   "metadata": {},
   "outputs": [
    {
     "data": {
      "text/plain": [
       "<tf.Tensor: shape=(), dtype=float16, numpy=1895.0>"
      ]
     },
     "execution_count": 6,
     "metadata": {},
     "output_type": "execute_result"
    }
   ],
   "source": [
    "product_price=tf.cast(product_price,tf.float16)\n",
    "product_price"
   ]
  },
  {
   "cell_type": "markdown",
   "id": "e3ac3bde",
   "metadata": {},
   "source": [
    "# Task4"
   ]
  },
  {
   "cell_type": "code",
   "execution_count": 7,
   "id": "5258bb1b",
   "metadata": {},
   "outputs": [
    {
     "data": {
      "text/plain": [
       "<tf.Variable 'Variable:0' shape=(5, 3) dtype=int16, numpy=\n",
       "array([[0, 0, 0],\n",
       "       [0, 0, 0],\n",
       "       [0, 0, 0],\n",
       "       [0, 0, 0],\n",
       "       [0, 0, 0]], dtype=int16)>"
      ]
     },
     "execution_count": 7,
     "metadata": {},
     "output_type": "execute_result"
    }
   ],
   "source": [
    "marks=tf.Variable(np.zeros((5,3)),dtype=tf.int16)\n",
    "marks"
   ]
  },
  {
   "cell_type": "code",
   "execution_count": 8,
   "id": "6de725fc",
   "metadata": {},
   "outputs": [
    {
     "data": {
      "text/plain": [
       "<tf.Variable 'UnreadVariable' shape=(5, 3) dtype=int16, numpy=\n",
       "array([[76, 49, 38],\n",
       "       [82, 66, 39],\n",
       "       [68, 58, 79],\n",
       "       [94, 78, 92],\n",
       "       [97, 76, 67]], dtype=int16)>"
      ]
     },
     "execution_count": 8,
     "metadata": {},
     "output_type": "execute_result"
    }
   ],
   "source": [
    "marks.assign(np.random.uniform(36,100,15).reshape(-1,3))"
   ]
  },
  {
   "cell_type": "markdown",
   "id": "228e1d28",
   "metadata": {},
   "source": [
    "# Task5"
   ]
  },
  {
   "cell_type": "code",
   "execution_count": 12,
   "id": "632802eb",
   "metadata": {},
   "outputs": [
    {
     "data": {
      "text/plain": [
       "<tf.Variable 'Variable:0' shape=(30, 5) dtype=float32, numpy=\n",
       "array([[0., 0., 0., 0., 0.],\n",
       "       [0., 0., 0., 0., 0.],\n",
       "       [0., 0., 0., 0., 0.],\n",
       "       [0., 0., 0., 0., 0.],\n",
       "       [0., 0., 0., 0., 0.],\n",
       "       [0., 0., 0., 0., 0.],\n",
       "       [0., 0., 0., 0., 0.],\n",
       "       [0., 0., 0., 0., 0.],\n",
       "       [0., 0., 0., 0., 0.],\n",
       "       [0., 0., 0., 0., 0.],\n",
       "       [0., 0., 0., 0., 0.],\n",
       "       [0., 0., 0., 0., 0.],\n",
       "       [0., 0., 0., 0., 0.],\n",
       "       [0., 0., 0., 0., 0.],\n",
       "       [0., 0., 0., 0., 0.],\n",
       "       [0., 0., 0., 0., 0.],\n",
       "       [0., 0., 0., 0., 0.],\n",
       "       [0., 0., 0., 0., 0.],\n",
       "       [0., 0., 0., 0., 0.],\n",
       "       [0., 0., 0., 0., 0.],\n",
       "       [0., 0., 0., 0., 0.],\n",
       "       [0., 0., 0., 0., 0.],\n",
       "       [0., 0., 0., 0., 0.],\n",
       "       [0., 0., 0., 0., 0.],\n",
       "       [0., 0., 0., 0., 0.],\n",
       "       [0., 0., 0., 0., 0.],\n",
       "       [0., 0., 0., 0., 0.],\n",
       "       [0., 0., 0., 0., 0.],\n",
       "       [0., 0., 0., 0., 0.],\n",
       "       [0., 0., 0., 0., 0.]], dtype=float32)>"
      ]
     },
     "execution_count": 12,
     "metadata": {},
     "output_type": "execute_result"
    }
   ],
   "source": [
    "test=tf.Variable(np.zeros((30,5)),dtype=tf.float32)\n",
    "test"
   ]
  },
  {
   "cell_type": "code",
   "execution_count": 18,
   "id": "83b18d02",
   "metadata": {},
   "outputs": [],
   "source": [
    "test=tf.cast(test.assign(np.random.uniform(30,100,150).reshape(-1,5)),dtype=tf.float32)"
   ]
  },
  {
   "cell_type": "code",
   "execution_count": 20,
   "id": "a4d14f3d",
   "metadata": {},
   "outputs": [],
   "source": [
    "b=tf.constant([0.5,1.5,0.5,1.6,0.8])\n",
    "c=tf.constant(1.2,dtype=tf.float32)\n",
    "y=[]\n",
    "for x in test:\n",
    "    a=[]\n",
    "    for i in range(len(x)):\n",
    "        a.append(b[i]*x[i])\n",
    "    y.append(sum(a)+c)"
   ]
  },
  {
   "cell_type": "code",
   "execution_count": 21,
   "id": "f110cc1d",
   "metadata": {},
   "outputs": [
    {
     "data": {
      "text/plain": [
       "[<tf.Tensor: shape=(), dtype=float32, numpy=360.4425>,\n",
       " <tf.Tensor: shape=(), dtype=float32, numpy=356.07483>,\n",
       " <tf.Tensor: shape=(), dtype=float32, numpy=377.12814>,\n",
       " <tf.Tensor: shape=(), dtype=float32, numpy=393.31305>,\n",
       " <tf.Tensor: shape=(), dtype=float32, numpy=307.77856>,\n",
       " <tf.Tensor: shape=(), dtype=float32, numpy=326.69897>,\n",
       " <tf.Tensor: shape=(), dtype=float32, numpy=304.11786>,\n",
       " <tf.Tensor: shape=(), dtype=float32, numpy=396.62466>,\n",
       " <tf.Tensor: shape=(), dtype=float32, numpy=315.2809>,\n",
       " <tf.Tensor: shape=(), dtype=float32, numpy=346.85123>,\n",
       " <tf.Tensor: shape=(), dtype=float32, numpy=330.5144>,\n",
       " <tf.Tensor: shape=(), dtype=float32, numpy=306.47028>,\n",
       " <tf.Tensor: shape=(), dtype=float32, numpy=271.36975>,\n",
       " <tf.Tensor: shape=(), dtype=float32, numpy=315.25848>,\n",
       " <tf.Tensor: shape=(), dtype=float32, numpy=300.2362>,\n",
       " <tf.Tensor: shape=(), dtype=float32, numpy=307.28>,\n",
       " <tf.Tensor: shape=(), dtype=float32, numpy=343.992>,\n",
       " <tf.Tensor: shape=(), dtype=float32, numpy=402.5208>,\n",
       " <tf.Tensor: shape=(), dtype=float32, numpy=297.3559>,\n",
       " <tf.Tensor: shape=(), dtype=float32, numpy=319.66025>,\n",
       " <tf.Tensor: shape=(), dtype=float32, numpy=336.6141>,\n",
       " <tf.Tensor: shape=(), dtype=float32, numpy=275.24612>,\n",
       " <tf.Tensor: shape=(), dtype=float32, numpy=259.5661>,\n",
       " <tf.Tensor: shape=(), dtype=float32, numpy=385.70035>,\n",
       " <tf.Tensor: shape=(), dtype=float32, numpy=296.97504>,\n",
       " <tf.Tensor: shape=(), dtype=float32, numpy=341.31506>,\n",
       " <tf.Tensor: shape=(), dtype=float32, numpy=292.35178>,\n",
       " <tf.Tensor: shape=(), dtype=float32, numpy=343.74567>,\n",
       " <tf.Tensor: shape=(), dtype=float32, numpy=276.55453>,\n",
       " <tf.Tensor: shape=(), dtype=float32, numpy=394.53748>]"
      ]
     },
     "execution_count": 21,
     "metadata": {},
     "output_type": "execute_result"
    }
   ],
   "source": [
    "y"
   ]
  },
  {
   "cell_type": "markdown",
   "id": "9ab099eb",
   "metadata": {},
   "source": [
    "# Task6"
   ]
  },
  {
   "cell_type": "code",
   "execution_count": null,
   "id": "725e206c",
   "metadata": {},
   "outputs": [],
   "source": [
    "currency = {'india':'rupee', 'britain':'dollar','europe':'euro'}\n",
    "currency"
   ]
  },
  {
   "cell_type": "code",
   "execution_count": null,
   "id": "0771780f",
   "metadata": {},
   "outputs": [],
   "source": [
    "t_currency = tf.convert_to_tensor(list(currency.items()))"
   ]
  },
  {
   "cell_type": "code",
   "execution_count": null,
   "id": "dd65e4ef",
   "metadata": {},
   "outputs": [],
   "source": [
    "t_currency"
   ]
  },
  {
   "cell_type": "code",
   "execution_count": null,
   "id": "d695ab95",
   "metadata": {},
   "outputs": [],
   "source": [
    "print(tf.shape(t_currency))\n",
    "print(tf.size(t_currency))"
   ]
  },
  {
   "cell_type": "markdown",
   "id": "3baddacb",
   "metadata": {},
   "source": [
    "# Task7"
   ]
  },
  {
   "cell_type": "code",
   "execution_count": null,
   "id": "647241c7",
   "metadata": {},
   "outputs": [],
   "source": [
    "units= np.random.randint(5,20,4)\n",
    "units_price= np.round(np.random.uniform(50,100,4),2)\n",
    "print(units)\n",
    "print(units_price)"
   ]
  },
  {
   "cell_type": "code",
   "execution_count": null,
   "id": "4f993328",
   "metadata": {},
   "outputs": [],
   "source": [
    "Total=(units * units_price)\n",
    "Total"
   ]
  },
  {
   "cell_type": "code",
   "execution_count": null,
   "id": "5c122e45",
   "metadata": {},
   "outputs": [],
   "source": []
  }
 ],
 "metadata": {
  "kernelspec": {
   "display_name": "Python 3 (ipykernel)",
   "language": "python",
   "name": "python3"
  },
  "language_info": {
   "codemirror_mode": {
    "name": "ipython",
    "version": 3
   },
   "file_extension": ".py",
   "mimetype": "text/x-python",
   "name": "python",
   "nbconvert_exporter": "python",
   "pygments_lexer": "ipython3",
   "version": "3.8.12"
  }
 },
 "nbformat": 4,
 "nbformat_minor": 5
}
