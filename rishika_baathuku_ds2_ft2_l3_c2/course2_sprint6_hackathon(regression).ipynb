{
 "cells": [
  {
   "cell_type": "code",
   "execution_count": 1,
   "id": "0f33813a",
   "metadata": {},
   "outputs": [],
   "source": [
    "import pandas as pd\n",
    "import numpy as np\n",
    "from sklearn.model_selection import train_test_split\n",
    "from sklearn.metrics import accuracy_score, classification_report\n",
    "from sklearn.preprocessing import MinMaxScaler, LabelEncoder\n",
    "from matplotlib import pyplot as plt\n",
    "import seaborn as sns\n",
    "from sklearn import metrics\n",
    "\n",
    "import tensorflow as tf\n",
    "import keras\n",
    "from keras.models import Sequential\n",
    "from keras.layers import Dense\n",
    "import warnings\n",
    "warnings.filterwarnings('ignore')"
   ]
  },
  {
   "cell_type": "markdown",
   "id": "0152ce51",
   "metadata": {},
   "source": [
    "# Reading and Data Preparation"
   ]
  },
  {
   "cell_type": "code",
   "execution_count": 2,
   "id": "93e795ac",
   "metadata": {},
   "outputs": [
    {
     "name": "stdout",
     "output_type": "stream",
     "text": [
      "(1460, 81)\n",
      "Id                 int64\n",
      "MSSubClass         int64\n",
      "MSZoning          object\n",
      "LotFrontage      float64\n",
      "LotArea            int64\n",
      "                  ...   \n",
      "MoSold             int64\n",
      "YrSold             int64\n",
      "SaleType          object\n",
      "SaleCondition     object\n",
      "SalePrice          int64\n",
      "Length: 81, dtype: object\n"
     ]
    }
   ],
   "source": [
    "data = pd.read_csv(r\"C:\\Users\\anant\\Downloads\\DS3_CS2_SP6_Hackathon_House_Data_HackathonBrief.csv\")\n",
    "print(data.shape)\n",
    "print(data.dtypes)"
   ]
  },
  {
   "cell_type": "code",
   "execution_count": 3,
   "id": "bdea4916",
   "metadata": {},
   "outputs": [
    {
     "data": {
      "text/plain": [
       "(1460, 81)"
      ]
     },
     "execution_count": 3,
     "metadata": {},
     "output_type": "execute_result"
    }
   ],
   "source": [
    "data.shape"
   ]
  },
  {
   "cell_type": "code",
   "execution_count": 4,
   "id": "e9e229c8",
   "metadata": {},
   "outputs": [
    {
     "data": {
      "text/html": [
       "<div>\n",
       "<style scoped>\n",
       "    .dataframe tbody tr th:only-of-type {\n",
       "        vertical-align: middle;\n",
       "    }\n",
       "\n",
       "    .dataframe tbody tr th {\n",
       "        vertical-align: top;\n",
       "    }\n",
       "\n",
       "    .dataframe thead th {\n",
       "        text-align: right;\n",
       "    }\n",
       "</style>\n",
       "<table border=\"1\" class=\"dataframe\">\n",
       "  <thead>\n",
       "    <tr style=\"text-align: right;\">\n",
       "      <th></th>\n",
       "      <th>Id</th>\n",
       "      <th>MSSubClass</th>\n",
       "      <th>MSZoning</th>\n",
       "      <th>LotFrontage</th>\n",
       "      <th>LotArea</th>\n",
       "      <th>Street</th>\n",
       "      <th>Alley</th>\n",
       "      <th>LotShape</th>\n",
       "      <th>LandContour</th>\n",
       "      <th>Utilities</th>\n",
       "      <th>...</th>\n",
       "      <th>PoolQC</th>\n",
       "      <th>Fence</th>\n",
       "      <th>MiscFeature</th>\n",
       "      <th>MiscVal</th>\n",
       "      <th>MoSold</th>\n",
       "      <th>YrSold</th>\n",
       "      <th>SaleType</th>\n",
       "      <th>SaleCondition</th>\n",
       "      <th>SalePrice</th>\n",
       "      <th>AgeWhenSold</th>\n",
       "    </tr>\n",
       "  </thead>\n",
       "  <tbody>\n",
       "    <tr>\n",
       "      <th>0</th>\n",
       "      <td>1</td>\n",
       "      <td>60</td>\n",
       "      <td>RL</td>\n",
       "      <td>65.0</td>\n",
       "      <td>8450</td>\n",
       "      <td>Pave</td>\n",
       "      <td>NaN</td>\n",
       "      <td>Reg</td>\n",
       "      <td>Lvl</td>\n",
       "      <td>AllPub</td>\n",
       "      <td>...</td>\n",
       "      <td>NaN</td>\n",
       "      <td>NaN</td>\n",
       "      <td>NaN</td>\n",
       "      <td>0</td>\n",
       "      <td>2</td>\n",
       "      <td>2008</td>\n",
       "      <td>WD</td>\n",
       "      <td>Normal</td>\n",
       "      <td>208500</td>\n",
       "      <td>5</td>\n",
       "    </tr>\n",
       "    <tr>\n",
       "      <th>1</th>\n",
       "      <td>2</td>\n",
       "      <td>20</td>\n",
       "      <td>RL</td>\n",
       "      <td>80.0</td>\n",
       "      <td>9600</td>\n",
       "      <td>Pave</td>\n",
       "      <td>NaN</td>\n",
       "      <td>Reg</td>\n",
       "      <td>Lvl</td>\n",
       "      <td>AllPub</td>\n",
       "      <td>...</td>\n",
       "      <td>NaN</td>\n",
       "      <td>NaN</td>\n",
       "      <td>NaN</td>\n",
       "      <td>0</td>\n",
       "      <td>5</td>\n",
       "      <td>2007</td>\n",
       "      <td>WD</td>\n",
       "      <td>Normal</td>\n",
       "      <td>181500</td>\n",
       "      <td>31</td>\n",
       "    </tr>\n",
       "    <tr>\n",
       "      <th>2</th>\n",
       "      <td>3</td>\n",
       "      <td>60</td>\n",
       "      <td>RL</td>\n",
       "      <td>68.0</td>\n",
       "      <td>11250</td>\n",
       "      <td>Pave</td>\n",
       "      <td>NaN</td>\n",
       "      <td>IR1</td>\n",
       "      <td>Lvl</td>\n",
       "      <td>AllPub</td>\n",
       "      <td>...</td>\n",
       "      <td>NaN</td>\n",
       "      <td>NaN</td>\n",
       "      <td>NaN</td>\n",
       "      <td>0</td>\n",
       "      <td>9</td>\n",
       "      <td>2008</td>\n",
       "      <td>WD</td>\n",
       "      <td>Normal</td>\n",
       "      <td>223500</td>\n",
       "      <td>7</td>\n",
       "    </tr>\n",
       "    <tr>\n",
       "      <th>3</th>\n",
       "      <td>4</td>\n",
       "      <td>70</td>\n",
       "      <td>RL</td>\n",
       "      <td>60.0</td>\n",
       "      <td>9550</td>\n",
       "      <td>Pave</td>\n",
       "      <td>NaN</td>\n",
       "      <td>IR1</td>\n",
       "      <td>Lvl</td>\n",
       "      <td>AllPub</td>\n",
       "      <td>...</td>\n",
       "      <td>NaN</td>\n",
       "      <td>NaN</td>\n",
       "      <td>NaN</td>\n",
       "      <td>0</td>\n",
       "      <td>2</td>\n",
       "      <td>2006</td>\n",
       "      <td>WD</td>\n",
       "      <td>Abnorml</td>\n",
       "      <td>140000</td>\n",
       "      <td>91</td>\n",
       "    </tr>\n",
       "    <tr>\n",
       "      <th>4</th>\n",
       "      <td>5</td>\n",
       "      <td>60</td>\n",
       "      <td>RL</td>\n",
       "      <td>84.0</td>\n",
       "      <td>14260</td>\n",
       "      <td>Pave</td>\n",
       "      <td>NaN</td>\n",
       "      <td>IR1</td>\n",
       "      <td>Lvl</td>\n",
       "      <td>AllPub</td>\n",
       "      <td>...</td>\n",
       "      <td>NaN</td>\n",
       "      <td>NaN</td>\n",
       "      <td>NaN</td>\n",
       "      <td>0</td>\n",
       "      <td>12</td>\n",
       "      <td>2008</td>\n",
       "      <td>WD</td>\n",
       "      <td>Normal</td>\n",
       "      <td>250000</td>\n",
       "      <td>8</td>\n",
       "    </tr>\n",
       "  </tbody>\n",
       "</table>\n",
       "<p>5 rows × 82 columns</p>\n",
       "</div>"
      ],
      "text/plain": [
       "   Id  MSSubClass MSZoning  LotFrontage  LotArea Street Alley LotShape  \\\n",
       "0   1          60       RL         65.0     8450   Pave   NaN      Reg   \n",
       "1   2          20       RL         80.0     9600   Pave   NaN      Reg   \n",
       "2   3          60       RL         68.0    11250   Pave   NaN      IR1   \n",
       "3   4          70       RL         60.0     9550   Pave   NaN      IR1   \n",
       "4   5          60       RL         84.0    14260   Pave   NaN      IR1   \n",
       "\n",
       "  LandContour Utilities  ... PoolQC Fence MiscFeature MiscVal MoSold YrSold  \\\n",
       "0         Lvl    AllPub  ...    NaN   NaN         NaN       0      2   2008   \n",
       "1         Lvl    AllPub  ...    NaN   NaN         NaN       0      5   2007   \n",
       "2         Lvl    AllPub  ...    NaN   NaN         NaN       0      9   2008   \n",
       "3         Lvl    AllPub  ...    NaN   NaN         NaN       0      2   2006   \n",
       "4         Lvl    AllPub  ...    NaN   NaN         NaN       0     12   2008   \n",
       "\n",
       "  SaleType  SaleCondition  SalePrice  AgeWhenSold  \n",
       "0       WD         Normal     208500            5  \n",
       "1       WD         Normal     181500           31  \n",
       "2       WD         Normal     223500            7  \n",
       "3       WD        Abnorml     140000           91  \n",
       "4       WD         Normal     250000            8  \n",
       "\n",
       "[5 rows x 82 columns]"
      ]
     },
     "execution_count": 4,
     "metadata": {},
     "output_type": "execute_result"
    }
   ],
   "source": [
    "data['AgeWhenSold']=data['YrSold']-data['YearBuilt']\n",
    "data.head()"
   ]
  },
  {
   "cell_type": "code",
   "execution_count": 5,
   "id": "e6533f51",
   "metadata": {},
   "outputs": [
    {
     "data": {
      "text/html": [
       "<div>\n",
       "<style scoped>\n",
       "    .dataframe tbody tr th:only-of-type {\n",
       "        vertical-align: middle;\n",
       "    }\n",
       "\n",
       "    .dataframe tbody tr th {\n",
       "        vertical-align: top;\n",
       "    }\n",
       "\n",
       "    .dataframe thead th {\n",
       "        text-align: right;\n",
       "    }\n",
       "</style>\n",
       "<table border=\"1\" class=\"dataframe\">\n",
       "  <thead>\n",
       "    <tr style=\"text-align: right;\">\n",
       "      <th></th>\n",
       "      <th>LotFrontage</th>\n",
       "      <th>GrLivArea</th>\n",
       "      <th>LotArea</th>\n",
       "      <th>GarageArea</th>\n",
       "      <th>AgeWhenSold</th>\n",
       "      <th>SalePrice</th>\n",
       "    </tr>\n",
       "  </thead>\n",
       "  <tbody>\n",
       "    <tr>\n",
       "      <th>0</th>\n",
       "      <td>65.0</td>\n",
       "      <td>1710</td>\n",
       "      <td>8450</td>\n",
       "      <td>548</td>\n",
       "      <td>5</td>\n",
       "      <td>208500</td>\n",
       "    </tr>\n",
       "    <tr>\n",
       "      <th>1</th>\n",
       "      <td>80.0</td>\n",
       "      <td>1262</td>\n",
       "      <td>9600</td>\n",
       "      <td>460</td>\n",
       "      <td>31</td>\n",
       "      <td>181500</td>\n",
       "    </tr>\n",
       "    <tr>\n",
       "      <th>2</th>\n",
       "      <td>68.0</td>\n",
       "      <td>1786</td>\n",
       "      <td>11250</td>\n",
       "      <td>608</td>\n",
       "      <td>7</td>\n",
       "      <td>223500</td>\n",
       "    </tr>\n",
       "    <tr>\n",
       "      <th>3</th>\n",
       "      <td>60.0</td>\n",
       "      <td>1717</td>\n",
       "      <td>9550</td>\n",
       "      <td>642</td>\n",
       "      <td>91</td>\n",
       "      <td>140000</td>\n",
       "    </tr>\n",
       "    <tr>\n",
       "      <th>4</th>\n",
       "      <td>84.0</td>\n",
       "      <td>2198</td>\n",
       "      <td>14260</td>\n",
       "      <td>836</td>\n",
       "      <td>8</td>\n",
       "      <td>250000</td>\n",
       "    </tr>\n",
       "    <tr>\n",
       "      <th>...</th>\n",
       "      <td>...</td>\n",
       "      <td>...</td>\n",
       "      <td>...</td>\n",
       "      <td>...</td>\n",
       "      <td>...</td>\n",
       "      <td>...</td>\n",
       "    </tr>\n",
       "    <tr>\n",
       "      <th>1455</th>\n",
       "      <td>62.0</td>\n",
       "      <td>1647</td>\n",
       "      <td>7917</td>\n",
       "      <td>460</td>\n",
       "      <td>8</td>\n",
       "      <td>175000</td>\n",
       "    </tr>\n",
       "    <tr>\n",
       "      <th>1456</th>\n",
       "      <td>85.0</td>\n",
       "      <td>2073</td>\n",
       "      <td>13175</td>\n",
       "      <td>500</td>\n",
       "      <td>32</td>\n",
       "      <td>210000</td>\n",
       "    </tr>\n",
       "    <tr>\n",
       "      <th>1457</th>\n",
       "      <td>66.0</td>\n",
       "      <td>2340</td>\n",
       "      <td>9042</td>\n",
       "      <td>252</td>\n",
       "      <td>69</td>\n",
       "      <td>266500</td>\n",
       "    </tr>\n",
       "    <tr>\n",
       "      <th>1458</th>\n",
       "      <td>68.0</td>\n",
       "      <td>1078</td>\n",
       "      <td>9717</td>\n",
       "      <td>240</td>\n",
       "      <td>60</td>\n",
       "      <td>142125</td>\n",
       "    </tr>\n",
       "    <tr>\n",
       "      <th>1459</th>\n",
       "      <td>75.0</td>\n",
       "      <td>1256</td>\n",
       "      <td>9937</td>\n",
       "      <td>276</td>\n",
       "      <td>43</td>\n",
       "      <td>147500</td>\n",
       "    </tr>\n",
       "  </tbody>\n",
       "</table>\n",
       "<p>1460 rows × 6 columns</p>\n",
       "</div>"
      ],
      "text/plain": [
       "      LotFrontage  GrLivArea  LotArea  GarageArea  AgeWhenSold  SalePrice\n",
       "0            65.0       1710     8450         548            5     208500\n",
       "1            80.0       1262     9600         460           31     181500\n",
       "2            68.0       1786    11250         608            7     223500\n",
       "3            60.0       1717     9550         642           91     140000\n",
       "4            84.0       2198    14260         836            8     250000\n",
       "...           ...        ...      ...         ...          ...        ...\n",
       "1455         62.0       1647     7917         460            8     175000\n",
       "1456         85.0       2073    13175         500           32     210000\n",
       "1457         66.0       2340     9042         252           69     266500\n",
       "1458         68.0       1078     9717         240           60     142125\n",
       "1459         75.0       1256     9937         276           43     147500\n",
       "\n",
       "[1460 rows x 6 columns]"
      ]
     },
     "execution_count": 5,
     "metadata": {},
     "output_type": "execute_result"
    }
   ],
   "source": [
    "req_df=data[['LotFrontage','GrLivArea','LotArea','GarageArea','AgeWhenSold','SalePrice']]\n",
    "req_df"
   ]
  },
  {
   "cell_type": "code",
   "execution_count": 6,
   "id": "a3f2e3d9",
   "metadata": {},
   "outputs": [
    {
     "data": {
      "text/html": [
       "<div>\n",
       "<style scoped>\n",
       "    .dataframe tbody tr th:only-of-type {\n",
       "        vertical-align: middle;\n",
       "    }\n",
       "\n",
       "    .dataframe tbody tr th {\n",
       "        vertical-align: top;\n",
       "    }\n",
       "\n",
       "    .dataframe thead th {\n",
       "        text-align: right;\n",
       "    }\n",
       "</style>\n",
       "<table border=\"1\" class=\"dataframe\">\n",
       "  <thead>\n",
       "    <tr style=\"text-align: right;\">\n",
       "      <th></th>\n",
       "      <th>LotFrontage</th>\n",
       "      <th>GrLivArea</th>\n",
       "      <th>LotArea</th>\n",
       "      <th>GarageArea</th>\n",
       "      <th>AgeWhenSold</th>\n",
       "      <th>SalePrice</th>\n",
       "    </tr>\n",
       "  </thead>\n",
       "  <tbody>\n",
       "    <tr>\n",
       "      <th>53</th>\n",
       "      <td>68.0</td>\n",
       "      <td>1842</td>\n",
       "      <td>50271</td>\n",
       "      <td>894</td>\n",
       "      <td>25</td>\n",
       "      <td>385000</td>\n",
       "    </tr>\n",
       "    <tr>\n",
       "      <th>58</th>\n",
       "      <td>66.0</td>\n",
       "      <td>2945</td>\n",
       "      <td>13682</td>\n",
       "      <td>641</td>\n",
       "      <td>0</td>\n",
       "      <td>438780</td>\n",
       "    </tr>\n",
       "    <tr>\n",
       "      <th>112</th>\n",
       "      <td>77.0</td>\n",
       "      <td>2696</td>\n",
       "      <td>9965</td>\n",
       "      <td>792</td>\n",
       "      <td>0</td>\n",
       "      <td>383970</td>\n",
       "    </tr>\n",
       "    <tr>\n",
       "      <th>118</th>\n",
       "      <td>90.0</td>\n",
       "      <td>3222</td>\n",
       "      <td>12376</td>\n",
       "      <td>594</td>\n",
       "      <td>20</td>\n",
       "      <td>320000</td>\n",
       "    </tr>\n",
       "    <tr>\n",
       "      <th>161</th>\n",
       "      <td>110.0</td>\n",
       "      <td>2668</td>\n",
       "      <td>13688</td>\n",
       "      <td>726</td>\n",
       "      <td>5</td>\n",
       "      <td>412500</td>\n",
       "    </tr>\n",
       "    <tr>\n",
       "      <th>...</th>\n",
       "      <td>...</td>\n",
       "      <td>...</td>\n",
       "      <td>...</td>\n",
       "      <td>...</td>\n",
       "      <td>...</td>\n",
       "      <td>...</td>\n",
       "    </tr>\n",
       "    <tr>\n",
       "      <th>1353</th>\n",
       "      <td>56.0</td>\n",
       "      <td>3238</td>\n",
       "      <td>14720</td>\n",
       "      <td>666</td>\n",
       "      <td>15</td>\n",
       "      <td>410000</td>\n",
       "    </tr>\n",
       "    <tr>\n",
       "      <th>1360</th>\n",
       "      <td>51.0</td>\n",
       "      <td>2601</td>\n",
       "      <td>9842</td>\n",
       "      <td>621</td>\n",
       "      <td>87</td>\n",
       "      <td>189000</td>\n",
       "    </tr>\n",
       "    <tr>\n",
       "      <th>1373</th>\n",
       "      <td>NaN</td>\n",
       "      <td>2633</td>\n",
       "      <td>11400</td>\n",
       "      <td>804</td>\n",
       "      <td>6</td>\n",
       "      <td>466500</td>\n",
       "    </tr>\n",
       "    <tr>\n",
       "      <th>1386</th>\n",
       "      <td>80.0</td>\n",
       "      <td>2784</td>\n",
       "      <td>16692</td>\n",
       "      <td>564</td>\n",
       "      <td>28</td>\n",
       "      <td>250000</td>\n",
       "    </tr>\n",
       "    <tr>\n",
       "      <th>1396</th>\n",
       "      <td>NaN</td>\n",
       "      <td>1687</td>\n",
       "      <td>57200</td>\n",
       "      <td>572</td>\n",
       "      <td>62</td>\n",
       "      <td>160000</td>\n",
       "    </tr>\n",
       "  </tbody>\n",
       "</table>\n",
       "<p>64 rows × 6 columns</p>\n",
       "</div>"
      ],
      "text/plain": [
       "      LotFrontage  GrLivArea  LotArea  GarageArea  AgeWhenSold  SalePrice\n",
       "53           68.0       1842    50271         894           25     385000\n",
       "58           66.0       2945    13682         641            0     438780\n",
       "112          77.0       2696     9965         792            0     383970\n",
       "118          90.0       3222    12376         594           20     320000\n",
       "161         110.0       2668    13688         726            5     412500\n",
       "...           ...        ...      ...         ...          ...        ...\n",
       "1353         56.0       3238    14720         666           15     410000\n",
       "1360         51.0       2601     9842         621           87     189000\n",
       "1373          NaN       2633    11400         804            6     466500\n",
       "1386         80.0       2784    16692         564           28     250000\n",
       "1396          NaN       1687    57200         572           62     160000\n",
       "\n",
       "[64 rows x 6 columns]"
      ]
     },
     "execution_count": 6,
     "metadata": {},
     "output_type": "execute_result"
    }
   ],
   "source": [
    "k=req_df[(req_df['GrLivArea']>2600)|(req_df['LotArea']>40000)]\n",
    "k"
   ]
  },
  {
   "cell_type": "code",
   "execution_count": 7,
   "id": "bbdee9a1",
   "metadata": {},
   "outputs": [],
   "source": [
    "i=k.index"
   ]
  },
  {
   "cell_type": "code",
   "execution_count": 8,
   "id": "a04bbc34",
   "metadata": {},
   "outputs": [
    {
     "data": {
      "text/html": [
       "<div>\n",
       "<style scoped>\n",
       "    .dataframe tbody tr th:only-of-type {\n",
       "        vertical-align: middle;\n",
       "    }\n",
       "\n",
       "    .dataframe tbody tr th {\n",
       "        vertical-align: top;\n",
       "    }\n",
       "\n",
       "    .dataframe thead th {\n",
       "        text-align: right;\n",
       "    }\n",
       "</style>\n",
       "<table border=\"1\" class=\"dataframe\">\n",
       "  <thead>\n",
       "    <tr style=\"text-align: right;\">\n",
       "      <th></th>\n",
       "      <th>LotFrontage</th>\n",
       "      <th>GrLivArea</th>\n",
       "      <th>LotArea</th>\n",
       "      <th>GarageArea</th>\n",
       "      <th>AgeWhenSold</th>\n",
       "      <th>SalePrice</th>\n",
       "    </tr>\n",
       "  </thead>\n",
       "  <tbody>\n",
       "    <tr>\n",
       "      <th>0</th>\n",
       "      <td>65.0</td>\n",
       "      <td>1710</td>\n",
       "      <td>8450</td>\n",
       "      <td>548</td>\n",
       "      <td>5</td>\n",
       "      <td>208500</td>\n",
       "    </tr>\n",
       "    <tr>\n",
       "      <th>1</th>\n",
       "      <td>80.0</td>\n",
       "      <td>1262</td>\n",
       "      <td>9600</td>\n",
       "      <td>460</td>\n",
       "      <td>31</td>\n",
       "      <td>181500</td>\n",
       "    </tr>\n",
       "    <tr>\n",
       "      <th>2</th>\n",
       "      <td>68.0</td>\n",
       "      <td>1786</td>\n",
       "      <td>11250</td>\n",
       "      <td>608</td>\n",
       "      <td>7</td>\n",
       "      <td>223500</td>\n",
       "    </tr>\n",
       "    <tr>\n",
       "      <th>3</th>\n",
       "      <td>60.0</td>\n",
       "      <td>1717</td>\n",
       "      <td>9550</td>\n",
       "      <td>642</td>\n",
       "      <td>91</td>\n",
       "      <td>140000</td>\n",
       "    </tr>\n",
       "    <tr>\n",
       "      <th>4</th>\n",
       "      <td>84.0</td>\n",
       "      <td>2198</td>\n",
       "      <td>14260</td>\n",
       "      <td>836</td>\n",
       "      <td>8</td>\n",
       "      <td>250000</td>\n",
       "    </tr>\n",
       "    <tr>\n",
       "      <th>...</th>\n",
       "      <td>...</td>\n",
       "      <td>...</td>\n",
       "      <td>...</td>\n",
       "      <td>...</td>\n",
       "      <td>...</td>\n",
       "      <td>...</td>\n",
       "    </tr>\n",
       "    <tr>\n",
       "      <th>1455</th>\n",
       "      <td>62.0</td>\n",
       "      <td>1647</td>\n",
       "      <td>7917</td>\n",
       "      <td>460</td>\n",
       "      <td>8</td>\n",
       "      <td>175000</td>\n",
       "    </tr>\n",
       "    <tr>\n",
       "      <th>1456</th>\n",
       "      <td>85.0</td>\n",
       "      <td>2073</td>\n",
       "      <td>13175</td>\n",
       "      <td>500</td>\n",
       "      <td>32</td>\n",
       "      <td>210000</td>\n",
       "    </tr>\n",
       "    <tr>\n",
       "      <th>1457</th>\n",
       "      <td>66.0</td>\n",
       "      <td>2340</td>\n",
       "      <td>9042</td>\n",
       "      <td>252</td>\n",
       "      <td>69</td>\n",
       "      <td>266500</td>\n",
       "    </tr>\n",
       "    <tr>\n",
       "      <th>1458</th>\n",
       "      <td>68.0</td>\n",
       "      <td>1078</td>\n",
       "      <td>9717</td>\n",
       "      <td>240</td>\n",
       "      <td>60</td>\n",
       "      <td>142125</td>\n",
       "    </tr>\n",
       "    <tr>\n",
       "      <th>1459</th>\n",
       "      <td>75.0</td>\n",
       "      <td>1256</td>\n",
       "      <td>9937</td>\n",
       "      <td>276</td>\n",
       "      <td>43</td>\n",
       "      <td>147500</td>\n",
       "    </tr>\n",
       "  </tbody>\n",
       "</table>\n",
       "<p>1396 rows × 6 columns</p>\n",
       "</div>"
      ],
      "text/plain": [
       "      LotFrontage  GrLivArea  LotArea  GarageArea  AgeWhenSold  SalePrice\n",
       "0            65.0       1710     8450         548            5     208500\n",
       "1            80.0       1262     9600         460           31     181500\n",
       "2            68.0       1786    11250         608            7     223500\n",
       "3            60.0       1717     9550         642           91     140000\n",
       "4            84.0       2198    14260         836            8     250000\n",
       "...           ...        ...      ...         ...          ...        ...\n",
       "1455         62.0       1647     7917         460            8     175000\n",
       "1456         85.0       2073    13175         500           32     210000\n",
       "1457         66.0       2340     9042         252           69     266500\n",
       "1458         68.0       1078     9717         240           60     142125\n",
       "1459         75.0       1256     9937         276           43     147500\n",
       "\n",
       "[1396 rows x 6 columns]"
      ]
     },
     "execution_count": 8,
     "metadata": {},
     "output_type": "execute_result"
    }
   ],
   "source": [
    "data1=req_df.drop(labels=i,axis=0)\n",
    "data1"
   ]
  },
  {
   "cell_type": "code",
   "execution_count": 9,
   "id": "c44b6010",
   "metadata": {},
   "outputs": [
    {
     "data": {
      "text/plain": [
       "LotFrontage    244\n",
       "GrLivArea        0\n",
       "LotArea          0\n",
       "GarageArea       0\n",
       "AgeWhenSold      0\n",
       "SalePrice        0\n",
       "dtype: int64"
      ]
     },
     "execution_count": 9,
     "metadata": {},
     "output_type": "execute_result"
    }
   ],
   "source": [
    "data1.isnull().sum()"
   ]
  },
  {
   "cell_type": "code",
   "execution_count": 10,
   "id": "5350d4cd",
   "metadata": {},
   "outputs": [
    {
     "data": {
      "text/plain": [
       "LotFrontage    float64\n",
       "GrLivArea        int64\n",
       "LotArea          int64\n",
       "GarageArea       int64\n",
       "AgeWhenSold      int64\n",
       "SalePrice        int64\n",
       "dtype: object"
      ]
     },
     "execution_count": 10,
     "metadata": {},
     "output_type": "execute_result"
    }
   ],
   "source": [
    "data1.dtypes"
   ]
  },
  {
   "cell_type": "code",
   "execution_count": 11,
   "id": "4f3f50f8",
   "metadata": {},
   "outputs": [],
   "source": [
    "data1['LotFrontage']=data1['LotFrontage'].fillna(data1['LotFrontage'].median())"
   ]
  },
  {
   "cell_type": "markdown",
   "id": "c5cf04eb",
   "metadata": {},
   "source": [
    "## Data Normalisation"
   ]
  },
  {
   "cell_type": "code",
   "execution_count": 12,
   "id": "0854946d",
   "metadata": {},
   "outputs": [],
   "source": [
    "mm = MinMaxScaler()"
   ]
  },
  {
   "cell_type": "code",
   "execution_count": 13,
   "id": "b821fb94",
   "metadata": {},
   "outputs": [
    {
     "data": {
      "text/html": [
       "<div>\n",
       "<style scoped>\n",
       "    .dataframe tbody tr th:only-of-type {\n",
       "        vertical-align: middle;\n",
       "    }\n",
       "\n",
       "    .dataframe tbody tr th {\n",
       "        vertical-align: top;\n",
       "    }\n",
       "\n",
       "    .dataframe thead th {\n",
       "        text-align: right;\n",
       "    }\n",
       "</style>\n",
       "<table border=\"1\" class=\"dataframe\">\n",
       "  <thead>\n",
       "    <tr style=\"text-align: right;\">\n",
       "      <th></th>\n",
       "      <th>LotFrontage</th>\n",
       "      <th>GrLivArea</th>\n",
       "      <th>LotArea</th>\n",
       "      <th>GarageArea</th>\n",
       "      <th>AgeWhenSold</th>\n",
       "      <th>SalePrice</th>\n",
       "    </tr>\n",
       "  </thead>\n",
       "  <tbody>\n",
       "    <tr>\n",
       "      <th>0</th>\n",
       "      <td>0.150685</td>\n",
       "      <td>0.607506</td>\n",
       "      <td>0.189133</td>\n",
       "      <td>0.394245</td>\n",
       "      <td>0.036765</td>\n",
       "      <td>0.300993</td>\n",
       "    </tr>\n",
       "    <tr>\n",
       "      <th>1</th>\n",
       "      <td>0.202055</td>\n",
       "      <td>0.409713</td>\n",
       "      <td>0.219553</td>\n",
       "      <td>0.330935</td>\n",
       "      <td>0.227941</td>\n",
       "      <td>0.254180</td>\n",
       "    </tr>\n",
       "    <tr>\n",
       "      <th>2</th>\n",
       "      <td>0.160959</td>\n",
       "      <td>0.641060</td>\n",
       "      <td>0.263200</td>\n",
       "      <td>0.437410</td>\n",
       "      <td>0.051471</td>\n",
       "      <td>0.327001</td>\n",
       "    </tr>\n",
       "  </tbody>\n",
       "</table>\n",
       "</div>"
      ],
      "text/plain": [
       "   LotFrontage  GrLivArea   LotArea  GarageArea  AgeWhenSold  SalePrice\n",
       "0     0.150685   0.607506  0.189133    0.394245     0.036765   0.300993\n",
       "1     0.202055   0.409713  0.219553    0.330935     0.227941   0.254180\n",
       "2     0.160959   0.641060  0.263200    0.437410     0.051471   0.327001"
      ]
     },
     "execution_count": 13,
     "metadata": {},
     "output_type": "execute_result"
    }
   ],
   "source": [
    "data_tr = data1.copy()\n",
    "data_tr.iloc[:,:]=mm.fit_transform(data1.iloc[:,:])\n",
    "data_tr.head(3)"
   ]
  },
  {
   "cell_type": "code",
   "execution_count": 14,
   "id": "1c821222",
   "metadata": {},
   "outputs": [
    {
     "data": {
      "text/html": [
       "<div>\n",
       "<style scoped>\n",
       "    .dataframe tbody tr th:only-of-type {\n",
       "        vertical-align: middle;\n",
       "    }\n",
       "\n",
       "    .dataframe tbody tr th {\n",
       "        vertical-align: top;\n",
       "    }\n",
       "\n",
       "    .dataframe thead th {\n",
       "        text-align: right;\n",
       "    }\n",
       "</style>\n",
       "<table border=\"1\" class=\"dataframe\">\n",
       "  <thead>\n",
       "    <tr style=\"text-align: right;\">\n",
       "      <th></th>\n",
       "      <th>LotFrontage</th>\n",
       "      <th>GrLivArea</th>\n",
       "      <th>LotArea</th>\n",
       "      <th>GarageArea</th>\n",
       "      <th>AgeWhenSold</th>\n",
       "      <th>SalePrice</th>\n",
       "    </tr>\n",
       "  </thead>\n",
       "  <tbody>\n",
       "    <tr>\n",
       "      <th>0</th>\n",
       "      <td>0.150685</td>\n",
       "      <td>0.607506</td>\n",
       "      <td>0.189133</td>\n",
       "      <td>0.394245</td>\n",
       "      <td>0.036765</td>\n",
       "      <td>208500</td>\n",
       "    </tr>\n",
       "    <tr>\n",
       "      <th>1</th>\n",
       "      <td>0.202055</td>\n",
       "      <td>0.409713</td>\n",
       "      <td>0.219553</td>\n",
       "      <td>0.330935</td>\n",
       "      <td>0.227941</td>\n",
       "      <td>181500</td>\n",
       "    </tr>\n",
       "    <tr>\n",
       "      <th>2</th>\n",
       "      <td>0.160959</td>\n",
       "      <td>0.641060</td>\n",
       "      <td>0.263200</td>\n",
       "      <td>0.437410</td>\n",
       "      <td>0.051471</td>\n",
       "      <td>223500</td>\n",
       "    </tr>\n",
       "  </tbody>\n",
       "</table>\n",
       "</div>"
      ],
      "text/plain": [
       "   LotFrontage  GrLivArea   LotArea  GarageArea  AgeWhenSold  SalePrice\n",
       "0     0.150685   0.607506  0.189133    0.394245     0.036765     208500\n",
       "1     0.202055   0.409713  0.219553    0.330935     0.227941     181500\n",
       "2     0.160959   0.641060  0.263200    0.437410     0.051471     223500"
      ]
     },
     "execution_count": 14,
     "metadata": {},
     "output_type": "execute_result"
    }
   ],
   "source": [
    "data_tr.SalePrice = data.SalePrice\n",
    "data_tr.head(3)"
   ]
  },
  {
   "cell_type": "markdown",
   "id": "094f9df3",
   "metadata": {},
   "source": [
    "# Simple Linear Regression"
   ]
  },
  {
   "cell_type": "code",
   "execution_count": 15,
   "id": "f6444eef",
   "metadata": {},
   "outputs": [],
   "source": [
    "x=data_tr[['GrLivArea']]\n",
    "y=data_tr['SalePrice']"
   ]
  },
  {
   "cell_type": "code",
   "execution_count": 16,
   "id": "cbb7d879",
   "metadata": {},
   "outputs": [],
   "source": [
    "x_train,x_test,y_train,y_test = train_test_split(x,y,test_size=0.25,random_state=4)"
   ]
  },
  {
   "cell_type": "code",
   "execution_count": 17,
   "id": "1cde2be9",
   "metadata": {},
   "outputs": [
    {
     "data": {
      "text/plain": [
       "LinearRegression()"
      ]
     },
     "execution_count": 17,
     "metadata": {},
     "output_type": "execute_result"
    }
   ],
   "source": [
    "from sklearn.linear_model import LinearRegression\n",
    "reg = LinearRegression()\n",
    "reg.fit(x_train,y_train)"
   ]
  },
  {
   "cell_type": "code",
   "execution_count": 18,
   "id": "80dbad1b",
   "metadata": {},
   "outputs": [],
   "source": [
    "y_pred = reg.predict(x_test)"
   ]
  },
  {
   "cell_type": "code",
   "execution_count": 19,
   "id": "9bc68184",
   "metadata": {},
   "outputs": [
    {
     "data": {
      "text/plain": [
       "2133348525.85741"
      ]
     },
     "execution_count": 19,
     "metadata": {},
     "output_type": "execute_result"
    }
   ],
   "source": [
    "from sklearn.metrics import mean_squared_error\n",
    "score=mean_squared_error(y_test,y_pred)\n",
    "score"
   ]
  },
  {
   "cell_type": "code",
   "execution_count": 20,
   "id": "96309b6a",
   "metadata": {},
   "outputs": [
    {
     "name": "stdout",
     "output_type": "stream",
     "text": [
      "RMSE score for Linear Regression is 46188.18599877473\n"
     ]
    }
   ],
   "source": [
    "rmse=score**(0.5)\n",
    "print('RMSE score for Linear Regression is',rmse) "
   ]
  },
  {
   "cell_type": "markdown",
   "id": "c911dcb8",
   "metadata": {},
   "source": [
    "# Multiple Linear Regression"
   ]
  },
  {
   "cell_type": "code",
   "execution_count": 21,
   "id": "aea143f5",
   "metadata": {},
   "outputs": [],
   "source": [
    "x1=data_tr[['LotFrontage','GrLivArea','LotArea','GarageArea','AgeWhenSold']]\n",
    "y1=data_tr['SalePrice']"
   ]
  },
  {
   "cell_type": "code",
   "execution_count": 22,
   "id": "2cfb7a52",
   "metadata": {},
   "outputs": [],
   "source": [
    "x1_train,x1_test,y1_train,y1_test = train_test_split(x1,y1,test_size=0.25,random_state=4)"
   ]
  },
  {
   "cell_type": "code",
   "execution_count": 23,
   "id": "83dec82a",
   "metadata": {},
   "outputs": [
    {
     "data": {
      "text/plain": [
       "LinearRegression()"
      ]
     },
     "execution_count": 23,
     "metadata": {},
     "output_type": "execute_result"
    }
   ],
   "source": [
    "reg.fit(x1_train,y1_train)"
   ]
  },
  {
   "cell_type": "code",
   "execution_count": 24,
   "id": "30d4365a",
   "metadata": {},
   "outputs": [],
   "source": [
    "y1_pred = reg.predict(x1_test)"
   ]
  },
  {
   "cell_type": "code",
   "execution_count": 25,
   "id": "b71f7762",
   "metadata": {},
   "outputs": [
    {
     "name": "stdout",
     "output_type": "stream",
     "text": [
      "RMSE score for Multiple LR is 32932.395642740245\n"
     ]
    }
   ],
   "source": [
    "score=mean_squared_error(y1_test,y1_pred)\n",
    "rmse=score**(0.5)\n",
    "print('RMSE score for Multiple LR is',rmse)"
   ]
  },
  {
   "cell_type": "markdown",
   "id": "2ad00004",
   "metadata": {},
   "source": [
    "# Deep Learning Model Building for Regression"
   ]
  },
  {
   "cell_type": "code",
   "execution_count": 26,
   "id": "de18e2a7",
   "metadata": {},
   "outputs": [],
   "source": [
    "def compilemodel(units,shape,loss):\n",
    "    model = tf.keras.Sequential([\n",
    "        Dense(units,activation='relu',input_shape=[shape]), #HL1\n",
    "        Dense(units,activation='relu'), #HL2\n",
    "        Dense(units,activation='relu'), #HL3\n",
    "        Dense(1,activation='relu') #output layer\n",
    "    ]) \n",
    "    \n",
    "    #compiling the model\n",
    "\n",
    "    model.compile(loss=loss,optimizer='adam',metrics=[RMSE]) \n",
    "    \n",
    "    return(model)"
   ]
  },
  {
   "cell_type": "code",
   "execution_count": 27,
   "id": "a7f05522",
   "metadata": {},
   "outputs": [],
   "source": [
    "class PrintDot(tf.keras.callbacks.Callback):\n",
    "    def on_epoch_end(self,epoch,lags):\n",
    "        if epoch%25 == 0:\n",
    "            print('.',end=' ')\n",
    "\n",
    "\n",
    "def fitmodel(model,trainx,trainy,epoch,valsplit=0.2):\n",
    "    errors = model.fit(trainx,trainy,epochs=epoch,validation_split=valsplit,verbose=0,callbacks=[PrintDot()])\n",
    "    \n",
    "    errhistory = pd.DataFrame(errors.history)\n",
    "    return(errhistory)"
   ]
  },
  {
   "cell_type": "code",
   "execution_count": 28,
   "id": "f8da05e1",
   "metadata": {},
   "outputs": [],
   "source": [
    "def plotbestfitline(actual,predicted,modelname=''):\n",
    "    plt.figure(figsize=(8,5))\n",
    "    plt.title('Best fit Line'+modelname)\n",
    "    sns.regplot(x=actual,y=predicted,marker='.',color='yellow',line_kws={'color':'red'})"
   ]
  },
  {
   "cell_type": "code",
   "execution_count": 29,
   "id": "96cb8f62",
   "metadata": {},
   "outputs": [],
   "source": [
    "nodes=30\n",
    "shape=len(x1_train.columns)\n",
    "\n",
    "#loss functions\n",
    "MSE=tf.keras.losses.MeanSquaredError()\n",
    "MAE=tf.keras.losses.MeanAbsoluteError()\n",
    "RMSE=tf.keras.metrics.RootMeanSquaredError()"
   ]
  },
  {
   "cell_type": "code",
   "execution_count": 30,
   "id": "f7350fbc",
   "metadata": {},
   "outputs": [],
   "source": [
    "EPOCHS =500\n",
    "m1 = compilemodel(nodes,shape,MSE)"
   ]
  },
  {
   "cell_type": "code",
   "execution_count": 31,
   "id": "5cd0e1c1",
   "metadata": {},
   "outputs": [
    {
     "name": "stdout",
     "output_type": "stream",
     "text": [
      ". . . . . . . . . . . . . . . . . . . . "
     ]
    }
   ],
   "source": [
    "e1 = fitmodel(m1,x1_train,y1_train,EPOCHS)"
   ]
  },
  {
   "cell_type": "code",
   "execution_count": 32,
   "id": "e56f3862",
   "metadata": {},
   "outputs": [],
   "source": [
    "e1=e1.rename(columns={'loss':'train_loss','root_mean_squared_error':'train_rmse',\n",
    "                      'val_root_mean_squared_error':'val_rmse'})"
   ]
  },
  {
   "cell_type": "code",
   "execution_count": 33,
   "id": "05203656",
   "metadata": {},
   "outputs": [],
   "source": [
    "e1['epoch']=e1.index"
   ]
  },
  {
   "cell_type": "code",
   "execution_count": 34,
   "id": "2cccfb1d",
   "metadata": {},
   "outputs": [],
   "source": [
    "def predictY(model,testx,testy):\n",
    "    predictions = model.predict(testx).flatten() #convert pred into 1d array\n",
    "    \n",
    "    df=pd.DataFrame({'actual':testy,'predicted':predictions,'err':testy-predictions})\n",
    "    return(df)"
   ]
  },
  {
   "cell_type": "code",
   "execution_count": 35,
   "id": "dac190ae",
   "metadata": {},
   "outputs": [
    {
     "data": {
      "text/html": [
       "<div>\n",
       "<style scoped>\n",
       "    .dataframe tbody tr th:only-of-type {\n",
       "        vertical-align: middle;\n",
       "    }\n",
       "\n",
       "    .dataframe tbody tr th {\n",
       "        vertical-align: top;\n",
       "    }\n",
       "\n",
       "    .dataframe thead th {\n",
       "        text-align: right;\n",
       "    }\n",
       "</style>\n",
       "<table border=\"1\" class=\"dataframe\">\n",
       "  <thead>\n",
       "    <tr style=\"text-align: right;\">\n",
       "      <th></th>\n",
       "      <th>actual</th>\n",
       "      <th>predicted</th>\n",
       "      <th>err</th>\n",
       "    </tr>\n",
       "  </thead>\n",
       "  <tbody>\n",
       "    <tr>\n",
       "      <th>1028</th>\n",
       "      <td>105000</td>\n",
       "      <td>127784.593750</td>\n",
       "      <td>-22784.593750</td>\n",
       "    </tr>\n",
       "    <tr>\n",
       "      <th>762</th>\n",
       "      <td>215200</td>\n",
       "      <td>221727.328125</td>\n",
       "      <td>-6527.328125</td>\n",
       "    </tr>\n",
       "    <tr>\n",
       "      <th>950</th>\n",
       "      <td>129000</td>\n",
       "      <td>134372.703125</td>\n",
       "      <td>-5372.703125</td>\n",
       "    </tr>\n",
       "    <tr>\n",
       "      <th>143</th>\n",
       "      <td>204000</td>\n",
       "      <td>211569.062500</td>\n",
       "      <td>-7569.062500</td>\n",
       "    </tr>\n",
       "    <tr>\n",
       "      <th>1348</th>\n",
       "      <td>215000</td>\n",
       "      <td>211622.796875</td>\n",
       "      <td>3377.203125</td>\n",
       "    </tr>\n",
       "    <tr>\n",
       "      <th>60</th>\n",
       "      <td>158000</td>\n",
       "      <td>194433.328125</td>\n",
       "      <td>-36433.328125</td>\n",
       "    </tr>\n",
       "    <tr>\n",
       "      <th>776</th>\n",
       "      <td>221500</td>\n",
       "      <td>254495.140625</td>\n",
       "      <td>-32995.140625</td>\n",
       "    </tr>\n",
       "    <tr>\n",
       "      <th>687</th>\n",
       "      <td>148800</td>\n",
       "      <td>172453.546875</td>\n",
       "      <td>-23653.546875</td>\n",
       "    </tr>\n",
       "    <tr>\n",
       "      <th>1088</th>\n",
       "      <td>137500</td>\n",
       "      <td>193436.640625</td>\n",
       "      <td>-55936.640625</td>\n",
       "    </tr>\n",
       "    <tr>\n",
       "      <th>13</th>\n",
       "      <td>279500</td>\n",
       "      <td>244448.515625</td>\n",
       "      <td>35051.484375</td>\n",
       "    </tr>\n",
       "  </tbody>\n",
       "</table>\n",
       "</div>"
      ],
      "text/plain": [
       "      actual      predicted           err\n",
       "1028  105000  127784.593750 -22784.593750\n",
       "762   215200  221727.328125  -6527.328125\n",
       "950   129000  134372.703125  -5372.703125\n",
       "143   204000  211569.062500  -7569.062500\n",
       "1348  215000  211622.796875   3377.203125\n",
       "60    158000  194433.328125 -36433.328125\n",
       "776   221500  254495.140625 -32995.140625\n",
       "687   148800  172453.546875 -23653.546875\n",
       "1088  137500  193436.640625 -55936.640625\n",
       "13    279500  244448.515625  35051.484375"
      ]
     },
     "execution_count": 35,
     "metadata": {},
     "output_type": "execute_result"
    }
   ],
   "source": [
    "df1 = predictY(m1,x1_test,y1_test)\n",
    "df1.head(10)"
   ]
  },
  {
   "cell_type": "code",
   "execution_count": 36,
   "id": "bad5ce01",
   "metadata": {},
   "outputs": [],
   "source": [
    "def printMSE(actual,predicted,modelname):\n",
    "    mse=mean_squared_error(df1.actual,df1.predicted)\n",
    "    print('model {} Epoch={}\\n\\tMSE={}\\n\\tRMSE={}'.format(modelname,EPOCHS,mse,np.sqrt(mse)))\n",
    "    return(mse)"
   ]
  },
  {
   "cell_type": "code",
   "execution_count": 37,
   "id": "ae998f2b",
   "metadata": {},
   "outputs": [
    {
     "name": "stdout",
     "output_type": "stream",
     "text": [
      "model m1 Epoch=500\n",
      "\tMSE=1092974834.5209827\n",
      "\tRMSE=33060.16991064902\n"
     ]
    },
    {
     "data": {
      "text/plain": [
       "1092974834.5209827"
      ]
     },
     "execution_count": 37,
     "metadata": {},
     "output_type": "execute_result"
    }
   ],
   "source": [
    "mse1=printMSE(df1.actual,df1.predicted,'m1')\n",
    "mse1"
   ]
  },
  {
   "cell_type": "code",
   "execution_count": 38,
   "id": "f8a4f341",
   "metadata": {},
   "outputs": [
    {
     "data": {
      "image/png": "[encoded data removed]",
      "text/plain": [
       "<Figure size 576x360 with 1 Axes>"
      ]
     },
     "metadata": {
      "needs_background": "light"
     },
     "output_type": "display_data"
    }
   ],
   "source": [
    "plotbestfitline(df1.actual,df1.predicted,'m1. RMSE= '+str(np.sqrt(mse1)))"
   ]
  },
  {
   "cell_type": "markdown",
   "id": "fbdbf80a",
   "metadata": {},
   "source": [
    "# DL Model for single predictor and single regressor variable"
   ]
  },
  {
   "cell_type": "code",
   "execution_count": 39,
   "id": "012df3b0",
   "metadata": {},
   "outputs": [],
   "source": [
    "nodes=30\n",
    "shape=len(x_train.columns)"
   ]
  },
  {
   "cell_type": "code",
   "execution_count": 40,
   "id": "4f807389",
   "metadata": {},
   "outputs": [],
   "source": [
    "EPOCHS =500\n",
    "m2 = compilemodel(nodes,shape,MSE)"
   ]
  },
  {
   "cell_type": "code",
   "execution_count": 41,
   "id": "32365a28",
   "metadata": {},
   "outputs": [
    {
     "name": "stdout",
     "output_type": "stream",
     "text": [
      ". . . . . . . . . . . . . . . . . . . . "
     ]
    }
   ],
   "source": [
    "e2 = fitmodel(m2,x_train,y_train,EPOCHS)"
   ]
  },
  {
   "cell_type": "code",
   "execution_count": 42,
   "id": "8da14332",
   "metadata": {},
   "outputs": [],
   "source": [
    "e2=e2.rename(columns={'loss':'train_loss','root_mean_squared_error':'train_rmse',\n",
    "                      'val_root_mean_squared_error':'val_rmse'})"
   ]
  },
  {
   "cell_type": "code",
   "execution_count": 43,
   "id": "ef92072f",
   "metadata": {},
   "outputs": [],
   "source": [
    "e2['epoch']=e2.index"
   ]
  },
  {
   "cell_type": "code",
   "execution_count": 44,
   "id": "f3bb26ae",
   "metadata": {},
   "outputs": [
    {
     "data": {
      "text/html": [
       "<div>\n",
       "<style scoped>\n",
       "    .dataframe tbody tr th:only-of-type {\n",
       "        vertical-align: middle;\n",
       "    }\n",
       "\n",
       "    .dataframe tbody tr th {\n",
       "        vertical-align: top;\n",
       "    }\n",
       "\n",
       "    .dataframe thead th {\n",
       "        text-align: right;\n",
       "    }\n",
       "</style>\n",
       "<table border=\"1\" class=\"dataframe\">\n",
       "  <thead>\n",
       "    <tr style=\"text-align: right;\">\n",
       "      <th></th>\n",
       "      <th>actual</th>\n",
       "      <th>predicted</th>\n",
       "      <th>err</th>\n",
       "    </tr>\n",
       "  </thead>\n",
       "  <tbody>\n",
       "    <tr>\n",
       "      <th>1028</th>\n",
       "      <td>105000</td>\n",
       "      <td>167059.187500</td>\n",
       "      <td>-62059.187500</td>\n",
       "    </tr>\n",
       "    <tr>\n",
       "      <th>762</th>\n",
       "      <td>215200</td>\n",
       "      <td>184699.937500</td>\n",
       "      <td>30500.062500</td>\n",
       "    </tr>\n",
       "    <tr>\n",
       "      <th>950</th>\n",
       "      <td>129000</td>\n",
       "      <td>114240.078125</td>\n",
       "      <td>14759.921875</td>\n",
       "    </tr>\n",
       "    <tr>\n",
       "      <th>143</th>\n",
       "      <td>204000</td>\n",
       "      <td>179954.484375</td>\n",
       "      <td>24045.515625</td>\n",
       "    </tr>\n",
       "    <tr>\n",
       "      <th>1348</th>\n",
       "      <td>215000</td>\n",
       "      <td>179232.343750</td>\n",
       "      <td>35767.656250</td>\n",
       "    </tr>\n",
       "    <tr>\n",
       "      <th>60</th>\n",
       "      <td>158000</td>\n",
       "      <td>144569.796875</td>\n",
       "      <td>13430.203125</td>\n",
       "    </tr>\n",
       "    <tr>\n",
       "      <th>776</th>\n",
       "      <td>221500</td>\n",
       "      <td>191611.828125</td>\n",
       "      <td>29888.171875</td>\n",
       "    </tr>\n",
       "    <tr>\n",
       "      <th>687</th>\n",
       "      <td>148800</td>\n",
       "      <td>138792.703125</td>\n",
       "      <td>10007.296875</td>\n",
       "    </tr>\n",
       "    <tr>\n",
       "      <th>1088</th>\n",
       "      <td>137500</td>\n",
       "      <td>201412.250000</td>\n",
       "      <td>-63912.250000</td>\n",
       "    </tr>\n",
       "    <tr>\n",
       "      <th>13</th>\n",
       "      <td>279500</td>\n",
       "      <td>179232.343750</td>\n",
       "      <td>100267.656250</td>\n",
       "    </tr>\n",
       "  </tbody>\n",
       "</table>\n",
       "</div>"
      ],
      "text/plain": [
       "      actual      predicted            err\n",
       "1028  105000  167059.187500  -62059.187500\n",
       "762   215200  184699.937500   30500.062500\n",
       "950   129000  114240.078125   14759.921875\n",
       "143   204000  179954.484375   24045.515625\n",
       "1348  215000  179232.343750   35767.656250\n",
       "60    158000  144569.796875   13430.203125\n",
       "776   221500  191611.828125   29888.171875\n",
       "687   148800  138792.703125   10007.296875\n",
       "1088  137500  201412.250000  -63912.250000\n",
       "13    279500  179232.343750  100267.656250"
      ]
     },
     "execution_count": 44,
     "metadata": {},
     "output_type": "execute_result"
    }
   ],
   "source": [
    "df2 = predictY(m2,x_test,y_test)\n",
    "df2.head(10)"
   ]
  },
  {
   "cell_type": "code",
   "execution_count": 45,
   "id": "468f0b3b",
   "metadata": {},
   "outputs": [
    {
     "name": "stdout",
     "output_type": "stream",
     "text": [
      "model m2 Epoch=500\n",
      "\tMSE=1092974834.5209827\n",
      "\tRMSE=33060.16991064902\n"
     ]
    },
    {
     "data": {
      "text/plain": [
       "1092974834.5209827"
      ]
     },
     "execution_count": 45,
     "metadata": {},
     "output_type": "execute_result"
    }
   ],
   "source": [
    "mse2=printMSE(df2.actual,df2.predicted,'m2')\n",
    "mse2"
   ]
  },
  {
   "cell_type": "code",
   "execution_count": 46,
   "id": "284b9976",
   "metadata": {
    "scrolled": true
   },
   "outputs": [
    {
     "data": {
      "image/png": "[encoded data removed]",
      "text/plain": [
       "<Figure size 576x360 with 1 Axes>"
      ]
     },
     "metadata": {
      "needs_background": "light"
     },
     "output_type": "display_data"
    }
   ],
   "source": [
    "plotbestfitline(df2.actual,df2.predicted,'m2. RMSE= '+str(np.sqrt(mse2)))"
   ]
  },
  {
   "cell_type": "markdown",
   "id": "722b01cb",
   "metadata": {},
   "source": [
    "### Conclusion:  \n",
    "RMSE score for Linear Regression is 46188.18599877473  \n",
    "RMSE score for Multiple LR is 32932.395642740245  \n",
    "RMSE=183585.4124822736 (multiple regressor values(x))  \n",
    "RMSE=33060.16991064902 (single regressor value(x))  "
   ]
  },
  {
   "cell_type": "markdown",
   "id": "fcaafcce",
   "metadata": {},
   "source": [
    "### Multiple regressor values with multiple hidden layers model will give less RMSE value"
   ]
  },
  {
   "cell_type": "code",
   "execution_count": null,
   "id": "3d984d5c",
   "metadata": {},
   "outputs": [],
   "source": []
  }
 ],
 "metadata": {
  "kernelspec": {
   "display_name": "Python 3 (ipykernel)",
   "language": "python",
   "name": "python3"
  },
  "language_info": {
   "codemirror_mode": {
    "name": "ipython",
    "version": 3
   },
   "file_extension": ".py",
   "mimetype": "text/x-python",
   "name": "python",
   "nbconvert_exporter": "python",
   "pygments_lexer": "ipython3",
   "version": "3.8.12"
  }
 },
 "nbformat": 4,
 "nbformat_minor": 5
}
