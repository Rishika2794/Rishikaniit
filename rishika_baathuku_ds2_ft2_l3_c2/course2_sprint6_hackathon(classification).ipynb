{
 "cells": [
  {
   "cell_type": "code",
   "execution_count": 1,
   "id": "e3761057",
   "metadata": {},
   "outputs": [],
   "source": [
    "import pandas as pd\n",
    "import numpy as np\n",
    "from sklearn.model_selection import train_test_split\n",
    "from sklearn.metrics import accuracy_score, classification_report\n",
    "from sklearn.preprocessing import MinMaxScaler, LabelEncoder\n",
    "from matplotlib import pyplot as plt\n",
    "import seaborn as sns\n",
    "from sklearn import metrics\n",
    "\n",
    "import tensorflow as tf\n",
    "import keras\n",
    "from keras.models import Sequential\n",
    "from keras.layers import Dense\n",
    "import warnings\n",
    "warnings.filterwarnings('ignore')"
   ]
  },
  {
   "cell_type": "markdown",
   "id": "faeb77e9",
   "metadata": {},
   "source": [
    "# Reading and Data Preparation"
   ]
  },
  {
   "cell_type": "code",
   "execution_count": 2,
   "id": "55ca2f22",
   "metadata": {},
   "outputs": [
    {
     "name": "stdout",
     "output_type": "stream",
     "text": [
      "(1460, 81)\n",
      "Id                 int64\n",
      "MSSubClass         int64\n",
      "MSZoning          object\n",
      "LotFrontage      float64\n",
      "LotArea            int64\n",
      "                  ...   \n",
      "MoSold             int64\n",
      "YrSold             int64\n",
      "SaleType          object\n",
      "SaleCondition     object\n",
      "SalePrice          int64\n",
      "Length: 81, dtype: object\n"
     ]
    }
   ],
   "source": [
    "data = pd.read_csv(r\"C:\\Users\\anant\\Downloads\\DS3_CS2_SP6_Hackathon_House_Data_HackathonBrief.csv\")\n",
    "print(data.shape)\n",
    "print(data.dtypes)"
   ]
  },
  {
   "cell_type": "code",
   "execution_count": 3,
   "id": "b0cac618",
   "metadata": {},
   "outputs": [
    {
     "data": {
      "text/html": [
       "<div>\n",
       "<style scoped>\n",
       "    .dataframe tbody tr th:only-of-type {\n",
       "        vertical-align: middle;\n",
       "    }\n",
       "\n",
       "    .dataframe tbody tr th {\n",
       "        vertical-align: top;\n",
       "    }\n",
       "\n",
       "    .dataframe thead th {\n",
       "        text-align: right;\n",
       "    }\n",
       "</style>\n",
       "<table border=\"1\" class=\"dataframe\">\n",
       "  <thead>\n",
       "    <tr style=\"text-align: right;\">\n",
       "      <th></th>\n",
       "      <th>Id</th>\n",
       "      <th>MSSubClass</th>\n",
       "      <th>MSZoning</th>\n",
       "      <th>LotFrontage</th>\n",
       "      <th>LotArea</th>\n",
       "      <th>Street</th>\n",
       "      <th>Alley</th>\n",
       "      <th>LotShape</th>\n",
       "      <th>LandContour</th>\n",
       "      <th>Utilities</th>\n",
       "      <th>...</th>\n",
       "      <th>PoolQC</th>\n",
       "      <th>Fence</th>\n",
       "      <th>MiscFeature</th>\n",
       "      <th>MiscVal</th>\n",
       "      <th>MoSold</th>\n",
       "      <th>YrSold</th>\n",
       "      <th>SaleType</th>\n",
       "      <th>SaleCondition</th>\n",
       "      <th>SalePrice</th>\n",
       "      <th>AgeWhenSold</th>\n",
       "    </tr>\n",
       "  </thead>\n",
       "  <tbody>\n",
       "    <tr>\n",
       "      <th>0</th>\n",
       "      <td>1</td>\n",
       "      <td>60</td>\n",
       "      <td>RL</td>\n",
       "      <td>65.0</td>\n",
       "      <td>8450</td>\n",
       "      <td>Pave</td>\n",
       "      <td>NaN</td>\n",
       "      <td>Reg</td>\n",
       "      <td>Lvl</td>\n",
       "      <td>AllPub</td>\n",
       "      <td>...</td>\n",
       "      <td>NaN</td>\n",
       "      <td>NaN</td>\n",
       "      <td>NaN</td>\n",
       "      <td>0</td>\n",
       "      <td>2</td>\n",
       "      <td>2008</td>\n",
       "      <td>WD</td>\n",
       "      <td>Normal</td>\n",
       "      <td>208500</td>\n",
       "      <td>5</td>\n",
       "    </tr>\n",
       "    <tr>\n",
       "      <th>1</th>\n",
       "      <td>2</td>\n",
       "      <td>20</td>\n",
       "      <td>RL</td>\n",
       "      <td>80.0</td>\n",
       "      <td>9600</td>\n",
       "      <td>Pave</td>\n",
       "      <td>NaN</td>\n",
       "      <td>Reg</td>\n",
       "      <td>Lvl</td>\n",
       "      <td>AllPub</td>\n",
       "      <td>...</td>\n",
       "      <td>NaN</td>\n",
       "      <td>NaN</td>\n",
       "      <td>NaN</td>\n",
       "      <td>0</td>\n",
       "      <td>5</td>\n",
       "      <td>2007</td>\n",
       "      <td>WD</td>\n",
       "      <td>Normal</td>\n",
       "      <td>181500</td>\n",
       "      <td>31</td>\n",
       "    </tr>\n",
       "    <tr>\n",
       "      <th>2</th>\n",
       "      <td>3</td>\n",
       "      <td>60</td>\n",
       "      <td>RL</td>\n",
       "      <td>68.0</td>\n",
       "      <td>11250</td>\n",
       "      <td>Pave</td>\n",
       "      <td>NaN</td>\n",
       "      <td>IR1</td>\n",
       "      <td>Lvl</td>\n",
       "      <td>AllPub</td>\n",
       "      <td>...</td>\n",
       "      <td>NaN</td>\n",
       "      <td>NaN</td>\n",
       "      <td>NaN</td>\n",
       "      <td>0</td>\n",
       "      <td>9</td>\n",
       "      <td>2008</td>\n",
       "      <td>WD</td>\n",
       "      <td>Normal</td>\n",
       "      <td>223500</td>\n",
       "      <td>7</td>\n",
       "    </tr>\n",
       "    <tr>\n",
       "      <th>3</th>\n",
       "      <td>4</td>\n",
       "      <td>70</td>\n",
       "      <td>RL</td>\n",
       "      <td>60.0</td>\n",
       "      <td>9550</td>\n",
       "      <td>Pave</td>\n",
       "      <td>NaN</td>\n",
       "      <td>IR1</td>\n",
       "      <td>Lvl</td>\n",
       "      <td>AllPub</td>\n",
       "      <td>...</td>\n",
       "      <td>NaN</td>\n",
       "      <td>NaN</td>\n",
       "      <td>NaN</td>\n",
       "      <td>0</td>\n",
       "      <td>2</td>\n",
       "      <td>2006</td>\n",
       "      <td>WD</td>\n",
       "      <td>Abnorml</td>\n",
       "      <td>140000</td>\n",
       "      <td>91</td>\n",
       "    </tr>\n",
       "    <tr>\n",
       "      <th>4</th>\n",
       "      <td>5</td>\n",
       "      <td>60</td>\n",
       "      <td>RL</td>\n",
       "      <td>84.0</td>\n",
       "      <td>14260</td>\n",
       "      <td>Pave</td>\n",
       "      <td>NaN</td>\n",
       "      <td>IR1</td>\n",
       "      <td>Lvl</td>\n",
       "      <td>AllPub</td>\n",
       "      <td>...</td>\n",
       "      <td>NaN</td>\n",
       "      <td>NaN</td>\n",
       "      <td>NaN</td>\n",
       "      <td>0</td>\n",
       "      <td>12</td>\n",
       "      <td>2008</td>\n",
       "      <td>WD</td>\n",
       "      <td>Normal</td>\n",
       "      <td>250000</td>\n",
       "      <td>8</td>\n",
       "    </tr>\n",
       "  </tbody>\n",
       "</table>\n",
       "<p>5 rows × 82 columns</p>\n",
       "</div>"
      ],
      "text/plain": [
       "   Id  MSSubClass MSZoning  LotFrontage  LotArea Street Alley LotShape  \\\n",
       "0   1          60       RL         65.0     8450   Pave   NaN      Reg   \n",
       "1   2          20       RL         80.0     9600   Pave   NaN      Reg   \n",
       "2   3          60       RL         68.0    11250   Pave   NaN      IR1   \n",
       "3   4          70       RL         60.0     9550   Pave   NaN      IR1   \n",
       "4   5          60       RL         84.0    14260   Pave   NaN      IR1   \n",
       "\n",
       "  LandContour Utilities  ... PoolQC Fence MiscFeature MiscVal MoSold YrSold  \\\n",
       "0         Lvl    AllPub  ...    NaN   NaN         NaN       0      2   2008   \n",
       "1         Lvl    AllPub  ...    NaN   NaN         NaN       0      5   2007   \n",
       "2         Lvl    AllPub  ...    NaN   NaN         NaN       0      9   2008   \n",
       "3         Lvl    AllPub  ...    NaN   NaN         NaN       0      2   2006   \n",
       "4         Lvl    AllPub  ...    NaN   NaN         NaN       0     12   2008   \n",
       "\n",
       "  SaleType  SaleCondition  SalePrice  AgeWhenSold  \n",
       "0       WD         Normal     208500            5  \n",
       "1       WD         Normal     181500           31  \n",
       "2       WD         Normal     223500            7  \n",
       "3       WD        Abnorml     140000           91  \n",
       "4       WD         Normal     250000            8  \n",
       "\n",
       "[5 rows x 82 columns]"
      ]
     },
     "execution_count": 3,
     "metadata": {},
     "output_type": "execute_result"
    }
   ],
   "source": [
    "data['AgeWhenSold']=data['YrSold']-data['YearBuilt']\n",
    "data.head()"
   ]
  },
  {
   "cell_type": "code",
   "execution_count": 4,
   "id": "266a6674",
   "metadata": {},
   "outputs": [
    {
     "data": {
      "text/plain": [
       "Index(['Id', 'MSSubClass', 'MSZoning', 'LotFrontage', 'LotArea', 'Street',\n",
       "       'Alley', 'LotShape', 'LandContour', 'Utilities', 'LotConfig',\n",
       "       'LandSlope', 'Neighborhood', 'Condition1', 'Condition2', 'BldgType',\n",
       "       'HouseStyle', 'OverallQual', 'OverallCond', 'YearBuilt', 'YearRemodAdd',\n",
       "       'RoofStyle', 'RoofMatl', 'Exterior1st', 'Exterior2nd', 'MasVnrType',\n",
       "       'MasVnrArea', 'ExterQual', 'ExterCond', 'Foundation', 'BsmtQual',\n",
       "       'BsmtCond', 'BsmtExposure', 'BsmtFinType1', 'BsmtFinSF1',\n",
       "       'BsmtFinType2', 'BsmtFinSF2', 'BsmtUnfSF', 'TotalBsmtSF', 'Heating',\n",
       "       'HeatingQC', 'CentralAir', 'Electrical', '1stFlrSF', '2ndFlrSF',\n",
       "       'LowQualFinSF', 'GrLivArea', 'BsmtFullBath', 'BsmtHalfBath', 'FullBath',\n",
       "       'HalfBath', 'BedroomAbvGr', 'KitchenAbvGr', 'KitchenQual',\n",
       "       'TotRmsAbvGrd', 'Functional', 'Fireplaces', 'FireplaceQu', 'GarageType',\n",
       "       'GarageYrBlt', 'GarageFinish', 'GarageCars', 'GarageArea', 'GarageQual',\n",
       "       'GarageCond', 'PavedDrive', 'WoodDeckSF', 'OpenPorchSF',\n",
       "       'EnclosedPorch', '3SsnPorch', 'ScreenPorch', 'PoolArea', 'PoolQC',\n",
       "       'Fence', 'MiscFeature', 'MiscVal', 'MoSold', 'YrSold', 'SaleType',\n",
       "       'SaleCondition', 'SalePrice', 'AgeWhenSold'],\n",
       "      dtype='object')"
      ]
     },
     "execution_count": 4,
     "metadata": {},
     "output_type": "execute_result"
    }
   ],
   "source": [
    "data.columns"
   ]
  },
  {
   "cell_type": "code",
   "execution_count": 5,
   "id": "0296fe5a",
   "metadata": {},
   "outputs": [
    {
     "data": {
      "text/html": [
       "<div>\n",
       "<style scoped>\n",
       "    .dataframe tbody tr th:only-of-type {\n",
       "        vertical-align: middle;\n",
       "    }\n",
       "\n",
       "    .dataframe tbody tr th {\n",
       "        vertical-align: top;\n",
       "    }\n",
       "\n",
       "    .dataframe thead th {\n",
       "        text-align: right;\n",
       "    }\n",
       "</style>\n",
       "<table border=\"1\" class=\"dataframe\">\n",
       "  <thead>\n",
       "    <tr style=\"text-align: right;\">\n",
       "      <th></th>\n",
       "      <th>GrLivArea</th>\n",
       "      <th>BsmtFullBath</th>\n",
       "      <th>BsmtHalfBath</th>\n",
       "      <th>FullBath</th>\n",
       "      <th>HalfBath</th>\n",
       "    </tr>\n",
       "  </thead>\n",
       "  <tbody>\n",
       "    <tr>\n",
       "      <th>0</th>\n",
       "      <td>1710</td>\n",
       "      <td>1</td>\n",
       "      <td>0</td>\n",
       "      <td>2</td>\n",
       "      <td>1</td>\n",
       "    </tr>\n",
       "    <tr>\n",
       "      <th>1</th>\n",
       "      <td>1262</td>\n",
       "      <td>0</td>\n",
       "      <td>1</td>\n",
       "      <td>2</td>\n",
       "      <td>0</td>\n",
       "    </tr>\n",
       "    <tr>\n",
       "      <th>2</th>\n",
       "      <td>1786</td>\n",
       "      <td>1</td>\n",
       "      <td>0</td>\n",
       "      <td>2</td>\n",
       "      <td>1</td>\n",
       "    </tr>\n",
       "    <tr>\n",
       "      <th>3</th>\n",
       "      <td>1717</td>\n",
       "      <td>1</td>\n",
       "      <td>0</td>\n",
       "      <td>1</td>\n",
       "      <td>0</td>\n",
       "    </tr>\n",
       "    <tr>\n",
       "      <th>4</th>\n",
       "      <td>2198</td>\n",
       "      <td>1</td>\n",
       "      <td>0</td>\n",
       "      <td>2</td>\n",
       "      <td>1</td>\n",
       "    </tr>\n",
       "    <tr>\n",
       "      <th>...</th>\n",
       "      <td>...</td>\n",
       "      <td>...</td>\n",
       "      <td>...</td>\n",
       "      <td>...</td>\n",
       "      <td>...</td>\n",
       "    </tr>\n",
       "    <tr>\n",
       "      <th>1455</th>\n",
       "      <td>1647</td>\n",
       "      <td>0</td>\n",
       "      <td>0</td>\n",
       "      <td>2</td>\n",
       "      <td>1</td>\n",
       "    </tr>\n",
       "    <tr>\n",
       "      <th>1456</th>\n",
       "      <td>2073</td>\n",
       "      <td>1</td>\n",
       "      <td>0</td>\n",
       "      <td>2</td>\n",
       "      <td>0</td>\n",
       "    </tr>\n",
       "    <tr>\n",
       "      <th>1457</th>\n",
       "      <td>2340</td>\n",
       "      <td>0</td>\n",
       "      <td>0</td>\n",
       "      <td>2</td>\n",
       "      <td>0</td>\n",
       "    </tr>\n",
       "    <tr>\n",
       "      <th>1458</th>\n",
       "      <td>1078</td>\n",
       "      <td>1</td>\n",
       "      <td>0</td>\n",
       "      <td>1</td>\n",
       "      <td>0</td>\n",
       "    </tr>\n",
       "    <tr>\n",
       "      <th>1459</th>\n",
       "      <td>1256</td>\n",
       "      <td>1</td>\n",
       "      <td>0</td>\n",
       "      <td>1</td>\n",
       "      <td>1</td>\n",
       "    </tr>\n",
       "  </tbody>\n",
       "</table>\n",
       "<p>1460 rows × 5 columns</p>\n",
       "</div>"
      ],
      "text/plain": [
       "      GrLivArea  BsmtFullBath  BsmtHalfBath  FullBath  HalfBath\n",
       "0          1710             1             0         2         1\n",
       "1          1262             0             1         2         0\n",
       "2          1786             1             0         2         1\n",
       "3          1717             1             0         1         0\n",
       "4          2198             1             0         2         1\n",
       "...         ...           ...           ...       ...       ...\n",
       "1455       1647             0             0         2         1\n",
       "1456       2073             1             0         2         0\n",
       "1457       2340             0             0         2         0\n",
       "1458       1078             1             0         1         0\n",
       "1459       1256             1             0         1         1\n",
       "\n",
       "[1460 rows x 5 columns]"
      ]
     },
     "execution_count": 5,
     "metadata": {},
     "output_type": "execute_result"
    }
   ],
   "source": [
    "req_df=data[['GrLivArea','BsmtFullBath','BsmtHalfBath','FullBath','HalfBath']]\n",
    "req_df"
   ]
  },
  {
   "cell_type": "markdown",
   "id": "111829f5",
   "metadata": {},
   "source": [
    "# Binary Classification"
   ]
  },
  {
   "cell_type": "code",
   "execution_count": 6,
   "id": "b093b37c",
   "metadata": {},
   "outputs": [],
   "source": [
    "req_df['bath'] = req_df['BsmtFullBath']+req_df['BsmtHalfBath']+req_df['FullBath']+req_df['HalfBath']"
   ]
  },
  {
   "cell_type": "code",
   "execution_count": 7,
   "id": "730ba191",
   "metadata": {},
   "outputs": [
    {
     "data": {
      "text/html": [
       "<div>\n",
       "<style scoped>\n",
       "    .dataframe tbody tr th:only-of-type {\n",
       "        vertical-align: middle;\n",
       "    }\n",
       "\n",
       "    .dataframe tbody tr th {\n",
       "        vertical-align: top;\n",
       "    }\n",
       "\n",
       "    .dataframe thead th {\n",
       "        text-align: right;\n",
       "    }\n",
       "</style>\n",
       "<table border=\"1\" class=\"dataframe\">\n",
       "  <thead>\n",
       "    <tr style=\"text-align: right;\">\n",
       "      <th></th>\n",
       "      <th>GrLivArea</th>\n",
       "      <th>BsmtFullBath</th>\n",
       "      <th>BsmtHalfBath</th>\n",
       "      <th>FullBath</th>\n",
       "      <th>HalfBath</th>\n",
       "      <th>bath</th>\n",
       "    </tr>\n",
       "  </thead>\n",
       "  <tbody>\n",
       "    <tr>\n",
       "      <th>0</th>\n",
       "      <td>1710</td>\n",
       "      <td>1</td>\n",
       "      <td>0</td>\n",
       "      <td>2</td>\n",
       "      <td>1</td>\n",
       "      <td>4</td>\n",
       "    </tr>\n",
       "    <tr>\n",
       "      <th>1</th>\n",
       "      <td>1262</td>\n",
       "      <td>0</td>\n",
       "      <td>1</td>\n",
       "      <td>2</td>\n",
       "      <td>0</td>\n",
       "      <td>3</td>\n",
       "    </tr>\n",
       "    <tr>\n",
       "      <th>2</th>\n",
       "      <td>1786</td>\n",
       "      <td>1</td>\n",
       "      <td>0</td>\n",
       "      <td>2</td>\n",
       "      <td>1</td>\n",
       "      <td>4</td>\n",
       "    </tr>\n",
       "    <tr>\n",
       "      <th>3</th>\n",
       "      <td>1717</td>\n",
       "      <td>1</td>\n",
       "      <td>0</td>\n",
       "      <td>1</td>\n",
       "      <td>0</td>\n",
       "      <td>2</td>\n",
       "    </tr>\n",
       "    <tr>\n",
       "      <th>4</th>\n",
       "      <td>2198</td>\n",
       "      <td>1</td>\n",
       "      <td>0</td>\n",
       "      <td>2</td>\n",
       "      <td>1</td>\n",
       "      <td>4</td>\n",
       "    </tr>\n",
       "  </tbody>\n",
       "</table>\n",
       "</div>"
      ],
      "text/plain": [
       "   GrLivArea  BsmtFullBath  BsmtHalfBath  FullBath  HalfBath  bath\n",
       "0       1710             1             0         2         1     4\n",
       "1       1262             0             1         2         0     3\n",
       "2       1786             1             0         2         1     4\n",
       "3       1717             1             0         1         0     2\n",
       "4       2198             1             0         2         1     4"
      ]
     },
     "execution_count": 7,
     "metadata": {},
     "output_type": "execute_result"
    }
   ],
   "source": [
    "req_df.head()"
   ]
  },
  {
   "cell_type": "code",
   "execution_count": 8,
   "id": "16fd57f8",
   "metadata": {},
   "outputs": [],
   "source": [
    "req_df.drop(columns=['BsmtFullBath', 'BsmtHalfBath', 'FullBath','HalfBath'],inplace=True)"
   ]
  },
  {
   "cell_type": "code",
   "execution_count": 9,
   "id": "63f33774",
   "metadata": {},
   "outputs": [
    {
     "data": {
      "text/plain": [
       "2    572\n",
       "3    477\n",
       "1    228\n",
       "4    172\n",
       "5      8\n",
       "6      3\n",
       "Name: bath, dtype: int64"
      ]
     },
     "execution_count": 9,
     "metadata": {},
     "output_type": "execute_result"
    }
   ],
   "source": [
    "req_df['bath'].value_counts()"
   ]
  },
  {
   "cell_type": "code",
   "execution_count": 10,
   "id": "d1a13664",
   "metadata": {},
   "outputs": [
    {
     "data": {
      "text/html": [
       "<div>\n",
       "<style scoped>\n",
       "    .dataframe tbody tr th:only-of-type {\n",
       "        vertical-align: middle;\n",
       "    }\n",
       "\n",
       "    .dataframe tbody tr th {\n",
       "        vertical-align: top;\n",
       "    }\n",
       "\n",
       "    .dataframe thead th {\n",
       "        text-align: right;\n",
       "    }\n",
       "</style>\n",
       "<table border=\"1\" class=\"dataframe\">\n",
       "  <thead>\n",
       "    <tr style=\"text-align: right;\">\n",
       "      <th></th>\n",
       "      <th>GrLivArea</th>\n",
       "      <th>bath</th>\n",
       "    </tr>\n",
       "  </thead>\n",
       "  <tbody>\n",
       "    <tr>\n",
       "      <th>0</th>\n",
       "      <td>1710</td>\n",
       "      <td>4</td>\n",
       "    </tr>\n",
       "    <tr>\n",
       "      <th>1</th>\n",
       "      <td>1262</td>\n",
       "      <td>3</td>\n",
       "    </tr>\n",
       "    <tr>\n",
       "      <th>2</th>\n",
       "      <td>1786</td>\n",
       "      <td>4</td>\n",
       "    </tr>\n",
       "    <tr>\n",
       "      <th>3</th>\n",
       "      <td>1717</td>\n",
       "      <td>2</td>\n",
       "    </tr>\n",
       "    <tr>\n",
       "      <th>4</th>\n",
       "      <td>2198</td>\n",
       "      <td>4</td>\n",
       "    </tr>\n",
       "  </tbody>\n",
       "</table>\n",
       "</div>"
      ],
      "text/plain": [
       "   GrLivArea  bath\n",
       "0       1710     4\n",
       "1       1262     3\n",
       "2       1786     4\n",
       "3       1717     2\n",
       "4       2198     4"
      ]
     },
     "execution_count": 10,
     "metadata": {},
     "output_type": "execute_result"
    }
   ],
   "source": [
    "req_df.head()"
   ]
  },
  {
   "cell_type": "code",
   "execution_count": 11,
   "id": "5ec5cd30",
   "metadata": {},
   "outputs": [],
   "source": [
    "req_df['bath']=req_df['bath'].apply(lambda x: 1 if (x>1) else 0)"
   ]
  },
  {
   "cell_type": "code",
   "execution_count": 12,
   "id": "321f9565",
   "metadata": {},
   "outputs": [
    {
     "data": {
      "text/plain": [
       "1    1232\n",
       "0     228\n",
       "Name: bath, dtype: int64"
      ]
     },
     "execution_count": 12,
     "metadata": {},
     "output_type": "execute_result"
    }
   ],
   "source": [
    "req_df['bath'].value_counts()"
   ]
  },
  {
   "cell_type": "markdown",
   "id": "d0fa3314",
   "metadata": {},
   "source": [
    "## Splitting the Data"
   ]
  },
  {
   "cell_type": "code",
   "execution_count": 13,
   "id": "9de5ea0d",
   "metadata": {},
   "outputs": [],
   "source": [
    "def splitdata(data,y,ratio=0.25):\n",
    "    trainx,testx,trainy,testy = train_test_split(data.drop(y,1), data[y],test_size=ratio)\n",
    "    \n",
    "    return(trainx,trainy,testx,testy)"
   ]
  },
  {
   "cell_type": "code",
   "execution_count": 14,
   "id": "b45b4c43",
   "metadata": {},
   "outputs": [],
   "source": [
    "y='bath'"
   ]
  },
  {
   "cell_type": "code",
   "execution_count": 15,
   "id": "a0b23e96",
   "metadata": {},
   "outputs": [],
   "source": [
    "trainx1,trainy1,testx1,testy1 = splitdata(req_df,y)"
   ]
  },
  {
   "cell_type": "code",
   "execution_count": 16,
   "id": "5bdf1f4c",
   "metadata": {},
   "outputs": [
    {
     "name": "stdout",
     "output_type": "stream",
     "text": [
      "trainx=(1095, 1),trainy=(1095,),testx=(365, 1),testy=(365,)\n"
     ]
    }
   ],
   "source": [
    "print('trainx={},trainy={},testx={},testy={}'.format(trainx1.shape, trainy1.shape, testx1.shape, testy1.shape))"
   ]
  },
  {
   "cell_type": "markdown",
   "id": "cdd6cb41",
   "metadata": {},
   "source": [
    "## Model Building"
   ]
  },
  {
   "cell_type": "code",
   "execution_count": 17,
   "id": "19038f14",
   "metadata": {},
   "outputs": [],
   "source": [
    "def compilemodel(units,shape):\n",
    "    model = tf.keras.Sequential([\n",
    "        Dense(units,activation='relu',input_shape=[shape]), #HL1\n",
    "        Dense(units,activation='relu'), #HL2\n",
    "        Dense(units,activation='relu'), #HL3\n",
    "        Dense(1,activation='sigmoid') #output layer\n",
    "    ]) \n",
    "    \n",
    "    #compiling the model\n",
    "    model.compile(loss='binary_crossentropy',optimizer='adam',metrics=['accuracy']) \n",
    "    \n",
    "    return(model)"
   ]
  },
  {
   "cell_type": "code",
   "execution_count": 18,
   "id": "d2aa9c35",
   "metadata": {},
   "outputs": [],
   "source": [
    "def fitmodel(model,trainx,trainy,epoch,valsplit=0.2): \n",
    "    model.fit(trainx,trainy,epochs=epoch,validation_split=valsplit)"
   ]
  },
  {
   "cell_type": "code",
   "execution_count": 19,
   "id": "3570cb50",
   "metadata": {},
   "outputs": [
    {
     "name": "stdout",
     "output_type": "stream",
     "text": [
      "10 1\n"
     ]
    }
   ],
   "source": [
    "units = 10\n",
    "shape=len(trainx1.columns)\n",
    "print(units,shape)"
   ]
  },
  {
   "cell_type": "code",
   "execution_count": 20,
   "id": "705fc234",
   "metadata": {},
   "outputs": [],
   "source": [
    "m1=compilemodel(units,shape)"
   ]
  },
  {
   "cell_type": "code",
   "execution_count": 21,
   "id": "94406f9b",
   "metadata": {},
   "outputs": [
    {
     "name": "stdout",
     "output_type": "stream",
     "text": [
      "Epoch 1/250\n",
      "28/28 [==============================] - 0s 6ms/step - loss: 0.4184 - accuracy: 0.8288 - val_loss: 0.3749 - val_accuracy: 0.8584\n",
      "Epoch 2/250\n",
      "28/28 [==============================] - 0s 1ms/step - loss: 0.4296 - accuracy: 0.8288 - val_loss: 0.4223 - val_accuracy: 0.8584\n",
      "Epoch 3/250\n",
      "28/28 [==============================] - 0s 1ms/step - loss: 0.4135 - accuracy: 0.8288 - val_loss: 0.3492 - val_accuracy: 0.8584\n",
      "Epoch 4/250\n",
      "28/28 [==============================] - 0s 1ms/step - loss: 0.3965 - accuracy: 0.8288 - val_loss: 0.5199 - val_accuracy: 0.8584\n",
      "Epoch 5/250\n",
      "28/28 [==============================] - 0s 1ms/step - loss: 0.4283 - accuracy: 0.8288 - val_loss: 0.3567 - val_accuracy: 0.8584\n",
      "Epoch 6/250\n",
      "28/28 [==============================] - 0s 1ms/step - loss: 0.4068 - accuracy: 0.8288 - val_loss: 0.3541 - val_accuracy: 0.8584\n",
      "Epoch 7/250\n",
      "28/28 [==============================] - 0s 1ms/step - loss: 0.4046 - accuracy: 0.8288 - val_loss: 0.3478 - val_accuracy: 0.8584\n",
      "Epoch 8/250\n",
      "28/28 [==============================] - 0s 1ms/step - loss: 0.4017 - accuracy: 0.8288 - val_loss: 0.3457 - val_accuracy: 0.8584\n",
      "Epoch 9/250\n",
      "28/28 [==============================] - 0s 1ms/step - loss: 0.3945 - accuracy: 0.8288 - val_loss: 0.3523 - val_accuracy: 0.8584\n",
      "Epoch 10/250\n",
      "28/28 [==============================] - 0s 1ms/step - loss: 0.4025 - accuracy: 0.8288 - val_loss: 0.3858 - val_accuracy: 0.8584\n",
      "Epoch 11/250\n",
      "28/28 [==============================] - 0s 1ms/step - loss: 0.3923 - accuracy: 0.8288 - val_loss: 0.3475 - val_accuracy: 0.8584\n",
      "Epoch 12/250\n",
      "28/28 [==============================] - 0s 1ms/step - loss: 0.4050 - accuracy: 0.8288 - val_loss: 0.3432 - val_accuracy: 0.8584\n",
      "Epoch 13/250\n",
      "28/28 [==============================] - 0s 1ms/step - loss: 0.3913 - accuracy: 0.8288 - val_loss: 0.3426 - val_accuracy: 0.8584\n",
      "Epoch 14/250\n",
      "28/28 [==============================] - 0s 1ms/step - loss: 0.3899 - accuracy: 0.8288 - val_loss: 0.3424 - val_accuracy: 0.8584\n",
      "Epoch 15/250\n",
      "28/28 [==============================] - 0s 1ms/step - loss: 0.4184 - accuracy: 0.8276 - val_loss: 0.3966 - val_accuracy: 0.8584\n",
      "Epoch 16/250\n",
      "28/28 [==============================] - 0s 1ms/step - loss: 0.4355 - accuracy: 0.8299 - val_loss: 0.3571 - val_accuracy: 0.8584\n",
      "Epoch 17/250\n",
      "28/28 [==============================] - 0s 1ms/step - loss: 0.4066 - accuracy: 0.8311 - val_loss: 0.4249 - val_accuracy: 0.8630\n",
      "Epoch 18/250\n",
      "28/28 [==============================] - 0s 1ms/step - loss: 0.4218 - accuracy: 0.8299 - val_loss: 0.4570 - val_accuracy: 0.8539\n",
      "Epoch 19/250\n",
      "28/28 [==============================] - 0s 1ms/step - loss: 0.4165 - accuracy: 0.8311 - val_loss: 0.3635 - val_accuracy: 0.8584\n",
      "Epoch 20/250\n",
      "28/28 [==============================] - 0s 1ms/step - loss: 0.3985 - accuracy: 0.8299 - val_loss: 0.3440 - val_accuracy: 0.8584\n",
      "Epoch 21/250\n",
      "28/28 [==============================] - 0s 1ms/step - loss: 0.3984 - accuracy: 0.8299 - val_loss: 0.3427 - val_accuracy: 0.8584\n",
      "Epoch 22/250\n",
      "28/28 [==============================] - 0s 1ms/step - loss: 0.3843 - accuracy: 0.8311 - val_loss: 0.3387 - val_accuracy: 0.8584\n",
      "Epoch 23/250\n",
      "28/28 [==============================] - 0s 1ms/step - loss: 0.3827 - accuracy: 0.8311 - val_loss: 0.3397 - val_accuracy: 0.8584\n",
      "Epoch 24/250\n",
      "28/28 [==============================] - 0s 1ms/step - loss: 0.4033 - accuracy: 0.8311 - val_loss: 0.3771 - val_accuracy: 0.8584\n",
      "Epoch 25/250\n",
      "28/28 [==============================] - 0s 1ms/step - loss: 0.3859 - accuracy: 0.8311 - val_loss: 0.3475 - val_accuracy: 0.8584\n",
      "Epoch 26/250\n",
      "28/28 [==============================] - 0s 1ms/step - loss: 0.3800 - accuracy: 0.8311 - val_loss: 0.3396 - val_accuracy: 0.8584\n",
      "Epoch 27/250\n",
      "28/28 [==============================] - 0s 1ms/step - loss: 0.4124 - accuracy: 0.8311 - val_loss: 0.3671 - val_accuracy: 0.8584\n",
      "Epoch 28/250\n",
      "28/28 [==============================] - 0s 1ms/step - loss: 0.3777 - accuracy: 0.8299 - val_loss: 0.3735 - val_accuracy: 0.8630\n",
      "Epoch 29/250\n",
      "28/28 [==============================] - 0s 1ms/step - loss: 0.3804 - accuracy: 0.8322 - val_loss: 0.3381 - val_accuracy: 0.8584\n",
      "Epoch 30/250\n",
      "28/28 [==============================] - 0s 1ms/step - loss: 0.3790 - accuracy: 0.8311 - val_loss: 0.3427 - val_accuracy: 0.8584\n",
      "Epoch 31/250\n",
      "28/28 [==============================] - 0s 1ms/step - loss: 0.3809 - accuracy: 0.8322 - val_loss: 0.3471 - val_accuracy: 0.8630\n",
      "Epoch 32/250\n",
      "28/28 [==============================] - 0s 1ms/step - loss: 0.3740 - accuracy: 0.8311 - val_loss: 0.3431 - val_accuracy: 0.8584\n",
      "Epoch 33/250\n",
      "28/28 [==============================] - 0s 1ms/step - loss: 0.3801 - accuracy: 0.8322 - val_loss: 0.3448 - val_accuracy: 0.8630\n",
      "Epoch 34/250\n",
      "28/28 [==============================] - 0s 1ms/step - loss: 0.3979 - accuracy: 0.8276 - val_loss: 0.4317 - val_accuracy: 0.8447\n",
      "Epoch 35/250\n",
      "28/28 [==============================] - 0s 1ms/step - loss: 0.3809 - accuracy: 0.8356 - val_loss: 0.3550 - val_accuracy: 0.8630\n",
      "Epoch 36/250\n",
      "28/28 [==============================] - 0s 1ms/step - loss: 0.3776 - accuracy: 0.8311 - val_loss: 0.3388 - val_accuracy: 0.8630\n",
      "Epoch 37/250\n",
      "28/28 [==============================] - 0s 1ms/step - loss: 0.3925 - accuracy: 0.8322 - val_loss: 0.3586 - val_accuracy: 0.8539\n",
      "Epoch 38/250\n",
      "28/28 [==============================] - 0s 1ms/step - loss: 0.3808 - accuracy: 0.8311 - val_loss: 0.3342 - val_accuracy: 0.8584\n",
      "Epoch 39/250\n",
      "28/28 [==============================] - 0s 1ms/step - loss: 0.3790 - accuracy: 0.8322 - val_loss: 0.3346 - val_accuracy: 0.8630\n",
      "Epoch 40/250\n",
      "28/28 [==============================] - 0s 1ms/step - loss: 0.3775 - accuracy: 0.8288 - val_loss: 0.3343 - val_accuracy: 0.8584\n",
      "Epoch 41/250\n",
      "28/28 [==============================] - 0s 1ms/step - loss: 0.3863 - accuracy: 0.8311 - val_loss: 0.3513 - val_accuracy: 0.8584\n",
      "Epoch 42/250\n",
      "28/28 [==============================] - 0s 1ms/step - loss: 0.3766 - accuracy: 0.8333 - val_loss: 0.3337 - val_accuracy: 0.8630\n",
      "Epoch 43/250\n",
      "28/28 [==============================] - 0s 1ms/step - loss: 0.3699 - accuracy: 0.8333 - val_loss: 0.3374 - val_accuracy: 0.8630\n",
      "Epoch 44/250\n",
      "28/28 [==============================] - 0s 1ms/step - loss: 0.3729 - accuracy: 0.8311 - val_loss: 0.3342 - val_accuracy: 0.8584\n",
      "Epoch 45/250\n",
      "28/28 [==============================] - 0s 1ms/step - loss: 0.3758 - accuracy: 0.8333 - val_loss: 0.3467 - val_accuracy: 0.8584\n",
      "Epoch 46/250\n",
      "28/28 [==============================] - 0s 1ms/step - loss: 0.3849 - accuracy: 0.8322 - val_loss: 0.3330 - val_accuracy: 0.8630\n",
      "Epoch 47/250\n",
      "28/28 [==============================] - 0s 1ms/step - loss: 0.3715 - accuracy: 0.8299 - val_loss: 0.3324 - val_accuracy: 0.8630\n",
      "Epoch 48/250\n",
      "28/28 [==============================] - 0s 1ms/step - loss: 0.3892 - accuracy: 0.8356 - val_loss: 0.4449 - val_accuracy: 0.8539\n",
      "Epoch 49/250\n",
      "28/28 [==============================] - 0s 1ms/step - loss: 0.3782 - accuracy: 0.8299 - val_loss: 0.4044 - val_accuracy: 0.8493\n",
      "Epoch 50/250\n",
      "28/28 [==============================] - 0s 1ms/step - loss: 0.3776 - accuracy: 0.8390 - val_loss: 0.3315 - val_accuracy: 0.8630\n",
      "Epoch 51/250\n",
      "28/28 [==============================] - 0s 1ms/step - loss: 0.3795 - accuracy: 0.8311 - val_loss: 0.4260 - val_accuracy: 0.8402\n",
      "Epoch 52/250\n",
      "28/28 [==============================] - 0s 1ms/step - loss: 0.3963 - accuracy: 0.8265 - val_loss: 0.3451 - val_accuracy: 0.8539\n",
      "Epoch 53/250\n",
      "28/28 [==============================] - 0s 1ms/step - loss: 0.3716 - accuracy: 0.8299 - val_loss: 0.3368 - val_accuracy: 0.8539\n",
      "Epoch 54/250\n",
      "28/28 [==============================] - 0s 1ms/step - loss: 0.3668 - accuracy: 0.8288 - val_loss: 0.3595 - val_accuracy: 0.8584\n",
      "Epoch 55/250\n",
      "28/28 [==============================] - 0s 1ms/step - loss: 0.3909 - accuracy: 0.8311 - val_loss: 0.3938 - val_accuracy: 0.8447\n",
      "Epoch 56/250\n",
      "28/28 [==============================] - 0s 1ms/step - loss: 0.3729 - accuracy: 0.8333 - val_loss: 0.3453 - val_accuracy: 0.8539\n",
      "Epoch 57/250\n",
      "28/28 [==============================] - 0s 1ms/step - loss: 0.3646 - accuracy: 0.8288 - val_loss: 0.3317 - val_accuracy: 0.8630\n",
      "Epoch 58/250\n",
      "28/28 [==============================] - 0s 1ms/step - loss: 0.3658 - accuracy: 0.8299 - val_loss: 0.3523 - val_accuracy: 0.8584\n"
     ]
    },
    {
     "name": "stdout",
     "output_type": "stream",
     "text": [
      "Epoch 59/250\n",
      "28/28 [==============================] - 0s 1ms/step - loss: 0.3637 - accuracy: 0.8299 - val_loss: 0.3677 - val_accuracy: 0.8447\n",
      "Epoch 60/250\n",
      "28/28 [==============================] - 0s 1ms/step - loss: 0.3886 - accuracy: 0.8402 - val_loss: 0.3527 - val_accuracy: 0.8584\n",
      "Epoch 61/250\n",
      "28/28 [==============================] - 0s 1ms/step - loss: 0.3779 - accuracy: 0.8276 - val_loss: 0.3348 - val_accuracy: 0.8539\n",
      "Epoch 62/250\n",
      "28/28 [==============================] - 0s 1ms/step - loss: 0.3700 - accuracy: 0.8345 - val_loss: 0.3755 - val_accuracy: 0.8447\n",
      "Epoch 63/250\n",
      "28/28 [==============================] - 0s 1ms/step - loss: 0.3683 - accuracy: 0.8276 - val_loss: 0.3295 - val_accuracy: 0.8630\n",
      "Epoch 64/250\n",
      "28/28 [==============================] - 0s 1ms/step - loss: 0.3840 - accuracy: 0.8265 - val_loss: 0.3300 - val_accuracy: 0.8630\n",
      "Epoch 65/250\n",
      "28/28 [==============================] - 0s 1ms/step - loss: 0.3823 - accuracy: 0.8333 - val_loss: 0.3451 - val_accuracy: 0.8584\n",
      "Epoch 66/250\n",
      "28/28 [==============================] - 0s 1ms/step - loss: 0.3620 - accuracy: 0.8322 - val_loss: 0.3293 - val_accuracy: 0.8630\n",
      "Epoch 67/250\n",
      "28/28 [==============================] - 0s 1ms/step - loss: 0.3681 - accuracy: 0.8345 - val_loss: 0.3438 - val_accuracy: 0.8584\n",
      "Epoch 68/250\n",
      "28/28 [==============================] - 0s 1ms/step - loss: 0.3603 - accuracy: 0.8299 - val_loss: 0.3304 - val_accuracy: 0.8539\n",
      "Epoch 69/250\n",
      "28/28 [==============================] - 0s 1ms/step - loss: 0.3660 - accuracy: 0.8333 - val_loss: 0.3575 - val_accuracy: 0.8447\n",
      "Epoch 70/250\n",
      "28/28 [==============================] - 0s 1ms/step - loss: 0.3712 - accuracy: 0.8288 - val_loss: 0.3380 - val_accuracy: 0.8630\n",
      "Epoch 71/250\n",
      "28/28 [==============================] - 0s 1ms/step - loss: 0.3798 - accuracy: 0.8379 - val_loss: 0.3714 - val_accuracy: 0.8493\n",
      "Epoch 72/250\n",
      "28/28 [==============================] - 0s 1ms/step - loss: 0.3644 - accuracy: 0.8356 - val_loss: 0.3538 - val_accuracy: 0.8447\n",
      "Epoch 73/250\n",
      "28/28 [==============================] - 0s 1ms/step - loss: 0.3616 - accuracy: 0.8299 - val_loss: 0.3309 - val_accuracy: 0.8539\n",
      "Epoch 74/250\n",
      "28/28 [==============================] - 0s 1ms/step - loss: 0.3697 - accuracy: 0.8333 - val_loss: 0.3508 - val_accuracy: 0.8447\n",
      "Epoch 75/250\n",
      "28/28 [==============================] - 0s 1ms/step - loss: 0.3640 - accuracy: 0.8311 - val_loss: 0.3303 - val_accuracy: 0.8630\n",
      "Epoch 76/250\n",
      "28/28 [==============================] - 0s 1ms/step - loss: 0.3670 - accuracy: 0.8299 - val_loss: 0.3307 - val_accuracy: 0.8539\n",
      "Epoch 77/250\n",
      "28/28 [==============================] - 0s 1ms/step - loss: 0.3589 - accuracy: 0.8299 - val_loss: 0.3303 - val_accuracy: 0.8539\n",
      "Epoch 78/250\n",
      "28/28 [==============================] - 0s 1ms/step - loss: 0.3642 - accuracy: 0.8322 - val_loss: 0.3311 - val_accuracy: 0.8630\n",
      "Epoch 79/250\n",
      "28/28 [==============================] - 0s 1ms/step - loss: 0.3721 - accuracy: 0.8333 - val_loss: 0.3507 - val_accuracy: 0.8447\n",
      "Epoch 80/250\n",
      "28/28 [==============================] - 0s 1ms/step - loss: 0.3625 - accuracy: 0.8322 - val_loss: 0.3338 - val_accuracy: 0.8584\n",
      "Epoch 81/250\n",
      "28/28 [==============================] - 0s 1ms/step - loss: 0.3595 - accuracy: 0.8333 - val_loss: 0.3302 - val_accuracy: 0.8539\n",
      "Epoch 82/250\n",
      "28/28 [==============================] - 0s 1ms/step - loss: 0.3586 - accuracy: 0.8345 - val_loss: 0.3283 - val_accuracy: 0.8539\n",
      "Epoch 83/250\n",
      "28/28 [==============================] - 0s 1ms/step - loss: 0.3626 - accuracy: 0.8311 - val_loss: 0.3599 - val_accuracy: 0.8493\n",
      "Epoch 84/250\n",
      "28/28 [==============================] - 0s 1ms/step - loss: 0.3602 - accuracy: 0.8311 - val_loss: 0.3400 - val_accuracy: 0.8630\n",
      "Epoch 85/250\n",
      "28/28 [==============================] - 0s 1ms/step - loss: 0.3641 - accuracy: 0.8322 - val_loss: 0.3482 - val_accuracy: 0.8447\n",
      "Epoch 86/250\n",
      "28/28 [==============================] - 0s 1ms/step - loss: 0.3613 - accuracy: 0.8345 - val_loss: 0.3287 - val_accuracy: 0.8539\n",
      "Epoch 87/250\n",
      "28/28 [==============================] - 0s 1ms/step - loss: 0.3632 - accuracy: 0.8333 - val_loss: 0.3320 - val_accuracy: 0.8630\n",
      "Epoch 88/250\n",
      "28/28 [==============================] - 0s 1ms/step - loss: 0.3610 - accuracy: 0.8333 - val_loss: 0.3289 - val_accuracy: 0.8539\n",
      "Epoch 89/250\n",
      "28/28 [==============================] - 0s 1ms/step - loss: 0.3606 - accuracy: 0.8299 - val_loss: 0.3295 - val_accuracy: 0.8584\n",
      "Epoch 90/250\n",
      "28/28 [==============================] - 0s 1ms/step - loss: 0.3628 - accuracy: 0.8333 - val_loss: 0.3274 - val_accuracy: 0.8539\n",
      "Epoch 91/250\n",
      "28/28 [==============================] - 0s 1ms/step - loss: 0.3596 - accuracy: 0.8333 - val_loss: 0.3274 - val_accuracy: 0.8539\n",
      "Epoch 92/250\n",
      "28/28 [==============================] - 0s 1ms/step - loss: 0.3630 - accuracy: 0.8333 - val_loss: 0.3452 - val_accuracy: 0.8447\n",
      "Epoch 93/250\n",
      "28/28 [==============================] - 0s 1ms/step - loss: 0.3686 - accuracy: 0.8368 - val_loss: 0.3325 - val_accuracy: 0.8539\n",
      "Epoch 94/250\n",
      "28/28 [==============================] - 0s 1ms/step - loss: 0.3829 - accuracy: 0.8356 - val_loss: 0.3375 - val_accuracy: 0.8630\n",
      "Epoch 95/250\n",
      "28/28 [==============================] - 0s 1ms/step - loss: 0.3695 - accuracy: 0.8402 - val_loss: 0.3272 - val_accuracy: 0.8539\n",
      "Epoch 96/250\n",
      "28/28 [==============================] - 0s 1ms/step - loss: 0.3687 - accuracy: 0.8368 - val_loss: 0.3703 - val_accuracy: 0.8493\n",
      "Epoch 97/250\n",
      "28/28 [==============================] - 0s 1ms/step - loss: 0.3639 - accuracy: 0.8402 - val_loss: 0.3274 - val_accuracy: 0.8539\n",
      "Epoch 98/250\n",
      "28/28 [==============================] - 0s 1ms/step - loss: 0.3662 - accuracy: 0.8345 - val_loss: 0.3362 - val_accuracy: 0.8447\n",
      "Epoch 99/250\n",
      "28/28 [==============================] - 0s 1ms/step - loss: 0.3638 - accuracy: 0.8322 - val_loss: 0.3465 - val_accuracy: 0.8447\n",
      "Epoch 100/250\n",
      "28/28 [==============================] - 0s 1ms/step - loss: 0.3602 - accuracy: 0.8345 - val_loss: 0.3560 - val_accuracy: 0.8539\n",
      "Epoch 101/250\n",
      "28/28 [==============================] - 0s 1ms/step - loss: 0.3642 - accuracy: 0.8356 - val_loss: 0.3375 - val_accuracy: 0.8630\n",
      "Epoch 102/250\n",
      "28/28 [==============================] - 0s 1ms/step - loss: 0.3617 - accuracy: 0.8356 - val_loss: 0.3311 - val_accuracy: 0.8539\n",
      "Epoch 103/250\n",
      "28/28 [==============================] - 0s 1ms/step - loss: 0.3693 - accuracy: 0.8276 - val_loss: 0.3307 - val_accuracy: 0.8584\n",
      "Epoch 104/250\n",
      "28/28 [==============================] - 0s 1ms/step - loss: 0.3563 - accuracy: 0.8390 - val_loss: 0.3270 - val_accuracy: 0.8539\n",
      "Epoch 105/250\n",
      "28/28 [==============================] - ETA: 0s - loss: 0.4608 - accuracy: 0.75 - 0s 1ms/step - loss: 0.3689 - accuracy: 0.8311 - val_loss: 0.3348 - val_accuracy: 0.8539\n",
      "Epoch 106/250\n",
      "28/28 [==============================] - 0s 1ms/step - loss: 0.3775 - accuracy: 0.8299 - val_loss: 0.3482 - val_accuracy: 0.8447\n",
      "Epoch 107/250\n",
      "28/28 [==============================] - 0s 1ms/step - loss: 0.3615 - accuracy: 0.8345 - val_loss: 0.3275 - val_accuracy: 0.8584\n",
      "Epoch 108/250\n",
      "28/28 [==============================] - 0s 1ms/step - loss: 0.3660 - accuracy: 0.8311 - val_loss: 0.3268 - val_accuracy: 0.8539\n",
      "Epoch 109/250\n",
      "28/28 [==============================] - 0s 1ms/step - loss: 0.3585 - accuracy: 0.8356 - val_loss: 0.3280 - val_accuracy: 0.8584\n",
      "Epoch 110/250\n",
      "28/28 [==============================] - 0s 1ms/step - loss: 0.3549 - accuracy: 0.8299 - val_loss: 0.3696 - val_accuracy: 0.8447\n",
      "Epoch 111/250\n",
      "28/28 [==============================] - 0s 1ms/step - loss: 0.3635 - accuracy: 0.8413 - val_loss: 0.3361 - val_accuracy: 0.8447\n",
      "Epoch 112/250\n",
      "28/28 [==============================] - 0s 1ms/step - loss: 0.3564 - accuracy: 0.8390 - val_loss: 0.3359 - val_accuracy: 0.8539\n",
      "Epoch 113/250\n",
      "28/28 [==============================] - ETA: 0s - loss: 0.3142 - accuracy: 0.90 - 0s 1ms/step - loss: 0.3541 - accuracy: 0.8379 - val_loss: 0.3268 - val_accuracy: 0.8584\n",
      "Epoch 114/250\n",
      "28/28 [==============================] - 0s 1ms/step - loss: 0.3572 - accuracy: 0.8390 - val_loss: 0.3279 - val_accuracy: 0.8584\n",
      "Epoch 115/250\n",
      "28/28 [==============================] - 0s 1ms/step - loss: 0.3692 - accuracy: 0.8333 - val_loss: 0.3278 - val_accuracy: 0.8539\n"
     ]
    },
    {
     "name": "stdout",
     "output_type": "stream",
     "text": [
      "Epoch 116/250\n",
      "28/28 [==============================] - 0s 1ms/step - loss: 0.3641 - accuracy: 0.8311 - val_loss: 0.3396 - val_accuracy: 0.8447\n",
      "Epoch 117/250\n",
      "28/28 [==============================] - 0s 1ms/step - loss: 0.3591 - accuracy: 0.8288 - val_loss: 0.3435 - val_accuracy: 0.8493\n",
      "Epoch 118/250\n",
      "28/28 [==============================] - 0s 1ms/step - loss: 0.3593 - accuracy: 0.8345 - val_loss: 0.3304 - val_accuracy: 0.8493\n",
      "Epoch 119/250\n",
      "28/28 [==============================] - 0s 1ms/step - loss: 0.3566 - accuracy: 0.8379 - val_loss: 0.3270 - val_accuracy: 0.8539\n",
      "Epoch 120/250\n",
      "28/28 [==============================] - 0s 1ms/step - loss: 0.3562 - accuracy: 0.8345 - val_loss: 0.3353 - val_accuracy: 0.8447\n",
      "Epoch 121/250\n",
      "28/28 [==============================] - 0s 1ms/step - loss: 0.3537 - accuracy: 0.8402 - val_loss: 0.3276 - val_accuracy: 0.8539\n",
      "Epoch 122/250\n",
      "28/28 [==============================] - 0s 1ms/step - loss: 0.3775 - accuracy: 0.8276 - val_loss: 0.3397 - val_accuracy: 0.8539\n",
      "Epoch 123/250\n",
      "28/28 [==============================] - 0s 1ms/step - loss: 0.3565 - accuracy: 0.8402 - val_loss: 0.3322 - val_accuracy: 0.8447\n",
      "Epoch 124/250\n",
      "28/28 [==============================] - 0s 1ms/step - loss: 0.3527 - accuracy: 0.8390 - val_loss: 0.3267 - val_accuracy: 0.8584\n",
      "Epoch 125/250\n",
      "28/28 [==============================] - 0s 1ms/step - loss: 0.3669 - accuracy: 0.8333 - val_loss: 0.3510 - val_accuracy: 0.8584\n",
      "Epoch 126/250\n",
      "28/28 [==============================] - 0s 1ms/step - loss: 0.3602 - accuracy: 0.8333 - val_loss: 0.3270 - val_accuracy: 0.8584\n",
      "Epoch 127/250\n",
      "28/28 [==============================] - 0s 1ms/step - loss: 0.3581 - accuracy: 0.8356 - val_loss: 0.3272 - val_accuracy: 0.8584\n",
      "Epoch 128/250\n",
      "28/28 [==============================] - 0s 1ms/step - loss: 0.3522 - accuracy: 0.8299 - val_loss: 0.3830 - val_accuracy: 0.8630\n",
      "Epoch 129/250\n",
      "28/28 [==============================] - 0s 1ms/step - loss: 0.3628 - accuracy: 0.8356 - val_loss: 0.3269 - val_accuracy: 0.8584\n",
      "Epoch 130/250\n",
      "28/28 [==============================] - 0s 1ms/step - loss: 0.3534 - accuracy: 0.8390 - val_loss: 0.3671 - val_accuracy: 0.8493\n",
      "Epoch 131/250\n",
      "28/28 [==============================] - 0s 1ms/step - loss: 0.3637 - accuracy: 0.8368 - val_loss: 0.3368 - val_accuracy: 0.8447\n",
      "Epoch 132/250\n",
      "28/28 [==============================] - 0s 1ms/step - loss: 0.3550 - accuracy: 0.8402 - val_loss: 0.3377 - val_accuracy: 0.8447\n",
      "Epoch 133/250\n",
      "28/28 [==============================] - 0s 1ms/step - loss: 0.3570 - accuracy: 0.8413 - val_loss: 0.3280 - val_accuracy: 0.8493\n",
      "Epoch 134/250\n",
      "28/28 [==============================] - 0s 1ms/step - loss: 0.3561 - accuracy: 0.8447 - val_loss: 0.3293 - val_accuracy: 0.8539\n",
      "Epoch 135/250\n",
      "28/28 [==============================] - 0s 1ms/step - loss: 0.3637 - accuracy: 0.8356 - val_loss: 0.3265 - val_accuracy: 0.8584\n",
      "Epoch 136/250\n",
      "28/28 [==============================] - 0s 1ms/step - loss: 0.3562 - accuracy: 0.8402 - val_loss: 0.3269 - val_accuracy: 0.8584\n",
      "Epoch 137/250\n",
      "28/28 [==============================] - 0s 1ms/step - loss: 0.3534 - accuracy: 0.8413 - val_loss: 0.3269 - val_accuracy: 0.8584\n",
      "Epoch 138/250\n",
      "28/28 [==============================] - 0s 1ms/step - loss: 0.3559 - accuracy: 0.8459 - val_loss: 0.3323 - val_accuracy: 0.8539\n",
      "Epoch 139/250\n",
      "28/28 [==============================] - 0s 1ms/step - loss: 0.3635 - accuracy: 0.8311 - val_loss: 0.3274 - val_accuracy: 0.8493\n",
      "Epoch 140/250\n",
      "28/28 [==============================] - 0s 1ms/step - loss: 0.3568 - accuracy: 0.8413 - val_loss: 0.3294 - val_accuracy: 0.8447\n",
      "Epoch 141/250\n",
      "28/28 [==============================] - 0s 1ms/step - loss: 0.3597 - accuracy: 0.8345 - val_loss: 0.3318 - val_accuracy: 0.8447\n",
      "Epoch 142/250\n",
      "28/28 [==============================] - 0s 1ms/step - loss: 0.3624 - accuracy: 0.8299 - val_loss: 0.3397 - val_accuracy: 0.8447\n",
      "Epoch 143/250\n",
      "28/28 [==============================] - 0s 1ms/step - loss: 0.3606 - accuracy: 0.8379 - val_loss: 0.3269 - val_accuracy: 0.8493\n",
      "Epoch 144/250\n",
      "28/28 [==============================] - 0s 1ms/step - loss: 0.3531 - accuracy: 0.8390 - val_loss: 0.3441 - val_accuracy: 0.8584\n",
      "Epoch 145/250\n",
      "28/28 [==============================] - 0s 1ms/step - loss: 0.3547 - accuracy: 0.8425 - val_loss: 0.3298 - val_accuracy: 0.8447\n",
      "Epoch 146/250\n",
      "28/28 [==============================] - 0s 1ms/step - loss: 0.3569 - accuracy: 0.8425 - val_loss: 0.3275 - val_accuracy: 0.8493\n",
      "Epoch 147/250\n",
      "28/28 [==============================] - 0s 1ms/step - loss: 0.3556 - accuracy: 0.8390 - val_loss: 0.3288 - val_accuracy: 0.8447\n",
      "Epoch 148/250\n",
      "28/28 [==============================] - 0s 1ms/step - loss: 0.3502 - accuracy: 0.8356 - val_loss: 0.3614 - val_accuracy: 0.8402\n",
      "Epoch 149/250\n",
      "28/28 [==============================] - 0s 1ms/step - loss: 0.3742 - accuracy: 0.8436 - val_loss: 0.3308 - val_accuracy: 0.8447\n",
      "Epoch 150/250\n",
      "28/28 [==============================] - 0s 1ms/step - loss: 0.3547 - accuracy: 0.8345 - val_loss: 0.3419 - val_accuracy: 0.8493\n",
      "Epoch 151/250\n",
      "28/28 [==============================] - 0s 1ms/step - loss: 0.3536 - accuracy: 0.8425 - val_loss: 0.3276 - val_accuracy: 0.8584\n",
      "Epoch 152/250\n",
      "28/28 [==============================] - 0s 1ms/step - loss: 0.3547 - accuracy: 0.8368 - val_loss: 0.3273 - val_accuracy: 0.8539\n",
      "Epoch 153/250\n",
      "28/28 [==============================] - 0s 1ms/step - loss: 0.3546 - accuracy: 0.8345 - val_loss: 0.3517 - val_accuracy: 0.8584\n",
      "Epoch 154/250\n",
      "28/28 [==============================] - 0s 1ms/step - loss: 0.3575 - accuracy: 0.8447 - val_loss: 0.3605 - val_accuracy: 0.8447\n",
      "Epoch 155/250\n",
      "28/28 [==============================] - 0s 1ms/step - loss: 0.3622 - accuracy: 0.8379 - val_loss: 0.3324 - val_accuracy: 0.8447\n",
      "Epoch 156/250\n",
      "28/28 [==============================] - 0s 1ms/step - loss: 0.3669 - accuracy: 0.8311 - val_loss: 0.3334 - val_accuracy: 0.8447\n",
      "Epoch 157/250\n",
      "28/28 [==============================] - 0s 1ms/step - loss: 0.3546 - accuracy: 0.8390 - val_loss: 0.3376 - val_accuracy: 0.8447\n",
      "Epoch 158/250\n",
      "28/28 [==============================] - 0s 1ms/step - loss: 0.3648 - accuracy: 0.8402 - val_loss: 0.3269 - val_accuracy: 0.8584\n",
      "Epoch 159/250\n",
      "28/28 [==============================] - 0s 1ms/step - loss: 0.3567 - accuracy: 0.8436 - val_loss: 0.3310 - val_accuracy: 0.8447\n",
      "Epoch 160/250\n",
      "28/28 [==============================] - 0s 1ms/step - loss: 0.3578 - accuracy: 0.8390 - val_loss: 0.3439 - val_accuracy: 0.8584\n",
      "Epoch 161/250\n",
      "28/28 [==============================] - 0s 1ms/step - loss: 0.3546 - accuracy: 0.8390 - val_loss: 0.3305 - val_accuracy: 0.8447\n",
      "Epoch 162/250\n",
      "28/28 [==============================] - 0s 1ms/step - loss: 0.3564 - accuracy: 0.8299 - val_loss: 0.3431 - val_accuracy: 0.8584\n",
      "Epoch 163/250\n",
      "28/28 [==============================] - 0s 1ms/step - loss: 0.3592 - accuracy: 0.8482 - val_loss: 0.3269 - val_accuracy: 0.8493\n",
      "Epoch 164/250\n",
      "28/28 [==============================] - 0s 1ms/step - loss: 0.3611 - accuracy: 0.8368 - val_loss: 0.3269 - val_accuracy: 0.8493\n",
      "Epoch 165/250\n",
      "28/28 [==============================] - 0s 1ms/step - loss: 0.3541 - accuracy: 0.8413 - val_loss: 0.3265 - val_accuracy: 0.8584\n",
      "Epoch 166/250\n",
      "28/28 [==============================] - 0s 1ms/step - loss: 0.3580 - accuracy: 0.8368 - val_loss: 0.3377 - val_accuracy: 0.8539\n",
      "Epoch 167/250\n",
      "28/28 [==============================] - 0s 1ms/step - loss: 0.3551 - accuracy: 0.8390 - val_loss: 0.3263 - val_accuracy: 0.8493\n",
      "Epoch 168/250\n",
      "28/28 [==============================] - 0s 1ms/step - loss: 0.3531 - accuracy: 0.8447 - val_loss: 0.3276 - val_accuracy: 0.8447\n",
      "Epoch 169/250\n",
      "28/28 [==============================] - 0s 1ms/step - loss: 0.3522 - accuracy: 0.8459 - val_loss: 0.3349 - val_accuracy: 0.8447\n",
      "Epoch 170/250\n",
      "28/28 [==============================] - 0s 1ms/step - loss: 0.3530 - accuracy: 0.8368 - val_loss: 0.3524 - val_accuracy: 0.8539\n",
      "Epoch 171/250\n",
      "28/28 [==============================] - 0s 1ms/step - loss: 0.3726 - accuracy: 0.8413 - val_loss: 0.3858 - val_accuracy: 0.8402\n",
      "Epoch 172/250\n",
      "28/28 [==============================] - 0s 1ms/step - loss: 0.3704 - accuracy: 0.8311 - val_loss: 0.3326 - val_accuracy: 0.8584\n",
      "Epoch 173/250\n"
     ]
    },
    {
     "name": "stdout",
     "output_type": "stream",
     "text": [
      "28/28 [==============================] - 0s 1ms/step - loss: 0.3612 - accuracy: 0.8333 - val_loss: 0.3288 - val_accuracy: 0.8539\n",
      "Epoch 174/250\n",
      "28/28 [==============================] - 0s 1ms/step - loss: 0.3616 - accuracy: 0.8299 - val_loss: 0.3288 - val_accuracy: 0.8539\n",
      "Epoch 175/250\n",
      "28/28 [==============================] - 0s 1ms/step - loss: 0.3613 - accuracy: 0.8311 - val_loss: 0.3305 - val_accuracy: 0.8539\n",
      "Epoch 176/250\n",
      "28/28 [==============================] - 0s 1ms/step - loss: 0.3628 - accuracy: 0.8322 - val_loss: 0.3284 - val_accuracy: 0.8539\n",
      "Epoch 177/250\n",
      "28/28 [==============================] - 0s 1ms/step - loss: 0.3655 - accuracy: 0.8311 - val_loss: 0.3359 - val_accuracy: 0.8584\n",
      "Epoch 178/250\n",
      "28/28 [==============================] - 0s 1ms/step - loss: 0.3608 - accuracy: 0.8299 - val_loss: 0.3346 - val_accuracy: 0.8584\n",
      "Epoch 179/250\n",
      "28/28 [==============================] - 0s 1ms/step - loss: 0.3601 - accuracy: 0.8368 - val_loss: 0.3289 - val_accuracy: 0.8539\n",
      "Epoch 180/250\n",
      "28/28 [==============================] - 0s 1ms/step - loss: 0.3575 - accuracy: 0.8368 - val_loss: 0.3326 - val_accuracy: 0.8630\n",
      "Epoch 181/250\n",
      "28/28 [==============================] - 0s 1ms/step - loss: 0.3603 - accuracy: 0.8333 - val_loss: 0.3318 - val_accuracy: 0.8584\n",
      "Epoch 182/250\n",
      "28/28 [==============================] - 0s 1ms/step - loss: 0.3589 - accuracy: 0.8311 - val_loss: 0.3392 - val_accuracy: 0.8493\n",
      "Epoch 183/250\n",
      "28/28 [==============================] - 0s 1ms/step - loss: 0.3564 - accuracy: 0.8311 - val_loss: 0.3411 - val_accuracy: 0.8447\n",
      "Epoch 184/250\n",
      "28/28 [==============================] - 0s 1ms/step - loss: 0.3636 - accuracy: 0.8299 - val_loss: 0.3341 - val_accuracy: 0.8584\n",
      "Epoch 185/250\n",
      "28/28 [==============================] - 0s 1ms/step - loss: 0.3635 - accuracy: 0.8311 - val_loss: 0.3338 - val_accuracy: 0.8584\n",
      "Epoch 186/250\n",
      "28/28 [==============================] - 0s 1ms/step - loss: 0.3644 - accuracy: 0.8345 - val_loss: 0.3317 - val_accuracy: 0.8584\n",
      "Epoch 187/250\n",
      "28/28 [==============================] - 0s 1ms/step - loss: 0.3562 - accuracy: 0.8311 - val_loss: 0.3341 - val_accuracy: 0.8584\n",
      "Epoch 188/250\n",
      "28/28 [==============================] - 0s 1ms/step - loss: 0.3567 - accuracy: 0.8322 - val_loss: 0.3383 - val_accuracy: 0.8447\n",
      "Epoch 189/250\n",
      "28/28 [==============================] - 0s 1ms/step - loss: 0.3574 - accuracy: 0.8356 - val_loss: 0.3338 - val_accuracy: 0.8584\n",
      "Epoch 190/250\n",
      "28/28 [==============================] - 0s 1ms/step - loss: 0.3585 - accuracy: 0.8311 - val_loss: 0.3333 - val_accuracy: 0.8584\n",
      "Epoch 191/250\n",
      "28/28 [==============================] - 0s 1ms/step - loss: 0.3648 - accuracy: 0.8345 - val_loss: 0.3288 - val_accuracy: 0.8584\n",
      "Epoch 192/250\n",
      "28/28 [==============================] - 0s 1ms/step - loss: 0.3569 - accuracy: 0.8288 - val_loss: 0.3326 - val_accuracy: 0.8584\n",
      "Epoch 193/250\n",
      "28/28 [==============================] - 0s 1ms/step - loss: 0.3658 - accuracy: 0.8311 - val_loss: 0.3408 - val_accuracy: 0.8447\n",
      "Epoch 194/250\n",
      "28/28 [==============================] - 0s 1ms/step - loss: 0.3573 - accuracy: 0.8333 - val_loss: 0.3382 - val_accuracy: 0.8447\n",
      "Epoch 195/250\n",
      "28/28 [==============================] - 0s 1ms/step - loss: 0.3587 - accuracy: 0.8356 - val_loss: 0.3328 - val_accuracy: 0.8584\n",
      "Epoch 196/250\n",
      "28/28 [==============================] - 0s 1ms/step - loss: 0.3555 - accuracy: 0.8333 - val_loss: 0.3275 - val_accuracy: 0.8584\n",
      "Epoch 197/250\n",
      "28/28 [==============================] - 0s 1ms/step - loss: 0.3560 - accuracy: 0.8322 - val_loss: 0.3313 - val_accuracy: 0.8584\n",
      "Epoch 198/250\n",
      "28/28 [==============================] - 0s 1ms/step - loss: 0.3552 - accuracy: 0.8345 - val_loss: 0.3356 - val_accuracy: 0.8447\n",
      "Epoch 199/250\n",
      "28/28 [==============================] - 0s 1ms/step - loss: 0.3596 - accuracy: 0.8333 - val_loss: 0.3479 - val_accuracy: 0.8447\n",
      "Epoch 200/250\n",
      "28/28 [==============================] - 0s 1ms/step - loss: 0.3670 - accuracy: 0.8402 - val_loss: 0.3558 - val_accuracy: 0.8584\n",
      "Epoch 201/250\n",
      "28/28 [==============================] - 0s 1ms/step - loss: 0.3588 - accuracy: 0.8333 - val_loss: 0.3384 - val_accuracy: 0.8447\n",
      "Epoch 202/250\n",
      "28/28 [==============================] - 0s 1ms/step - loss: 0.3537 - accuracy: 0.8402 - val_loss: 0.3300 - val_accuracy: 0.8539\n",
      "Epoch 203/250\n",
      "28/28 [==============================] - 0s 1ms/step - loss: 0.3630 - accuracy: 0.8333 - val_loss: 0.3272 - val_accuracy: 0.8584\n",
      "Epoch 204/250\n",
      "28/28 [==============================] - 0s 1ms/step - loss: 0.3566 - accuracy: 0.8379 - val_loss: 0.3322 - val_accuracy: 0.8493\n",
      "Epoch 205/250\n",
      "28/28 [==============================] - 0s 1ms/step - loss: 0.3554 - accuracy: 0.8333 - val_loss: 0.3291 - val_accuracy: 0.8584\n",
      "Epoch 206/250\n",
      "28/28 [==============================] - 0s 1ms/step - loss: 0.3555 - accuracy: 0.8379 - val_loss: 0.3268 - val_accuracy: 0.8584\n",
      "Epoch 207/250\n",
      "28/28 [==============================] - 0s 1ms/step - loss: 0.3597 - accuracy: 0.8311 - val_loss: 0.3340 - val_accuracy: 0.8447\n",
      "Epoch 208/250\n",
      "28/28 [==============================] - 0s 1ms/step - loss: 0.3586 - accuracy: 0.8379 - val_loss: 0.3320 - val_accuracy: 0.8493\n",
      "Epoch 209/250\n",
      "28/28 [==============================] - 0s 1ms/step - loss: 0.3540 - accuracy: 0.8356 - val_loss: 0.3268 - val_accuracy: 0.8539\n",
      "Epoch 210/250\n",
      "28/28 [==============================] - 0s 1ms/step - loss: 0.3555 - accuracy: 0.8390 - val_loss: 0.3300 - val_accuracy: 0.8493\n",
      "Epoch 211/250\n",
      "28/28 [==============================] - 0s 1ms/step - loss: 0.3558 - accuracy: 0.8356 - val_loss: 0.3266 - val_accuracy: 0.8584\n",
      "Epoch 212/250\n",
      "28/28 [==============================] - 0s 1ms/step - loss: 0.3543 - accuracy: 0.8402 - val_loss: 0.3271 - val_accuracy: 0.8584\n",
      "Epoch 213/250\n",
      "28/28 [==============================] - 0s 1ms/step - loss: 0.3600 - accuracy: 0.8333 - val_loss: 0.3284 - val_accuracy: 0.8584\n",
      "Epoch 214/250\n",
      "28/28 [==============================] - 0s 1ms/step - loss: 0.3566 - accuracy: 0.8356 - val_loss: 0.3323 - val_accuracy: 0.8447\n",
      "Epoch 215/250\n",
      "28/28 [==============================] - 0s 1ms/step - loss: 0.3556 - accuracy: 0.8402 - val_loss: 0.3284 - val_accuracy: 0.8584\n",
      "Epoch 216/250\n",
      "28/28 [==============================] - 0s 1ms/step - loss: 0.3559 - accuracy: 0.8356 - val_loss: 0.3526 - val_accuracy: 0.8584\n",
      "Epoch 217/250\n",
      "28/28 [==============================] - 0s 1ms/step - loss: 0.3574 - accuracy: 0.8333 - val_loss: 0.3368 - val_accuracy: 0.8447\n",
      "Epoch 218/250\n",
      "28/28 [==============================] - 0s 1ms/step - loss: 0.3553 - accuracy: 0.8333 - val_loss: 0.3267 - val_accuracy: 0.8584\n",
      "Epoch 219/250\n",
      "28/28 [==============================] - 0s 1ms/step - loss: 0.3584 - accuracy: 0.8345 - val_loss: 0.3273 - val_accuracy: 0.8539\n",
      "Epoch 220/250\n",
      "28/28 [==============================] - 0s 1ms/step - loss: 0.3550 - accuracy: 0.8345 - val_loss: 0.3265 - val_accuracy: 0.8584\n",
      "Epoch 221/250\n",
      "28/28 [==============================] - 0s 1ms/step - loss: 0.3560 - accuracy: 0.8356 - val_loss: 0.3267 - val_accuracy: 0.8584\n",
      "Epoch 222/250\n",
      "28/28 [==============================] - 0s 1ms/step - loss: 0.3575 - accuracy: 0.8379 - val_loss: 0.3287 - val_accuracy: 0.8539\n",
      "Epoch 223/250\n",
      "28/28 [==============================] - 0s 1ms/step - loss: 0.3581 - accuracy: 0.8333 - val_loss: 0.3304 - val_accuracy: 0.8447\n",
      "Epoch 224/250\n",
      "28/28 [==============================] - ETA: 0s - loss: 0.4071 - accuracy: 0.81 - 0s 2ms/step - loss: 0.3573 - accuracy: 0.8356 - val_loss: 0.3335 - val_accuracy: 0.8447\n",
      "Epoch 225/250\n",
      "28/28 [==============================] - 0s 1ms/step - loss: 0.3561 - accuracy: 0.8379 - val_loss: 0.3266 - val_accuracy: 0.8584\n",
      "Epoch 226/250\n",
      "28/28 [==============================] - 0s 1ms/step - loss: 0.3545 - accuracy: 0.8356 - val_loss: 0.3279 - val_accuracy: 0.8493\n",
      "Epoch 227/250\n",
      "28/28 [==============================] - 0s 1ms/step - loss: 0.3567 - accuracy: 0.8413 - val_loss: 0.3274 - val_accuracy: 0.8584\n",
      "Epoch 228/250\n",
      "28/28 [==============================] - 0s 1ms/step - loss: 0.3537 - accuracy: 0.8368 - val_loss: 0.3303 - val_accuracy: 0.8447\n",
      "Epoch 229/250\n",
      "28/28 [==============================] - 0s 1ms/step - loss: 0.3547 - accuracy: 0.8379 - val_loss: 0.3348 - val_accuracy: 0.8447\n",
      "Epoch 230/250\n"
     ]
    },
    {
     "name": "stdout",
     "output_type": "stream",
     "text": [
      "28/28 [==============================] - 0s 1ms/step - loss: 0.3613 - accuracy: 0.8368 - val_loss: 0.3328 - val_accuracy: 0.8447\n",
      "Epoch 231/250\n",
      "28/28 [==============================] - 0s 1ms/step - loss: 0.3560 - accuracy: 0.8368 - val_loss: 0.3284 - val_accuracy: 0.8493\n",
      "Epoch 232/250\n",
      "28/28 [==============================] - 0s 1ms/step - loss: 0.3531 - accuracy: 0.8379 - val_loss: 0.3274 - val_accuracy: 0.8493\n",
      "Epoch 233/250\n",
      "28/28 [==============================] - 0s 1ms/step - loss: 0.3526 - accuracy: 0.8379 - val_loss: 0.3282 - val_accuracy: 0.8493\n",
      "Epoch 234/250\n",
      "28/28 [==============================] - 0s 1ms/step - loss: 0.3552 - accuracy: 0.8345 - val_loss: 0.3519 - val_accuracy: 0.8584\n",
      "Epoch 235/250\n",
      "28/28 [==============================] - 0s 1ms/step - loss: 0.3587 - accuracy: 0.8425 - val_loss: 0.3288 - val_accuracy: 0.8447\n",
      "Epoch 236/250\n",
      "28/28 [==============================] - 0s 1ms/step - loss: 0.3594 - accuracy: 0.8390 - val_loss: 0.3265 - val_accuracy: 0.8584\n",
      "Epoch 237/250\n",
      "28/28 [==============================] - 0s 1ms/step - loss: 0.3528 - accuracy: 0.8333 - val_loss: 0.3439 - val_accuracy: 0.8539\n",
      "Epoch 238/250\n",
      "28/28 [==============================] - 0s 1ms/step - loss: 0.3534 - accuracy: 0.8368 - val_loss: 0.3300 - val_accuracy: 0.8447\n",
      "Epoch 239/250\n",
      "28/28 [==============================] - 0s 1ms/step - loss: 0.3528 - accuracy: 0.8413 - val_loss: 0.3338 - val_accuracy: 0.8447\n",
      "Epoch 240/250\n",
      "28/28 [==============================] - 0s 1ms/step - loss: 0.3566 - accuracy: 0.8299 - val_loss: 0.3299 - val_accuracy: 0.8447\n",
      "Epoch 241/250\n",
      "28/28 [==============================] - 0s 1ms/step - loss: 0.3541 - accuracy: 0.8379 - val_loss: 0.3326 - val_accuracy: 0.8447\n",
      "Epoch 242/250\n",
      "28/28 [==============================] - 0s 1ms/step - loss: 0.3533 - accuracy: 0.8402 - val_loss: 0.3333 - val_accuracy: 0.8447\n",
      "Epoch 243/250\n",
      "28/28 [==============================] - 0s 1ms/step - loss: 0.3533 - accuracy: 0.8390 - val_loss: 0.3295 - val_accuracy: 0.8447\n",
      "Epoch 244/250\n",
      "28/28 [==============================] - ETA: 0s - loss: 0.2776 - accuracy: 0.87 - 0s 1ms/step - loss: 0.3552 - accuracy: 0.8311 - val_loss: 0.3408 - val_accuracy: 0.8539\n",
      "Epoch 245/250\n",
      "28/28 [==============================] - 0s 1ms/step - loss: 0.3605 - accuracy: 0.8459 - val_loss: 0.3294 - val_accuracy: 0.8584\n",
      "Epoch 246/250\n",
      "28/28 [==============================] - 0s 1ms/step - loss: 0.3758 - accuracy: 0.8379 - val_loss: 0.3275 - val_accuracy: 0.8447\n",
      "Epoch 247/250\n",
      "28/28 [==============================] - 0s 1ms/step - loss: 0.3875 - accuracy: 0.8288 - val_loss: 0.3845 - val_accuracy: 0.8447\n",
      "Epoch 248/250\n",
      "28/28 [==============================] - 0s 1ms/step - loss: 0.3560 - accuracy: 0.8436 - val_loss: 0.3367 - val_accuracy: 0.8539\n",
      "Epoch 249/250\n",
      "28/28 [==============================] - 0s 1ms/step - loss: 0.3572 - accuracy: 0.8413 - val_loss: 0.3351 - val_accuracy: 0.8539\n",
      "Epoch 250/250\n",
      "28/28 [==============================] - 0s 1ms/step - loss: 0.3563 - accuracy: 0.8459 - val_loss: 0.3357 - val_accuracy: 0.8584\n"
     ]
    }
   ],
   "source": [
    "EPOCHS = 250\n",
    "fitmodel(m1,trainx1,trainy1,EPOCHS)"
   ]
  },
  {
   "cell_type": "code",
   "execution_count": 22,
   "id": "271f1c4b",
   "metadata": {},
   "outputs": [],
   "source": [
    "p1 = m1.predict(testx1)"
   ]
  },
  {
   "cell_type": "code",
   "execution_count": 23,
   "id": "88bc53ef",
   "metadata": {},
   "outputs": [
    {
     "data": {
      "text/html": [
       "<div>\n",
       "<style scoped>\n",
       "    .dataframe tbody tr th:only-of-type {\n",
       "        vertical-align: middle;\n",
       "    }\n",
       "\n",
       "    .dataframe tbody tr th {\n",
       "        vertical-align: top;\n",
       "    }\n",
       "\n",
       "    .dataframe thead th {\n",
       "        text-align: right;\n",
       "    }\n",
       "</style>\n",
       "<table border=\"1\" class=\"dataframe\">\n",
       "  <thead>\n",
       "    <tr style=\"text-align: right;\">\n",
       "      <th></th>\n",
       "      <th>act_cls</th>\n",
       "      <th>pred_prob</th>\n",
       "      <th>pred_cls</th>\n",
       "    </tr>\n",
       "  </thead>\n",
       "  <tbody>\n",
       "    <tr>\n",
       "      <th>1208</th>\n",
       "      <td>1</td>\n",
       "      <td>0.800701</td>\n",
       "      <td>0</td>\n",
       "    </tr>\n",
       "    <tr>\n",
       "      <th>823</th>\n",
       "      <td>1</td>\n",
       "      <td>0.889101</td>\n",
       "      <td>0</td>\n",
       "    </tr>\n",
       "    <tr>\n",
       "      <th>668</th>\n",
       "      <td>1</td>\n",
       "      <td>0.870703</td>\n",
       "      <td>0</td>\n",
       "    </tr>\n",
       "    <tr>\n",
       "      <th>246</th>\n",
       "      <td>1</td>\n",
       "      <td>0.972185</td>\n",
       "      <td>0</td>\n",
       "    </tr>\n",
       "    <tr>\n",
       "      <th>1010</th>\n",
       "      <td>1</td>\n",
       "      <td>0.794200</td>\n",
       "      <td>0</td>\n",
       "    </tr>\n",
       "    <tr>\n",
       "      <th>...</th>\n",
       "      <td>...</td>\n",
       "      <td>...</td>\n",
       "      <td>...</td>\n",
       "    </tr>\n",
       "    <tr>\n",
       "      <th>573</th>\n",
       "      <td>1</td>\n",
       "      <td>0.868037</td>\n",
       "      <td>0</td>\n",
       "    </tr>\n",
       "    <tr>\n",
       "      <th>53</th>\n",
       "      <td>1</td>\n",
       "      <td>0.963228</td>\n",
       "      <td>0</td>\n",
       "    </tr>\n",
       "    <tr>\n",
       "      <th>758</th>\n",
       "      <td>1</td>\n",
       "      <td>0.893008</td>\n",
       "      <td>0</td>\n",
       "    </tr>\n",
       "    <tr>\n",
       "      <th>1087</th>\n",
       "      <td>1</td>\n",
       "      <td>0.974365</td>\n",
       "      <td>0</td>\n",
       "    </tr>\n",
       "    <tr>\n",
       "      <th>72</th>\n",
       "      <td>1</td>\n",
       "      <td>0.945300</td>\n",
       "      <td>0</td>\n",
       "    </tr>\n",
       "  </tbody>\n",
       "</table>\n",
       "<p>365 rows × 3 columns</p>\n",
       "</div>"
      ],
      "text/plain": [
       "      act_cls  pred_prob  pred_cls\n",
       "1208        1   0.800701         0\n",
       "823         1   0.889101         0\n",
       "668         1   0.870703         0\n",
       "246         1   0.972185         0\n",
       "1010        1   0.794200         0\n",
       "...       ...        ...       ...\n",
       "573         1   0.868037         0\n",
       "53          1   0.963228         0\n",
       "758         1   0.893008         0\n",
       "1087        1   0.974365         0\n",
       "72          1   0.945300         0\n",
       "\n",
       "[365 rows x 3 columns]"
      ]
     },
     "execution_count": 23,
     "metadata": {},
     "output_type": "execute_result"
    }
   ],
   "source": [
    "df1 = pd.DataFrame({'act_cls':testy1,'pred_prob':p1.flatten(),'pred_cls':0})\n",
    "df1"
   ]
  },
  {
   "cell_type": "code",
   "execution_count": 24,
   "id": "9d527ebf",
   "metadata": {},
   "outputs": [],
   "source": [
    "def cm(df,cutoff):\n",
    "    df_res=df.copy()\n",
    "    \n",
    "    df_res.pred_cls[df_res.pred_prob > cutoff] = 1\n",
    "    \n",
    "    \n",
    "    print('cutoff={},model accuracy={}\\n'.format(cutoff,accuracy_score(df_res.act_cls,df_res.pred_cls)))\n",
    "    \n",
    "    #confusion matrix\n",
    "    print(pd.crosstab(df_res.act_cls,df_res.pred_cls,margins=True))\n",
    "    print('\\n')\n",
    "    \n",
    "    #classification report\n",
    "    print(classification_report(df_res.act_cls,df_res.pred_cls))\n",
    "    \n",
    "    return(df_res)"
   ]
  },
  {
   "cell_type": "code",
   "execution_count": 25,
   "id": "7c0be519",
   "metadata": {},
   "outputs": [],
   "source": [
    "def rocauc(testy,predy,modelname):\n",
    "    fpr,tpr,_=metrics.roc_curve(testy,predy)\n",
    "    area_under_curve = metrics.auc(fpr,tpr)\n",
    "    \n",
    "    #plot roc\n",
    "    plt.plot(fpr,tpr,'b',label='AUC= '+str(area_under_curve))\n",
    "    plt.legend(loc='lower right')\n",
    "    plt.plot([0,1],[0,1],'r--')\n",
    "    plt.xlim([0,1])\n",
    "    plt.ylim([0,1])\n",
    "    \n",
    "    plt.title('ROC Graph for model '+ modelname)\n",
    "    plt.xlabel('False Positive Rate')\n",
    "    plt.ylabel('True Positive Rate')"
   ]
  },
  {
   "cell_type": "code",
   "execution_count": 26,
   "id": "e6b054bf",
   "metadata": {},
   "outputs": [
    {
     "name": "stdout",
     "output_type": "stream",
     "text": [
      "cutoff=0.5,model accuracy=0.8712328767123287\n",
      "\n",
      "pred_cls   0    1  All\n",
      "act_cls               \n",
      "0         16   31   47\n",
      "1         16  302  318\n",
      "All       32  333  365\n",
      "\n",
      "\n",
      "              precision    recall  f1-score   support\n",
      "\n",
      "           0       0.50      0.34      0.41        47\n",
      "           1       0.91      0.95      0.93       318\n",
      "\n",
      "    accuracy                           0.87       365\n",
      "   macro avg       0.70      0.65      0.67       365\n",
      "weighted avg       0.85      0.87      0.86       365\n",
      "\n"
     ]
    },
    {
     "data": {
      "image/png": "[encoded data removed]",
      "text/plain": [
       "<Figure size 432x288 with 1 Axes>"
      ]
     },
     "metadata": {
      "needs_background": "light"
     },
     "output_type": "display_data"
    }
   ],
   "source": [
    "cutoff = 0.5\n",
    "d1=cm(df1,cutoff)\n",
    "rocauc(d1.act_cls,d1.pred_cls,'m1.cutoff'+str(cutoff))"
   ]
  },
  {
   "cell_type": "code",
   "execution_count": 27,
   "id": "e3992b2a",
   "metadata": {},
   "outputs": [
    {
     "name": "stdout",
     "output_type": "stream",
     "text": [
      "cutoff=0.65,model accuracy=0.8493150684931506\n",
      "\n",
      "pred_cls   0    1  All\n",
      "act_cls               \n",
      "0         27   20   47\n",
      "1         35  283  318\n",
      "All       62  303  365\n",
      "\n",
      "\n",
      "              precision    recall  f1-score   support\n",
      "\n",
      "           0       0.44      0.57      0.50        47\n",
      "           1       0.93      0.89      0.91       318\n",
      "\n",
      "    accuracy                           0.85       365\n",
      "   macro avg       0.68      0.73      0.70       365\n",
      "weighted avg       0.87      0.85      0.86       365\n",
      "\n"
     ]
    },
    {
     "data": {
      "image/png": "[encoded data removed]",
      "text/plain": [
       "<Figure size 432x288 with 1 Axes>"
      ]
     },
     "metadata": {
      "needs_background": "light"
     },
     "output_type": "display_data"
    }
   ],
   "source": [
    "cutoff = 0.65\n",
    "d2=cm(df1,cutoff)\n",
    "rocauc(d2.act_cls,d2.pred_cls,'m2.cutoff'+str(cutoff))"
   ]
  },
  {
   "cell_type": "markdown",
   "id": "500dcd18",
   "metadata": {},
   "source": [
    "# Multiclass Classification"
   ]
  },
  {
   "cell_type": "code",
   "execution_count": 52,
   "id": "ffcea5c3",
   "metadata": {},
   "outputs": [
    {
     "data": {
      "text/html": [
       "<div>\n",
       "<style scoped>\n",
       "    .dataframe tbody tr th:only-of-type {\n",
       "        vertical-align: middle;\n",
       "    }\n",
       "\n",
       "    .dataframe tbody tr th {\n",
       "        vertical-align: top;\n",
       "    }\n",
       "\n",
       "    .dataframe thead th {\n",
       "        text-align: right;\n",
       "    }\n",
       "</style>\n",
       "<table border=\"1\" class=\"dataframe\">\n",
       "  <thead>\n",
       "    <tr style=\"text-align: right;\">\n",
       "      <th></th>\n",
       "      <th>AgeWhenSold</th>\n",
       "      <th>GarageArea</th>\n",
       "      <th>GarageCars</th>\n",
       "    </tr>\n",
       "  </thead>\n",
       "  <tbody>\n",
       "    <tr>\n",
       "      <th>0</th>\n",
       "      <td>5</td>\n",
       "      <td>548</td>\n",
       "      <td>2</td>\n",
       "    </tr>\n",
       "    <tr>\n",
       "      <th>1</th>\n",
       "      <td>31</td>\n",
       "      <td>460</td>\n",
       "      <td>2</td>\n",
       "    </tr>\n",
       "    <tr>\n",
       "      <th>2</th>\n",
       "      <td>7</td>\n",
       "      <td>608</td>\n",
       "      <td>2</td>\n",
       "    </tr>\n",
       "    <tr>\n",
       "      <th>3</th>\n",
       "      <td>91</td>\n",
       "      <td>642</td>\n",
       "      <td>3</td>\n",
       "    </tr>\n",
       "    <tr>\n",
       "      <th>4</th>\n",
       "      <td>8</td>\n",
       "      <td>836</td>\n",
       "      <td>3</td>\n",
       "    </tr>\n",
       "  </tbody>\n",
       "</table>\n",
       "</div>"
      ],
      "text/plain": [
       "   AgeWhenSold  GarageArea  GarageCars\n",
       "0            5         548           2\n",
       "1           31         460           2\n",
       "2            7         608           2\n",
       "3           91         642           3\n",
       "4            8         836           3"
      ]
     },
     "execution_count": 52,
     "metadata": {},
     "output_type": "execute_result"
    }
   ],
   "source": [
    "#req=data[['YearBuilt','GarageCars']]\n",
    "req=data[['AgeWhenSold','GarageArea','GarageCars']]\n",
    "req.head()"
   ]
  },
  {
   "cell_type": "code",
   "execution_count": 53,
   "id": "c20086fc",
   "metadata": {},
   "outputs": [
    {
     "data": {
      "text/plain": [
       "2    824\n",
       "1    369\n",
       "3    181\n",
       "0     81\n",
       "4      5\n",
       "Name: GarageCars, dtype: int64"
      ]
     },
     "execution_count": 53,
     "metadata": {},
     "output_type": "execute_result"
    }
   ],
   "source": [
    "req.GarageCars.value_counts()"
   ]
  },
  {
   "cell_type": "code",
   "execution_count": 54,
   "id": "e1f7c14c",
   "metadata": {},
   "outputs": [
    {
     "data": {
      "text/plain": [
       "AgeWhenSold    0\n",
       "GarageArea     0\n",
       "GarageCars     0\n",
       "dtype: int64"
      ]
     },
     "execution_count": 54,
     "metadata": {},
     "output_type": "execute_result"
    }
   ],
   "source": [
    "req.isnull().sum()"
   ]
  },
  {
   "cell_type": "code",
   "execution_count": 55,
   "id": "ca4afa45",
   "metadata": {},
   "outputs": [
    {
     "data": {
      "text/plain": [
       "<AxesSubplot:xlabel='GarageCars', ylabel='Count'>"
      ]
     },
     "execution_count": 55,
     "metadata": {},
     "output_type": "execute_result"
    },
    {
     "data": {
      "image/png": "[encoded data removed]",
      "text/plain": [
       "<Figure size 432x288 with 1 Axes>"
      ]
     },
     "metadata": {
      "needs_background": "light"
     },
     "output_type": "display_data"
    }
   ],
   "source": [
    "sns.histplot(req['GarageCars'],bins=4,color='green')"
   ]
  },
  {
   "cell_type": "markdown",
   "id": "cd60eeab",
   "metadata": {},
   "source": [
    "## Splitting the Data"
   ]
  },
  {
   "cell_type": "code",
   "execution_count": 56,
   "id": "8fb81ca2",
   "metadata": {},
   "outputs": [],
   "source": [
    "y1='GarageCars'"
   ]
  },
  {
   "cell_type": "code",
   "execution_count": 57,
   "id": "60d0c566",
   "metadata": {},
   "outputs": [],
   "source": [
    "trainx2,trainy2,testx2,testy2 = splitdata(req,y1)"
   ]
  },
  {
   "cell_type": "code",
   "execution_count": 58,
   "id": "900d5218",
   "metadata": {},
   "outputs": [
    {
     "name": "stdout",
     "output_type": "stream",
     "text": [
      "trainx=(1095, 2),trainy=(1095,),testx=(365, 2),testy=(365,)\n"
     ]
    }
   ],
   "source": [
    "print('trainx={},trainy={},testx={},testy={}'.format(trainx2.shape, trainy2.shape, testx2.shape, testy2.shape))"
   ]
  },
  {
   "cell_type": "code",
   "execution_count": 59,
   "id": "55cf17eb",
   "metadata": {},
   "outputs": [
    {
     "name": "stdout",
     "output_type": "stream",
     "text": [
      "class distribution is ok\n"
     ]
    }
   ],
   "source": [
    "diff_classes=set(testy2)-set(trainy2)\n",
    "if len(diff_classes)>0:\n",
    "    print('error:classes in test data is more than train data.Resample the dataset')\n",
    "else:\n",
    "    print('class distribution is ok')"
   ]
  },
  {
   "cell_type": "code",
   "execution_count": 60,
   "id": "0fab170c",
   "metadata": {},
   "outputs": [],
   "source": [
    "#transform the y(train and test) variable into dummy variables\n",
    "\n",
    "import tensorflow.keras.utils as utils \n",
    "classes = len(req[y1].unique())\n",
    "trainy2 = utils.to_categorical(trainy2,classes)\n",
    "testy2 = utils.to_categorical(testy2,classes)"
   ]
  },
  {
   "cell_type": "code",
   "execution_count": 61,
   "id": "b284f411",
   "metadata": {},
   "outputs": [
    {
     "data": {
      "text/plain": [
       "array([[0., 0., 1., 0., 0.],\n",
       "       [0., 0., 1., 0., 0.],\n",
       "       [1., 0., 0., 0., 0.],\n",
       "       [0., 0., 1., 0., 0.],\n",
       "       [0., 1., 0., 0., 0.]], dtype=float32)"
      ]
     },
     "execution_count": 61,
     "metadata": {},
     "output_type": "execute_result"
    }
   ],
   "source": [
    "trainy2[:5]"
   ]
  },
  {
   "cell_type": "code",
   "execution_count": 62,
   "id": "dc4b8d48",
   "metadata": {},
   "outputs": [
    {
     "data": {
      "text/plain": [
       "array([[0., 0., 1., 0., 0.],\n",
       "       [0., 0., 1., 0., 0.],\n",
       "       [0., 0., 1., 0., 0.],\n",
       "       [0., 1., 0., 0., 0.],\n",
       "       [0., 0., 0., 1., 0.]], dtype=float32)"
      ]
     },
     "execution_count": 62,
     "metadata": {},
     "output_type": "execute_result"
    }
   ],
   "source": [
    "testy2[:5]"
   ]
  },
  {
   "cell_type": "markdown",
   "id": "c702f052",
   "metadata": {},
   "source": [
    "## Model Building"
   ]
  },
  {
   "cell_type": "code",
   "execution_count": 63,
   "id": "743f463b",
   "metadata": {},
   "outputs": [],
   "source": [
    "def compilemodel(units,shape,outnode):\n",
    "    model = tf.keras.Sequential([\n",
    "        Dense(units,activation='tanh',input_shape=[shape]), #HL1\n",
    "        Dense(units,activation='relu'), #HL2\n",
    "        Dense(units,activation='relu'), #HL3\n",
    "        Dense(outnode,activation='softmax') #output layer\n",
    "    ]) \n",
    "    \n",
    "    #compiling the model\n",
    "    model.compile(loss='categorical_crossentropy',optimizer='adam',metrics=['accuracy']) \n",
    "    \n",
    "    return(model)"
   ]
  },
  {
   "cell_type": "code",
   "execution_count": 64,
   "id": "04572693",
   "metadata": {},
   "outputs": [],
   "source": [
    "class PrintDot(tf.keras.callbacks.Callback):\n",
    "    def on_epoch_end(self,epoch,lags):\n",
    "        if epoch%25 == 0:\n",
    "            print('.',end=' ')\n",
    "\n",
    "\n",
    "def fitmodel(model,trainx,trainy,epoch,valsplit=0.2): \n",
    "    errors=model.fit(trainx,trainy,epochs=epoch,validation_split=valsplit,verbose=0,callbacks=[PrintDot()])\n",
    "    errhistory = pd.DataFrame(errors.history)\n",
    "    errhistory['epoch'] = errors.epoch\n",
    "    return(errhistory)"
   ]
  },
  {
   "cell_type": "code",
   "execution_count": 65,
   "id": "c87a89aa",
   "metadata": {},
   "outputs": [
    {
     "name": "stdout",
     "output_type": "stream",
     "text": [
      "10 2 5\n"
     ]
    }
   ],
   "source": [
    "units = 10\n",
    "shape=len(trainx2.columns)       \n",
    "print(units,shape,classes)"
   ]
  },
  {
   "cell_type": "code",
   "execution_count": 66,
   "id": "8152498c",
   "metadata": {},
   "outputs": [],
   "source": [
    "m2=compilemodel(units,shape,classes)"
   ]
  },
  {
   "cell_type": "code",
   "execution_count": 67,
   "id": "23852567",
   "metadata": {},
   "outputs": [
    {
     "name": "stdout",
     "output_type": "stream",
     "text": [
      ". . . . . . . . . . . . . . . . . . . . "
     ]
    }
   ],
   "source": [
    "EPOCHS = 500\n",
    "e2 = fitmodel(m2,trainx2,trainy2,EPOCHS)"
   ]
  },
  {
   "cell_type": "code",
   "execution_count": 68,
   "id": "45bddd94",
   "metadata": {},
   "outputs": [
    {
     "name": "stdout",
     "output_type": "stream",
     "text": [
      "         loss  accuracy  val_loss  val_accuracy  epoch\n",
      "0    1.483677  0.359589  1.433863      0.493151      0\n",
      "1    1.358716  0.683790  1.312591      0.762557      1\n",
      "2    1.239641  0.772831  1.191736      0.762557      2\n",
      "3    1.106908  0.771689  1.056919      0.762557      3\n",
      "4    0.969771  0.771689  0.921006      0.762557      4\n",
      "..        ...       ...       ...           ...    ...\n",
      "495  0.577366  0.755708  0.660686      0.721461    495\n",
      "496  0.575477  0.761416  0.662384      0.721461    496\n",
      "497  0.578490  0.751142  0.662847      0.726027    497\n",
      "498  0.577586  0.761416  0.660567      0.721461    498\n",
      "499  0.577584  0.755708  0.660127      0.721461    499\n",
      "\n",
      "[500 rows x 5 columns]\n"
     ]
    }
   ],
   "source": [
    "print(e2)"
   ]
  },
  {
   "cell_type": "code",
   "execution_count": 69,
   "id": "17a337f3",
   "metadata": {},
   "outputs": [],
   "source": [
    "p2 = m2.predict(testx2)"
   ]
  },
  {
   "cell_type": "code",
   "execution_count": 70,
   "id": "9c4b78e6",
   "metadata": {},
   "outputs": [
    {
     "name": "stdout",
     "output_type": "stream",
     "text": [
      "[3.2734778e-07 6.6116876e-03 7.6429313e-01 2.2496352e-01 4.1313530e-03]\n"
     ]
    }
   ],
   "source": [
    "print(p2[0])"
   ]
  },
  {
   "cell_type": "code",
   "execution_count": 71,
   "id": "43d85751",
   "metadata": {},
   "outputs": [
    {
     "data": {
      "text/html": [
       "<div>\n",
       "<style scoped>\n",
       "    .dataframe tbody tr th:only-of-type {\n",
       "        vertical-align: middle;\n",
       "    }\n",
       "\n",
       "    .dataframe tbody tr th {\n",
       "        vertical-align: top;\n",
       "    }\n",
       "\n",
       "    .dataframe thead th {\n",
       "        text-align: right;\n",
       "    }\n",
       "</style>\n",
       "<table border=\"1\" class=\"dataframe\">\n",
       "  <thead>\n",
       "    <tr style=\"text-align: right;\">\n",
       "      <th></th>\n",
       "      <th>0</th>\n",
       "      <th>1</th>\n",
       "      <th>2</th>\n",
       "      <th>3</th>\n",
       "      <th>4</th>\n",
       "    </tr>\n",
       "  </thead>\n",
       "  <tbody>\n",
       "    <tr>\n",
       "      <th>0</th>\n",
       "      <td>3.273478e-07</td>\n",
       "      <td>0.006612</td>\n",
       "      <td>0.764293</td>\n",
       "      <td>0.224964</td>\n",
       "      <td>0.004131</td>\n",
       "    </tr>\n",
       "    <tr>\n",
       "      <th>1</th>\n",
       "      <td>3.274495e-07</td>\n",
       "      <td>0.006616</td>\n",
       "      <td>0.764343</td>\n",
       "      <td>0.224909</td>\n",
       "      <td>0.004132</td>\n",
       "    </tr>\n",
       "    <tr>\n",
       "      <th>2</th>\n",
       "      <td>3.275317e-07</td>\n",
       "      <td>0.006619</td>\n",
       "      <td>0.764384</td>\n",
       "      <td>0.224865</td>\n",
       "      <td>0.004132</td>\n",
       "    </tr>\n",
       "    <tr>\n",
       "      <th>3</th>\n",
       "      <td>1.837143e-06</td>\n",
       "      <td>0.685237</td>\n",
       "      <td>0.306657</td>\n",
       "      <td>0.004668</td>\n",
       "      <td>0.003435</td>\n",
       "    </tr>\n",
       "    <tr>\n",
       "      <th>4</th>\n",
       "      <td>3.273478e-07</td>\n",
       "      <td>0.006612</td>\n",
       "      <td>0.764293</td>\n",
       "      <td>0.224964</td>\n",
       "      <td>0.004131</td>\n",
       "    </tr>\n",
       "  </tbody>\n",
       "</table>\n",
       "</div>"
      ],
      "text/plain": [
       "              0         1         2         3         4\n",
       "0  3.273478e-07  0.006612  0.764293  0.224964  0.004131\n",
       "1  3.274495e-07  0.006616  0.764343  0.224909  0.004132\n",
       "2  3.275317e-07  0.006619  0.764384  0.224865  0.004132\n",
       "3  1.837143e-06  0.685237  0.306657  0.004668  0.003435\n",
       "4  3.273478e-07  0.006612  0.764293  0.224964  0.004131"
      ]
     },
     "execution_count": 71,
     "metadata": {},
     "output_type": "execute_result"
    }
   ],
   "source": [
    "pd.DataFrame(p2).head()"
   ]
  },
  {
   "cell_type": "code",
   "execution_count": 72,
   "id": "2c139437",
   "metadata": {},
   "outputs": [
    {
     "data": {
      "text/plain": [
       "0    2\n",
       "1    2\n",
       "2    2\n",
       "3    1\n",
       "4    2\n",
       "dtype: int64"
      ]
     },
     "execution_count": 72,
     "metadata": {},
     "output_type": "execute_result"
    }
   ],
   "source": [
    "pd.DataFrame(p2).head().idxmax(1)"
   ]
  },
  {
   "cell_type": "code",
   "execution_count": 73,
   "id": "7b66c5b1",
   "metadata": {},
   "outputs": [
    {
     "data": {
      "text/html": [
       "<div>\n",
       "<style scoped>\n",
       "    .dataframe tbody tr th:only-of-type {\n",
       "        vertical-align: middle;\n",
       "    }\n",
       "\n",
       "    .dataframe tbody tr th {\n",
       "        vertical-align: top;\n",
       "    }\n",
       "\n",
       "    .dataframe thead th {\n",
       "        text-align: right;\n",
       "    }\n",
       "</style>\n",
       "<table border=\"1\" class=\"dataframe\">\n",
       "  <thead>\n",
       "    <tr style=\"text-align: right;\">\n",
       "      <th></th>\n",
       "      <th>actual</th>\n",
       "      <th>predicted</th>\n",
       "    </tr>\n",
       "  </thead>\n",
       "  <tbody>\n",
       "    <tr>\n",
       "      <th>0</th>\n",
       "      <td>2</td>\n",
       "      <td>2</td>\n",
       "    </tr>\n",
       "    <tr>\n",
       "      <th>1</th>\n",
       "      <td>2</td>\n",
       "      <td>2</td>\n",
       "    </tr>\n",
       "    <tr>\n",
       "      <th>2</th>\n",
       "      <td>2</td>\n",
       "      <td>2</td>\n",
       "    </tr>\n",
       "    <tr>\n",
       "      <th>3</th>\n",
       "      <td>1</td>\n",
       "      <td>1</td>\n",
       "    </tr>\n",
       "    <tr>\n",
       "      <th>4</th>\n",
       "      <td>3</td>\n",
       "      <td>2</td>\n",
       "    </tr>\n",
       "    <tr>\n",
       "      <th>...</th>\n",
       "      <td>...</td>\n",
       "      <td>...</td>\n",
       "    </tr>\n",
       "    <tr>\n",
       "      <th>360</th>\n",
       "      <td>2</td>\n",
       "      <td>2</td>\n",
       "    </tr>\n",
       "    <tr>\n",
       "      <th>361</th>\n",
       "      <td>2</td>\n",
       "      <td>2</td>\n",
       "    </tr>\n",
       "    <tr>\n",
       "      <th>362</th>\n",
       "      <td>1</td>\n",
       "      <td>1</td>\n",
       "    </tr>\n",
       "    <tr>\n",
       "      <th>363</th>\n",
       "      <td>0</td>\n",
       "      <td>0</td>\n",
       "    </tr>\n",
       "    <tr>\n",
       "      <th>364</th>\n",
       "      <td>1</td>\n",
       "      <td>1</td>\n",
       "    </tr>\n",
       "  </tbody>\n",
       "</table>\n",
       "<p>365 rows × 2 columns</p>\n",
       "</div>"
      ],
      "text/plain": [
       "     actual  predicted\n",
       "0         2          2\n",
       "1         2          2\n",
       "2         2          2\n",
       "3         1          1\n",
       "4         3          2\n",
       "..      ...        ...\n",
       "360       2          2\n",
       "361       2          2\n",
       "362       1          1\n",
       "363       0          0\n",
       "364       1          1\n",
       "\n",
       "[365 rows x 2 columns]"
      ]
     },
     "execution_count": 73,
     "metadata": {},
     "output_type": "execute_result"
    }
   ],
   "source": [
    "predy=pd.DataFrame({'actual':pd.DataFrame(testy2).idxmax(1),'predicted':pd.DataFrame(p2).idxmax(1)})\n",
    "predy"
   ]
  },
  {
   "cell_type": "code",
   "execution_count": 74,
   "id": "6ea43414",
   "metadata": {},
   "outputs": [],
   "source": [
    "def cm(df):\n",
    "    \n",
    "    print('model accuracy={}\\n'.format(accuracy_score(df.actual,df.predicted)))\n",
    "    \n",
    "    #confusion matrix\n",
    "    print(pd.crosstab(df.actual,df.predicted,margins=True))\n",
    "    print('\\n')\n",
    "    \n",
    "    #classification report\n",
    "    print(classification_report(df.actual,df.predicted))"
   ]
  },
  {
   "cell_type": "code",
   "execution_count": 75,
   "id": "6e85b717",
   "metadata": {},
   "outputs": [
    {
     "name": "stdout",
     "output_type": "stream",
     "text": [
      "model accuracy=0.7506849315068493\n",
      "\n",
      "predicted   0    1    2  All\n",
      "actual                      \n",
      "0          15    0    0   15\n",
      "1           0   84    7   91\n",
      "2           0   32  175  207\n",
      "3           0    6   45   51\n",
      "4           0    0    1    1\n",
      "All        15  122  228  365\n",
      "\n",
      "\n",
      "              precision    recall  f1-score   support\n",
      "\n",
      "           0       1.00      1.00      1.00        15\n",
      "           1       0.69      0.92      0.79        91\n",
      "           2       0.77      0.85      0.80       207\n",
      "           3       0.00      0.00      0.00        51\n",
      "           4       0.00      0.00      0.00         1\n",
      "\n",
      "    accuracy                           0.75       365\n",
      "   macro avg       0.49      0.55      0.52       365\n",
      "weighted avg       0.65      0.75      0.69       365\n",
      "\n"
     ]
    }
   ],
   "source": [
    "cm(predy)"
   ]
  },
  {
   "cell_type": "code",
   "execution_count": null,
   "id": "d2407dda",
   "metadata": {},
   "outputs": [],
   "source": []
  }
 ],
 "metadata": {
  "kernelspec": {
   "display_name": "Python 3 (ipykernel)",
   "language": "python",
   "name": "python3"
  },
  "language_info": {
   "codemirror_mode": {
    "name": "ipython",
    "version": 3
   },
   "file_extension": ".py",
   "mimetype": "text/x-python",
   "name": "python",
   "nbconvert_exporter": "python",
   "pygments_lexer": "ipython3",
   "version": "3.8.12"
  }
 },
 "nbformat": 4,
 "nbformat_minor": 5
}
